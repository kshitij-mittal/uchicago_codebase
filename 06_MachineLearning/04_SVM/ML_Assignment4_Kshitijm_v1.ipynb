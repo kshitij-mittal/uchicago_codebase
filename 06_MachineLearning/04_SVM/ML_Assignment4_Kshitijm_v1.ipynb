{
 "cells": [
  {
   "cell_type": "markdown",
   "metadata": {},
   "source": [
    "# **ML Assignment 4**\n",
    "Submitted by Kshitij Mittal"
   ]
  },
  {
   "cell_type": "code",
   "execution_count": 35,
   "metadata": {},
   "outputs": [],
   "source": [
    "import pandas as pd\n",
    "import numpy as np\n",
    "import sklearn\n",
    "\n",
    "import matplotlib.pyplot as plt\n",
    "%matplotlib inline\n",
    "import seaborn as sns\n",
    "# Graphics in SVG format are more sharp and legible\n",
    "%config InlineBackend.figure_format = 'svg'\n",
    "\n",
    "import warnings\n",
    "warnings.filterwarnings(\"ignore\")"
   ]
  },
  {
   "cell_type": "code",
   "execution_count": 36,
   "metadata": {},
   "outputs": [
    {
     "name": "stdout",
     "output_type": "stream",
     "text": [
      "Available CPUs: 8\n",
      "INFO: Pandarallel will run on 7 workers.\n",
      "INFO: Pandarallel will use standard multiprocessing data transfer (pipe) to transfer data between the main process and workers.\n"
     ]
    }
   ],
   "source": [
    "#pip install pandarallel\n",
    "import multiprocessing\n",
    "\n",
    "num_processors = multiprocessing.cpu_count()\n",
    "print(f'Available CPUs: {num_processors}')\n",
    "\n",
    "import pandarallel\n",
    "from pandarallel import pandarallel\n",
    "pandarallel.initialize(nb_workers=num_processors-1, use_memory_fs=False)"
   ]
  },
  {
   "cell_type": "code",
   "execution_count": 37,
   "metadata": {},
   "outputs": [],
   "source": [
    "import sklearn.metrics"
   ]
  },
  {
   "cell_type": "markdown",
   "metadata": {},
   "source": [
    "## **Part 1: Data Processing**"
   ]
  },
  {
   "cell_type": "markdown",
   "metadata": {},
   "source": [
    "a) Import the data: You are provided separate .csv files for train and test."
   ]
  },
  {
   "cell_type": "code",
   "execution_count": 38,
   "metadata": {},
   "outputs": [
    {
     "name": "stdout",
     "output_type": "stream",
     "text": [
      "(507, 148)\n"
     ]
    },
    {
     "data": {
      "text/html": [
       "<div>\n",
       "<style scoped>\n",
       "    .dataframe tbody tr th:only-of-type {\n",
       "        vertical-align: middle;\n",
       "    }\n",
       "\n",
       "    .dataframe tbody tr th {\n",
       "        vertical-align: top;\n",
       "    }\n",
       "\n",
       "    .dataframe thead th {\n",
       "        text-align: right;\n",
       "    }\n",
       "</style>\n",
       "<table border=\"1\" class=\"dataframe\">\n",
       "  <thead>\n",
       "    <tr style=\"text-align: right;\">\n",
       "      <th></th>\n",
       "      <th>class</th>\n",
       "      <th>BrdIndx</th>\n",
       "      <th>Area</th>\n",
       "      <th>Round</th>\n",
       "      <th>Bright</th>\n",
       "      <th>Compact</th>\n",
       "      <th>ShpIndx</th>\n",
       "      <th>Mean_G</th>\n",
       "      <th>Mean_R</th>\n",
       "      <th>Mean_NIR</th>\n",
       "      <th>...</th>\n",
       "      <th>SD_NIR_140</th>\n",
       "      <th>LW_140</th>\n",
       "      <th>GLCM1_140</th>\n",
       "      <th>Rect_140</th>\n",
       "      <th>GLCM2_140</th>\n",
       "      <th>Dens_140</th>\n",
       "      <th>Assym_140</th>\n",
       "      <th>NDVI_140</th>\n",
       "      <th>BordLngth_140</th>\n",
       "      <th>GLCM3_140</th>\n",
       "    </tr>\n",
       "  </thead>\n",
       "  <tbody>\n",
       "    <tr>\n",
       "      <th>0</th>\n",
       "      <td>concrete</td>\n",
       "      <td>1.32</td>\n",
       "      <td>131</td>\n",
       "      <td>0.81</td>\n",
       "      <td>222.74</td>\n",
       "      <td>1.66</td>\n",
       "      <td>2.18</td>\n",
       "      <td>192.94</td>\n",
       "      <td>235.11</td>\n",
       "      <td>240.15</td>\n",
       "      <td>...</td>\n",
       "      <td>31.15</td>\n",
       "      <td>5.04</td>\n",
       "      <td>0.80</td>\n",
       "      <td>0.58</td>\n",
       "      <td>8.56</td>\n",
       "      <td>0.82</td>\n",
       "      <td>0.98</td>\n",
       "      <td>-0.10</td>\n",
       "      <td>1512</td>\n",
       "      <td>1287.52</td>\n",
       "    </tr>\n",
       "    <tr>\n",
       "      <th>1</th>\n",
       "      <td>shadow</td>\n",
       "      <td>1.59</td>\n",
       "      <td>864</td>\n",
       "      <td>0.94</td>\n",
       "      <td>47.56</td>\n",
       "      <td>1.41</td>\n",
       "      <td>1.87</td>\n",
       "      <td>36.82</td>\n",
       "      <td>48.78</td>\n",
       "      <td>57.09</td>\n",
       "      <td>...</td>\n",
       "      <td>12.01</td>\n",
       "      <td>3.70</td>\n",
       "      <td>0.52</td>\n",
       "      <td>0.96</td>\n",
       "      <td>7.01</td>\n",
       "      <td>1.69</td>\n",
       "      <td>0.86</td>\n",
       "      <td>-0.14</td>\n",
       "      <td>196</td>\n",
       "      <td>2659.74</td>\n",
       "    </tr>\n",
       "    <tr>\n",
       "      <th>2</th>\n",
       "      <td>shadow</td>\n",
       "      <td>1.41</td>\n",
       "      <td>409</td>\n",
       "      <td>1.00</td>\n",
       "      <td>51.38</td>\n",
       "      <td>1.37</td>\n",
       "      <td>1.53</td>\n",
       "      <td>41.72</td>\n",
       "      <td>51.96</td>\n",
       "      <td>60.48</td>\n",
       "      <td>...</td>\n",
       "      <td>18.75</td>\n",
       "      <td>3.09</td>\n",
       "      <td>0.90</td>\n",
       "      <td>0.63</td>\n",
       "      <td>8.32</td>\n",
       "      <td>1.38</td>\n",
       "      <td>0.84</td>\n",
       "      <td>0.10</td>\n",
       "      <td>1198</td>\n",
       "      <td>720.38</td>\n",
       "    </tr>\n",
       "    <tr>\n",
       "      <th>3</th>\n",
       "      <td>tree</td>\n",
       "      <td>2.58</td>\n",
       "      <td>187</td>\n",
       "      <td>1.91</td>\n",
       "      <td>70.08</td>\n",
       "      <td>3.41</td>\n",
       "      <td>3.11</td>\n",
       "      <td>93.13</td>\n",
       "      <td>55.20</td>\n",
       "      <td>61.92</td>\n",
       "      <td>...</td>\n",
       "      <td>27.67</td>\n",
       "      <td>6.33</td>\n",
       "      <td>0.89</td>\n",
       "      <td>0.70</td>\n",
       "      <td>8.56</td>\n",
       "      <td>1.10</td>\n",
       "      <td>0.96</td>\n",
       "      <td>0.20</td>\n",
       "      <td>524</td>\n",
       "      <td>891.36</td>\n",
       "    </tr>\n",
       "    <tr>\n",
       "      <th>4</th>\n",
       "      <td>asphalt</td>\n",
       "      <td>2.60</td>\n",
       "      <td>116</td>\n",
       "      <td>2.05</td>\n",
       "      <td>89.57</td>\n",
       "      <td>3.06</td>\n",
       "      <td>3.02</td>\n",
       "      <td>73.17</td>\n",
       "      <td>94.89</td>\n",
       "      <td>100.64</td>\n",
       "      <td>...</td>\n",
       "      <td>32.05</td>\n",
       "      <td>1.01</td>\n",
       "      <td>0.83</td>\n",
       "      <td>0.75</td>\n",
       "      <td>8.62</td>\n",
       "      <td>2.08</td>\n",
       "      <td>0.08</td>\n",
       "      <td>-0.10</td>\n",
       "      <td>496</td>\n",
       "      <td>1194.76</td>\n",
       "    </tr>\n",
       "  </tbody>\n",
       "</table>\n",
       "<p>5 rows × 148 columns</p>\n",
       "</div>"
      ],
      "text/plain": [
       "       class  BrdIndx  Area  Round  Bright  Compact  ShpIndx  Mean_G  Mean_R  \\\n",
       "0  concrete      1.32   131   0.81  222.74     1.66     2.18  192.94  235.11   \n",
       "1    shadow      1.59   864   0.94   47.56     1.41     1.87   36.82   48.78   \n",
       "2    shadow      1.41   409   1.00   51.38     1.37     1.53   41.72   51.96   \n",
       "3      tree      2.58   187   1.91   70.08     3.41     3.11   93.13   55.20   \n",
       "4   asphalt      2.60   116   2.05   89.57     3.06     3.02   73.17   94.89   \n",
       "\n",
       "   Mean_NIR  ...  SD_NIR_140  LW_140  GLCM1_140  Rect_140  GLCM2_140  \\\n",
       "0    240.15  ...       31.15    5.04       0.80      0.58       8.56   \n",
       "1     57.09  ...       12.01    3.70       0.52      0.96       7.01   \n",
       "2     60.48  ...       18.75    3.09       0.90      0.63       8.32   \n",
       "3     61.92  ...       27.67    6.33       0.89      0.70       8.56   \n",
       "4    100.64  ...       32.05    1.01       0.83      0.75       8.62   \n",
       "\n",
       "   Dens_140  Assym_140  NDVI_140  BordLngth_140  GLCM3_140  \n",
       "0      0.82       0.98     -0.10           1512    1287.52  \n",
       "1      1.69       0.86     -0.14            196    2659.74  \n",
       "2      1.38       0.84      0.10           1198     720.38  \n",
       "3      1.10       0.96      0.20            524     891.36  \n",
       "4      2.08       0.08     -0.10            496    1194.76  \n",
       "\n",
       "[5 rows x 148 columns]"
      ]
     },
     "execution_count": 38,
     "metadata": {},
     "output_type": "execute_result"
    }
   ],
   "source": [
    "df_train = pd.read_csv('/Users/kshitijmittal/Documents/UChicago Acad/03 Quarter 3/01 ML/99 Assignments/04 SVM/train_data.csv')\n",
    "print(df_train.shape)\n",
    "df_train.head()"
   ]
  },
  {
   "cell_type": "code",
   "execution_count": 74,
   "metadata": {},
   "outputs": [
    {
     "data": {
      "text/plain": [
       "Index(['class', 'BrdIndx', 'Area', 'Round', 'Bright', 'Compact', 'ShpIndx',\n",
       "       'Mean_G', 'Mean_R', 'Mean_NIR',\n",
       "       ...\n",
       "       'SD_NIR_140', 'LW_140', 'GLCM1_140', 'Rect_140', 'GLCM2_140',\n",
       "       'Dens_140', 'Assym_140', 'NDVI_140', 'BordLngth_140', 'GLCM3_140'],\n",
       "      dtype='object', length=148)"
      ]
     },
     "execution_count": 74,
     "metadata": {},
     "output_type": "execute_result"
    }
   ],
   "source": [
    "df_train.columns"
   ]
  },
  {
   "cell_type": "code",
   "execution_count": 39,
   "metadata": {},
   "outputs": [
    {
     "data": {
      "text/plain": [
       "array(['concrete ', 'shadow ', 'tree ', 'asphalt ', 'building ', 'grass ',\n",
       "       'pool ', 'car ', 'soil '], dtype=object)"
      ]
     },
     "execution_count": 39,
     "metadata": {},
     "output_type": "execute_result"
    }
   ],
   "source": [
    "df_train['class'].unique()\n",
    "# We have 9 different target variable classes"
   ]
  },
  {
   "cell_type": "code",
   "execution_count": 40,
   "metadata": {},
   "outputs": [
    {
     "name": "stdout",
     "output_type": "stream",
     "text": [
      "(168, 148)\n"
     ]
    },
    {
     "data": {
      "text/html": [
       "<div>\n",
       "<style scoped>\n",
       "    .dataframe tbody tr th:only-of-type {\n",
       "        vertical-align: middle;\n",
       "    }\n",
       "\n",
       "    .dataframe tbody tr th {\n",
       "        vertical-align: top;\n",
       "    }\n",
       "\n",
       "    .dataframe thead th {\n",
       "        text-align: right;\n",
       "    }\n",
       "</style>\n",
       "<table border=\"1\" class=\"dataframe\">\n",
       "  <thead>\n",
       "    <tr style=\"text-align: right;\">\n",
       "      <th></th>\n",
       "      <th>class</th>\n",
       "      <th>BrdIndx</th>\n",
       "      <th>Area</th>\n",
       "      <th>Round</th>\n",
       "      <th>Bright</th>\n",
       "      <th>Compact</th>\n",
       "      <th>ShpIndx</th>\n",
       "      <th>Mean_G</th>\n",
       "      <th>Mean_R</th>\n",
       "      <th>Mean_NIR</th>\n",
       "      <th>...</th>\n",
       "      <th>SD_NIR_140</th>\n",
       "      <th>LW_140</th>\n",
       "      <th>GLCM1_140</th>\n",
       "      <th>Rect_140</th>\n",
       "      <th>GLCM2_140</th>\n",
       "      <th>Dens_140</th>\n",
       "      <th>Assym_140</th>\n",
       "      <th>NDVI_140</th>\n",
       "      <th>BordLngth_140</th>\n",
       "      <th>GLCM3_140</th>\n",
       "    </tr>\n",
       "  </thead>\n",
       "  <tbody>\n",
       "    <tr>\n",
       "      <th>0</th>\n",
       "      <td>car</td>\n",
       "      <td>1.27</td>\n",
       "      <td>91</td>\n",
       "      <td>0.97</td>\n",
       "      <td>231.38</td>\n",
       "      <td>1.39</td>\n",
       "      <td>1.47</td>\n",
       "      <td>207.92</td>\n",
       "      <td>241.74</td>\n",
       "      <td>244.48</td>\n",
       "      <td>...</td>\n",
       "      <td>26.18</td>\n",
       "      <td>2.00</td>\n",
       "      <td>0.50</td>\n",
       "      <td>0.85</td>\n",
       "      <td>6.29</td>\n",
       "      <td>1.67</td>\n",
       "      <td>0.70</td>\n",
       "      <td>-0.08</td>\n",
       "      <td>56</td>\n",
       "      <td>3806.36</td>\n",
       "    </tr>\n",
       "    <tr>\n",
       "      <th>1</th>\n",
       "      <td>concrete</td>\n",
       "      <td>2.36</td>\n",
       "      <td>241</td>\n",
       "      <td>1.56</td>\n",
       "      <td>216.15</td>\n",
       "      <td>2.46</td>\n",
       "      <td>2.51</td>\n",
       "      <td>187.85</td>\n",
       "      <td>229.39</td>\n",
       "      <td>231.20</td>\n",
       "      <td>...</td>\n",
       "      <td>22.29</td>\n",
       "      <td>2.25</td>\n",
       "      <td>0.79</td>\n",
       "      <td>0.55</td>\n",
       "      <td>8.42</td>\n",
       "      <td>1.38</td>\n",
       "      <td>0.81</td>\n",
       "      <td>-0.09</td>\n",
       "      <td>1746</td>\n",
       "      <td>1450.14</td>\n",
       "    </tr>\n",
       "    <tr>\n",
       "      <th>2</th>\n",
       "      <td>concrete</td>\n",
       "      <td>2.12</td>\n",
       "      <td>266</td>\n",
       "      <td>1.47</td>\n",
       "      <td>232.18</td>\n",
       "      <td>2.07</td>\n",
       "      <td>2.21</td>\n",
       "      <td>206.54</td>\n",
       "      <td>244.22</td>\n",
       "      <td>245.79</td>\n",
       "      <td>...</td>\n",
       "      <td>15.59</td>\n",
       "      <td>2.19</td>\n",
       "      <td>0.76</td>\n",
       "      <td>0.74</td>\n",
       "      <td>7.24</td>\n",
       "      <td>1.68</td>\n",
       "      <td>0.81</td>\n",
       "      <td>-0.07</td>\n",
       "      <td>566</td>\n",
       "      <td>1094.04</td>\n",
       "    </tr>\n",
       "    <tr>\n",
       "      <th>3</th>\n",
       "      <td>concrete</td>\n",
       "      <td>2.42</td>\n",
       "      <td>399</td>\n",
       "      <td>1.28</td>\n",
       "      <td>230.40</td>\n",
       "      <td>2.49</td>\n",
       "      <td>2.73</td>\n",
       "      <td>204.60</td>\n",
       "      <td>243.27</td>\n",
       "      <td>243.32</td>\n",
       "      <td>...</td>\n",
       "      <td>13.51</td>\n",
       "      <td>3.34</td>\n",
       "      <td>0.82</td>\n",
       "      <td>0.74</td>\n",
       "      <td>7.44</td>\n",
       "      <td>1.36</td>\n",
       "      <td>0.92</td>\n",
       "      <td>-0.09</td>\n",
       "      <td>1178</td>\n",
       "      <td>1125.38</td>\n",
       "    </tr>\n",
       "    <tr>\n",
       "      <th>4</th>\n",
       "      <td>concrete</td>\n",
       "      <td>2.15</td>\n",
       "      <td>944</td>\n",
       "      <td>1.73</td>\n",
       "      <td>193.18</td>\n",
       "      <td>2.28</td>\n",
       "      <td>4.10</td>\n",
       "      <td>165.98</td>\n",
       "      <td>205.55</td>\n",
       "      <td>208.00</td>\n",
       "      <td>...</td>\n",
       "      <td>15.65</td>\n",
       "      <td>50.08</td>\n",
       "      <td>0.85</td>\n",
       "      <td>0.49</td>\n",
       "      <td>8.15</td>\n",
       "      <td>0.23</td>\n",
       "      <td>1.00</td>\n",
       "      <td>-0.08</td>\n",
       "      <td>6232</td>\n",
       "      <td>1146.38</td>\n",
       "    </tr>\n",
       "  </tbody>\n",
       "</table>\n",
       "<p>5 rows × 148 columns</p>\n",
       "</div>"
      ],
      "text/plain": [
       "       class  BrdIndx  Area  Round  Bright  Compact  ShpIndx  Mean_G  Mean_R  \\\n",
       "0       car      1.27    91   0.97  231.38     1.39     1.47  207.92  241.74   \n",
       "1  concrete      2.36   241   1.56  216.15     2.46     2.51  187.85  229.39   \n",
       "2  concrete      2.12   266   1.47  232.18     2.07     2.21  206.54  244.22   \n",
       "3  concrete      2.42   399   1.28  230.40     2.49     2.73  204.60  243.27   \n",
       "4  concrete      2.15   944   1.73  193.18     2.28     4.10  165.98  205.55   \n",
       "\n",
       "   Mean_NIR  ...  SD_NIR_140  LW_140  GLCM1_140  Rect_140  GLCM2_140  \\\n",
       "0    244.48  ...       26.18    2.00       0.50      0.85       6.29   \n",
       "1    231.20  ...       22.29    2.25       0.79      0.55       8.42   \n",
       "2    245.79  ...       15.59    2.19       0.76      0.74       7.24   \n",
       "3    243.32  ...       13.51    3.34       0.82      0.74       7.44   \n",
       "4    208.00  ...       15.65   50.08       0.85      0.49       8.15   \n",
       "\n",
       "   Dens_140  Assym_140  NDVI_140  BordLngth_140  GLCM3_140  \n",
       "0      1.67       0.70     -0.08             56    3806.36  \n",
       "1      1.38       0.81     -0.09           1746    1450.14  \n",
       "2      1.68       0.81     -0.07            566    1094.04  \n",
       "3      1.36       0.92     -0.09           1178    1125.38  \n",
       "4      0.23       1.00     -0.08           6232    1146.38  \n",
       "\n",
       "[5 rows x 148 columns]"
      ]
     },
     "execution_count": 40,
     "metadata": {},
     "output_type": "execute_result"
    }
   ],
   "source": [
    "df_test = pd.read_csv('/Users/kshitijmittal/Documents/UChicago Acad/03 Quarter 3/01 ML/99 Assignments/04 SVM/test_data.csv')\n",
    "print(df_test.shape)\n",
    "df_test.head()"
   ]
  },
  {
   "cell_type": "markdown",
   "metadata": {},
   "source": [
    "b) Remove any rows that have missing data across both sets of data."
   ]
  },
  {
   "cell_type": "code",
   "execution_count": 41,
   "metadata": {},
   "outputs": [
    {
     "name": "stdout",
     "output_type": "stream",
     "text": [
      "(507, 148)\n"
     ]
    },
    {
     "data": {
      "text/plain": [
       "0"
      ]
     },
     "execution_count": 41,
     "metadata": {},
     "output_type": "execute_result"
    }
   ],
   "source": [
    "df_train=df_train.dropna(how='any')\n",
    "print(df_train.shape)\n",
    "df_train.isna().sum().sum()"
   ]
  },
  {
   "cell_type": "code",
   "execution_count": 42,
   "metadata": {},
   "outputs": [
    {
     "name": "stdout",
     "output_type": "stream",
     "text": [
      "(168, 148)\n"
     ]
    },
    {
     "data": {
      "text/plain": [
       "0"
      ]
     },
     "execution_count": 42,
     "metadata": {},
     "output_type": "execute_result"
    }
   ],
   "source": [
    "df_test=df_test.dropna(how='any')\n",
    "print(df_test.shape)\n",
    "df_test.isna().sum().sum()"
   ]
  },
  {
   "cell_type": "markdown",
   "metadata": {},
   "source": [
    "c) The target variable (dependent variable) is called \"class\", make sure to separate this out into a \"y_train\" and \"y_test\" and remove from your \"X_train\" and \"X_test\". "
   ]
  },
  {
   "cell_type": "code",
   "execution_count": 43,
   "metadata": {},
   "outputs": [
    {
     "name": "stdout",
     "output_type": "stream",
     "text": [
      "X_train:  (507, 147)\n",
      "X_test:  (168, 147)\n",
      "y_train:  (507,)\n",
      "y_test:  (168,)\n"
     ]
    }
   ],
   "source": [
    "X_train = df_train.drop(['class'], axis=1)\n",
    "X_test = df_test.drop(['class'], axis=1)\n",
    "y_train = df_train['class']\n",
    "y_test=df_test['class']\n",
    "\n",
    "print('X_train: ',X_train.shape)\n",
    "print('X_test: ',X_test.shape)\n",
    "print('y_train: ',y_train.shape)\n",
    "print('y_test: ',y_test.shape)"
   ]
  },
  {
   "cell_type": "code",
   "execution_count": 44,
   "metadata": {},
   "outputs": [],
   "source": [
    "y_train=y_train.map({'concrete ':1, 'shadow ':2, 'tree ':3, 'asphalt ':4, 'building ':5, 'grass ':6,'pool ':7, 'car ':8, 'soil ':9})\n",
    "y_test=y_test.map({'concrete ':1, 'shadow ':2, 'tree ':3, 'asphalt ':4, 'building ':5, 'grass ':6,'pool ':7, 'car ':8, 'soil ':9})"
   ]
  },
  {
   "cell_type": "markdown",
   "metadata": {},
   "source": [
    "d) Scale all features / predictors (NOT THE TARGET VARIABLE)"
   ]
  },
  {
   "cell_type": "markdown",
   "metadata": {},
   "source": [
    "The LinearSVC class regularizes the bias term, so you should center the training set first by subtracting its mean. This is automatic if you scale the data using the StandardScaler. "
   ]
  },
  {
   "cell_type": "code",
   "execution_count": 45,
   "metadata": {},
   "outputs": [
    {
     "name": "stdout",
     "output_type": "stream",
     "text": [
      "total number of features: 147\n"
     ]
    },
    {
     "data": {
      "text/plain": [
       "array([[-1.14075473, -0.61823212, -0.76157526, ..., -0.95313273,\n",
       "         0.10334763,  0.34780924],\n",
       "       [-0.70431561,  0.43196247, -0.53002518, ..., -1.25230517,\n",
       "        -1.09711859,  2.92039508],\n",
       "       [-0.99527502, -0.21993185, -0.42315592, ...,  0.5427295 ,\n",
       "        -0.1830858 , -0.71544325],\n",
       "       ...,\n",
       "       [ 0.68582378,  0.13825184,  0.25368276, ..., -0.87833962,\n",
       "         1.09218151,  0.26440108],\n",
       "       [-0.20321885, -0.67840698, -0.40534437, ..., -1.10271895,\n",
       "        -0.61364815,  0.6910969 ],\n",
       "       [ 0.73431702, -0.58384648,  0.78802909, ..., -1.02792584,\n",
       "        -1.00589775,  1.66713547]])"
      ]
     },
     "execution_count": 45,
     "metadata": {},
     "output_type": "execute_result"
    }
   ],
   "source": [
    "# Fiting on X Train first\n",
    "\n",
    "from sklearn.preprocessing import StandardScaler\n",
    "scaler = StandardScaler()\n",
    "scaler.fit(X_train)\n",
    "\n",
    "print(\"total number of features:\", scaler.n_features_in_)\n",
    "\n",
    "X_train_scaled= scaler.transform(X_train)\n",
    "X_train_scaled"
   ]
  },
  {
   "cell_type": "code",
   "execution_count": 46,
   "metadata": {},
   "outputs": [
    {
     "data": {
      "text/plain": [
       "array([[-1.22157678, -0.67554151, -0.47659055, ..., -0.8035465 ,\n",
       "        -1.22482777,  5.07003463],\n",
       "       [ 0.54034408, -0.46063129,  0.57429056, ..., -0.87833962,\n",
       "         0.31680439,  0.65268303],\n",
       "       [ 0.1523982 , -0.42481292,  0.41398666, ..., -0.72875339,\n",
       "        -0.75960149, -0.0149197 ],\n",
       "       ...,\n",
       "       [ 1.52637318, -0.44487121,  0.87708681, ...,  0.24355706,\n",
       "        -0.41113789, -0.52522991],\n",
       "       [-0.73664444, -0.49644966,  0.05775578, ...,  0.46793639,\n",
       "        -1.04421051,  0.89748944],\n",
       "       [ 0.1523982 ,  0.3918459 , -0.63689445, ..., -0.87833962,\n",
       "         1.47895786,  0.95528835]])"
      ]
     },
     "execution_count": 46,
     "metadata": {},
     "output_type": "execute_result"
    }
   ],
   "source": [
    "# Extrapolating on X Test\n",
    "\n",
    "X_test_scaled= scaler.transform(X_test)\n",
    "X_test_scaled"
   ]
  },
  {
   "cell_type": "markdown",
   "metadata": {},
   "source": [
    "### **Visualizing the Data with PCA**"
   ]
  },
  {
   "cell_type": "code",
   "execution_count": 47,
   "metadata": {},
   "outputs": [],
   "source": [
    "def fit_pca(df, n_components):\n",
    "    # YOUR CODE HERE\n",
    "    from sklearn.decomposition import PCA\n",
    "    stscaler=StandardScaler().fit(df)\n",
    "    scaled_df=stscaler.transform(df)\n",
    "    pca=PCA(n_components)\n",
    "    pca.fit(df)\n",
    "    pca_features=pca.transform(df)\n",
    "    return pca"
   ]
  },
  {
   "cell_type": "code",
   "execution_count": 48,
   "metadata": {},
   "outputs": [
    {
     "data": {
      "text/plain": [
       "array([1.29027505e+08, 1.48050369e+07])"
      ]
     },
     "execution_count": 48,
     "metadata": {},
     "output_type": "execute_result"
    }
   ],
   "source": [
    "pca_X_train=fit_pca(X_train,2)\n",
    "pca_X_train.explained_variance_"
   ]
  },
  {
   "cell_type": "code",
   "execution_count": 49,
   "metadata": {},
   "outputs": [
    {
     "data": {
      "text/plain": [
       "array([[  0.7571956 ,   2.16266871],\n",
       "       [  2.47010918, -10.41325602],\n",
       "       [ -2.97085979,  -3.3596302 ],\n",
       "       ...,\n",
       "       [  7.0573766 ,   0.07255637],\n",
       "       [  2.44399896,   0.51743171],\n",
       "       [  8.59776322,  -2.01152138]])"
      ]
     },
     "execution_count": 49,
     "metadata": {},
     "output_type": "execute_result"
    }
   ],
   "source": [
    "from sklearn.pipeline import make_pipeline\n",
    "\n",
    "scaler = StandardScaler()\n",
    "pca_X_train\n",
    "pip_pca=make_pipeline(scaler, pca_X_train)\n",
    "\n",
    "X_train_pca=pip_pca.fit_transform(X_train)\n",
    "X_train_pca"
   ]
  },
  {
   "cell_type": "code",
   "execution_count": 50,
   "metadata": {},
   "outputs": [
    {
     "data": {
      "image/svg+xml": "<?xml version=\"1.0\" encoding=\"utf-8\" standalone=\"no\"?>\n<!DOCTYPE svg PUBLIC \"-//W3C//DTD SVG 1.1//EN\"\n  \"http://www.w3.org/Graphics/SVG/1.1/DTD/svg11.dtd\">\n<svg xmlns:xlink=\"http://www.w3.org/1999/xlink\" width=\"396.726245pt\" height=\"262.19625pt\" viewBox=\"0 0 396.726245 262.19625\" xmlns=\"http://www.w3.org/2000/svg\" version=\"1.1\">\n <metadata>\n  <rdf:RDF xmlns:dc=\"http://purl.org/dc/elements/1.1/\" xmlns:cc=\"http://creativecommons.org/ns#\" xmlns:rdf=\"http://www.w3.org/1999/02/22-rdf-syntax-ns#\">\n   <cc:Work>\n    <dc:type rdf:resource=\"http://purl.org/dc/dcmitype/StillImage\"/>\n    <dc:date>2023-04-26T22:48:09.117146</dc:date>\n    <dc:format>image/svg+xml</dc:format>\n    <dc:creator>\n     <cc:Agent>\n      <dc:title>Matplotlib v3.5.1, https://matplotlib.org/</dc:title>\n     </cc:Agent>\n    </dc:creator>\n   </cc:Work>\n  </rdf:RDF>\n </metadata>\n <defs>\n  <style type=\"text/css\">*{stroke-linejoin: round; stroke-linecap: butt}</style>\n </defs>\n <g id=\"figure_1\">\n  <g id=\"patch_1\">\n   <path d=\"M 0 262.19625 \nL 396.726245 262.19625 \nL 396.726245 0 \nL 0 0 \nL 0 262.19625 \nz\n\" style=\"fill: none\"/>\n  </g>\n  <g id=\"axes_1\">\n   <g id=\"patch_2\">\n    <path d=\"M 48.982813 224.64 \nL 383.782813 224.64 \nL 383.782813 7.2 \nL 48.982813 7.2 \nz\n\" style=\"fill: #ffffff\"/>\n   </g>\n   <g id=\"PathCollection_1\">\n    <defs>\n     <path id=\"C0_0_b7d03648cf\" d=\"M 0 3 \nC 0.795609 3 1.55874 2.683901 2.12132 2.12132 \nC 2.683901 1.55874 3 0.795609 3 -0 \nC 3 -0.795609 2.683901 -1.55874 2.12132 -2.12132 \nC 1.55874 -2.683901 0.795609 -3 0 -3 \nC -0.795609 -3 -1.55874 -2.683901 -2.12132 -2.12132 \nC -2.683901 -1.55874 -3 -0.795609 -3 0 \nC -3 0.795609 -2.683901 1.55874 -2.12132 2.12132 \nC -1.55874 2.683901 -0.795609 3 0 3 \nz\n\"/>\n    </defs>\n    <g clip-path=\"url(#p7dabbdb571)\">\n     <use xlink:href=\"#C0_0_b7d03648cf\" x=\"192.313201\" y=\"133.787687\" style=\"fill: #440154; stroke: #440154\"/>\n    </g>\n    <g clip-path=\"url(#p7dabbdb571)\">\n     <use xlink:href=\"#C0_0_b7d03648cf\" x=\"209.301914\" y=\"210.193457\" style=\"fill: #472d7b; stroke: #472d7b\"/>\n    </g>\n    <g clip-path=\"url(#p7dabbdb571)\">\n     <use xlink:href=\"#C0_0_b7d03648cf\" x=\"155.338268\" y=\"167.338739\" style=\"fill: #472d7b; stroke: #472d7b\"/>\n    </g>\n    <g clip-path=\"url(#p7dabbdb571)\">\n     <use xlink:href=\"#C0_0_b7d03648cf\" x=\"76.305501\" y=\"146.514301\" style=\"fill: #3b528b; stroke: #3b528b\"/>\n    </g>\n    <g clip-path=\"url(#p7dabbdb571)\">\n     <use xlink:href=\"#C0_0_b7d03648cf\" x=\"142.098289\" y=\"165.559009\" style=\"fill: #2c728e; stroke: #2c728e\"/>\n    </g>\n    <g clip-path=\"url(#p7dabbdb571)\">\n     <use xlink:href=\"#C0_0_b7d03648cf\" x=\"196.600062\" y=\"132.568195\" style=\"fill: #21918c; stroke: #21918c\"/>\n    </g>\n    <g clip-path=\"url(#p7dabbdb571)\">\n     <use xlink:href=\"#C0_0_b7d03648cf\" x=\"149.163604\" y=\"155.269578\" style=\"fill: #2c728e; stroke: #2c728e\"/>\n    </g>\n    <g clip-path=\"url(#p7dabbdb571)\">\n     <use xlink:href=\"#C0_0_b7d03648cf\" x=\"201.589871\" y=\"150.915009\" style=\"fill: #28ae80; stroke: #28ae80\"/>\n    </g>\n    <g clip-path=\"url(#p7dabbdb571)\">\n     <use xlink:href=\"#C0_0_b7d03648cf\" x=\"167.135689\" y=\"161.616663\" style=\"fill: #3b528b; stroke: #3b528b\"/>\n    </g>\n    <g clip-path=\"url(#p7dabbdb571)\">\n     <use xlink:href=\"#C0_0_b7d03648cf\" x=\"111.145289\" y=\"127.966662\" style=\"fill: #21918c; stroke: #21918c\"/>\n    </g>\n    <g clip-path=\"url(#p7dabbdb571)\">\n     <use xlink:href=\"#C0_0_b7d03648cf\" x=\"156.171898\" y=\"177.587848\" style=\"fill: #5ec962; stroke: #5ec962\"/>\n    </g>\n    <g clip-path=\"url(#p7dabbdb571)\">\n     <use xlink:href=\"#C0_0_b7d03648cf\" x=\"114.80445\" y=\"123.702902\" style=\"fill: #28ae80; stroke: #28ae80\"/>\n    </g>\n    <g clip-path=\"url(#p7dabbdb571)\">\n     <use xlink:href=\"#C0_0_b7d03648cf\" x=\"151.210383\" y=\"176.636799\" style=\"fill: #2c728e; stroke: #2c728e\"/>\n    </g>\n    <g clip-path=\"url(#p7dabbdb571)\">\n     <use xlink:href=\"#C0_0_b7d03648cf\" x=\"242.336546\" y=\"100.420222\" style=\"fill: #440154; stroke: #440154\"/>\n    </g>\n    <g clip-path=\"url(#p7dabbdb571)\">\n     <use xlink:href=\"#C0_0_b7d03648cf\" x=\"157.542544\" y=\"149.969936\" style=\"fill: #28ae80; stroke: #28ae80\"/>\n    </g>\n    <g clip-path=\"url(#p7dabbdb571)\">\n     <use xlink:href=\"#C0_0_b7d03648cf\" x=\"148.602578\" y=\"158.297489\" style=\"fill: #2c728e; stroke: #2c728e\"/>\n    </g>\n    <g clip-path=\"url(#p7dabbdb571)\">\n     <use xlink:href=\"#C0_0_b7d03648cf\" x=\"125.097755\" y=\"137.861527\" style=\"fill: #3b528b; stroke: #3b528b\"/>\n    </g>\n    <g clip-path=\"url(#p7dabbdb571)\">\n     <use xlink:href=\"#C0_0_b7d03648cf\" x=\"155.713214\" y=\"127.861268\" style=\"fill: #28ae80; stroke: #28ae80\"/>\n    </g>\n    <g clip-path=\"url(#p7dabbdb571)\">\n     <use xlink:href=\"#C0_0_b7d03648cf\" x=\"86.463346\" y=\"124.486203\" style=\"fill: #3b528b; stroke: #3b528b\"/>\n    </g>\n    <g clip-path=\"url(#p7dabbdb571)\">\n     <use xlink:href=\"#C0_0_b7d03648cf\" x=\"230.408804\" y=\"115.515327\" style=\"fill: #440154; stroke: #440154\"/>\n    </g>\n    <g clip-path=\"url(#p7dabbdb571)\">\n     <use xlink:href=\"#C0_0_b7d03648cf\" x=\"143.231721\" y=\"144.706996\" style=\"fill: #3b528b; stroke: #3b528b\"/>\n    </g>\n    <g clip-path=\"url(#p7dabbdb571)\">\n     <use xlink:href=\"#C0_0_b7d03648cf\" x=\"115.009245\" y=\"133.422064\" style=\"fill: #28ae80; stroke: #28ae80\"/>\n    </g>\n    <g clip-path=\"url(#p7dabbdb571)\">\n     <use xlink:href=\"#C0_0_b7d03648cf\" x=\"99.231026\" y=\"150.255492\" style=\"fill: #3b528b; stroke: #3b528b\"/>\n    </g>\n    <g clip-path=\"url(#p7dabbdb571)\">\n     <use xlink:href=\"#C0_0_b7d03648cf\" x=\"221.868288\" y=\"155.588148\" style=\"fill: #21918c; stroke: #21918c\"/>\n    </g>\n    <g clip-path=\"url(#p7dabbdb571)\">\n     <use xlink:href=\"#C0_0_b7d03648cf\" x=\"180.194245\" y=\"84.96534\" style=\"fill: #28ae80; stroke: #28ae80\"/>\n    </g>\n    <g clip-path=\"url(#p7dabbdb571)\">\n     <use xlink:href=\"#C0_0_b7d03648cf\" x=\"176.58648\" y=\"184.570274\" style=\"fill: #2c728e; stroke: #2c728e\"/>\n    </g>\n    <g clip-path=\"url(#p7dabbdb571)\">\n     <use xlink:href=\"#C0_0_b7d03648cf\" x=\"191.64903\" y=\"141.28204\" style=\"fill: #addc30; stroke: #addc30\"/>\n    </g>\n    <g clip-path=\"url(#p7dabbdb571)\">\n     <use xlink:href=\"#C0_0_b7d03648cf\" x=\"81.59694\" y=\"148.168385\" style=\"fill: #3b528b; stroke: #3b528b\"/>\n    </g>\n    <g clip-path=\"url(#p7dabbdb571)\">\n     <use xlink:href=\"#C0_0_b7d03648cf\" x=\"296.403284\" y=\"177.241981\" style=\"fill: #21918c; stroke: #21918c\"/>\n    </g>\n    <g clip-path=\"url(#p7dabbdb571)\">\n     <use xlink:href=\"#C0_0_b7d03648cf\" x=\"194.347592\" y=\"169.274595\" style=\"fill: #addc30; stroke: #addc30\"/>\n    </g>\n    <g clip-path=\"url(#p7dabbdb571)\">\n     <use xlink:href=\"#C0_0_b7d03648cf\" x=\"255.780736\" y=\"127.189662\" style=\"fill: #440154; stroke: #440154\"/>\n    </g>\n    <g clip-path=\"url(#p7dabbdb571)\">\n     <use xlink:href=\"#C0_0_b7d03648cf\" x=\"256.189022\" y=\"129.824236\" style=\"fill: #440154; stroke: #440154\"/>\n    </g>\n    <g clip-path=\"url(#p7dabbdb571)\">\n     <use xlink:href=\"#C0_0_b7d03648cf\" x=\"285.348858\" y=\"183.66142\" style=\"fill: #21918c; stroke: #21918c\"/>\n    </g>\n    <g clip-path=\"url(#p7dabbdb571)\">\n     <use xlink:href=\"#C0_0_b7d03648cf\" x=\"261.922678\" y=\"94.21721\" style=\"fill: #440154; stroke: #440154\"/>\n    </g>\n    <g clip-path=\"url(#p7dabbdb571)\">\n     <use xlink:href=\"#C0_0_b7d03648cf\" x=\"138.058481\" y=\"165.60629\" style=\"fill: #2c728e; stroke: #2c728e\"/>\n    </g>\n    <g clip-path=\"url(#p7dabbdb571)\">\n     <use xlink:href=\"#C0_0_b7d03648cf\" x=\"104.344501\" y=\"137.812422\" style=\"fill: #3b528b; stroke: #3b528b\"/>\n    </g>\n    <g clip-path=\"url(#p7dabbdb571)\">\n     <use xlink:href=\"#C0_0_b7d03648cf\" x=\"107.354351\" y=\"125.295311\" style=\"fill: #28ae80; stroke: #28ae80\"/>\n    </g>\n    <g clip-path=\"url(#p7dabbdb571)\">\n     <use xlink:href=\"#C0_0_b7d03648cf\" x=\"199.946187\" y=\"122.174207\" style=\"fill: #440154; stroke: #440154\"/>\n    </g>\n    <g clip-path=\"url(#p7dabbdb571)\">\n     <use xlink:href=\"#C0_0_b7d03648cf\" x=\"158.598228\" y=\"161.189535\" style=\"fill: #addc30; stroke: #addc30\"/>\n    </g>\n    <g clip-path=\"url(#p7dabbdb571)\">\n     <use xlink:href=\"#C0_0_b7d03648cf\" x=\"116.043971\" y=\"183.529433\" style=\"fill: #472d7b; stroke: #472d7b\"/>\n    </g>\n    <g clip-path=\"url(#p7dabbdb571)\">\n     <use xlink:href=\"#C0_0_b7d03648cf\" x=\"141.467293\" y=\"214.756364\" style=\"fill: #472d7b; stroke: #472d7b\"/>\n    </g>\n    <g clip-path=\"url(#p7dabbdb571)\">\n     <use xlink:href=\"#C0_0_b7d03648cf\" x=\"242.615213\" y=\"118.489836\" style=\"fill: #440154; stroke: #440154\"/>\n    </g>\n    <g clip-path=\"url(#p7dabbdb571)\">\n     <use xlink:href=\"#C0_0_b7d03648cf\" x=\"249.88365\" y=\"164.733685\" style=\"fill: #21918c; stroke: #21918c\"/>\n    </g>\n    <g clip-path=\"url(#p7dabbdb571)\">\n     <use xlink:href=\"#C0_0_b7d03648cf\" x=\"112.422121\" y=\"164.060743\" style=\"fill: #3b528b; stroke: #3b528b\"/>\n    </g>\n    <g clip-path=\"url(#p7dabbdb571)\">\n     <use xlink:href=\"#C0_0_b7d03648cf\" x=\"74.547671\" y=\"125.730227\" style=\"fill: #3b528b; stroke: #3b528b\"/>\n    </g>\n    <g clip-path=\"url(#p7dabbdb571)\">\n     <use xlink:href=\"#C0_0_b7d03648cf\" x=\"69.559549\" y=\"141.318311\" style=\"fill: #3b528b; stroke: #3b528b\"/>\n    </g>\n    <g clip-path=\"url(#p7dabbdb571)\">\n     <use xlink:href=\"#C0_0_b7d03648cf\" x=\"247.675554\" y=\"103.634892\" style=\"fill: #440154; stroke: #440154\"/>\n    </g>\n    <g clip-path=\"url(#p7dabbdb571)\">\n     <use xlink:href=\"#C0_0_b7d03648cf\" x=\"271.09915\" y=\"156.920123\" style=\"fill: #21918c; stroke: #21918c\"/>\n    </g>\n    <g clip-path=\"url(#p7dabbdb571)\">\n     <use xlink:href=\"#C0_0_b7d03648cf\" x=\"269.498771\" y=\"162.092663\" style=\"fill: #21918c; stroke: #21918c\"/>\n    </g>\n    <g clip-path=\"url(#p7dabbdb571)\">\n     <use xlink:href=\"#C0_0_b7d03648cf\" x=\"126.599396\" y=\"182.093317\" style=\"fill: #472d7b; stroke: #472d7b\"/>\n    </g>\n    <g clip-path=\"url(#p7dabbdb571)\">\n     <use xlink:href=\"#C0_0_b7d03648cf\" x=\"174.339037\" y=\"181.581388\" style=\"fill: #28ae80; stroke: #28ae80\"/>\n    </g>\n    <g clip-path=\"url(#p7dabbdb571)\">\n     <use xlink:href=\"#C0_0_b7d03648cf\" x=\"229.695257\" y=\"193.092325\" style=\"fill: #5ec962; stroke: #5ec962\"/>\n    </g>\n    <g clip-path=\"url(#p7dabbdb571)\">\n     <use xlink:href=\"#C0_0_b7d03648cf\" x=\"168.318554\" y=\"146.995532\" style=\"fill: #addc30; stroke: #addc30\"/>\n    </g>\n    <g clip-path=\"url(#p7dabbdb571)\">\n     <use xlink:href=\"#C0_0_b7d03648cf\" x=\"82.567765\" y=\"136.948732\" style=\"fill: #3b528b; stroke: #3b528b\"/>\n    </g>\n    <g clip-path=\"url(#p7dabbdb571)\">\n     <use xlink:href=\"#C0_0_b7d03648cf\" x=\"213.738516\" y=\"180.698828\" style=\"fill: #5ec962; stroke: #5ec962\"/>\n    </g>\n    <g clip-path=\"url(#p7dabbdb571)\">\n     <use xlink:href=\"#C0_0_b7d03648cf\" x=\"288.116408\" y=\"186.563125\" style=\"fill: #21918c; stroke: #21918c\"/>\n    </g>\n    <g clip-path=\"url(#p7dabbdb571)\">\n     <use xlink:href=\"#C0_0_b7d03648cf\" x=\"109.408083\" y=\"132.956983\" style=\"fill: #28ae80; stroke: #28ae80\"/>\n    </g>\n    <g clip-path=\"url(#p7dabbdb571)\">\n     <use xlink:href=\"#C0_0_b7d03648cf\" x=\"122.00596\" y=\"165.402128\" style=\"fill: #472d7b; stroke: #472d7b\"/>\n    </g>\n    <g clip-path=\"url(#p7dabbdb571)\">\n     <use xlink:href=\"#C0_0_b7d03648cf\" x=\"248.461178\" y=\"128.541686\" style=\"fill: #440154; stroke: #440154\"/>\n    </g>\n    <g clip-path=\"url(#p7dabbdb571)\">\n     <use xlink:href=\"#C0_0_b7d03648cf\" x=\"116.455155\" y=\"118.281265\" style=\"fill: #3b528b; stroke: #3b528b\"/>\n    </g>\n    <g clip-path=\"url(#p7dabbdb571)\">\n     <use xlink:href=\"#C0_0_b7d03648cf\" x=\"132.287564\" y=\"190.692431\" style=\"fill: #472d7b; stroke: #472d7b\"/>\n    </g>\n    <g clip-path=\"url(#p7dabbdb571)\">\n     <use xlink:href=\"#C0_0_b7d03648cf\" x=\"134.126839\" y=\"140.923949\" style=\"fill: #28ae80; stroke: #28ae80\"/>\n    </g>\n    <g clip-path=\"url(#p7dabbdb571)\">\n     <use xlink:href=\"#C0_0_b7d03648cf\" x=\"106.685077\" y=\"156.22111\" style=\"fill: #3b528b; stroke: #3b528b\"/>\n    </g>\n    <g clip-path=\"url(#p7dabbdb571)\">\n     <use xlink:href=\"#C0_0_b7d03648cf\" x=\"104.21278\" y=\"99.712147\" style=\"fill: #3b528b; stroke: #3b528b\"/>\n    </g>\n    <g clip-path=\"url(#p7dabbdb571)\">\n     <use xlink:href=\"#C0_0_b7d03648cf\" x=\"238.866909\" y=\"178.329657\" style=\"fill: #21918c; stroke: #21918c\"/>\n    </g>\n    <g clip-path=\"url(#p7dabbdb571)\">\n     <use xlink:href=\"#C0_0_b7d03648cf\" x=\"250.889179\" y=\"197.177443\" style=\"fill: #21918c; stroke: #21918c\"/>\n    </g>\n    <g clip-path=\"url(#p7dabbdb571)\">\n     <use xlink:href=\"#C0_0_b7d03648cf\" x=\"189.667611\" y=\"176.116894\" style=\"fill: #addc30; stroke: #addc30\"/>\n    </g>\n    <g clip-path=\"url(#p7dabbdb571)\">\n     <use xlink:href=\"#C0_0_b7d03648cf\" x=\"245.101138\" y=\"122.556124\" style=\"fill: #440154; stroke: #440154\"/>\n    </g>\n    <g clip-path=\"url(#p7dabbdb571)\">\n     <use xlink:href=\"#C0_0_b7d03648cf\" x=\"260.937354\" y=\"172.288592\" style=\"fill: #21918c; stroke: #21918c\"/>\n    </g>\n    <g clip-path=\"url(#p7dabbdb571)\">\n     <use xlink:href=\"#C0_0_b7d03648cf\" x=\"260.818295\" y=\"193.314051\" style=\"fill: #21918c; stroke: #21918c\"/>\n    </g>\n    <g clip-path=\"url(#p7dabbdb571)\">\n     <use xlink:href=\"#C0_0_b7d03648cf\" x=\"208.916367\" y=\"196.625385\" style=\"fill: #5ec962; stroke: #5ec962\"/>\n    </g>\n    <g clip-path=\"url(#p7dabbdb571)\">\n     <use xlink:href=\"#C0_0_b7d03648cf\" x=\"243.483579\" y=\"121.673457\" style=\"fill: #440154; stroke: #440154\"/>\n    </g>\n    <g clip-path=\"url(#p7dabbdb571)\">\n     <use xlink:href=\"#C0_0_b7d03648cf\" x=\"171.885787\" y=\"100.454492\" style=\"fill: #440154; stroke: #440154\"/>\n    </g>\n    <g clip-path=\"url(#p7dabbdb571)\">\n     <use xlink:href=\"#C0_0_b7d03648cf\" x=\"182.939051\" y=\"143.701962\" style=\"fill: #28ae80; stroke: #28ae80\"/>\n    </g>\n    <g clip-path=\"url(#p7dabbdb571)\">\n     <use xlink:href=\"#C0_0_b7d03648cf\" x=\"126.91765\" y=\"140.473312\" style=\"fill: #28ae80; stroke: #28ae80\"/>\n    </g>\n    <g clip-path=\"url(#p7dabbdb571)\">\n     <use xlink:href=\"#C0_0_b7d03648cf\" x=\"105.883853\" y=\"138.761743\" style=\"fill: #2c728e; stroke: #2c728e\"/>\n    </g>\n    <g clip-path=\"url(#p7dabbdb571)\">\n     <use xlink:href=\"#C0_0_b7d03648cf\" x=\"94.641376\" y=\"140.223814\" style=\"fill: #3b528b; stroke: #3b528b\"/>\n    </g>\n    <g clip-path=\"url(#p7dabbdb571)\">\n     <use xlink:href=\"#C0_0_b7d03648cf\" x=\"132.538504\" y=\"166.058759\" style=\"fill: #472d7b; stroke: #472d7b\"/>\n    </g>\n    <g clip-path=\"url(#p7dabbdb571)\">\n     <use xlink:href=\"#C0_0_b7d03648cf\" x=\"140.973923\" y=\"168.769454\" style=\"fill: #2c728e; stroke: #2c728e\"/>\n    </g>\n    <g clip-path=\"url(#p7dabbdb571)\">\n     <use xlink:href=\"#C0_0_b7d03648cf\" x=\"136.845535\" y=\"179.475767\" style=\"fill: #3b528b; stroke: #3b528b\"/>\n    </g>\n    <g clip-path=\"url(#p7dabbdb571)\">\n     <use xlink:href=\"#C0_0_b7d03648cf\" x=\"207.560066\" y=\"106.926358\" style=\"fill: #28ae80; stroke: #28ae80\"/>\n    </g>\n    <g clip-path=\"url(#p7dabbdb571)\">\n     <use xlink:href=\"#C0_0_b7d03648cf\" x=\"311.816442\" y=\"170.513738\" style=\"fill: #21918c; stroke: #21918c\"/>\n    </g>\n    <g clip-path=\"url(#p7dabbdb571)\">\n     <use xlink:href=\"#C0_0_b7d03648cf\" x=\"250.137293\" y=\"169.894309\" style=\"fill: #21918c; stroke: #21918c\"/>\n    </g>\n    <g clip-path=\"url(#p7dabbdb571)\">\n     <use xlink:href=\"#C0_0_b7d03648cf\" x=\"167.090357\" y=\"145.388351\" style=\"fill: #fde725; stroke: #fde725\"/>\n    </g>\n    <g clip-path=\"url(#p7dabbdb571)\">\n     <use xlink:href=\"#C0_0_b7d03648cf\" x=\"159.334447\" y=\"170.08359\" style=\"fill: #28ae80; stroke: #28ae80\"/>\n    </g>\n    <g clip-path=\"url(#p7dabbdb571)\">\n     <use xlink:href=\"#C0_0_b7d03648cf\" x=\"232.451319\" y=\"167.461584\" style=\"fill: #21918c; stroke: #21918c\"/>\n    </g>\n    <g clip-path=\"url(#p7dabbdb571)\">\n     <use xlink:href=\"#C0_0_b7d03648cf\" x=\"260.910118\" y=\"153.489667\" style=\"fill: #440154; stroke: #440154\"/>\n    </g>\n    <g clip-path=\"url(#p7dabbdb571)\">\n     <use xlink:href=\"#C0_0_b7d03648cf\" x=\"151.751658\" y=\"151.610362\" style=\"fill: #28ae80; stroke: #28ae80\"/>\n    </g>\n    <g clip-path=\"url(#p7dabbdb571)\">\n     <use xlink:href=\"#C0_0_b7d03648cf\" x=\"240.299383\" y=\"188.136292\" style=\"fill: #21918c; stroke: #21918c\"/>\n    </g>\n    <g clip-path=\"url(#p7dabbdb571)\">\n     <use xlink:href=\"#C0_0_b7d03648cf\" x=\"208.079622\" y=\"168.26267\" style=\"fill: #21918c; stroke: #21918c\"/>\n    </g>\n    <g clip-path=\"url(#p7dabbdb571)\">\n     <use xlink:href=\"#C0_0_b7d03648cf\" x=\"235.101598\" y=\"89.399032\" style=\"fill: #440154; stroke: #440154\"/>\n    </g>\n    <g clip-path=\"url(#p7dabbdb571)\">\n     <use xlink:href=\"#C0_0_b7d03648cf\" x=\"112.572139\" y=\"135.771186\" style=\"fill: #3b528b; stroke: #3b528b\"/>\n    </g>\n    <g clip-path=\"url(#p7dabbdb571)\">\n     <use xlink:href=\"#C0_0_b7d03648cf\" x=\"87.523819\" y=\"150.136484\" style=\"fill: #3b528b; stroke: #3b528b\"/>\n    </g>\n    <g clip-path=\"url(#p7dabbdb571)\">\n     <use xlink:href=\"#C0_0_b7d03648cf\" x=\"161.837062\" y=\"153.466542\" style=\"fill: #2c728e; stroke: #2c728e\"/>\n    </g>\n    <g clip-path=\"url(#p7dabbdb571)\">\n     <use xlink:href=\"#C0_0_b7d03648cf\" x=\"78.839873\" y=\"136.831728\" style=\"fill: #3b528b; stroke: #3b528b\"/>\n    </g>\n    <g clip-path=\"url(#p7dabbdb571)\">\n     <use xlink:href=\"#C0_0_b7d03648cf\" x=\"256.325212\" y=\"174.656533\" style=\"fill: #21918c; stroke: #21918c\"/>\n    </g>\n    <g clip-path=\"url(#p7dabbdb571)\">\n     <use xlink:href=\"#C0_0_b7d03648cf\" x=\"91.676912\" y=\"145.773709\" style=\"fill: #2c728e; stroke: #2c728e\"/>\n    </g>\n    <g clip-path=\"url(#p7dabbdb571)\">\n     <use xlink:href=\"#C0_0_b7d03648cf\" x=\"114.446495\" y=\"121.511054\" style=\"fill: #28ae80; stroke: #28ae80\"/>\n    </g>\n    <g clip-path=\"url(#p7dabbdb571)\">\n     <use xlink:href=\"#C0_0_b7d03648cf\" x=\"75.768455\" y=\"137.591509\" style=\"fill: #3b528b; stroke: #3b528b\"/>\n    </g>\n    <g clip-path=\"url(#p7dabbdb571)\">\n     <use xlink:href=\"#C0_0_b7d03648cf\" x=\"263.684763\" y=\"180.859783\" style=\"fill: #21918c; stroke: #21918c\"/>\n    </g>\n    <g clip-path=\"url(#p7dabbdb571)\">\n     <use xlink:href=\"#C0_0_b7d03648cf\" x=\"129.115672\" y=\"166.613331\" style=\"fill: #5ec962; stroke: #5ec962\"/>\n    </g>\n    <g clip-path=\"url(#p7dabbdb571)\">\n     <use xlink:href=\"#C0_0_b7d03648cf\" x=\"143.863497\" y=\"169.85592\" style=\"fill: #28ae80; stroke: #28ae80\"/>\n    </g>\n    <g clip-path=\"url(#p7dabbdb571)\">\n     <use xlink:href=\"#C0_0_b7d03648cf\" x=\"179.804959\" y=\"138.354818\" style=\"fill: #fde725; stroke: #fde725\"/>\n    </g>\n    <g clip-path=\"url(#p7dabbdb571)\">\n     <use xlink:href=\"#C0_0_b7d03648cf\" x=\"153.928199\" y=\"152.745777\" style=\"fill: #2c728e; stroke: #2c728e\"/>\n    </g>\n    <g clip-path=\"url(#p7dabbdb571)\">\n     <use xlink:href=\"#C0_0_b7d03648cf\" x=\"95.231392\" y=\"140.847612\" style=\"fill: #2c728e; stroke: #2c728e\"/>\n    </g>\n    <g clip-path=\"url(#p7dabbdb571)\">\n     <use xlink:href=\"#C0_0_b7d03648cf\" x=\"159.000323\" y=\"188.616379\" style=\"fill: #5ec962; stroke: #5ec962\"/>\n    </g>\n    <g clip-path=\"url(#p7dabbdb571)\">\n     <use xlink:href=\"#C0_0_b7d03648cf\" x=\"102.196376\" y=\"142.563202\" style=\"fill: #3b528b; stroke: #3b528b\"/>\n    </g>\n    <g clip-path=\"url(#p7dabbdb571)\">\n     <use xlink:href=\"#C0_0_b7d03648cf\" x=\"278.956788\" y=\"140.106083\" style=\"fill: #440154; stroke: #440154\"/>\n    </g>\n    <g clip-path=\"url(#p7dabbdb571)\">\n     <use xlink:href=\"#C0_0_b7d03648cf\" x=\"155.249521\" y=\"119.026709\" style=\"fill: #fde725; stroke: #fde725\"/>\n    </g>\n    <g clip-path=\"url(#p7dabbdb571)\">\n     <use xlink:href=\"#C0_0_b7d03648cf\" x=\"207.721128\" y=\"153.845969\" style=\"fill: #fde725; stroke: #fde725\"/>\n    </g>\n    <g clip-path=\"url(#p7dabbdb571)\">\n     <use xlink:href=\"#C0_0_b7d03648cf\" x=\"97.1211\" y=\"127.940986\" style=\"fill: #3b528b; stroke: #3b528b\"/>\n    </g>\n    <g clip-path=\"url(#p7dabbdb571)\">\n     <use xlink:href=\"#C0_0_b7d03648cf\" x=\"140.943907\" y=\"177.75697\" style=\"fill: #472d7b; stroke: #472d7b\"/>\n    </g>\n    <g clip-path=\"url(#p7dabbdb571)\">\n     <use xlink:href=\"#C0_0_b7d03648cf\" x=\"106.207351\" y=\"115.154667\" style=\"fill: #28ae80; stroke: #28ae80\"/>\n    </g>\n    <g clip-path=\"url(#p7dabbdb571)\">\n     <use xlink:href=\"#C0_0_b7d03648cf\" x=\"103.212138\" y=\"161.118836\" style=\"fill: #3b528b; stroke: #3b528b\"/>\n    </g>\n    <g clip-path=\"url(#p7dabbdb571)\">\n     <use xlink:href=\"#C0_0_b7d03648cf\" x=\"101.92481\" y=\"173.102794\" style=\"fill: #472d7b; stroke: #472d7b\"/>\n    </g>\n    <g clip-path=\"url(#p7dabbdb571)\">\n     <use xlink:href=\"#C0_0_b7d03648cf\" x=\"141.447477\" y=\"150.944404\" style=\"fill: #2c728e; stroke: #2c728e\"/>\n    </g>\n    <g clip-path=\"url(#p7dabbdb571)\">\n     <use xlink:href=\"#C0_0_b7d03648cf\" x=\"158.811413\" y=\"160.419096\" style=\"fill: #2c728e; stroke: #2c728e\"/>\n    </g>\n    <g clip-path=\"url(#p7dabbdb571)\">\n     <use xlink:href=\"#C0_0_b7d03648cf\" x=\"107.457996\" y=\"181.120326\" style=\"fill: #3b528b; stroke: #3b528b\"/>\n    </g>\n    <g clip-path=\"url(#p7dabbdb571)\">\n     <use xlink:href=\"#C0_0_b7d03648cf\" x=\"103.869642\" y=\"165.743264\" style=\"fill: #28ae80; stroke: #28ae80\"/>\n    </g>\n    <g clip-path=\"url(#p7dabbdb571)\">\n     <use xlink:href=\"#C0_0_b7d03648cf\" x=\"237.590238\" y=\"155.988147\" style=\"fill: #21918c; stroke: #21918c\"/>\n    </g>\n    <g clip-path=\"url(#p7dabbdb571)\">\n     <use xlink:href=\"#C0_0_b7d03648cf\" x=\"159.286827\" y=\"122.181284\" style=\"fill: #fde725; stroke: #fde725\"/>\n    </g>\n    <g clip-path=\"url(#p7dabbdb571)\">\n     <use xlink:href=\"#C0_0_b7d03648cf\" x=\"118.729766\" y=\"185.317814\" style=\"fill: #472d7b; stroke: #472d7b\"/>\n    </g>\n    <g clip-path=\"url(#p7dabbdb571)\">\n     <use xlink:href=\"#C0_0_b7d03648cf\" x=\"107.489893\" y=\"128.825276\" style=\"fill: #28ae80; stroke: #28ae80\"/>\n    </g>\n    <g clip-path=\"url(#p7dabbdb571)\">\n     <use xlink:href=\"#C0_0_b7d03648cf\" x=\"118.391471\" y=\"180.664239\" style=\"fill: #472d7b; stroke: #472d7b\"/>\n    </g>\n    <g clip-path=\"url(#p7dabbdb571)\">\n     <use xlink:href=\"#C0_0_b7d03648cf\" x=\"133.737688\" y=\"176.384419\" style=\"fill: #472d7b; stroke: #472d7b\"/>\n    </g>\n    <g clip-path=\"url(#p7dabbdb571)\">\n     <use xlink:href=\"#C0_0_b7d03648cf\" x=\"281.561461\" y=\"160.537375\" style=\"fill: #21918c; stroke: #21918c\"/>\n    </g>\n    <g clip-path=\"url(#p7dabbdb571)\">\n     <use xlink:href=\"#C0_0_b7d03648cf\" x=\"240.01951\" y=\"78.497886\" style=\"fill: #440154; stroke: #440154\"/>\n    </g>\n    <g clip-path=\"url(#p7dabbdb571)\">\n     <use xlink:href=\"#C0_0_b7d03648cf\" x=\"239.632755\" y=\"83.691782\" style=\"fill: #440154; stroke: #440154\"/>\n    </g>\n    <g clip-path=\"url(#p7dabbdb571)\">\n     <use xlink:href=\"#C0_0_b7d03648cf\" x=\"262.649824\" y=\"193.214039\" style=\"fill: #21918c; stroke: #21918c\"/>\n    </g>\n    <g clip-path=\"url(#p7dabbdb571)\">\n     <use xlink:href=\"#C0_0_b7d03648cf\" x=\"239.629554\" y=\"142.872423\" style=\"fill: #440154; stroke: #440154\"/>\n    </g>\n    <g clip-path=\"url(#p7dabbdb571)\">\n     <use xlink:href=\"#C0_0_b7d03648cf\" x=\"72.376205\" y=\"132.252028\" style=\"fill: #3b528b; stroke: #3b528b\"/>\n    </g>\n    <g clip-path=\"url(#p7dabbdb571)\">\n     <use xlink:href=\"#C0_0_b7d03648cf\" x=\"100.547352\" y=\"159.566941\" style=\"fill: #3b528b; stroke: #3b528b\"/>\n    </g>\n    <g clip-path=\"url(#p7dabbdb571)\">\n     <use xlink:href=\"#C0_0_b7d03648cf\" x=\"125.277365\" y=\"145.501356\" style=\"fill: #28ae80; stroke: #28ae80\"/>\n    </g>\n    <g clip-path=\"url(#p7dabbdb571)\">\n     <use xlink:href=\"#C0_0_b7d03648cf\" x=\"235.128412\" y=\"180.228918\" style=\"fill: #addc30; stroke: #addc30\"/>\n    </g>\n    <g clip-path=\"url(#p7dabbdb571)\">\n     <use xlink:href=\"#C0_0_b7d03648cf\" x=\"107.40209\" y=\"155.024106\" style=\"fill: #addc30; stroke: #addc30\"/>\n    </g>\n    <g clip-path=\"url(#p7dabbdb571)\">\n     <use xlink:href=\"#C0_0_b7d03648cf\" x=\"165.893036\" y=\"171.833089\" style=\"fill: #addc30; stroke: #addc30\"/>\n    </g>\n    <g clip-path=\"url(#p7dabbdb571)\">\n     <use xlink:href=\"#C0_0_b7d03648cf\" x=\"112.169615\" y=\"190.192644\" style=\"fill: #472d7b; stroke: #472d7b\"/>\n    </g>\n    <g clip-path=\"url(#p7dabbdb571)\">\n     <use xlink:href=\"#C0_0_b7d03648cf\" x=\"178.565509\" y=\"133.550811\" style=\"fill: #fde725; stroke: #fde725\"/>\n    </g>\n    <g clip-path=\"url(#p7dabbdb571)\">\n     <use xlink:href=\"#C0_0_b7d03648cf\" x=\"118.37276\" y=\"141.601221\" style=\"fill: #3b528b; stroke: #3b528b\"/>\n    </g>\n    <g clip-path=\"url(#p7dabbdb571)\">\n     <use xlink:href=\"#C0_0_b7d03648cf\" x=\"184.315555\" y=\"114.295652\" style=\"fill: #440154; stroke: #440154\"/>\n    </g>\n    <g clip-path=\"url(#p7dabbdb571)\">\n     <use xlink:href=\"#C0_0_b7d03648cf\" x=\"141.123024\" y=\"183.995322\" style=\"fill: #2c728e; stroke: #2c728e\"/>\n    </g>\n    <g clip-path=\"url(#p7dabbdb571)\">\n     <use xlink:href=\"#C0_0_b7d03648cf\" x=\"157.880415\" y=\"117.413929\" style=\"fill: #28ae80; stroke: #28ae80\"/>\n    </g>\n    <g clip-path=\"url(#p7dabbdb571)\">\n     <use xlink:href=\"#C0_0_b7d03648cf\" x=\"218.797352\" y=\"88.027354\" style=\"fill: #440154; stroke: #440154\"/>\n    </g>\n    <g clip-path=\"url(#p7dabbdb571)\">\n     <use xlink:href=\"#C0_0_b7d03648cf\" x=\"205.132132\" y=\"87.338578\" style=\"fill: #440154; stroke: #440154\"/>\n    </g>\n    <g clip-path=\"url(#p7dabbdb571)\">\n     <use xlink:href=\"#C0_0_b7d03648cf\" x=\"121.143573\" y=\"168.662173\" style=\"fill: #472d7b; stroke: #472d7b\"/>\n    </g>\n    <g clip-path=\"url(#p7dabbdb571)\">\n     <use xlink:href=\"#C0_0_b7d03648cf\" x=\"124.669251\" y=\"190.600344\" style=\"fill: #3b528b; stroke: #3b528b\"/>\n    </g>\n    <g clip-path=\"url(#p7dabbdb571)\">\n     <use xlink:href=\"#C0_0_b7d03648cf\" x=\"119.281514\" y=\"207.555441\" style=\"fill: #3b528b; stroke: #3b528b\"/>\n    </g>\n    <g clip-path=\"url(#p7dabbdb571)\">\n     <use xlink:href=\"#C0_0_b7d03648cf\" x=\"137.649208\" y=\"175.860326\" style=\"fill: #3b528b; stroke: #3b528b\"/>\n    </g>\n    <g clip-path=\"url(#p7dabbdb571)\">\n     <use xlink:href=\"#C0_0_b7d03648cf\" x=\"125.4959\" y=\"167.962474\" style=\"fill: #472d7b; stroke: #472d7b\"/>\n    </g>\n    <g clip-path=\"url(#p7dabbdb571)\">\n     <use xlink:href=\"#C0_0_b7d03648cf\" x=\"124.645464\" y=\"136.036082\" style=\"fill: #28ae80; stroke: #28ae80\"/>\n    </g>\n    <g clip-path=\"url(#p7dabbdb571)\">\n     <use xlink:href=\"#C0_0_b7d03648cf\" x=\"325.134145\" y=\"169.072047\" style=\"fill: #21918c; stroke: #21918c\"/>\n    </g>\n    <g clip-path=\"url(#p7dabbdb571)\">\n     <use xlink:href=\"#C0_0_b7d03648cf\" x=\"225.071242\" y=\"139.584234\" style=\"fill: #fde725; stroke: #fde725\"/>\n    </g>\n    <g clip-path=\"url(#p7dabbdb571)\">\n     <use xlink:href=\"#C0_0_b7d03648cf\" x=\"127.385399\" y=\"163.181445\" style=\"fill: #3b528b; stroke: #3b528b\"/>\n    </g>\n    <g clip-path=\"url(#p7dabbdb571)\">\n     <use xlink:href=\"#C0_0_b7d03648cf\" x=\"134.072046\" y=\"165.564726\" style=\"fill: #3b528b; stroke: #3b528b\"/>\n    </g>\n    <g clip-path=\"url(#p7dabbdb571)\">\n     <use xlink:href=\"#C0_0_b7d03648cf\" x=\"135.238702\" y=\"109.24049\" style=\"fill: #28ae80; stroke: #28ae80\"/>\n    </g>\n    <g clip-path=\"url(#p7dabbdb571)\">\n     <use xlink:href=\"#C0_0_b7d03648cf\" x=\"278.071028\" y=\"185.732894\" style=\"fill: #21918c; stroke: #21918c\"/>\n    </g>\n    <g clip-path=\"url(#p7dabbdb571)\">\n     <use xlink:href=\"#C0_0_b7d03648cf\" x=\"129.710671\" y=\"209.887952\" style=\"fill: #472d7b; stroke: #472d7b\"/>\n    </g>\n    <g clip-path=\"url(#p7dabbdb571)\">\n     <use xlink:href=\"#C0_0_b7d03648cf\" x=\"127.180945\" y=\"150.56764\" style=\"fill: #3b528b; stroke: #3b528b\"/>\n    </g>\n    <g clip-path=\"url(#p7dabbdb571)\">\n     <use xlink:href=\"#C0_0_b7d03648cf\" x=\"240.024385\" y=\"113.574799\" style=\"fill: #440154; stroke: #440154\"/>\n    </g>\n    <g clip-path=\"url(#p7dabbdb571)\">\n     <use xlink:href=\"#C0_0_b7d03648cf\" x=\"177.375313\" y=\"147.230202\" style=\"fill: #28ae80; stroke: #28ae80\"/>\n    </g>\n    <g clip-path=\"url(#p7dabbdb571)\">\n     <use xlink:href=\"#C0_0_b7d03648cf\" x=\"279.347796\" y=\"162.916628\" style=\"fill: #28ae80; stroke: #28ae80\"/>\n    </g>\n    <g clip-path=\"url(#p7dabbdb571)\">\n     <use xlink:href=\"#C0_0_b7d03648cf\" x=\"218.92427\" y=\"157.484916\" style=\"fill: #21918c; stroke: #21918c\"/>\n    </g>\n    <g clip-path=\"url(#p7dabbdb571)\">\n     <use xlink:href=\"#C0_0_b7d03648cf\" x=\"109.103273\" y=\"172.622624\" style=\"fill: #472d7b; stroke: #472d7b\"/>\n    </g>\n    <g clip-path=\"url(#p7dabbdb571)\">\n     <use xlink:href=\"#C0_0_b7d03648cf\" x=\"129.019962\" y=\"154.133414\" style=\"fill: #3b528b; stroke: #3b528b\"/>\n    </g>\n    <g clip-path=\"url(#p7dabbdb571)\">\n     <use xlink:href=\"#C0_0_b7d03648cf\" x=\"232.145126\" y=\"132.02874\" style=\"fill: #440154; stroke: #440154\"/>\n    </g>\n    <g clip-path=\"url(#p7dabbdb571)\">\n     <use xlink:href=\"#C0_0_b7d03648cf\" x=\"121.67076\" y=\"180.785573\" style=\"fill: #3b528b; stroke: #3b528b\"/>\n    </g>\n    <g clip-path=\"url(#p7dabbdb571)\">\n     <use xlink:href=\"#C0_0_b7d03648cf\" x=\"290.060709\" y=\"173.412526\" style=\"fill: #21918c; stroke: #21918c\"/>\n    </g>\n    <g clip-path=\"url(#p7dabbdb571)\">\n     <use xlink:href=\"#C0_0_b7d03648cf\" x=\"102.371646\" y=\"147.866367\" style=\"fill: #3b528b; stroke: #3b528b\"/>\n    </g>\n    <g clip-path=\"url(#p7dabbdb571)\">\n     <use xlink:href=\"#C0_0_b7d03648cf\" x=\"125.867001\" y=\"139.31428\" style=\"fill: #3b528b; stroke: #3b528b\"/>\n    </g>\n    <g clip-path=\"url(#p7dabbdb571)\">\n     <use xlink:href=\"#C0_0_b7d03648cf\" x=\"98.946286\" y=\"141.134055\" style=\"fill: #3b528b; stroke: #3b528b\"/>\n    </g>\n    <g clip-path=\"url(#p7dabbdb571)\">\n     <use xlink:href=\"#C0_0_b7d03648cf\" x=\"252.011035\" y=\"121.407416\" style=\"fill: #440154; stroke: #440154\"/>\n    </g>\n    <g clip-path=\"url(#p7dabbdb571)\">\n     <use xlink:href=\"#C0_0_b7d03648cf\" x=\"173.725883\" y=\"113.556328\" style=\"fill: #28ae80; stroke: #28ae80\"/>\n    </g>\n    <g clip-path=\"url(#p7dabbdb571)\">\n     <use xlink:href=\"#C0_0_b7d03648cf\" x=\"196.09725\" y=\"112.852879\" style=\"fill: #fde725; stroke: #fde725\"/>\n    </g>\n    <g clip-path=\"url(#p7dabbdb571)\">\n     <use xlink:href=\"#C0_0_b7d03648cf\" x=\"269.317864\" y=\"144.524738\" style=\"fill: #440154; stroke: #440154\"/>\n    </g>\n    <g clip-path=\"url(#p7dabbdb571)\">\n     <use xlink:href=\"#C0_0_b7d03648cf\" x=\"304.541193\" y=\"159.317185\" style=\"fill: #21918c; stroke: #21918c\"/>\n    </g>\n    <g clip-path=\"url(#p7dabbdb571)\">\n     <use xlink:href=\"#C0_0_b7d03648cf\" x=\"118.181566\" y=\"139.908553\" style=\"fill: #3b528b; stroke: #3b528b\"/>\n    </g>\n    <g clip-path=\"url(#p7dabbdb571)\">\n     <use xlink:href=\"#C0_0_b7d03648cf\" x=\"283.561056\" y=\"188.126996\" style=\"fill: #21918c; stroke: #21918c\"/>\n    </g>\n    <g clip-path=\"url(#p7dabbdb571)\">\n     <use xlink:href=\"#C0_0_b7d03648cf\" x=\"87.675768\" y=\"115.296626\" style=\"fill: #472d7b; stroke: #472d7b\"/>\n    </g>\n    <g clip-path=\"url(#p7dabbdb571)\">\n     <use xlink:href=\"#C0_0_b7d03648cf\" x=\"206.38636\" y=\"159.633227\" style=\"fill: #21918c; stroke: #21918c\"/>\n    </g>\n    <g clip-path=\"url(#p7dabbdb571)\">\n     <use xlink:href=\"#C0_0_b7d03648cf\" x=\"272.318413\" y=\"184.683279\" style=\"fill: #21918c; stroke: #21918c\"/>\n    </g>\n    <g clip-path=\"url(#p7dabbdb571)\">\n     <use xlink:href=\"#C0_0_b7d03648cf\" x=\"236.097671\" y=\"168.605109\" style=\"fill: #21918c; stroke: #21918c\"/>\n    </g>\n    <g clip-path=\"url(#p7dabbdb571)\">\n     <use xlink:href=\"#C0_0_b7d03648cf\" x=\"262.834541\" y=\"181.918358\" style=\"fill: #21918c; stroke: #21918c\"/>\n    </g>\n    <g clip-path=\"url(#p7dabbdb571)\">\n     <use xlink:href=\"#C0_0_b7d03648cf\" x=\"265.09337\" y=\"189.065135\" style=\"fill: #21918c; stroke: #21918c\"/>\n    </g>\n    <g clip-path=\"url(#p7dabbdb571)\">\n     <use xlink:href=\"#C0_0_b7d03648cf\" x=\"138.955019\" y=\"135.239758\" style=\"fill: #28ae80; stroke: #28ae80\"/>\n    </g>\n    <g clip-path=\"url(#p7dabbdb571)\">\n     <use xlink:href=\"#C0_0_b7d03648cf\" x=\"86.947917\" y=\"143.820058\" style=\"fill: #3b528b; stroke: #3b528b\"/>\n    </g>\n    <g clip-path=\"url(#p7dabbdb571)\">\n     <use xlink:href=\"#C0_0_b7d03648cf\" x=\"190.301806\" y=\"149.098175\" style=\"fill: #28ae80; stroke: #28ae80\"/>\n    </g>\n    <g clip-path=\"url(#p7dabbdb571)\">\n     <use xlink:href=\"#C0_0_b7d03648cf\" x=\"111.746071\" y=\"119.423316\" style=\"fill: #3b528b; stroke: #3b528b\"/>\n    </g>\n    <g clip-path=\"url(#p7dabbdb571)\">\n     <use xlink:href=\"#C0_0_b7d03648cf\" x=\"114.319096\" y=\"126.491213\" style=\"fill: #2c728e; stroke: #2c728e\"/>\n    </g>\n    <g clip-path=\"url(#p7dabbdb571)\">\n     <use xlink:href=\"#C0_0_b7d03648cf\" x=\"170.526023\" y=\"148.719135\" style=\"fill: #28ae80; stroke: #28ae80\"/>\n    </g>\n    <g clip-path=\"url(#p7dabbdb571)\">\n     <use xlink:href=\"#C0_0_b7d03648cf\" x=\"279.039178\" y=\"183.523144\" style=\"fill: #21918c; stroke: #21918c\"/>\n    </g>\n    <g clip-path=\"url(#p7dabbdb571)\">\n     <use xlink:href=\"#C0_0_b7d03648cf\" x=\"143.849831\" y=\"176.367151\" style=\"fill: #21918c; stroke: #21918c\"/>\n    </g>\n    <g clip-path=\"url(#p7dabbdb571)\">\n     <use xlink:href=\"#C0_0_b7d03648cf\" x=\"220.197202\" y=\"173.987862\" style=\"fill: #2c728e; stroke: #2c728e\"/>\n    </g>\n    <g clip-path=\"url(#p7dabbdb571)\">\n     <use xlink:href=\"#C0_0_b7d03648cf\" x=\"335.811815\" y=\"168.116753\" style=\"fill: #21918c; stroke: #21918c\"/>\n    </g>\n    <g clip-path=\"url(#p7dabbdb571)\">\n     <use xlink:href=\"#C0_0_b7d03648cf\" x=\"128.593614\" y=\"182.100136\" style=\"fill: #472d7b; stroke: #472d7b\"/>\n    </g>\n    <g clip-path=\"url(#p7dabbdb571)\">\n     <use xlink:href=\"#C0_0_b7d03648cf\" x=\"233.3589\" y=\"83.966278\" style=\"fill: #fde725; stroke: #fde725\"/>\n    </g>\n    <g clip-path=\"url(#p7dabbdb571)\">\n     <use xlink:href=\"#C0_0_b7d03648cf\" x=\"239.637816\" y=\"139.630733\" style=\"fill: #fde725; stroke: #fde725\"/>\n    </g>\n    <g clip-path=\"url(#p7dabbdb571)\">\n     <use xlink:href=\"#C0_0_b7d03648cf\" x=\"178.653876\" y=\"122.800687\" style=\"fill: #28ae80; stroke: #28ae80\"/>\n    </g>\n    <g clip-path=\"url(#p7dabbdb571)\">\n     <use xlink:href=\"#C0_0_b7d03648cf\" x=\"285.246598\" y=\"156.79221\" style=\"fill: #21918c; stroke: #21918c\"/>\n    </g>\n    <g clip-path=\"url(#p7dabbdb571)\">\n     <use xlink:href=\"#C0_0_b7d03648cf\" x=\"147.431949\" y=\"162.03606\" style=\"fill: #addc30; stroke: #addc30\"/>\n    </g>\n    <g clip-path=\"url(#p7dabbdb571)\">\n     <use xlink:href=\"#C0_0_b7d03648cf\" x=\"237.245736\" y=\"170.79849\" style=\"fill: #21918c; stroke: #21918c\"/>\n    </g>\n    <g clip-path=\"url(#p7dabbdb571)\">\n     <use xlink:href=\"#C0_0_b7d03648cf\" x=\"102.557488\" y=\"126.461276\" style=\"fill: #3b528b; stroke: #3b528b\"/>\n    </g>\n    <g clip-path=\"url(#p7dabbdb571)\">\n     <use xlink:href=\"#C0_0_b7d03648cf\" x=\"153.686962\" y=\"144.349081\" style=\"fill: #28ae80; stroke: #28ae80\"/>\n    </g>\n    <g clip-path=\"url(#p7dabbdb571)\">\n     <use xlink:href=\"#C0_0_b7d03648cf\" x=\"200.151867\" y=\"127.313818\" style=\"fill: #addc30; stroke: #addc30\"/>\n    </g>\n    <g clip-path=\"url(#p7dabbdb571)\">\n     <use xlink:href=\"#C0_0_b7d03648cf\" x=\"211.364378\" y=\"169.502567\" style=\"fill: #21918c; stroke: #21918c\"/>\n    </g>\n    <g clip-path=\"url(#p7dabbdb571)\">\n     <use xlink:href=\"#C0_0_b7d03648cf\" x=\"198.165222\" y=\"141.408205\" style=\"fill: #fde725; stroke: #fde725\"/>\n    </g>\n    <g clip-path=\"url(#p7dabbdb571)\">\n     <use xlink:href=\"#C0_0_b7d03648cf\" x=\"263.210551\" y=\"192.951203\" style=\"fill: #440154; stroke: #440154\"/>\n    </g>\n    <g clip-path=\"url(#p7dabbdb571)\">\n     <use xlink:href=\"#C0_0_b7d03648cf\" x=\"155.306996\" y=\"169.861174\" style=\"fill: #5ec962; stroke: #5ec962\"/>\n    </g>\n    <g clip-path=\"url(#p7dabbdb571)\">\n     <use xlink:href=\"#C0_0_b7d03648cf\" x=\"191.354004\" y=\"113.366699\" style=\"fill: #440154; stroke: #440154\"/>\n    </g>\n    <g clip-path=\"url(#p7dabbdb571)\">\n     <use xlink:href=\"#C0_0_b7d03648cf\" x=\"273.822632\" y=\"162.063944\" style=\"fill: #21918c; stroke: #21918c\"/>\n    </g>\n    <g clip-path=\"url(#p7dabbdb571)\">\n     <use xlink:href=\"#C0_0_b7d03648cf\" x=\"137.755803\" y=\"148.527037\" style=\"fill: #3b528b; stroke: #3b528b\"/>\n    </g>\n    <g clip-path=\"url(#p7dabbdb571)\">\n     <use xlink:href=\"#C0_0_b7d03648cf\" x=\"129.016073\" y=\"136.824183\" style=\"fill: #addc30; stroke: #addc30\"/>\n    </g>\n    <g clip-path=\"url(#p7dabbdb571)\">\n     <use xlink:href=\"#C0_0_b7d03648cf\" x=\"218.728066\" y=\"168.013463\" style=\"fill: #21918c; stroke: #21918c\"/>\n    </g>\n    <g clip-path=\"url(#p7dabbdb571)\">\n     <use xlink:href=\"#C0_0_b7d03648cf\" x=\"227.013847\" y=\"109.453927\" style=\"fill: #440154; stroke: #440154\"/>\n    </g>\n    <g clip-path=\"url(#p7dabbdb571)\">\n     <use xlink:href=\"#C0_0_b7d03648cf\" x=\"294.305798\" y=\"138.839645\" style=\"fill: #440154; stroke: #440154\"/>\n    </g>\n    <g clip-path=\"url(#p7dabbdb571)\">\n     <use xlink:href=\"#C0_0_b7d03648cf\" x=\"262.742655\" y=\"96.349603\" style=\"fill: #440154; stroke: #440154\"/>\n    </g>\n    <g clip-path=\"url(#p7dabbdb571)\">\n     <use xlink:href=\"#C0_0_b7d03648cf\" x=\"209.518749\" y=\"17.083636\" style=\"fill: #440154; stroke: #440154\"/>\n    </g>\n    <g clip-path=\"url(#p7dabbdb571)\">\n     <use xlink:href=\"#C0_0_b7d03648cf\" x=\"191.87577\" y=\"196.243839\" style=\"fill: #5ec962; stroke: #5ec962\"/>\n    </g>\n    <g clip-path=\"url(#p7dabbdb571)\">\n     <use xlink:href=\"#C0_0_b7d03648cf\" x=\"240.926152\" y=\"136.184812\" style=\"fill: #21918c; stroke: #21918c\"/>\n    </g>\n    <g clip-path=\"url(#p7dabbdb571)\">\n     <use xlink:href=\"#C0_0_b7d03648cf\" x=\"112.877061\" y=\"139.073645\" style=\"fill: #3b528b; stroke: #3b528b\"/>\n    </g>\n    <g clip-path=\"url(#p7dabbdb571)\">\n     <use xlink:href=\"#C0_0_b7d03648cf\" x=\"154.899969\" y=\"155.82011\" style=\"fill: #28ae80; stroke: #28ae80\"/>\n    </g>\n    <g clip-path=\"url(#p7dabbdb571)\">\n     <use xlink:href=\"#C0_0_b7d03648cf\" x=\"172.208567\" y=\"185.164861\" style=\"fill: #5ec962; stroke: #5ec962\"/>\n    </g>\n    <g clip-path=\"url(#p7dabbdb571)\">\n     <use xlink:href=\"#C0_0_b7d03648cf\" x=\"106.071721\" y=\"157.419795\" style=\"fill: #3b528b; stroke: #3b528b\"/>\n    </g>\n    <g clip-path=\"url(#p7dabbdb571)\">\n     <use xlink:href=\"#C0_0_b7d03648cf\" x=\"215.012625\" y=\"128.306043\" style=\"fill: #fde725; stroke: #fde725\"/>\n    </g>\n    <g clip-path=\"url(#p7dabbdb571)\">\n     <use xlink:href=\"#C0_0_b7d03648cf\" x=\"132.646852\" y=\"167.520321\" style=\"fill: #5ec962; stroke: #5ec962\"/>\n    </g>\n    <g clip-path=\"url(#p7dabbdb571)\">\n     <use xlink:href=\"#C0_0_b7d03648cf\" x=\"209.58465\" y=\"84.021518\" style=\"fill: #440154; stroke: #440154\"/>\n    </g>\n    <g clip-path=\"url(#p7dabbdb571)\">\n     <use xlink:href=\"#C0_0_b7d03648cf\" x=\"126.725828\" y=\"160.718865\" style=\"fill: #2c728e; stroke: #2c728e\"/>\n    </g>\n    <g clip-path=\"url(#p7dabbdb571)\">\n     <use xlink:href=\"#C0_0_b7d03648cf\" x=\"102.939711\" y=\"188.217922\" style=\"fill: #472d7b; stroke: #472d7b\"/>\n    </g>\n    <g clip-path=\"url(#p7dabbdb571)\">\n     <use xlink:href=\"#C0_0_b7d03648cf\" x=\"98.898056\" y=\"154.696035\" style=\"fill: #3b528b; stroke: #3b528b\"/>\n    </g>\n    <g clip-path=\"url(#p7dabbdb571)\">\n     <use xlink:href=\"#C0_0_b7d03648cf\" x=\"260.171653\" y=\"138.198983\" style=\"fill: #21918c; stroke: #21918c\"/>\n    </g>\n    <g clip-path=\"url(#p7dabbdb571)\">\n     <use xlink:href=\"#C0_0_b7d03648cf\" x=\"192.03556\" y=\"107.860462\" style=\"fill: #fde725; stroke: #fde725\"/>\n    </g>\n    <g clip-path=\"url(#p7dabbdb571)\">\n     <use xlink:href=\"#C0_0_b7d03648cf\" x=\"257.995735\" y=\"119.516958\" style=\"fill: #440154; stroke: #440154\"/>\n    </g>\n    <g clip-path=\"url(#p7dabbdb571)\">\n     <use xlink:href=\"#C0_0_b7d03648cf\" x=\"185.51602\" y=\"131.835032\" style=\"fill: #28ae80; stroke: #28ae80\"/>\n    </g>\n    <g clip-path=\"url(#p7dabbdb571)\">\n     <use xlink:href=\"#C0_0_b7d03648cf\" x=\"237.31953\" y=\"147.648188\" style=\"fill: #fde725; stroke: #fde725\"/>\n    </g>\n    <g clip-path=\"url(#p7dabbdb571)\">\n     <use xlink:href=\"#C0_0_b7d03648cf\" x=\"141.620301\" y=\"144.996672\" style=\"fill: #28ae80; stroke: #28ae80\"/>\n    </g>\n    <g clip-path=\"url(#p7dabbdb571)\">\n     <use xlink:href=\"#C0_0_b7d03648cf\" x=\"274.595117\" y=\"127.065181\" style=\"fill: #21918c; stroke: #21918c\"/>\n    </g>\n    <g clip-path=\"url(#p7dabbdb571)\">\n     <use xlink:href=\"#C0_0_b7d03648cf\" x=\"279.038734\" y=\"135.183906\" style=\"fill: #440154; stroke: #440154\"/>\n    </g>\n    <g clip-path=\"url(#p7dabbdb571)\">\n     <use xlink:href=\"#C0_0_b7d03648cf\" x=\"256.652034\" y=\"135.05536\" style=\"fill: #440154; stroke: #440154\"/>\n    </g>\n    <g clip-path=\"url(#p7dabbdb571)\">\n     <use xlink:href=\"#C0_0_b7d03648cf\" x=\"266.569516\" y=\"133.813516\" style=\"fill: #440154; stroke: #440154\"/>\n    </g>\n    <g clip-path=\"url(#p7dabbdb571)\">\n     <use xlink:href=\"#C0_0_b7d03648cf\" x=\"148.697633\" y=\"139.275351\" style=\"fill: #28ae80; stroke: #28ae80\"/>\n    </g>\n    <g clip-path=\"url(#p7dabbdb571)\">\n     <use xlink:href=\"#C0_0_b7d03648cf\" x=\"250.387028\" y=\"154.095015\" style=\"fill: #21918c; stroke: #21918c\"/>\n    </g>\n    <g clip-path=\"url(#p7dabbdb571)\">\n     <use xlink:href=\"#C0_0_b7d03648cf\" x=\"219.499698\" y=\"171.655687\" style=\"fill: #21918c; stroke: #21918c\"/>\n    </g>\n    <g clip-path=\"url(#p7dabbdb571)\">\n     <use xlink:href=\"#C0_0_b7d03648cf\" x=\"212.86752\" y=\"123.998077\" style=\"fill: #440154; stroke: #440154\"/>\n    </g>\n    <g clip-path=\"url(#p7dabbdb571)\">\n     <use xlink:href=\"#C0_0_b7d03648cf\" x=\"205.526781\" y=\"120.022279\" style=\"fill: #fde725; stroke: #fde725\"/>\n    </g>\n    <g clip-path=\"url(#p7dabbdb571)\">\n     <use xlink:href=\"#C0_0_b7d03648cf\" x=\"111.628536\" y=\"173.344772\" style=\"fill: #472d7b; stroke: #472d7b\"/>\n    </g>\n    <g clip-path=\"url(#p7dabbdb571)\">\n     <use xlink:href=\"#C0_0_b7d03648cf\" x=\"256.933085\" y=\"122.333852\" style=\"fill: #440154; stroke: #440154\"/>\n    </g>\n    <g clip-path=\"url(#p7dabbdb571)\">\n     <use xlink:href=\"#C0_0_b7d03648cf\" x=\"216.196049\" y=\"105.565988\" style=\"fill: #440154; stroke: #440154\"/>\n    </g>\n    <g clip-path=\"url(#p7dabbdb571)\">\n     <use xlink:href=\"#C0_0_b7d03648cf\" x=\"250.543873\" y=\"167.994443\" style=\"fill: #21918c; stroke: #21918c\"/>\n    </g>\n    <g clip-path=\"url(#p7dabbdb571)\">\n     <use xlink:href=\"#C0_0_b7d03648cf\" x=\"220.998688\" y=\"71.999543\" style=\"fill: #440154; stroke: #440154\"/>\n    </g>\n    <g clip-path=\"url(#p7dabbdb571)\">\n     <use xlink:href=\"#C0_0_b7d03648cf\" x=\"243.108259\" y=\"147.211005\" style=\"fill: #21918c; stroke: #21918c\"/>\n    </g>\n    <g clip-path=\"url(#p7dabbdb571)\">\n     <use xlink:href=\"#C0_0_b7d03648cf\" x=\"116.148871\" y=\"173.718859\" style=\"fill: #3b528b; stroke: #3b528b\"/>\n    </g>\n    <g clip-path=\"url(#p7dabbdb571)\">\n     <use xlink:href=\"#C0_0_b7d03648cf\" x=\"251.256496\" y=\"172.229854\" style=\"fill: #21918c; stroke: #21918c\"/>\n    </g>\n    <g clip-path=\"url(#p7dabbdb571)\">\n     <use xlink:href=\"#C0_0_b7d03648cf\" x=\"211.117212\" y=\"83.10942\" style=\"fill: #440154; stroke: #440154\"/>\n    </g>\n    <g clip-path=\"url(#p7dabbdb571)\">\n     <use xlink:href=\"#C0_0_b7d03648cf\" x=\"152.300473\" y=\"166.069188\" style=\"fill: #2c728e; stroke: #2c728e\"/>\n    </g>\n    <g clip-path=\"url(#p7dabbdb571)\">\n     <use xlink:href=\"#C0_0_b7d03648cf\" x=\"176.050208\" y=\"120.810947\" style=\"fill: #28ae80; stroke: #28ae80\"/>\n    </g>\n    <g clip-path=\"url(#p7dabbdb571)\">\n     <use xlink:href=\"#C0_0_b7d03648cf\" x=\"144.679495\" y=\"181.378981\" style=\"fill: #472d7b; stroke: #472d7b\"/>\n    </g>\n    <g clip-path=\"url(#p7dabbdb571)\">\n     <use xlink:href=\"#C0_0_b7d03648cf\" x=\"230.572666\" y=\"161.68689\" style=\"fill: #28ae80; stroke: #28ae80\"/>\n    </g>\n    <g clip-path=\"url(#p7dabbdb571)\">\n     <use xlink:href=\"#C0_0_b7d03648cf\" x=\"236.037801\" y=\"134.078338\" style=\"fill: #28ae80; stroke: #28ae80\"/>\n    </g>\n    <g clip-path=\"url(#p7dabbdb571)\">\n     <use xlink:href=\"#C0_0_b7d03648cf\" x=\"207.192175\" y=\"140.253303\" style=\"fill: #28ae80; stroke: #28ae80\"/>\n    </g>\n    <g clip-path=\"url(#p7dabbdb571)\">\n     <use xlink:href=\"#C0_0_b7d03648cf\" x=\"187.772697\" y=\"143.794417\" style=\"fill: #28ae80; stroke: #28ae80\"/>\n    </g>\n    <g clip-path=\"url(#p7dabbdb571)\">\n     <use xlink:href=\"#C0_0_b7d03648cf\" x=\"76.101943\" y=\"136.784379\" style=\"fill: #3b528b; stroke: #3b528b\"/>\n    </g>\n    <g clip-path=\"url(#p7dabbdb571)\">\n     <use xlink:href=\"#C0_0_b7d03648cf\" x=\"125.649803\" y=\"132.034096\" style=\"fill: #3b528b; stroke: #3b528b\"/>\n    </g>\n    <g clip-path=\"url(#p7dabbdb571)\">\n     <use xlink:href=\"#C0_0_b7d03648cf\" x=\"80.052211\" y=\"144.543713\" style=\"fill: #3b528b; stroke: #3b528b\"/>\n    </g>\n    <g clip-path=\"url(#p7dabbdb571)\">\n     <use xlink:href=\"#C0_0_b7d03648cf\" x=\"132.188451\" y=\"132.782085\" style=\"fill: #3b528b; stroke: #3b528b\"/>\n    </g>\n    <g clip-path=\"url(#p7dabbdb571)\">\n     <use xlink:href=\"#C0_0_b7d03648cf\" x=\"263.083914\" y=\"117.027754\" style=\"fill: #440154; stroke: #440154\"/>\n    </g>\n    <g clip-path=\"url(#p7dabbdb571)\">\n     <use xlink:href=\"#C0_0_b7d03648cf\" x=\"327.869135\" y=\"143.028034\" style=\"fill: #440154; stroke: #440154\"/>\n    </g>\n    <g clip-path=\"url(#p7dabbdb571)\">\n     <use xlink:href=\"#C0_0_b7d03648cf\" x=\"255.7167\" y=\"166.037161\" style=\"fill: #fde725; stroke: #fde725\"/>\n    </g>\n    <g clip-path=\"url(#p7dabbdb571)\">\n     <use xlink:href=\"#C0_0_b7d03648cf\" x=\"231.381956\" y=\"147.997726\" style=\"fill: #28ae80; stroke: #28ae80\"/>\n    </g>\n    <g clip-path=\"url(#p7dabbdb571)\">\n     <use xlink:href=\"#C0_0_b7d03648cf\" x=\"214.832283\" y=\"112.805649\" style=\"fill: #28ae80; stroke: #28ae80\"/>\n    </g>\n    <g clip-path=\"url(#p7dabbdb571)\">\n     <use xlink:href=\"#C0_0_b7d03648cf\" x=\"224.017621\" y=\"145.640739\" style=\"fill: #28ae80; stroke: #28ae80\"/>\n    </g>\n    <g clip-path=\"url(#p7dabbdb571)\">\n     <use xlink:href=\"#C0_0_b7d03648cf\" x=\"218.143928\" y=\"161.844016\" style=\"fill: #28ae80; stroke: #28ae80\"/>\n    </g>\n    <g clip-path=\"url(#p7dabbdb571)\">\n     <use xlink:href=\"#C0_0_b7d03648cf\" x=\"275.632247\" y=\"154.577843\" style=\"fill: #21918c; stroke: #21918c\"/>\n    </g>\n    <g clip-path=\"url(#p7dabbdb571)\">\n     <use xlink:href=\"#C0_0_b7d03648cf\" x=\"144.923641\" y=\"201.128043\" style=\"fill: #472d7b; stroke: #472d7b\"/>\n    </g>\n    <g clip-path=\"url(#p7dabbdb571)\">\n     <use xlink:href=\"#C0_0_b7d03648cf\" x=\"119.638244\" y=\"165.469846\" style=\"fill: #3b528b; stroke: #3b528b\"/>\n    </g>\n    <g clip-path=\"url(#p7dabbdb571)\">\n     <use xlink:href=\"#C0_0_b7d03648cf\" x=\"156.534165\" y=\"154.201058\" style=\"fill: #28ae80; stroke: #28ae80\"/>\n    </g>\n    <g clip-path=\"url(#p7dabbdb571)\">\n     <use xlink:href=\"#C0_0_b7d03648cf\" x=\"175.23041\" y=\"150.283607\" style=\"fill: #28ae80; stroke: #28ae80\"/>\n    </g>\n    <g clip-path=\"url(#p7dabbdb571)\">\n     <use xlink:href=\"#C0_0_b7d03648cf\" x=\"212.231437\" y=\"169.64865\" style=\"fill: #fde725; stroke: #fde725\"/>\n    </g>\n    <g clip-path=\"url(#p7dabbdb571)\">\n     <use xlink:href=\"#C0_0_b7d03648cf\" x=\"308.220512\" y=\"161.717924\" style=\"fill: #21918c; stroke: #21918c\"/>\n    </g>\n    <g clip-path=\"url(#p7dabbdb571)\">\n     <use xlink:href=\"#C0_0_b7d03648cf\" x=\"247.261719\" y=\"89.146911\" style=\"fill: #440154; stroke: #440154\"/>\n    </g>\n    <g clip-path=\"url(#p7dabbdb571)\">\n     <use xlink:href=\"#C0_0_b7d03648cf\" x=\"144.878022\" y=\"209.06102\" style=\"fill: #2c728e; stroke: #2c728e\"/>\n    </g>\n    <g clip-path=\"url(#p7dabbdb571)\">\n     <use xlink:href=\"#C0_0_b7d03648cf\" x=\"238.506639\" y=\"128.25245\" style=\"fill: #21918c; stroke: #21918c\"/>\n    </g>\n    <g clip-path=\"url(#p7dabbdb571)\">\n     <use xlink:href=\"#C0_0_b7d03648cf\" x=\"261.911038\" y=\"148.762391\" style=\"fill: #440154; stroke: #440154\"/>\n    </g>\n    <g clip-path=\"url(#p7dabbdb571)\">\n     <use xlink:href=\"#C0_0_b7d03648cf\" x=\"115.625487\" y=\"179.622494\" style=\"fill: #472d7b; stroke: #472d7b\"/>\n    </g>\n    <g clip-path=\"url(#p7dabbdb571)\">\n     <use xlink:href=\"#C0_0_b7d03648cf\" x=\"148.433601\" y=\"148.502331\" style=\"fill: #3b528b; stroke: #3b528b\"/>\n    </g>\n    <g clip-path=\"url(#p7dabbdb571)\">\n     <use xlink:href=\"#C0_0_b7d03648cf\" x=\"147.616869\" y=\"122.939329\" style=\"fill: #28ae80; stroke: #28ae80\"/>\n    </g>\n    <g clip-path=\"url(#p7dabbdb571)\">\n     <use xlink:href=\"#C0_0_b7d03648cf\" x=\"236.161499\" y=\"203.241535\" style=\"fill: #5ec962; stroke: #5ec962\"/>\n    </g>\n    <g clip-path=\"url(#p7dabbdb571)\">\n     <use xlink:href=\"#C0_0_b7d03648cf\" x=\"156.918964\" y=\"151.560219\" style=\"fill: #2c728e; stroke: #2c728e\"/>\n    </g>\n    <g clip-path=\"url(#p7dabbdb571)\">\n     <use xlink:href=\"#C0_0_b7d03648cf\" x=\"150.036443\" y=\"138.887904\" style=\"fill: #2c728e; stroke: #2c728e\"/>\n    </g>\n    <g clip-path=\"url(#p7dabbdb571)\">\n     <use xlink:href=\"#C0_0_b7d03648cf\" x=\"131.560545\" y=\"141.615151\" style=\"fill: #2c728e; stroke: #2c728e\"/>\n    </g>\n    <g clip-path=\"url(#p7dabbdb571)\">\n     <use xlink:href=\"#C0_0_b7d03648cf\" x=\"178.175289\" y=\"101.036619\" style=\"fill: #2c728e; stroke: #2c728e\"/>\n    </g>\n    <g clip-path=\"url(#p7dabbdb571)\">\n     <use xlink:href=\"#C0_0_b7d03648cf\" x=\"270.332096\" y=\"176.352674\" style=\"fill: #21918c; stroke: #21918c\"/>\n    </g>\n    <g clip-path=\"url(#p7dabbdb571)\">\n     <use xlink:href=\"#C0_0_b7d03648cf\" x=\"243.304281\" y=\"155.638594\" style=\"fill: #28ae80; stroke: #28ae80\"/>\n    </g>\n    <g clip-path=\"url(#p7dabbdb571)\">\n     <use xlink:href=\"#C0_0_b7d03648cf\" x=\"254.324895\" y=\"121.43063\" style=\"fill: #440154; stroke: #440154\"/>\n    </g>\n    <g clip-path=\"url(#p7dabbdb571)\">\n     <use xlink:href=\"#C0_0_b7d03648cf\" x=\"295.527428\" y=\"191.861454\" style=\"fill: #5ec962; stroke: #5ec962\"/>\n    </g>\n    <g clip-path=\"url(#p7dabbdb571)\">\n     <use xlink:href=\"#C0_0_b7d03648cf\" x=\"282.003842\" y=\"172.85243\" style=\"fill: #21918c; stroke: #21918c\"/>\n    </g>\n    <g clip-path=\"url(#p7dabbdb571)\">\n     <use xlink:href=\"#C0_0_b7d03648cf\" x=\"252.751386\" y=\"97.795484\" style=\"fill: #440154; stroke: #440154\"/>\n    </g>\n    <g clip-path=\"url(#p7dabbdb571)\">\n     <use xlink:href=\"#C0_0_b7d03648cf\" x=\"174.451947\" y=\"157.260951\" style=\"fill: #28ae80; stroke: #28ae80\"/>\n    </g>\n    <g clip-path=\"url(#p7dabbdb571)\">\n     <use xlink:href=\"#C0_0_b7d03648cf\" x=\"158.898282\" y=\"136.952445\" style=\"fill: #28ae80; stroke: #28ae80\"/>\n    </g>\n    <g clip-path=\"url(#p7dabbdb571)\">\n     <use xlink:href=\"#C0_0_b7d03648cf\" x=\"226.568161\" y=\"183.665081\" style=\"fill: #21918c; stroke: #21918c\"/>\n    </g>\n    <g clip-path=\"url(#p7dabbdb571)\">\n     <use xlink:href=\"#C0_0_b7d03648cf\" x=\"189.584296\" y=\"176.312975\" style=\"fill: #5ec962; stroke: #5ec962\"/>\n    </g>\n    <g clip-path=\"url(#p7dabbdb571)\">\n     <use xlink:href=\"#C0_0_b7d03648cf\" x=\"168.510296\" y=\"196.38057\" style=\"fill: #2c728e; stroke: #2c728e\"/>\n    </g>\n    <g clip-path=\"url(#p7dabbdb571)\">\n     <use xlink:href=\"#C0_0_b7d03648cf\" x=\"201.14565\" y=\"148.56071\" style=\"fill: #fde725; stroke: #fde725\"/>\n    </g>\n    <g clip-path=\"url(#p7dabbdb571)\">\n     <use xlink:href=\"#C0_0_b7d03648cf\" x=\"319.311473\" y=\"158.301686\" style=\"fill: #21918c; stroke: #21918c\"/>\n    </g>\n    <g clip-path=\"url(#p7dabbdb571)\">\n     <use xlink:href=\"#C0_0_b7d03648cf\" x=\"261.081805\" y=\"159.448699\" style=\"fill: #21918c; stroke: #21918c\"/>\n    </g>\n    <g clip-path=\"url(#p7dabbdb571)\">\n     <use xlink:href=\"#C0_0_b7d03648cf\" x=\"284.463472\" y=\"145.890066\" style=\"fill: #440154; stroke: #440154\"/>\n    </g>\n    <g clip-path=\"url(#p7dabbdb571)\">\n     <use xlink:href=\"#C0_0_b7d03648cf\" x=\"263.070759\" y=\"188.870897\" style=\"fill: #21918c; stroke: #21918c\"/>\n    </g>\n    <g clip-path=\"url(#p7dabbdb571)\">\n     <use xlink:href=\"#C0_0_b7d03648cf\" x=\"143.486442\" y=\"130.43504\" style=\"fill: #2c728e; stroke: #2c728e\"/>\n    </g>\n    <g clip-path=\"url(#p7dabbdb571)\">\n     <use xlink:href=\"#C0_0_b7d03648cf\" x=\"85.079063\" y=\"120.236828\" style=\"fill: #3b528b; stroke: #3b528b\"/>\n    </g>\n    <g clip-path=\"url(#p7dabbdb571)\">\n     <use xlink:href=\"#C0_0_b7d03648cf\" x=\"141.889864\" y=\"158.344816\" style=\"fill: #28ae80; stroke: #28ae80\"/>\n    </g>\n    <g clip-path=\"url(#p7dabbdb571)\">\n     <use xlink:href=\"#C0_0_b7d03648cf\" x=\"107.145819\" y=\"123.40103\" style=\"fill: #3b528b; stroke: #3b528b\"/>\n    </g>\n    <g clip-path=\"url(#p7dabbdb571)\">\n     <use xlink:href=\"#C0_0_b7d03648cf\" x=\"201.870481\" y=\"74.001759\" style=\"fill: #440154; stroke: #440154\"/>\n    </g>\n    <g clip-path=\"url(#p7dabbdb571)\">\n     <use xlink:href=\"#C0_0_b7d03648cf\" x=\"116.447845\" y=\"174.938338\" style=\"fill: #3b528b; stroke: #3b528b\"/>\n    </g>\n    <g clip-path=\"url(#p7dabbdb571)\">\n     <use xlink:href=\"#C0_0_b7d03648cf\" x=\"113.628156\" y=\"126.366595\" style=\"fill: #3b528b; stroke: #3b528b\"/>\n    </g>\n    <g clip-path=\"url(#p7dabbdb571)\">\n     <use xlink:href=\"#C0_0_b7d03648cf\" x=\"286.651741\" y=\"174.763453\" style=\"fill: #21918c; stroke: #21918c\"/>\n    </g>\n    <g clip-path=\"url(#p7dabbdb571)\">\n     <use xlink:href=\"#C0_0_b7d03648cf\" x=\"175.504311\" y=\"131.32159\" style=\"fill: #28ae80; stroke: #28ae80\"/>\n    </g>\n    <g clip-path=\"url(#p7dabbdb571)\">\n     <use xlink:href=\"#C0_0_b7d03648cf\" x=\"170.472716\" y=\"150.417657\" style=\"fill: #28ae80; stroke: #28ae80\"/>\n    </g>\n    <g clip-path=\"url(#p7dabbdb571)\">\n     <use xlink:href=\"#C0_0_b7d03648cf\" x=\"122.824282\" y=\"136.239505\" style=\"fill: #472d7b; stroke: #472d7b\"/>\n    </g>\n    <g clip-path=\"url(#p7dabbdb571)\">\n     <use xlink:href=\"#C0_0_b7d03648cf\" x=\"286.356281\" y=\"123.916013\" style=\"fill: #440154; stroke: #440154\"/>\n    </g>\n    <g clip-path=\"url(#p7dabbdb571)\">\n     <use xlink:href=\"#C0_0_b7d03648cf\" x=\"290.925821\" y=\"133.343414\" style=\"fill: #440154; stroke: #440154\"/>\n    </g>\n    <g clip-path=\"url(#p7dabbdb571)\">\n     <use xlink:href=\"#C0_0_b7d03648cf\" x=\"165.793927\" y=\"191.559169\" style=\"fill: #472d7b; stroke: #472d7b\"/>\n    </g>\n    <g clip-path=\"url(#p7dabbdb571)\">\n     <use xlink:href=\"#C0_0_b7d03648cf\" x=\"232.4674\" y=\"80.034734\" style=\"fill: #440154; stroke: #440154\"/>\n    </g>\n    <g clip-path=\"url(#p7dabbdb571)\">\n     <use xlink:href=\"#C0_0_b7d03648cf\" x=\"241.148757\" y=\"72.166845\" style=\"fill: #440154; stroke: #440154\"/>\n    </g>\n    <g clip-path=\"url(#p7dabbdb571)\">\n     <use xlink:href=\"#C0_0_b7d03648cf\" x=\"155.350073\" y=\"129.112827\" style=\"fill: #28ae80; stroke: #28ae80\"/>\n    </g>\n    <g clip-path=\"url(#p7dabbdb571)\">\n     <use xlink:href=\"#C0_0_b7d03648cf\" x=\"162.944166\" y=\"167.522979\" style=\"fill: #28ae80; stroke: #28ae80\"/>\n    </g>\n    <g clip-path=\"url(#p7dabbdb571)\">\n     <use xlink:href=\"#C0_0_b7d03648cf\" x=\"202.307164\" y=\"191.444361\" style=\"fill: #472d7b; stroke: #472d7b\"/>\n    </g>\n    <g clip-path=\"url(#p7dabbdb571)\">\n     <use xlink:href=\"#C0_0_b7d03648cf\" x=\"267.173436\" y=\"126.421149\" style=\"fill: #440154; stroke: #440154\"/>\n    </g>\n    <g clip-path=\"url(#p7dabbdb571)\">\n     <use xlink:href=\"#C0_0_b7d03648cf\" x=\"89.584505\" y=\"100.719294\" style=\"fill: #3b528b; stroke: #3b528b\"/>\n    </g>\n    <g clip-path=\"url(#p7dabbdb571)\">\n     <use xlink:href=\"#C0_0_b7d03648cf\" x=\"228.444498\" y=\"155.601452\" style=\"fill: #440154; stroke: #440154\"/>\n    </g>\n    <g clip-path=\"url(#p7dabbdb571)\">\n     <use xlink:href=\"#C0_0_b7d03648cf\" x=\"121.243176\" y=\"177.21882\" style=\"fill: #472d7b; stroke: #472d7b\"/>\n    </g>\n    <g clip-path=\"url(#p7dabbdb571)\">\n     <use xlink:href=\"#C0_0_b7d03648cf\" x=\"227.117535\" y=\"103.031332\" style=\"fill: #440154; stroke: #440154\"/>\n    </g>\n    <g clip-path=\"url(#p7dabbdb571)\">\n     <use xlink:href=\"#C0_0_b7d03648cf\" x=\"250.527305\" y=\"104.822835\" style=\"fill: #440154; stroke: #440154\"/>\n    </g>\n    <g clip-path=\"url(#p7dabbdb571)\">\n     <use xlink:href=\"#C0_0_b7d03648cf\" x=\"116.142122\" y=\"191.654094\" style=\"fill: #3b528b; stroke: #3b528b\"/>\n    </g>\n    <g clip-path=\"url(#p7dabbdb571)\">\n     <use xlink:href=\"#C0_0_b7d03648cf\" x=\"368.564631\" y=\"147.371635\" style=\"fill: #21918c; stroke: #21918c\"/>\n    </g>\n    <g clip-path=\"url(#p7dabbdb571)\">\n     <use xlink:href=\"#C0_0_b7d03648cf\" x=\"353.628874\" y=\"173.968922\" style=\"fill: #21918c; stroke: #21918c\"/>\n    </g>\n    <g clip-path=\"url(#p7dabbdb571)\">\n     <use xlink:href=\"#C0_0_b7d03648cf\" x=\"83.510268\" y=\"116.277716\" style=\"fill: #28ae80; stroke: #28ae80\"/>\n    </g>\n    <g clip-path=\"url(#p7dabbdb571)\">\n     <use xlink:href=\"#C0_0_b7d03648cf\" x=\"85.376451\" y=\"120.471318\" style=\"fill: #3b528b; stroke: #3b528b\"/>\n    </g>\n    <g clip-path=\"url(#p7dabbdb571)\">\n     <use xlink:href=\"#C0_0_b7d03648cf\" x=\"207.735689\" y=\"75.240972\" style=\"fill: #440154; stroke: #440154\"/>\n    </g>\n    <g clip-path=\"url(#p7dabbdb571)\">\n     <use xlink:href=\"#C0_0_b7d03648cf\" x=\"183.081758\" y=\"206.798374\" style=\"fill: #5ec962; stroke: #5ec962\"/>\n    </g>\n    <g clip-path=\"url(#p7dabbdb571)\">\n     <use xlink:href=\"#C0_0_b7d03648cf\" x=\"244.843666\" y=\"101.889444\" style=\"fill: #440154; stroke: #440154\"/>\n    </g>\n    <g clip-path=\"url(#p7dabbdb571)\">\n     <use xlink:href=\"#C0_0_b7d03648cf\" x=\"222.02753\" y=\"172.81756\" style=\"fill: #21918c; stroke: #21918c\"/>\n    </g>\n    <g clip-path=\"url(#p7dabbdb571)\">\n     <use xlink:href=\"#C0_0_b7d03648cf\" x=\"181.978032\" y=\"141.586995\" style=\"fill: #28ae80; stroke: #28ae80\"/>\n    </g>\n    <g clip-path=\"url(#p7dabbdb571)\">\n     <use xlink:href=\"#C0_0_b7d03648cf\" x=\"95.746145\" y=\"128.508156\" style=\"fill: #3b528b; stroke: #3b528b\"/>\n    </g>\n    <g clip-path=\"url(#p7dabbdb571)\">\n     <use xlink:href=\"#C0_0_b7d03648cf\" x=\"144.328225\" y=\"147.88053\" style=\"fill: #28ae80; stroke: #28ae80\"/>\n    </g>\n    <g clip-path=\"url(#p7dabbdb571)\">\n     <use xlink:href=\"#C0_0_b7d03648cf\" x=\"269.12936\" y=\"155.674946\" style=\"fill: #21918c; stroke: #21918c\"/>\n    </g>\n    <g clip-path=\"url(#p7dabbdb571)\">\n     <use xlink:href=\"#C0_0_b7d03648cf\" x=\"115.918511\" y=\"152.390553\" style=\"fill: #3b528b; stroke: #3b528b\"/>\n    </g>\n    <g clip-path=\"url(#p7dabbdb571)\">\n     <use xlink:href=\"#C0_0_b7d03648cf\" x=\"265.220464\" y=\"181.757505\" style=\"fill: #21918c; stroke: #21918c\"/>\n    </g>\n    <g clip-path=\"url(#p7dabbdb571)\">\n     <use xlink:href=\"#C0_0_b7d03648cf\" x=\"94.058444\" y=\"157.457911\" style=\"fill: #3b528b; stroke: #3b528b\"/>\n    </g>\n    <g clip-path=\"url(#p7dabbdb571)\">\n     <use xlink:href=\"#C0_0_b7d03648cf\" x=\"136.152805\" y=\"178.439273\" style=\"fill: #472d7b; stroke: #472d7b\"/>\n    </g>\n    <g clip-path=\"url(#p7dabbdb571)\">\n     <use xlink:href=\"#C0_0_b7d03648cf\" x=\"211.802206\" y=\"103.119542\" style=\"fill: #440154; stroke: #440154\"/>\n    </g>\n    <g clip-path=\"url(#p7dabbdb571)\">\n     <use xlink:href=\"#C0_0_b7d03648cf\" x=\"272.921584\" y=\"163.731855\" style=\"fill: #21918c; stroke: #21918c\"/>\n    </g>\n    <g clip-path=\"url(#p7dabbdb571)\">\n     <use xlink:href=\"#C0_0_b7d03648cf\" x=\"244.278593\" y=\"78.863148\" style=\"fill: #440154; stroke: #440154\"/>\n    </g>\n    <g clip-path=\"url(#p7dabbdb571)\">\n     <use xlink:href=\"#C0_0_b7d03648cf\" x=\"265.769702\" y=\"151.81949\" style=\"fill: #440154; stroke: #440154\"/>\n    </g>\n    <g clip-path=\"url(#p7dabbdb571)\">\n     <use xlink:href=\"#C0_0_b7d03648cf\" x=\"141.708063\" y=\"130.265643\" style=\"fill: #28ae80; stroke: #28ae80\"/>\n    </g>\n    <g clip-path=\"url(#p7dabbdb571)\">\n     <use xlink:href=\"#C0_0_b7d03648cf\" x=\"78.096367\" y=\"143.032262\" style=\"fill: #3b528b; stroke: #3b528b\"/>\n    </g>\n    <g clip-path=\"url(#p7dabbdb571)\">\n     <use xlink:href=\"#C0_0_b7d03648cf\" x=\"252.723978\" y=\"107.985253\" style=\"fill: #440154; stroke: #440154\"/>\n    </g>\n    <g clip-path=\"url(#p7dabbdb571)\">\n     <use xlink:href=\"#C0_0_b7d03648cf\" x=\"242.245446\" y=\"104.026563\" style=\"fill: #440154; stroke: #440154\"/>\n    </g>\n    <g clip-path=\"url(#p7dabbdb571)\">\n     <use xlink:href=\"#C0_0_b7d03648cf\" x=\"153.305075\" y=\"156.189474\" style=\"fill: #28ae80; stroke: #28ae80\"/>\n    </g>\n    <g clip-path=\"url(#p7dabbdb571)\">\n     <use xlink:href=\"#C0_0_b7d03648cf\" x=\"256.982549\" y=\"175.871782\" style=\"fill: #21918c; stroke: #21918c\"/>\n    </g>\n    <g clip-path=\"url(#p7dabbdb571)\">\n     <use xlink:href=\"#C0_0_b7d03648cf\" x=\"131.010964\" y=\"97.097979\" style=\"fill: #440154; stroke: #440154\"/>\n    </g>\n    <g clip-path=\"url(#p7dabbdb571)\">\n     <use xlink:href=\"#C0_0_b7d03648cf\" x=\"156.962429\" y=\"131.413885\" style=\"fill: #2c728e; stroke: #2c728e\"/>\n    </g>\n    <g clip-path=\"url(#p7dabbdb571)\">\n     <use xlink:href=\"#C0_0_b7d03648cf\" x=\"123.623766\" y=\"163.376556\" style=\"fill: #3b528b; stroke: #3b528b\"/>\n    </g>\n    <g clip-path=\"url(#p7dabbdb571)\">\n     <use xlink:href=\"#C0_0_b7d03648cf\" x=\"147.762344\" y=\"178.121515\" style=\"fill: #472d7b; stroke: #472d7b\"/>\n    </g>\n    <g clip-path=\"url(#p7dabbdb571)\">\n     <use xlink:href=\"#C0_0_b7d03648cf\" x=\"189.931718\" y=\"175.964735\" style=\"fill: #472d7b; stroke: #472d7b\"/>\n    </g>\n    <g clip-path=\"url(#p7dabbdb571)\">\n     <use xlink:href=\"#C0_0_b7d03648cf\" x=\"87.162426\" y=\"146.438234\" style=\"fill: #3b528b; stroke: #3b528b\"/>\n    </g>\n    <g clip-path=\"url(#p7dabbdb571)\">\n     <use xlink:href=\"#C0_0_b7d03648cf\" x=\"152.174253\" y=\"184.733072\" style=\"fill: #3b528b; stroke: #3b528b\"/>\n    </g>\n    <g clip-path=\"url(#p7dabbdb571)\">\n     <use xlink:href=\"#C0_0_b7d03648cf\" x=\"120.007314\" y=\"144.156348\" style=\"fill: #440154; stroke: #440154\"/>\n    </g>\n    <g clip-path=\"url(#p7dabbdb571)\">\n     <use xlink:href=\"#C0_0_b7d03648cf\" x=\"261.619086\" y=\"122.372217\" style=\"fill: #440154; stroke: #440154\"/>\n    </g>\n    <g clip-path=\"url(#p7dabbdb571)\">\n     <use xlink:href=\"#C0_0_b7d03648cf\" x=\"87.831863\" y=\"149.840345\" style=\"fill: #3b528b; stroke: #3b528b\"/>\n    </g>\n    <g clip-path=\"url(#p7dabbdb571)\">\n     <use xlink:href=\"#C0_0_b7d03648cf\" x=\"159.980034\" y=\"181.967962\" style=\"fill: #472d7b; stroke: #472d7b\"/>\n    </g>\n    <g clip-path=\"url(#p7dabbdb571)\">\n     <use xlink:href=\"#C0_0_b7d03648cf\" x=\"136.016259\" y=\"132.396112\" style=\"fill: #addc30; stroke: #addc30\"/>\n    </g>\n    <g clip-path=\"url(#p7dabbdb571)\">\n     <use xlink:href=\"#C0_0_b7d03648cf\" x=\"104.998445\" y=\"144.827323\" style=\"fill: #472d7b; stroke: #472d7b\"/>\n    </g>\n    <g clip-path=\"url(#p7dabbdb571)\">\n     <use xlink:href=\"#C0_0_b7d03648cf\" x=\"109.521713\" y=\"129.218562\" style=\"fill: #3b528b; stroke: #3b528b\"/>\n    </g>\n    <g clip-path=\"url(#p7dabbdb571)\">\n     <use xlink:href=\"#C0_0_b7d03648cf\" x=\"102.991012\" y=\"101.533048\" style=\"fill: #3b528b; stroke: #3b528b\"/>\n    </g>\n    <g clip-path=\"url(#p7dabbdb571)\">\n     <use xlink:href=\"#C0_0_b7d03648cf\" x=\"133.150106\" y=\"180.584177\" style=\"fill: #472d7b; stroke: #472d7b\"/>\n    </g>\n    <g clip-path=\"url(#p7dabbdb571)\">\n     <use xlink:href=\"#C0_0_b7d03648cf\" x=\"86.370909\" y=\"105.325231\" style=\"fill: #addc30; stroke: #addc30\"/>\n    </g>\n    <g clip-path=\"url(#p7dabbdb571)\">\n     <use xlink:href=\"#C0_0_b7d03648cf\" x=\"235.745709\" y=\"123.158187\" style=\"fill: #440154; stroke: #440154\"/>\n    </g>\n    <g clip-path=\"url(#p7dabbdb571)\">\n     <use xlink:href=\"#C0_0_b7d03648cf\" x=\"147.166819\" y=\"179.865567\" style=\"fill: #addc30; stroke: #addc30\"/>\n    </g>\n    <g clip-path=\"url(#p7dabbdb571)\">\n     <use xlink:href=\"#C0_0_b7d03648cf\" x=\"180.672674\" y=\"129.114312\" style=\"fill: #440154; stroke: #440154\"/>\n    </g>\n    <g clip-path=\"url(#p7dabbdb571)\">\n     <use xlink:href=\"#C0_0_b7d03648cf\" x=\"300.715881\" y=\"153.420259\" style=\"fill: #21918c; stroke: #21918c\"/>\n    </g>\n    <g clip-path=\"url(#p7dabbdb571)\">\n     <use xlink:href=\"#C0_0_b7d03648cf\" x=\"178.774422\" y=\"165.774228\" style=\"fill: #28ae80; stroke: #28ae80\"/>\n    </g>\n    <g clip-path=\"url(#p7dabbdb571)\">\n     <use xlink:href=\"#C0_0_b7d03648cf\" x=\"116.396345\" y=\"181.814119\" style=\"fill: #3b528b; stroke: #3b528b\"/>\n    </g>\n    <g clip-path=\"url(#p7dabbdb571)\">\n     <use xlink:href=\"#C0_0_b7d03648cf\" x=\"196.217105\" y=\"146.133164\" style=\"fill: #fde725; stroke: #fde725\"/>\n    </g>\n    <g clip-path=\"url(#p7dabbdb571)\">\n     <use xlink:href=\"#C0_0_b7d03648cf\" x=\"253.791014\" y=\"125.339048\" style=\"fill: #440154; stroke: #440154\"/>\n    </g>\n    <g clip-path=\"url(#p7dabbdb571)\">\n     <use xlink:href=\"#C0_0_b7d03648cf\" x=\"121.867276\" y=\"131.046804\" style=\"fill: #3b528b; stroke: #3b528b\"/>\n    </g>\n    <g clip-path=\"url(#p7dabbdb571)\">\n     <use xlink:href=\"#C0_0_b7d03648cf\" x=\"169.023457\" y=\"129.494329\" style=\"fill: #2c728e; stroke: #2c728e\"/>\n    </g>\n    <g clip-path=\"url(#p7dabbdb571)\">\n     <use xlink:href=\"#C0_0_b7d03648cf\" x=\"146.290579\" y=\"174.440375\" style=\"fill: #472d7b; stroke: #472d7b\"/>\n    </g>\n    <g clip-path=\"url(#p7dabbdb571)\">\n     <use xlink:href=\"#C0_0_b7d03648cf\" x=\"302.111895\" y=\"165.48954\" style=\"fill: #21918c; stroke: #21918c\"/>\n    </g>\n    <g clip-path=\"url(#p7dabbdb571)\">\n     <use xlink:href=\"#C0_0_b7d03648cf\" x=\"192.257717\" y=\"159.381704\" style=\"fill: #2c728e; stroke: #2c728e\"/>\n    </g>\n    <g clip-path=\"url(#p7dabbdb571)\">\n     <use xlink:href=\"#C0_0_b7d03648cf\" x=\"221.598885\" y=\"63.048105\" style=\"fill: #440154; stroke: #440154\"/>\n    </g>\n    <g clip-path=\"url(#p7dabbdb571)\">\n     <use xlink:href=\"#C0_0_b7d03648cf\" x=\"238.796264\" y=\"103.111794\" style=\"fill: #440154; stroke: #440154\"/>\n    </g>\n    <g clip-path=\"url(#p7dabbdb571)\">\n     <use xlink:href=\"#C0_0_b7d03648cf\" x=\"246.43017\" y=\"101.158053\" style=\"fill: #440154; stroke: #440154\"/>\n    </g>\n    <g clip-path=\"url(#p7dabbdb571)\">\n     <use xlink:href=\"#C0_0_b7d03648cf\" x=\"107.938225\" y=\"119.822095\" style=\"fill: #3b528b; stroke: #3b528b\"/>\n    </g>\n    <g clip-path=\"url(#p7dabbdb571)\">\n     <use xlink:href=\"#C0_0_b7d03648cf\" x=\"134.022938\" y=\"123.375766\" style=\"fill: #28ae80; stroke: #28ae80\"/>\n    </g>\n    <g clip-path=\"url(#p7dabbdb571)\">\n     <use xlink:href=\"#C0_0_b7d03648cf\" x=\"179.77473\" y=\"169.428941\" style=\"fill: #28ae80; stroke: #28ae80\"/>\n    </g>\n    <g clip-path=\"url(#p7dabbdb571)\">\n     <use xlink:href=\"#C0_0_b7d03648cf\" x=\"163.803445\" y=\"147.241336\" style=\"fill: #28ae80; stroke: #28ae80\"/>\n    </g>\n    <g clip-path=\"url(#p7dabbdb571)\">\n     <use xlink:href=\"#C0_0_b7d03648cf\" x=\"298.878575\" y=\"177.410997\" style=\"fill: #21918c; stroke: #21918c\"/>\n    </g>\n    <g clip-path=\"url(#p7dabbdb571)\">\n     <use xlink:href=\"#C0_0_b7d03648cf\" x=\"242.000659\" y=\"164.082892\" style=\"fill: #21918c; stroke: #21918c\"/>\n    </g>\n    <g clip-path=\"url(#p7dabbdb571)\">\n     <use xlink:href=\"#C0_0_b7d03648cf\" x=\"143.212179\" y=\"135.738551\" style=\"fill: #2c728e; stroke: #2c728e\"/>\n    </g>\n    <g clip-path=\"url(#p7dabbdb571)\">\n     <use xlink:href=\"#C0_0_b7d03648cf\" x=\"187.348669\" y=\"169.126714\" style=\"fill: #472d7b; stroke: #472d7b\"/>\n    </g>\n    <g clip-path=\"url(#p7dabbdb571)\">\n     <use xlink:href=\"#C0_0_b7d03648cf\" x=\"245.70183\" y=\"135.89198\" style=\"fill: #21918c; stroke: #21918c\"/>\n    </g>\n    <g clip-path=\"url(#p7dabbdb571)\">\n     <use xlink:href=\"#C0_0_b7d03648cf\" x=\"179.494437\" y=\"62.053196\" style=\"fill: #21918c; stroke: #21918c\"/>\n    </g>\n    <g clip-path=\"url(#p7dabbdb571)\">\n     <use xlink:href=\"#C0_0_b7d03648cf\" x=\"159.290325\" y=\"103.702061\" style=\"fill: #2c728e; stroke: #2c728e\"/>\n    </g>\n    <g clip-path=\"url(#p7dabbdb571)\">\n     <use xlink:href=\"#C0_0_b7d03648cf\" x=\"176.584633\" y=\"92.851839\" style=\"fill: #28ae80; stroke: #28ae80\"/>\n    </g>\n    <g clip-path=\"url(#p7dabbdb571)\">\n     <use xlink:href=\"#C0_0_b7d03648cf\" x=\"183.605066\" y=\"135.300157\" style=\"fill: #28ae80; stroke: #28ae80\"/>\n    </g>\n    <g clip-path=\"url(#p7dabbdb571)\">\n     <use xlink:href=\"#C0_0_b7d03648cf\" x=\"284.002368\" y=\"147.235614\" style=\"fill: #440154; stroke: #440154\"/>\n    </g>\n    <g clip-path=\"url(#p7dabbdb571)\">\n     <use xlink:href=\"#C0_0_b7d03648cf\" x=\"258.589011\" y=\"139.85403\" style=\"fill: #21918c; stroke: #21918c\"/>\n    </g>\n    <g clip-path=\"url(#p7dabbdb571)\">\n     <use xlink:href=\"#C0_0_b7d03648cf\" x=\"181.657456\" y=\"158.549207\" style=\"fill: #28ae80; stroke: #28ae80\"/>\n    </g>\n    <g clip-path=\"url(#p7dabbdb571)\">\n     <use xlink:href=\"#C0_0_b7d03648cf\" x=\"138.365866\" y=\"170.340947\" style=\"fill: #2c728e; stroke: #2c728e\"/>\n    </g>\n    <g clip-path=\"url(#p7dabbdb571)\">\n     <use xlink:href=\"#C0_0_b7d03648cf\" x=\"122.771634\" y=\"146.066375\" style=\"fill: #addc30; stroke: #addc30\"/>\n    </g>\n    <g clip-path=\"url(#p7dabbdb571)\">\n     <use xlink:href=\"#C0_0_b7d03648cf\" x=\"109.523813\" y=\"116.301088\" style=\"fill: #addc30; stroke: #addc30\"/>\n    </g>\n    <g clip-path=\"url(#p7dabbdb571)\">\n     <use xlink:href=\"#C0_0_b7d03648cf\" x=\"286.65105\" y=\"156.521112\" style=\"fill: #21918c; stroke: #21918c\"/>\n    </g>\n    <g clip-path=\"url(#p7dabbdb571)\">\n     <use xlink:href=\"#C0_0_b7d03648cf\" x=\"103.75369\" y=\"151.005419\" style=\"fill: #3b528b; stroke: #3b528b\"/>\n    </g>\n    <g clip-path=\"url(#p7dabbdb571)\">\n     <use xlink:href=\"#C0_0_b7d03648cf\" x=\"150.619782\" y=\"172.757005\" style=\"fill: #2c728e; stroke: #2c728e\"/>\n    </g>\n    <g clip-path=\"url(#p7dabbdb571)\">\n     <use xlink:href=\"#C0_0_b7d03648cf\" x=\"133.698441\" y=\"179.003103\" style=\"fill: #3b528b; stroke: #3b528b\"/>\n    </g>\n    <g clip-path=\"url(#p7dabbdb571)\">\n     <use xlink:href=\"#C0_0_b7d03648cf\" x=\"94.092718\" y=\"104.401863\" style=\"fill: #3b528b; stroke: #3b528b\"/>\n    </g>\n    <g clip-path=\"url(#p7dabbdb571)\">\n     <use xlink:href=\"#C0_0_b7d03648cf\" x=\"296.910264\" y=\"153.462566\" style=\"fill: #21918c; stroke: #21918c\"/>\n    </g>\n    <g clip-path=\"url(#p7dabbdb571)\">\n     <use xlink:href=\"#C0_0_b7d03648cf\" x=\"113.837849\" y=\"157.68622\" style=\"fill: #3b528b; stroke: #3b528b\"/>\n    </g>\n    <g clip-path=\"url(#p7dabbdb571)\">\n     <use xlink:href=\"#C0_0_b7d03648cf\" x=\"289.158056\" y=\"162.607021\" style=\"fill: #21918c; stroke: #21918c\"/>\n    </g>\n    <g clip-path=\"url(#p7dabbdb571)\">\n     <use xlink:href=\"#C0_0_b7d03648cf\" x=\"133.045788\" y=\"122.435565\" style=\"fill: #2c728e; stroke: #2c728e\"/>\n    </g>\n    <g clip-path=\"url(#p7dabbdb571)\">\n     <use xlink:href=\"#C0_0_b7d03648cf\" x=\"138.170186\" y=\"142.26082\" style=\"fill: #addc30; stroke: #addc30\"/>\n    </g>\n    <g clip-path=\"url(#p7dabbdb571)\">\n     <use xlink:href=\"#C0_0_b7d03648cf\" x=\"229.284754\" y=\"122.23106\" style=\"fill: #440154; stroke: #440154\"/>\n    </g>\n    <g clip-path=\"url(#p7dabbdb571)\">\n     <use xlink:href=\"#C0_0_b7d03648cf\" x=\"177.156182\" y=\"142.114713\" style=\"fill: #2c728e; stroke: #2c728e\"/>\n    </g>\n    <g clip-path=\"url(#p7dabbdb571)\">\n     <use xlink:href=\"#C0_0_b7d03648cf\" x=\"252.563413\" y=\"112.815164\" style=\"fill: #440154; stroke: #440154\"/>\n    </g>\n    <g clip-path=\"url(#p7dabbdb571)\">\n     <use xlink:href=\"#C0_0_b7d03648cf\" x=\"125.830576\" y=\"177.52314\" style=\"fill: #472d7b; stroke: #472d7b\"/>\n    </g>\n    <g clip-path=\"url(#p7dabbdb571)\">\n     <use xlink:href=\"#C0_0_b7d03648cf\" x=\"148.063978\" y=\"140.149894\" style=\"fill: #2c728e; stroke: #2c728e\"/>\n    </g>\n    <g clip-path=\"url(#p7dabbdb571)\">\n     <use xlink:href=\"#C0_0_b7d03648cf\" x=\"250.746781\" y=\"137.542889\" style=\"fill: #440154; stroke: #440154\"/>\n    </g>\n    <g clip-path=\"url(#p7dabbdb571)\">\n     <use xlink:href=\"#C0_0_b7d03648cf\" x=\"136.208124\" y=\"158.745449\" style=\"fill: #2c728e; stroke: #2c728e\"/>\n    </g>\n    <g clip-path=\"url(#p7dabbdb571)\">\n     <use xlink:href=\"#C0_0_b7d03648cf\" x=\"156.747246\" y=\"184.300978\" style=\"fill: #472d7b; stroke: #472d7b\"/>\n    </g>\n    <g clip-path=\"url(#p7dabbdb571)\">\n     <use xlink:href=\"#C0_0_b7d03648cf\" x=\"235.252806\" y=\"124.746225\" style=\"fill: #440154; stroke: #440154\"/>\n    </g>\n    <g clip-path=\"url(#p7dabbdb571)\">\n     <use xlink:href=\"#C0_0_b7d03648cf\" x=\"355.59042\" y=\"191.583124\" style=\"fill: #21918c; stroke: #21918c\"/>\n    </g>\n    <g clip-path=\"url(#p7dabbdb571)\">\n     <use xlink:href=\"#C0_0_b7d03648cf\" x=\"129.439636\" y=\"202.767667\" style=\"fill: #472d7b; stroke: #472d7b\"/>\n    </g>\n    <g clip-path=\"url(#p7dabbdb571)\">\n     <use xlink:href=\"#C0_0_b7d03648cf\" x=\"117.049731\" y=\"172.677616\" style=\"fill: #3b528b; stroke: #3b528b\"/>\n    </g>\n    <g clip-path=\"url(#p7dabbdb571)\">\n     <use xlink:href=\"#C0_0_b7d03648cf\" x=\"239.569962\" y=\"201.68855\" style=\"fill: #addc30; stroke: #addc30\"/>\n    </g>\n    <g clip-path=\"url(#p7dabbdb571)\">\n     <use xlink:href=\"#C0_0_b7d03648cf\" x=\"121.67136\" y=\"145.259686\" style=\"fill: #3b528b; stroke: #3b528b\"/>\n    </g>\n    <g clip-path=\"url(#p7dabbdb571)\">\n     <use xlink:href=\"#C0_0_b7d03648cf\" x=\"177.893016\" y=\"158.275865\" style=\"fill: #28ae80; stroke: #28ae80\"/>\n    </g>\n    <g clip-path=\"url(#p7dabbdb571)\">\n     <use xlink:href=\"#C0_0_b7d03648cf\" x=\"179.553621\" y=\"146.652094\" style=\"fill: #28ae80; stroke: #28ae80\"/>\n    </g>\n    <g clip-path=\"url(#p7dabbdb571)\">\n     <use xlink:href=\"#C0_0_b7d03648cf\" x=\"102.708287\" y=\"159.609226\" style=\"fill: #472d7b; stroke: #472d7b\"/>\n    </g>\n    <g clip-path=\"url(#p7dabbdb571)\">\n     <use xlink:href=\"#C0_0_b7d03648cf\" x=\"230.618316\" y=\"146.728342\" style=\"fill: #21918c; stroke: #21918c\"/>\n    </g>\n    <g clip-path=\"url(#p7dabbdb571)\">\n     <use xlink:href=\"#C0_0_b7d03648cf\" x=\"122.03701\" y=\"140.027123\" style=\"fill: #2c728e; stroke: #2c728e\"/>\n    </g>\n    <g clip-path=\"url(#p7dabbdb571)\">\n     <use xlink:href=\"#C0_0_b7d03648cf\" x=\"228.201709\" y=\"108.093611\" style=\"fill: #440154; stroke: #440154\"/>\n    </g>\n    <g clip-path=\"url(#p7dabbdb571)\">\n     <use xlink:href=\"#C0_0_b7d03648cf\" x=\"225.558606\" y=\"128.662697\" style=\"fill: #440154; stroke: #440154\"/>\n    </g>\n    <g clip-path=\"url(#p7dabbdb571)\">\n     <use xlink:href=\"#C0_0_b7d03648cf\" x=\"245.35479\" y=\"138.264451\" style=\"fill: #21918c; stroke: #21918c\"/>\n    </g>\n    <g clip-path=\"url(#p7dabbdb571)\">\n     <use xlink:href=\"#C0_0_b7d03648cf\" x=\"236.730964\" y=\"147.81156\" style=\"fill: #21918c; stroke: #21918c\"/>\n    </g>\n    <g clip-path=\"url(#p7dabbdb571)\">\n     <use xlink:href=\"#C0_0_b7d03648cf\" x=\"133.171296\" y=\"113.887809\" style=\"fill: #3b528b; stroke: #3b528b\"/>\n    </g>\n    <g clip-path=\"url(#p7dabbdb571)\">\n     <use xlink:href=\"#C0_0_b7d03648cf\" x=\"64.200994\" y=\"103.9983\" style=\"fill: #3b528b; stroke: #3b528b\"/>\n    </g>\n    <g clip-path=\"url(#p7dabbdb571)\">\n     <use xlink:href=\"#C0_0_b7d03648cf\" x=\"198.088513\" y=\"98.048322\" style=\"fill: #21918c; stroke: #21918c\"/>\n    </g>\n    <g clip-path=\"url(#p7dabbdb571)\">\n     <use xlink:href=\"#C0_0_b7d03648cf\" x=\"229.34456\" y=\"98.727663\" style=\"fill: #440154; stroke: #440154\"/>\n    </g>\n    <g clip-path=\"url(#p7dabbdb571)\">\n     <use xlink:href=\"#C0_0_b7d03648cf\" x=\"98.61553\" y=\"154.721096\" style=\"fill: #3b528b; stroke: #3b528b\"/>\n    </g>\n    <g clip-path=\"url(#p7dabbdb571)\">\n     <use xlink:href=\"#C0_0_b7d03648cf\" x=\"194.033088\" y=\"141.430505\" style=\"fill: #21918c; stroke: #21918c\"/>\n    </g>\n    <g clip-path=\"url(#p7dabbdb571)\">\n     <use xlink:href=\"#C0_0_b7d03648cf\" x=\"279.990195\" y=\"100.19218\" style=\"fill: #440154; stroke: #440154\"/>\n    </g>\n    <g clip-path=\"url(#p7dabbdb571)\">\n     <use xlink:href=\"#C0_0_b7d03648cf\" x=\"344.294992\" y=\"176.348581\" style=\"fill: #21918c; stroke: #21918c\"/>\n    </g>\n    <g clip-path=\"url(#p7dabbdb571)\">\n     <use xlink:href=\"#C0_0_b7d03648cf\" x=\"263.548391\" y=\"154.220973\" style=\"fill: #21918c; stroke: #21918c\"/>\n    </g>\n    <g clip-path=\"url(#p7dabbdb571)\">\n     <use xlink:href=\"#C0_0_b7d03648cf\" x=\"270.607562\" y=\"130.767241\" style=\"fill: #21918c; stroke: #21918c\"/>\n    </g>\n    <g clip-path=\"url(#p7dabbdb571)\">\n     <use xlink:href=\"#C0_0_b7d03648cf\" x=\"246.329578\" y=\"111.988582\" style=\"fill: #440154; stroke: #440154\"/>\n    </g>\n    <g clip-path=\"url(#p7dabbdb571)\">\n     <use xlink:href=\"#C0_0_b7d03648cf\" x=\"122.43169\" y=\"187.717503\" style=\"fill: #472d7b; stroke: #472d7b\"/>\n    </g>\n    <g clip-path=\"url(#p7dabbdb571)\">\n     <use xlink:href=\"#C0_0_b7d03648cf\" x=\"255.912175\" y=\"165.590147\" style=\"fill: #21918c; stroke: #21918c\"/>\n    </g>\n    <g clip-path=\"url(#p7dabbdb571)\">\n     <use xlink:href=\"#C0_0_b7d03648cf\" x=\"90.921455\" y=\"161.979209\" style=\"fill: #3b528b; stroke: #3b528b\"/>\n    </g>\n    <g clip-path=\"url(#p7dabbdb571)\">\n     <use xlink:href=\"#C0_0_b7d03648cf\" x=\"210.12817\" y=\"122.995359\" style=\"fill: #440154; stroke: #440154\"/>\n    </g>\n    <g clip-path=\"url(#p7dabbdb571)\">\n     <use xlink:href=\"#C0_0_b7d03648cf\" x=\"153.796601\" y=\"180.616291\" style=\"fill: #addc30; stroke: #addc30\"/>\n    </g>\n    <g clip-path=\"url(#p7dabbdb571)\">\n     <use xlink:href=\"#C0_0_b7d03648cf\" x=\"211.598519\" y=\"149.748459\" style=\"fill: #28ae80; stroke: #28ae80\"/>\n    </g>\n    <g clip-path=\"url(#p7dabbdb571)\">\n     <use xlink:href=\"#C0_0_b7d03648cf\" x=\"305.209029\" y=\"142.340986\" style=\"fill: #21918c; stroke: #21918c\"/>\n    </g>\n    <g clip-path=\"url(#p7dabbdb571)\">\n     <use xlink:href=\"#C0_0_b7d03648cf\" x=\"184.172132\" y=\"176.371915\" style=\"fill: #28ae80; stroke: #28ae80\"/>\n    </g>\n    <g clip-path=\"url(#p7dabbdb571)\">\n     <use xlink:href=\"#C0_0_b7d03648cf\" x=\"242.684149\" y=\"78.790031\" style=\"fill: #440154; stroke: #440154\"/>\n    </g>\n    <g clip-path=\"url(#p7dabbdb571)\">\n     <use xlink:href=\"#C0_0_b7d03648cf\" x=\"225.887317\" y=\"57.278315\" style=\"fill: #440154; stroke: #440154\"/>\n    </g>\n    <g clip-path=\"url(#p7dabbdb571)\">\n     <use xlink:href=\"#C0_0_b7d03648cf\" x=\"155.107367\" y=\"163.792244\" style=\"fill: #21918c; stroke: #21918c\"/>\n    </g>\n    <g clip-path=\"url(#p7dabbdb571)\">\n     <use xlink:href=\"#C0_0_b7d03648cf\" x=\"112.053399\" y=\"150.245273\" style=\"fill: #3b528b; stroke: #3b528b\"/>\n    </g>\n    <g clip-path=\"url(#p7dabbdb571)\">\n     <use xlink:href=\"#C0_0_b7d03648cf\" x=\"286.534271\" y=\"141.611395\" style=\"fill: #440154; stroke: #440154\"/>\n    </g>\n    <g clip-path=\"url(#p7dabbdb571)\">\n     <use xlink:href=\"#C0_0_b7d03648cf\" x=\"267.177752\" y=\"128.918516\" style=\"fill: #440154; stroke: #440154\"/>\n    </g>\n    <g clip-path=\"url(#p7dabbdb571)\">\n     <use xlink:href=\"#C0_0_b7d03648cf\" x=\"138.842553\" y=\"122.431543\" style=\"fill: #2c728e; stroke: #2c728e\"/>\n    </g>\n    <g clip-path=\"url(#p7dabbdb571)\">\n     <use xlink:href=\"#C0_0_b7d03648cf\" x=\"294.164114\" y=\"165.784983\" style=\"fill: #21918c; stroke: #21918c\"/>\n    </g>\n    <g clip-path=\"url(#p7dabbdb571)\">\n     <use xlink:href=\"#C0_0_b7d03648cf\" x=\"109.499622\" y=\"164.925738\" style=\"fill: #472d7b; stroke: #472d7b\"/>\n    </g>\n    <g clip-path=\"url(#p7dabbdb571)\">\n     <use xlink:href=\"#C0_0_b7d03648cf\" x=\"145.015502\" y=\"162.943395\" style=\"fill: #2c728e; stroke: #2c728e\"/>\n    </g>\n    <g clip-path=\"url(#p7dabbdb571)\">\n     <use xlink:href=\"#C0_0_b7d03648cf\" x=\"106.672001\" y=\"158.030571\" style=\"fill: #3b528b; stroke: #3b528b\"/>\n    </g>\n    <g clip-path=\"url(#p7dabbdb571)\">\n     <use xlink:href=\"#C0_0_b7d03648cf\" x=\"133.061826\" y=\"111.357624\" style=\"fill: #28ae80; stroke: #28ae80\"/>\n    </g>\n    <g clip-path=\"url(#p7dabbdb571)\">\n     <use xlink:href=\"#C0_0_b7d03648cf\" x=\"126.25267\" y=\"133.114924\" style=\"fill: #2c728e; stroke: #2c728e\"/>\n    </g>\n    <g clip-path=\"url(#p7dabbdb571)\">\n     <use xlink:href=\"#C0_0_b7d03648cf\" x=\"89.391026\" y=\"148.514263\" style=\"fill: #472d7b; stroke: #472d7b\"/>\n    </g>\n    <g clip-path=\"url(#p7dabbdb571)\">\n     <use xlink:href=\"#C0_0_b7d03648cf\" x=\"136.013814\" y=\"163.665598\" style=\"fill: #472d7b; stroke: #472d7b\"/>\n    </g>\n    <g clip-path=\"url(#p7dabbdb571)\">\n     <use xlink:href=\"#C0_0_b7d03648cf\" x=\"155.527703\" y=\"137.060765\" style=\"fill: #2c728e; stroke: #2c728e\"/>\n    </g>\n    <g clip-path=\"url(#p7dabbdb571)\">\n     <use xlink:href=\"#C0_0_b7d03648cf\" x=\"91.802087\" y=\"106.203747\" style=\"fill: #3b528b; stroke: #3b528b\"/>\n    </g>\n    <g clip-path=\"url(#p7dabbdb571)\">\n     <use xlink:href=\"#C0_0_b7d03648cf\" x=\"179.838972\" y=\"154.701767\" style=\"fill: #2c728e; stroke: #2c728e\"/>\n    </g>\n    <g clip-path=\"url(#p7dabbdb571)\">\n     <use xlink:href=\"#C0_0_b7d03648cf\" x=\"177.835075\" y=\"159.808328\" style=\"fill: #2c728e; stroke: #2c728e\"/>\n    </g>\n    <g clip-path=\"url(#p7dabbdb571)\">\n     <use xlink:href=\"#C0_0_b7d03648cf\" x=\"175.337631\" y=\"136.488779\" style=\"fill: #28ae80; stroke: #28ae80\"/>\n    </g>\n    <g clip-path=\"url(#p7dabbdb571)\">\n     <use xlink:href=\"#C0_0_b7d03648cf\" x=\"100.652913\" y=\"174.851533\" style=\"fill: #28ae80; stroke: #28ae80\"/>\n    </g>\n    <g clip-path=\"url(#p7dabbdb571)\">\n     <use xlink:href=\"#C0_0_b7d03648cf\" x=\"189.308793\" y=\"143.551891\" style=\"fill: #28ae80; stroke: #28ae80\"/>\n    </g>\n    <g clip-path=\"url(#p7dabbdb571)\">\n     <use xlink:href=\"#C0_0_b7d03648cf\" x=\"213.300647\" y=\"157.606844\" style=\"fill: #28ae80; stroke: #28ae80\"/>\n    </g>\n    <g clip-path=\"url(#p7dabbdb571)\">\n     <use xlink:href=\"#C0_0_b7d03648cf\" x=\"208.343816\" y=\"153.506831\" style=\"fill: #28ae80; stroke: #28ae80\"/>\n    </g>\n    <g clip-path=\"url(#p7dabbdb571)\">\n     <use xlink:href=\"#C0_0_b7d03648cf\" x=\"210.523652\" y=\"175.57108\" style=\"fill: #28ae80; stroke: #28ae80\"/>\n    </g>\n    <g clip-path=\"url(#p7dabbdb571)\">\n     <use xlink:href=\"#C0_0_b7d03648cf\" x=\"198.314975\" y=\"148.67131\" style=\"fill: #28ae80; stroke: #28ae80\"/>\n    </g>\n    <g clip-path=\"url(#p7dabbdb571)\">\n     <use xlink:href=\"#C0_0_b7d03648cf\" x=\"105.532632\" y=\"141.235238\" style=\"fill: #3b528b; stroke: #3b528b\"/>\n    </g>\n    <g clip-path=\"url(#p7dabbdb571)\">\n     <use xlink:href=\"#C0_0_b7d03648cf\" x=\"106.998052\" y=\"171.336402\" style=\"fill: #3b528b; stroke: #3b528b\"/>\n    </g>\n    <g clip-path=\"url(#p7dabbdb571)\">\n     <use xlink:href=\"#C0_0_b7d03648cf\" x=\"296.363419\" y=\"173.467042\" style=\"fill: #21918c; stroke: #21918c\"/>\n    </g>\n    <g clip-path=\"url(#p7dabbdb571)\">\n     <use xlink:href=\"#C0_0_b7d03648cf\" x=\"223.860338\" y=\"163.936589\" style=\"fill: #21918c; stroke: #21918c\"/>\n    </g>\n    <g clip-path=\"url(#p7dabbdb571)\">\n     <use xlink:href=\"#C0_0_b7d03648cf\" x=\"210.047793\" y=\"112.682334\" style=\"fill: #440154; stroke: #440154\"/>\n    </g>\n    <g clip-path=\"url(#p7dabbdb571)\">\n     <use xlink:href=\"#C0_0_b7d03648cf\" x=\"214.962093\" y=\"114.124105\" style=\"fill: #440154; stroke: #440154\"/>\n    </g>\n    <g clip-path=\"url(#p7dabbdb571)\">\n     <use xlink:href=\"#C0_0_b7d03648cf\" x=\"231.228275\" y=\"126.559058\" style=\"fill: #440154; stroke: #440154\"/>\n    </g>\n    <g clip-path=\"url(#p7dabbdb571)\">\n     <use xlink:href=\"#C0_0_b7d03648cf\" x=\"136.297757\" y=\"150.496707\" style=\"fill: #2c728e; stroke: #2c728e\"/>\n    </g>\n    <g clip-path=\"url(#p7dabbdb571)\">\n     <use xlink:href=\"#C0_0_b7d03648cf\" x=\"294.311106\" y=\"187.78352\" style=\"fill: #fde725; stroke: #fde725\"/>\n    </g>\n    <g clip-path=\"url(#p7dabbdb571)\">\n     <use xlink:href=\"#C0_0_b7d03648cf\" x=\"137.189785\" y=\"116.584074\" style=\"fill: #28ae80; stroke: #28ae80\"/>\n    </g>\n    <g clip-path=\"url(#p7dabbdb571)\">\n     <use xlink:href=\"#C0_0_b7d03648cf\" x=\"298.709873\" y=\"148.71435\" style=\"fill: #21918c; stroke: #21918c\"/>\n    </g>\n    <g clip-path=\"url(#p7dabbdb571)\">\n     <use xlink:href=\"#C0_0_b7d03648cf\" x=\"132.706184\" y=\"74.322151\" style=\"fill: #addc30; stroke: #addc30\"/>\n    </g>\n    <g clip-path=\"url(#p7dabbdb571)\">\n     <use xlink:href=\"#C0_0_b7d03648cf\" x=\"169.327022\" y=\"136.711629\" style=\"fill: #addc30; stroke: #addc30\"/>\n    </g>\n    <g clip-path=\"url(#p7dabbdb571)\">\n     <use xlink:href=\"#C0_0_b7d03648cf\" x=\"196.879201\" y=\"154.953825\" style=\"fill: #28ae80; stroke: #28ae80\"/>\n    </g>\n    <g clip-path=\"url(#p7dabbdb571)\">\n     <use xlink:href=\"#C0_0_b7d03648cf\" x=\"184.192773\" y=\"187.724681\" style=\"fill: #21918c; stroke: #21918c\"/>\n    </g>\n    <g clip-path=\"url(#p7dabbdb571)\">\n     <use xlink:href=\"#C0_0_b7d03648cf\" x=\"302.772531\" y=\"166.843184\" style=\"fill: #21918c; stroke: #21918c\"/>\n    </g>\n    <g clip-path=\"url(#p7dabbdb571)\">\n     <use xlink:href=\"#C0_0_b7d03648cf\" x=\"178.797481\" y=\"147.359419\" style=\"fill: #28ae80; stroke: #28ae80\"/>\n    </g>\n    <g clip-path=\"url(#p7dabbdb571)\">\n     <use xlink:href=\"#C0_0_b7d03648cf\" x=\"254.79853\" y=\"146.486288\" style=\"fill: #440154; stroke: #440154\"/>\n    </g>\n    <g clip-path=\"url(#p7dabbdb571)\">\n     <use xlink:href=\"#C0_0_b7d03648cf\" x=\"209.042953\" y=\"143.783421\" style=\"fill: #21918c; stroke: #21918c\"/>\n    </g>\n    <g clip-path=\"url(#p7dabbdb571)\">\n     <use xlink:href=\"#C0_0_b7d03648cf\" x=\"270.076118\" y=\"159.148225\" style=\"fill: #21918c; stroke: #21918c\"/>\n    </g>\n   </g>\n   <g id=\"matplotlib.axis_1\">\n    <g id=\"xtick_1\">\n     <g id=\"line2d_1\">\n      <defs>\n       <path id=\"mfff6a4b6f1\" d=\"M 0 0 \nL 0 3.5 \n\" style=\"stroke: #000000; stroke-width: 0.8\"/>\n      </defs>\n      <g>\n       <use xlink:href=\"#mfff6a4b6f1\" x=\"85.623106\" y=\"224.64\" style=\"stroke: #000000; stroke-width: 0.8\"/>\n      </g>\n     </g>\n     <g id=\"text_1\">\n      <!-- −10 -->\n      <g transform=\"translate(75.070762 239.238437)scale(0.1 -0.1)\">\n       <defs>\n        <path id=\"DejaVuSans-2212\" d=\"M 678 2272 \nL 4684 2272 \nL 4684 1741 \nL 678 1741 \nL 678 2272 \nz\n\" transform=\"scale(0.015625)\"/>\n        <path id=\"DejaVuSans-31\" d=\"M 794 531 \nL 1825 531 \nL 1825 4091 \nL 703 3866 \nL 703 4441 \nL 1819 4666 \nL 2450 4666 \nL 2450 531 \nL 3481 531 \nL 3481 0 \nL 794 0 \nL 794 531 \nz\n\" transform=\"scale(0.015625)\"/>\n        <path id=\"DejaVuSans-30\" d=\"M 2034 4250 \nQ 1547 4250 1301 3770 \nQ 1056 3291 1056 2328 \nQ 1056 1369 1301 889 \nQ 1547 409 2034 409 \nQ 2525 409 2770 889 \nQ 3016 1369 3016 2328 \nQ 3016 3291 2770 3770 \nQ 2525 4250 2034 4250 \nz\nM 2034 4750 \nQ 2819 4750 3233 4129 \nQ 3647 3509 3647 2328 \nQ 3647 1150 3233 529 \nQ 2819 -91 2034 -91 \nQ 1250 -91 836 529 \nQ 422 1150 422 2328 \nQ 422 3509 836 4129 \nQ 1250 4750 2034 4750 \nz\n\" transform=\"scale(0.015625)\"/>\n       </defs>\n       <use xlink:href=\"#DejaVuSans-2212\"/>\n       <use xlink:href=\"#DejaVuSans-31\" x=\"83.789062\"/>\n       <use xlink:href=\"#DejaVuSans-30\" x=\"147.412109\"/>\n      </g>\n     </g>\n    </g>\n    <g id=\"xtick_2\">\n     <g id=\"line2d_2\">\n      <g>\n       <use xlink:href=\"#mfff6a4b6f1\" x=\"135.213213\" y=\"224.64\" style=\"stroke: #000000; stroke-width: 0.8\"/>\n      </g>\n     </g>\n     <g id=\"text_2\">\n      <!-- −5 -->\n      <g transform=\"translate(127.842119 239.238437)scale(0.1 -0.1)\">\n       <defs>\n        <path id=\"DejaVuSans-35\" d=\"M 691 4666 \nL 3169 4666 \nL 3169 4134 \nL 1269 4134 \nL 1269 2991 \nQ 1406 3038 1543 3061 \nQ 1681 3084 1819 3084 \nQ 2600 3084 3056 2656 \nQ 3513 2228 3513 1497 \nQ 3513 744 3044 326 \nQ 2575 -91 1722 -91 \nQ 1428 -91 1123 -41 \nQ 819 9 494 109 \nL 494 744 \nQ 775 591 1075 516 \nQ 1375 441 1709 441 \nQ 2250 441 2565 725 \nQ 2881 1009 2881 1497 \nQ 2881 1984 2565 2268 \nQ 2250 2553 1709 2553 \nQ 1456 2553 1204 2497 \nQ 953 2441 691 2322 \nL 691 4666 \nz\n\" transform=\"scale(0.015625)\"/>\n       </defs>\n       <use xlink:href=\"#DejaVuSans-2212\"/>\n       <use xlink:href=\"#DejaVuSans-35\" x=\"83.789062\"/>\n      </g>\n     </g>\n    </g>\n    <g id=\"xtick_3\">\n     <g id=\"line2d_3\">\n      <g>\n       <use xlink:href=\"#mfff6a4b6f1\" x=\"184.803319\" y=\"224.64\" style=\"stroke: #000000; stroke-width: 0.8\"/>\n      </g>\n     </g>\n     <g id=\"text_3\">\n      <!-- 0 -->\n      <g transform=\"translate(181.622069 239.238437)scale(0.1 -0.1)\">\n       <use xlink:href=\"#DejaVuSans-30\"/>\n      </g>\n     </g>\n    </g>\n    <g id=\"xtick_4\">\n     <g id=\"line2d_4\">\n      <g>\n       <use xlink:href=\"#mfff6a4b6f1\" x=\"234.393425\" y=\"224.64\" style=\"stroke: #000000; stroke-width: 0.8\"/>\n      </g>\n     </g>\n     <g id=\"text_4\">\n      <!-- 5 -->\n      <g transform=\"translate(231.212175 239.238437)scale(0.1 -0.1)\">\n       <use xlink:href=\"#DejaVuSans-35\"/>\n      </g>\n     </g>\n    </g>\n    <g id=\"xtick_5\">\n     <g id=\"line2d_5\">\n      <g>\n       <use xlink:href=\"#mfff6a4b6f1\" x=\"283.983532\" y=\"224.64\" style=\"stroke: #000000; stroke-width: 0.8\"/>\n      </g>\n     </g>\n     <g id=\"text_5\">\n      <!-- 10 -->\n      <g transform=\"translate(277.621032 239.238437)scale(0.1 -0.1)\">\n       <use xlink:href=\"#DejaVuSans-31\"/>\n       <use xlink:href=\"#DejaVuSans-30\" x=\"63.623047\"/>\n      </g>\n     </g>\n    </g>\n    <g id=\"xtick_6\">\n     <g id=\"line2d_6\">\n      <g>\n       <use xlink:href=\"#mfff6a4b6f1\" x=\"333.573638\" y=\"224.64\" style=\"stroke: #000000; stroke-width: 0.8\"/>\n      </g>\n     </g>\n     <g id=\"text_6\">\n      <!-- 15 -->\n      <g transform=\"translate(327.211138 239.238437)scale(0.1 -0.1)\">\n       <use xlink:href=\"#DejaVuSans-31\"/>\n       <use xlink:href=\"#DejaVuSans-35\" x=\"63.623047\"/>\n      </g>\n     </g>\n    </g>\n    <g id=\"xtick_7\">\n     <g id=\"line2d_7\">\n      <g>\n       <use xlink:href=\"#mfff6a4b6f1\" x=\"383.163745\" y=\"224.64\" style=\"stroke: #000000; stroke-width: 0.8\"/>\n      </g>\n     </g>\n     <g id=\"text_7\">\n      <!-- 20 -->\n      <g transform=\"translate(376.801245 239.238437)scale(0.1 -0.1)\">\n       <defs>\n        <path id=\"DejaVuSans-32\" d=\"M 1228 531 \nL 3431 531 \nL 3431 0 \nL 469 0 \nL 469 531 \nQ 828 903 1448 1529 \nQ 2069 2156 2228 2338 \nQ 2531 2678 2651 2914 \nQ 2772 3150 2772 3378 \nQ 2772 3750 2511 3984 \nQ 2250 4219 1831 4219 \nQ 1534 4219 1204 4116 \nQ 875 4013 500 3803 \nL 500 4441 \nQ 881 4594 1212 4672 \nQ 1544 4750 1819 4750 \nQ 2544 4750 2975 4387 \nQ 3406 4025 3406 3419 \nQ 3406 3131 3298 2873 \nQ 3191 2616 2906 2266 \nQ 2828 2175 2409 1742 \nQ 1991 1309 1228 531 \nz\n\" transform=\"scale(0.015625)\"/>\n       </defs>\n       <use xlink:href=\"#DejaVuSans-32\"/>\n       <use xlink:href=\"#DejaVuSans-30\" x=\"63.623047\"/>\n      </g>\n     </g>\n    </g>\n    <g id=\"text_8\">\n     <!-- PCA Component 1 -->\n     <g transform=\"translate(171.067969 252.916562)scale(0.1 -0.1)\">\n      <defs>\n       <path id=\"DejaVuSans-50\" d=\"M 1259 4147 \nL 1259 2394 \nL 2053 2394 \nQ 2494 2394 2734 2622 \nQ 2975 2850 2975 3272 \nQ 2975 3691 2734 3919 \nQ 2494 4147 2053 4147 \nL 1259 4147 \nz\nM 628 4666 \nL 2053 4666 \nQ 2838 4666 3239 4311 \nQ 3641 3956 3641 3272 \nQ 3641 2581 3239 2228 \nQ 2838 1875 2053 1875 \nL 1259 1875 \nL 1259 0 \nL 628 0 \nL 628 4666 \nz\n\" transform=\"scale(0.015625)\"/>\n       <path id=\"DejaVuSans-43\" d=\"M 4122 4306 \nL 4122 3641 \nQ 3803 3938 3442 4084 \nQ 3081 4231 2675 4231 \nQ 1875 4231 1450 3742 \nQ 1025 3253 1025 2328 \nQ 1025 1406 1450 917 \nQ 1875 428 2675 428 \nQ 3081 428 3442 575 \nQ 3803 722 4122 1019 \nL 4122 359 \nQ 3791 134 3420 21 \nQ 3050 -91 2638 -91 \nQ 1578 -91 968 557 \nQ 359 1206 359 2328 \nQ 359 3453 968 4101 \nQ 1578 4750 2638 4750 \nQ 3056 4750 3426 4639 \nQ 3797 4528 4122 4306 \nz\n\" transform=\"scale(0.015625)\"/>\n       <path id=\"DejaVuSans-41\" d=\"M 2188 4044 \nL 1331 1722 \nL 3047 1722 \nL 2188 4044 \nz\nM 1831 4666 \nL 2547 4666 \nL 4325 0 \nL 3669 0 \nL 3244 1197 \nL 1141 1197 \nL 716 0 \nL 50 0 \nL 1831 4666 \nz\n\" transform=\"scale(0.015625)\"/>\n       <path id=\"DejaVuSans-20\" transform=\"scale(0.015625)\"/>\n       <path id=\"DejaVuSans-6f\" d=\"M 1959 3097 \nQ 1497 3097 1228 2736 \nQ 959 2375 959 1747 \nQ 959 1119 1226 758 \nQ 1494 397 1959 397 \nQ 2419 397 2687 759 \nQ 2956 1122 2956 1747 \nQ 2956 2369 2687 2733 \nQ 2419 3097 1959 3097 \nz\nM 1959 3584 \nQ 2709 3584 3137 3096 \nQ 3566 2609 3566 1747 \nQ 3566 888 3137 398 \nQ 2709 -91 1959 -91 \nQ 1206 -91 779 398 \nQ 353 888 353 1747 \nQ 353 2609 779 3096 \nQ 1206 3584 1959 3584 \nz\n\" transform=\"scale(0.015625)\"/>\n       <path id=\"DejaVuSans-6d\" d=\"M 3328 2828 \nQ 3544 3216 3844 3400 \nQ 4144 3584 4550 3584 \nQ 5097 3584 5394 3201 \nQ 5691 2819 5691 2113 \nL 5691 0 \nL 5113 0 \nL 5113 2094 \nQ 5113 2597 4934 2840 \nQ 4756 3084 4391 3084 \nQ 3944 3084 3684 2787 \nQ 3425 2491 3425 1978 \nL 3425 0 \nL 2847 0 \nL 2847 2094 \nQ 2847 2600 2669 2842 \nQ 2491 3084 2119 3084 \nQ 1678 3084 1418 2786 \nQ 1159 2488 1159 1978 \nL 1159 0 \nL 581 0 \nL 581 3500 \nL 1159 3500 \nL 1159 2956 \nQ 1356 3278 1631 3431 \nQ 1906 3584 2284 3584 \nQ 2666 3584 2933 3390 \nQ 3200 3197 3328 2828 \nz\n\" transform=\"scale(0.015625)\"/>\n       <path id=\"DejaVuSans-70\" d=\"M 1159 525 \nL 1159 -1331 \nL 581 -1331 \nL 581 3500 \nL 1159 3500 \nL 1159 2969 \nQ 1341 3281 1617 3432 \nQ 1894 3584 2278 3584 \nQ 2916 3584 3314 3078 \nQ 3713 2572 3713 1747 \nQ 3713 922 3314 415 \nQ 2916 -91 2278 -91 \nQ 1894 -91 1617 61 \nQ 1341 213 1159 525 \nz\nM 3116 1747 \nQ 3116 2381 2855 2742 \nQ 2594 3103 2138 3103 \nQ 1681 3103 1420 2742 \nQ 1159 2381 1159 1747 \nQ 1159 1113 1420 752 \nQ 1681 391 2138 391 \nQ 2594 391 2855 752 \nQ 3116 1113 3116 1747 \nz\n\" transform=\"scale(0.015625)\"/>\n       <path id=\"DejaVuSans-6e\" d=\"M 3513 2113 \nL 3513 0 \nL 2938 0 \nL 2938 2094 \nQ 2938 2591 2744 2837 \nQ 2550 3084 2163 3084 \nQ 1697 3084 1428 2787 \nQ 1159 2491 1159 1978 \nL 1159 0 \nL 581 0 \nL 581 3500 \nL 1159 3500 \nL 1159 2956 \nQ 1366 3272 1645 3428 \nQ 1925 3584 2291 3584 \nQ 2894 3584 3203 3211 \nQ 3513 2838 3513 2113 \nz\n\" transform=\"scale(0.015625)\"/>\n       <path id=\"DejaVuSans-65\" d=\"M 3597 1894 \nL 3597 1613 \nL 953 1613 \nQ 991 1019 1311 708 \nQ 1631 397 2203 397 \nQ 2534 397 2845 478 \nQ 3156 559 3463 722 \nL 3463 178 \nQ 3153 47 2828 -22 \nQ 2503 -91 2169 -91 \nQ 1331 -91 842 396 \nQ 353 884 353 1716 \nQ 353 2575 817 3079 \nQ 1281 3584 2069 3584 \nQ 2775 3584 3186 3129 \nQ 3597 2675 3597 1894 \nz\nM 3022 2063 \nQ 3016 2534 2758 2815 \nQ 2500 3097 2075 3097 \nQ 1594 3097 1305 2825 \nQ 1016 2553 972 2059 \nL 3022 2063 \nz\n\" transform=\"scale(0.015625)\"/>\n       <path id=\"DejaVuSans-74\" d=\"M 1172 4494 \nL 1172 3500 \nL 2356 3500 \nL 2356 3053 \nL 1172 3053 \nL 1172 1153 \nQ 1172 725 1289 603 \nQ 1406 481 1766 481 \nL 2356 481 \nL 2356 0 \nL 1766 0 \nQ 1100 0 847 248 \nQ 594 497 594 1153 \nL 594 3053 \nL 172 3053 \nL 172 3500 \nL 594 3500 \nL 594 4494 \nL 1172 4494 \nz\n\" transform=\"scale(0.015625)\"/>\n      </defs>\n      <use xlink:href=\"#DejaVuSans-50\"/>\n      <use xlink:href=\"#DejaVuSans-43\" x=\"60.302734\"/>\n      <use xlink:href=\"#DejaVuSans-41\" x=\"130.126953\"/>\n      <use xlink:href=\"#DejaVuSans-20\" x=\"198.535156\"/>\n      <use xlink:href=\"#DejaVuSans-43\" x=\"230.322266\"/>\n      <use xlink:href=\"#DejaVuSans-6f\" x=\"300.146484\"/>\n      <use xlink:href=\"#DejaVuSans-6d\" x=\"361.328125\"/>\n      <use xlink:href=\"#DejaVuSans-70\" x=\"458.740234\"/>\n      <use xlink:href=\"#DejaVuSans-6f\" x=\"522.216797\"/>\n      <use xlink:href=\"#DejaVuSans-6e\" x=\"583.398438\"/>\n      <use xlink:href=\"#DejaVuSans-65\" x=\"646.777344\"/>\n      <use xlink:href=\"#DejaVuSans-6e\" x=\"708.300781\"/>\n      <use xlink:href=\"#DejaVuSans-74\" x=\"771.679688\"/>\n      <use xlink:href=\"#DejaVuSans-20\" x=\"810.888672\"/>\n      <use xlink:href=\"#DejaVuSans-31\" x=\"842.675781\"/>\n     </g>\n    </g>\n   </g>\n   <g id=\"matplotlib.axis_2\">\n    <g id=\"ytick_1\">\n     <g id=\"line2d_8\">\n      <defs>\n       <path id=\"maa7448c4fa\" d=\"M 0 0 \nL -3.5 0 \n\" style=\"stroke: #000000; stroke-width: 0.8\"/>\n      </defs>\n      <g>\n       <use xlink:href=\"#maa7448c4fa\" x=\"48.982813\" y=\"207.682696\" style=\"stroke: #000000; stroke-width: 0.8\"/>\n      </g>\n     </g>\n     <g id=\"text_9\">\n      <!-- −10 -->\n      <g transform=\"translate(20.878125 211.481915)scale(0.1 -0.1)\">\n       <use xlink:href=\"#DejaVuSans-2212\"/>\n       <use xlink:href=\"#DejaVuSans-31\" x=\"83.789062\"/>\n       <use xlink:href=\"#DejaVuSans-30\" x=\"147.412109\"/>\n      </g>\n     </g>\n    </g>\n    <g id=\"ytick_2\">\n     <g id=\"line2d_9\">\n      <g>\n       <use xlink:href=\"#maa7448c4fa\" x=\"48.982813\" y=\"177.304902\" style=\"stroke: #000000; stroke-width: 0.8\"/>\n      </g>\n     </g>\n     <g id=\"text_10\">\n      <!-- −5 -->\n      <g transform=\"translate(27.240625 181.104121)scale(0.1 -0.1)\">\n       <use xlink:href=\"#DejaVuSans-2212\"/>\n       <use xlink:href=\"#DejaVuSans-35\" x=\"83.789062\"/>\n      </g>\n     </g>\n    </g>\n    <g id=\"ytick_3\">\n     <g id=\"line2d_10\">\n      <g>\n       <use xlink:href=\"#maa7448c4fa\" x=\"48.982813\" y=\"146.927108\" style=\"stroke: #000000; stroke-width: 0.8\"/>\n      </g>\n     </g>\n     <g id=\"text_11\">\n      <!-- 0 -->\n      <g transform=\"translate(35.620313 150.726327)scale(0.1 -0.1)\">\n       <use xlink:href=\"#DejaVuSans-30\"/>\n      </g>\n     </g>\n    </g>\n    <g id=\"ytick_4\">\n     <g id=\"line2d_11\">\n      <g>\n       <use xlink:href=\"#maa7448c4fa\" x=\"48.982813\" y=\"116.549314\" style=\"stroke: #000000; stroke-width: 0.8\"/>\n      </g>\n     </g>\n     <g id=\"text_12\">\n      <!-- 5 -->\n      <g transform=\"translate(35.620313 120.348533)scale(0.1 -0.1)\">\n       <use xlink:href=\"#DejaVuSans-35\"/>\n      </g>\n     </g>\n    </g>\n    <g id=\"ytick_5\">\n     <g id=\"line2d_12\">\n      <g>\n       <use xlink:href=\"#maa7448c4fa\" x=\"48.982813\" y=\"86.17152\" style=\"stroke: #000000; stroke-width: 0.8\"/>\n      </g>\n     </g>\n     <g id=\"text_13\">\n      <!-- 10 -->\n      <g transform=\"translate(29.257813 89.970739)scale(0.1 -0.1)\">\n       <use xlink:href=\"#DejaVuSans-31\"/>\n       <use xlink:href=\"#DejaVuSans-30\" x=\"63.623047\"/>\n      </g>\n     </g>\n    </g>\n    <g id=\"ytick_6\">\n     <g id=\"line2d_13\">\n      <g>\n       <use xlink:href=\"#maa7448c4fa\" x=\"48.982813\" y=\"55.793726\" style=\"stroke: #000000; stroke-width: 0.8\"/>\n      </g>\n     </g>\n     <g id=\"text_14\">\n      <!-- 15 -->\n      <g transform=\"translate(29.257813 59.592945)scale(0.1 -0.1)\">\n       <use xlink:href=\"#DejaVuSans-31\"/>\n       <use xlink:href=\"#DejaVuSans-35\" x=\"63.623047\"/>\n      </g>\n     </g>\n    </g>\n    <g id=\"ytick_7\">\n     <g id=\"line2d_14\">\n      <g>\n       <use xlink:href=\"#maa7448c4fa\" x=\"48.982813\" y=\"25.415932\" style=\"stroke: #000000; stroke-width: 0.8\"/>\n      </g>\n     </g>\n     <g id=\"text_15\">\n      <!-- 20 -->\n      <g transform=\"translate(29.257813 29.215151)scale(0.1 -0.1)\">\n       <use xlink:href=\"#DejaVuSans-32\"/>\n       <use xlink:href=\"#DejaVuSans-30\" x=\"63.623047\"/>\n      </g>\n     </g>\n    </g>\n    <g id=\"text_16\">\n     <!-- PCA Component 2 -->\n     <g transform=\"translate(14.798438 161.234844)rotate(-90)scale(0.1 -0.1)\">\n      <use xlink:href=\"#DejaVuSans-50\"/>\n      <use xlink:href=\"#DejaVuSans-43\" x=\"60.302734\"/>\n      <use xlink:href=\"#DejaVuSans-41\" x=\"130.126953\"/>\n      <use xlink:href=\"#DejaVuSans-20\" x=\"198.535156\"/>\n      <use xlink:href=\"#DejaVuSans-43\" x=\"230.322266\"/>\n      <use xlink:href=\"#DejaVuSans-6f\" x=\"300.146484\"/>\n      <use xlink:href=\"#DejaVuSans-6d\" x=\"361.328125\"/>\n      <use xlink:href=\"#DejaVuSans-70\" x=\"458.740234\"/>\n      <use xlink:href=\"#DejaVuSans-6f\" x=\"522.216797\"/>\n      <use xlink:href=\"#DejaVuSans-6e\" x=\"583.398438\"/>\n      <use xlink:href=\"#DejaVuSans-65\" x=\"646.777344\"/>\n      <use xlink:href=\"#DejaVuSans-6e\" x=\"708.300781\"/>\n      <use xlink:href=\"#DejaVuSans-74\" x=\"771.679688\"/>\n      <use xlink:href=\"#DejaVuSans-20\" x=\"810.888672\"/>\n      <use xlink:href=\"#DejaVuSans-32\" x=\"842.675781\"/>\n     </g>\n    </g>\n   </g>\n   <g id=\"patch_3\">\n    <path d=\"M 48.982813 224.64 \nL 48.982813 7.2 \n\" style=\"fill: none; stroke: #000000; stroke-width: 0.8; stroke-linejoin: miter; stroke-linecap: square\"/>\n   </g>\n   <g id=\"patch_4\">\n    <path d=\"M 383.782813 224.64 \nL 383.782813 7.2 \n\" style=\"fill: none; stroke: #000000; stroke-width: 0.8; stroke-linejoin: miter; stroke-linecap: square\"/>\n   </g>\n   <g id=\"patch_5\">\n    <path d=\"M 48.982813 224.64 \nL 383.782813 224.64 \n\" style=\"fill: none; stroke: #000000; stroke-width: 0.8; stroke-linejoin: miter; stroke-linecap: square\"/>\n   </g>\n   <g id=\"patch_6\">\n    <path d=\"M 48.982813 7.2 \nL 383.782813 7.2 \n\" style=\"fill: none; stroke: #000000; stroke-width: 0.8; stroke-linejoin: miter; stroke-linecap: square\"/>\n   </g>\n  </g>\n </g>\n <defs>\n  <clipPath id=\"p7dabbdb571\">\n   <rect x=\"48.982813\" y=\"7.2\" width=\"334.8\" height=\"217.44\"/>\n  </clipPath>\n </defs>\n</svg>\n",
      "text/plain": [
       "<Figure size 432x288 with 1 Axes>"
      ]
     },
     "metadata": {
      "needs_background": "light"
     },
     "output_type": "display_data"
    }
   ],
   "source": [
    "plt.scatter(X_train_pca[:, 0], X_train_pca[:, 1], c=y_train)\n",
    "plt.xlabel('PCA Component 1')\n",
    "plt.ylabel('PCA Component 2')\n",
    "plt.show()"
   ]
  },
  {
   "cell_type": "code",
   "execution_count": 51,
   "metadata": {},
   "outputs": [
    {
     "data": {
      "text/plain": [
       "array([[  0.7571956 ,   2.16266883,  -2.15708226],\n",
       "       [  2.47010918, -10.41325611,  10.56570291],\n",
       "       [ -2.97085979,  -3.3596302 ,   9.28202965],\n",
       "       ...,\n",
       "       [  7.0573766 ,   0.07255635,  -1.81304648],\n",
       "       [  2.44399896,   0.51743174,  -2.03789767],\n",
       "       [  8.59776322,  -2.01152141,   0.31661613]])"
      ]
     },
     "execution_count": 51,
     "metadata": {},
     "output_type": "execute_result"
    }
   ],
   "source": [
    "X_train_pca_3=make_pipeline(scaler, fit_pca(X_train,3)).fit_transform(X_train)\n",
    "X_train_pca_3"
   ]
  },
  {
   "cell_type": "code",
   "execution_count": 52,
   "metadata": {},
   "outputs": [
    {
     "data": {
      "text/plain": [
       "<mpl_toolkits.mplot3d.art3d.Path3DCollection at 0x7f7fb8455580>"
      ]
     },
     "execution_count": 52,
     "metadata": {},
     "output_type": "execute_result"
    },
    {
     "data": {
      "image/svg+xml": "<?xml version=\"1.0\" encoding=\"utf-8\" standalone=\"no\"?>\n<!DOCTYPE svg PUBLIC \"-//W3C//DTD SVG 1.1//EN\"\n  \"http://www.w3.org/Graphics/SVG/1.1/DTD/svg11.dtd\">\n<svg xmlns:xlink=\"http://www.w3.org/1999/xlink\" width=\"519.330062pt\" height=\"518.4pt\" viewBox=\"0 0 519.330062 518.4\" xmlns=\"http://www.w3.org/2000/svg\" version=\"1.1\">\n <metadata>\n  <rdf:RDF xmlns:dc=\"http://purl.org/dc/elements/1.1/\" xmlns:cc=\"http://creativecommons.org/ns#\" xmlns:rdf=\"http://www.w3.org/1999/02/22-rdf-syntax-ns#\">\n   <cc:Work>\n    <dc:type rdf:resource=\"http://purl.org/dc/dcmitype/StillImage\"/>\n    <dc:date>2023-04-26T22:48:09.274799</dc:date>\n    <dc:format>image/svg+xml</dc:format>\n    <dc:creator>\n     <cc:Agent>\n      <dc:title>Matplotlib v3.5.1, https://matplotlib.org/</dc:title>\n     </cc:Agent>\n    </dc:creator>\n   </cc:Work>\n  </rdf:RDF>\n </metadata>\n <defs>\n  <style type=\"text/css\">*{stroke-linejoin: round; stroke-linecap: butt}</style>\n </defs>\n <g id=\"figure_1\">\n  <g id=\"patch_1\">\n   <path d=\"M 0 518.4 \nL 519.330062 518.4 \nL 519.330062 0 \nL 0 0 \nL 0 518.4 \nz\n\" style=\"fill: none\"/>\n  </g>\n  <g id=\"patch_2\">\n   <path d=\"M 7.2 511.2 \nL 511.2 511.2 \nL 511.2 7.2 \nL 7.2 7.2 \nz\n\" style=\"fill: #ffffff\"/>\n  </g>\n  <g id=\"pane3d_1\">\n   <g id=\"patch_3\">\n    <path d=\"M 45.255476 386.929752 \nL 211.692736 247.41874 \nL 209.379098 46.218922 \nL 34.976957 173.489661 \n\" style=\"fill: #f2f2f2; opacity: 0.5; stroke: #f2f2f2; stroke-linejoin: miter\"/>\n   </g>\n  </g>\n  <g id=\"pane3d_2\">\n   <g id=\"patch_4\">\n    <path d=\"M 211.692736 247.41874 \nL 478.765153 325.046148 \nL 488.296026 116.916233 \nL 209.379098 46.218922 \n\" style=\"fill: #e6e6e6; opacity: 0.5; stroke: #e6e6e6; stroke-linejoin: miter\"/>\n   </g>\n  </g>\n  <g id=\"pane3d_3\">\n   <g id=\"patch_5\">\n    <path d=\"M 45.255476 386.929752 \nL 328.365282 479.393414 \nL 478.765153 325.046148 \nL 211.692736 247.41874 \n\" style=\"fill: #ececec; opacity: 0.5; stroke: #ececec; stroke-linejoin: miter\"/>\n   </g>\n  </g>\n  <g id=\"axis3d_1\">\n   <g id=\"line2d_1\">\n    <path d=\"M 45.255476 386.929752 \nL 328.365282 479.393414 \n\" style=\"fill: none; stroke: #000000; stroke-width: 0.8; stroke-linecap: square\"/>\n   </g>\n   <g id=\"Line3DCollection_1\">\n    <path d=\"M 79.059993 397.970307 \nL 243.706512 256.723881 \nL 242.750597 54.677624 \n\" style=\"fill: none; stroke: #b0b0b0; stroke-width: 0.8\"/>\n    <path d=\"M 118.030396 410.698041 \nL 280.570588 267.438813 \nL 281.199011 64.423176 \n\" style=\"fill: none; stroke: #b0b0b0; stroke-width: 0.8\"/>\n    <path d=\"M 157.582369 423.615715 \nL 317.938965 278.300325 \nL 320.196263 74.307843 \n\" style=\"fill: none; stroke: #b0b0b0; stroke-width: 0.8\"/>\n    <path d=\"M 197.729029 436.727614 \nL 355.822062 289.311445 \nL 359.75419 84.334625 \n\" style=\"fill: none; stroke: #b0b0b0; stroke-width: 0.8\"/>\n    <path d=\"M 238.483889 450.038151 \nL 394.230589 300.475288 \nL 399.884972 94.506608 \n\" style=\"fill: none; stroke: #b0b0b0; stroke-width: 0.8\"/>\n    <path d=\"M 279.860877 463.551875 \nL 433.175552 311.795051 \nL 440.601141 104.82697 \n\" style=\"fill: none; stroke: #b0b0b0; stroke-width: 0.8\"/>\n    <path d=\"M 321.874347 477.273475 \nL 472.66827 323.274025 \nL 481.915601 115.298981 \n\" style=\"fill: none; stroke: #b0b0b0; stroke-width: 0.8\"/>\n   </g>\n   <g id=\"xtick_1\">\n    <g id=\"line2d_2\">\n     <path d=\"M 80.494096 396.740024 \nL 76.185615 400.43617 \n\" style=\"fill: none; stroke: #000000; stroke-width: 0.8; stroke-linecap: square\"/>\n    </g>\n    <g id=\"text_1\">\n     <!-- −10 -->\n     <g transform=\"translate(61.000612 421.312539)scale(0.1 -0.1)\">\n      <defs>\n       <path id=\"DejaVuSans-2212\" d=\"M 678 2272 \nL 4684 2272 \nL 4684 1741 \nL 678 1741 \nL 678 2272 \nz\n\" transform=\"scale(0.015625)\"/>\n       <path id=\"DejaVuSans-31\" d=\"M 794 531 \nL 1825 531 \nL 1825 4091 \nL 703 3866 \nL 703 4441 \nL 1819 4666 \nL 2450 4666 \nL 2450 531 \nL 3481 531 \nL 3481 0 \nL 794 0 \nL 794 531 \nz\n\" transform=\"scale(0.015625)\"/>\n       <path id=\"DejaVuSans-30\" d=\"M 2034 4250 \nQ 1547 4250 1301 3770 \nQ 1056 3291 1056 2328 \nQ 1056 1369 1301 889 \nQ 1547 409 2034 409 \nQ 2525 409 2770 889 \nQ 3016 1369 3016 2328 \nQ 3016 3291 2770 3770 \nQ 2525 4250 2034 4250 \nz\nM 2034 4750 \nQ 2819 4750 3233 4129 \nQ 3647 3509 3647 2328 \nQ 3647 1150 3233 529 \nQ 2819 -91 2034 -91 \nQ 1250 -91 836 529 \nQ 422 1150 422 2328 \nQ 422 3509 836 4129 \nQ 1250 4750 2034 4750 \nz\n\" transform=\"scale(0.015625)\"/>\n      </defs>\n      <use xlink:href=\"#DejaVuSans-2212\"/>\n      <use xlink:href=\"#DejaVuSans-31\" x=\"83.789062\"/>\n      <use xlink:href=\"#DejaVuSans-30\" x=\"147.412109\"/>\n     </g>\n    </g>\n   </g>\n   <g id=\"xtick_2\">\n    <g id=\"line2d_3\">\n     <path d=\"M 119.447006 409.449473 \nL 115.191032 413.200592 \n\" style=\"fill: none; stroke: #000000; stroke-width: 0.8; stroke-linecap: square\"/>\n    </g>\n    <g id=\"text_2\">\n     <!-- −5 -->\n     <g transform=\"translate(103.173719 434.182311)scale(0.1 -0.1)\">\n      <defs>\n       <path id=\"DejaVuSans-35\" d=\"M 691 4666 \nL 3169 4666 \nL 3169 4134 \nL 1269 4134 \nL 1269 2991 \nQ 1406 3038 1543 3061 \nQ 1681 3084 1819 3084 \nQ 2600 3084 3056 2656 \nQ 3513 2228 3513 1497 \nQ 3513 744 3044 326 \nQ 2575 -91 1722 -91 \nQ 1428 -91 1123 -41 \nQ 819 9 494 109 \nL 494 744 \nQ 775 591 1075 516 \nQ 1375 441 1709 441 \nQ 2250 441 2565 725 \nQ 2881 1009 2881 1497 \nQ 2881 1984 2565 2268 \nQ 2250 2553 1709 2553 \nQ 1456 2553 1204 2497 \nQ 953 2441 691 2322 \nL 691 4666 \nz\n\" transform=\"scale(0.015625)\"/>\n      </defs>\n      <use xlink:href=\"#DejaVuSans-2212\"/>\n      <use xlink:href=\"#DejaVuSans-35\" x=\"83.789062\"/>\n     </g>\n    </g>\n   </g>\n   <g id=\"xtick_3\">\n    <g id=\"line2d_4\">\n     <path d=\"M 158.980803 422.348451 \nL 154.779389 426.155779 \n\" style=\"fill: none; stroke: #000000; stroke-width: 0.8; stroke-linecap: square\"/>\n    </g>\n    <g id=\"text_3\">\n     <!-- 0 -->\n     <g transform=\"translate(146.938471 447.244527)scale(0.1 -0.1)\">\n      <use xlink:href=\"#DejaVuSans-30\"/>\n     </g>\n    </g>\n   </g>\n   <g id=\"xtick_4\">\n    <g id=\"line2d_5\">\n     <path d=\"M 199.108579 435.441232 \nL 194.963854 439.306041 \n\" style=\"fill: none; stroke: #000000; stroke-width: 0.8; stroke-linecap: square\"/>\n    </g>\n    <g id=\"text_4\">\n     <!-- 5 -->\n     <g transform=\"translate(187.109608 460.503535)scale(0.1 -0.1)\">\n      <use xlink:href=\"#DejaVuSans-35\"/>\n     </g>\n    </g>\n   </g>\n   <g id=\"xtick_5\">\n    <g id=\"line2d_6\">\n     <path d=\"M 239.843822 448.732214 \nL 235.757993 452.655818 \n\" style=\"fill: none; stroke: #000000; stroke-width: 0.8; stroke-linecap: square\"/>\n    </g>\n    <g id=\"text_5\">\n     <!-- 10 -->\n     <g transform=\"translate(224.709298 473.963817)scale(0.1 -0.1)\">\n      <use xlink:href=\"#DejaVuSans-31\"/>\n      <use xlink:href=\"#DejaVuSans-30\" x=\"63.623047\"/>\n     </g>\n    </g>\n   </g>\n   <g id=\"xtick_6\">\n    <g id=\"line2d_7\">\n     <path d=\"M 281.200429 462.225935 \nL 277.175786 466.209683 \n\" style=\"fill: none; stroke: #000000; stroke-width: 0.8; stroke-linecap: square\"/>\n    </g>\n    <g id=\"text_6\">\n     <!-- 15 -->\n     <g transform=\"translate(266.114034 487.629991)scale(0.1 -0.1)\">\n      <use xlink:href=\"#DejaVuSans-31\"/>\n      <use xlink:href=\"#DejaVuSans-35\" x=\"63.623047\"/>\n     </g>\n    </g>\n   </g>\n   <g id=\"xtick_7\">\n    <g id=\"line2d_8\">\n     <path d=\"M 323.192729 475.927067 \nL 319.231645 479.972354 \n\" style=\"fill: none; stroke: #000000; stroke-width: 0.8; stroke-linecap: square\"/>\n    </g>\n    <g id=\"text_7\">\n     <!-- 20 -->\n     <g transform=\"translate(308.156988 501.506817)scale(0.1 -0.1)\">\n      <defs>\n       <path id=\"DejaVuSans-32\" d=\"M 1228 531 \nL 3431 531 \nL 3431 0 \nL 469 0 \nL 469 531 \nQ 828 903 1448 1529 \nQ 2069 2156 2228 2338 \nQ 2531 2678 2651 2914 \nQ 2772 3150 2772 3378 \nQ 2772 3750 2511 3984 \nQ 2250 4219 1831 4219 \nQ 1534 4219 1204 4116 \nQ 875 4013 500 3803 \nL 500 4441 \nQ 881 4594 1212 4672 \nQ 1544 4750 1819 4750 \nQ 2544 4750 2975 4387 \nQ 3406 4025 3406 3419 \nQ 3406 3131 3298 2873 \nQ 3191 2616 2906 2266 \nQ 2828 2175 2409 1742 \nQ 1991 1309 1228 531 \nz\n\" transform=\"scale(0.015625)\"/>\n      </defs>\n      <use xlink:href=\"#DejaVuSans-32\"/>\n      <use xlink:href=\"#DejaVuSans-30\" x=\"63.623047\"/>\n     </g>\n    </g>\n   </g>\n  </g>\n  <g id=\"axis3d_2\">\n   <g id=\"line2d_9\">\n    <path d=\"M 478.765153 325.046148 \nL 328.365282 479.393414 \n\" style=\"fill: none; stroke: #000000; stroke-width: 0.8; stroke-linecap: square\"/>\n   </g>\n   <g id=\"Line3DCollection_2\">\n    <path d=\"M 52.904227 160.407156 \nL 62.305815 372.637819 \nL 343.833866 463.518842 \n\" style=\"fill: none; stroke: #b0b0b0; stroke-width: 0.8\"/>\n    <path d=\"M 77.71985 142.297845 \nL 85.9295 352.835978 \nL 365.242837 441.547971 \n\" style=\"fill: none; stroke: #b0b0b0; stroke-width: 0.8\"/>\n    <path d=\"M 101.935887 124.626084 \nL 109.006998 333.491962 \nL 386.130904 420.111676 \n\" style=\"fill: none; stroke: #b0b0b0; stroke-width: 0.8\"/>\n    <path d=\"M 125.573811 107.376203 \nL 131.557036 314.590073 \nL 406.516849 399.190681 \n\" style=\"fill: none; stroke: #b0b0b0; stroke-width: 0.8\"/>\n    <path d=\"M 148.65408 90.533275 \nL 153.597491 296.115327 \nL 426.418564 378.766625 \n\" style=\"fill: none; stroke: #b0b0b0; stroke-width: 0.8\"/>\n    <path d=\"M 171.196196 74.083065 \nL 175.145444 278.053405 \nL 445.853098 358.822012 \n\" style=\"fill: none; stroke: #b0b0b0; stroke-width: 0.8\"/>\n    <path d=\"M 193.218765 58.011998 \nL 196.217221 260.390623 \nL 464.836712 339.340155 \n\" style=\"fill: none; stroke: #b0b0b0; stroke-width: 0.8\"/>\n   </g>\n   <g id=\"xtick_8\">\n    <g id=\"line2d_10\">\n     <path d=\"M 341.461769 462.753098 \nL 348.584175 465.052306 \n\" style=\"fill: none; stroke: #000000; stroke-width: 0.8; stroke-linecap: square\"/>\n    </g>\n    <g id=\"text_8\">\n     <!-- −10 -->\n     <g transform=\"translate(346.122712 484.496167)scale(0.1 -0.1)\">\n      <use xlink:href=\"#DejaVuSans-2212\"/>\n      <use xlink:href=\"#DejaVuSans-31\" x=\"83.789062\"/>\n      <use xlink:href=\"#DejaVuSans-30\" x=\"147.412109\"/>\n     </g>\n    </g>\n   </g>\n   <g id=\"xtick_9\">\n    <g id=\"line2d_11\">\n     <path d=\"M 362.890865 440.800968 \nL 369.95277 443.043881 \n\" style=\"fill: none; stroke: #000000; stroke-width: 0.8; stroke-linecap: square\"/>\n    </g>\n    <g id=\"text_9\">\n     <!-- −5 -->\n     <g transform=\"translate(370.561403 462.35364)scale(0.1 -0.1)\">\n      <use xlink:href=\"#DejaVuSans-2212\"/>\n      <use xlink:href=\"#DejaVuSans-35\" x=\"83.789062\"/>\n     </g>\n    </g>\n   </g>\n   <g id=\"xtick_10\">\n    <g id=\"line2d_12\">\n     <path d=\"M 383.798785 419.382733 \nL 390.801007 421.571395 \n\" style=\"fill: none; stroke: #000000; stroke-width: 0.8; stroke-linecap: square\"/>\n    </g>\n    <g id=\"text_10\">\n     <!-- 0 -->\n     <g transform=\"translate(395.491312 440.750031)scale(0.1 -0.1)\">\n      <use xlink:href=\"#DejaVuSans-30\"/>\n     </g>\n    </g>\n   </g>\n   <g id=\"xtick_11\">\n    <g id=\"line2d_13\">\n     <path d=\"M 404.204315 398.479152 \nL 411.147665 400.615507 \n\" style=\"fill: none; stroke: #000000; stroke-width: 0.8; stroke-linecap: square\"/>\n    </g>\n    <g id=\"text_11\">\n     <!-- 5 -->\n     <g transform=\"translate(415.732663 419.665902)scale(0.1 -0.1)\">\n      <use xlink:href=\"#DejaVuSans-35\"/>\n     </g>\n    </g>\n   </g>\n   <g id=\"xtick_12\">\n    <g id=\"line2d_14\">\n     <path d=\"M 424.125347 378.071894 \nL 431.01063 380.157794 \n\" style=\"fill: none; stroke: #000000; stroke-width: 0.8; stroke-linecap: square\"/>\n    </g>\n    <g id=\"text_12\">\n     <!-- 10 -->\n     <g transform=\"translate(432.311822 399.082738)scale(0.1 -0.1)\">\n      <use xlink:href=\"#DejaVuSans-31\"/>\n      <use xlink:href=\"#DejaVuSans-30\" x=\"63.623047\"/>\n     </g>\n    </g>\n   </g>\n   <g id=\"xtick_13\">\n    <g id=\"line2d_15\">\n     <path d=\"M 443.578934 358.14349 \nL 450.406947 360.180703 \n\" style=\"fill: none; stroke: #000000; stroke-width: 0.8; stroke-linecap: square\"/>\n    </g>\n    <g id=\"text_13\">\n     <!-- 15 -->\n     <g transform=\"translate(451.608231 378.982894)scale(0.1 -0.1)\">\n      <use xlink:href=\"#DejaVuSans-31\"/>\n      <use xlink:href=\"#DejaVuSans-35\" x=\"63.623047\"/>\n     </g>\n    </g>\n   </g>\n   <g id=\"xtick_14\">\n    <g id=\"line2d_16\">\n     <path d=\"M 462.581338 338.677281 \nL 469.35287 340.667491 \n\" style=\"fill: none; stroke: #000000; stroke-width: 0.8; stroke-linecap: square\"/>\n    </g>\n    <g id=\"text_14\">\n     <!-- 20 -->\n     <g transform=\"translate(470.456793 359.349544)scale(0.1 -0.1)\">\n      <use xlink:href=\"#DejaVuSans-32\"/>\n      <use xlink:href=\"#DejaVuSans-30\" x=\"63.623047\"/>\n     </g>\n    </g>\n   </g>\n  </g>\n  <g id=\"axis3d_3\">\n   <g id=\"line2d_17\">\n    <path d=\"M 478.765153 325.046148 \nL 488.296026 116.916233 \n\" style=\"fill: none; stroke: #000000; stroke-width: 0.8; stroke-linecap: square\"/>\n   </g>\n   <g id=\"Line3DCollection_3\">\n    <path d=\"M 479.969019 298.756774 \nL 211.399955 221.957812 \nL 43.959083 360.009328 \n\" style=\"fill: none; stroke: #b0b0b0; stroke-width: 0.8\"/>\n    <path d=\"M 481.640626 262.253165 \nL 210.99368 186.627052 \nL 42.158087 322.610478 \n\" style=\"fill: none; stroke: #b0b0b0; stroke-width: 0.8\"/>\n    <path d=\"M 483.338557 225.174675 \nL 210.581314 150.766667 \nL 40.327638 284.600004 \n\" style=\"fill: none; stroke: #b0b0b0; stroke-width: 0.8\"/>\n    <path d=\"M 485.063441 187.507617 \nL 210.16272 114.36466 \nL 38.467006 245.962781 \n\" style=\"fill: none; stroke: #b0b0b0; stroke-width: 0.8\"/>\n    <path d=\"M 486.815924 149.237865 \nL 209.737755 77.408665 \nL 36.575439 206.683176 \n\" style=\"fill: none; stroke: #b0b0b0; stroke-width: 0.8\"/>\n   </g>\n   <g id=\"xtick_15\">\n    <g id=\"line2d_18\">\n     <path d=\"M 477.714388 298.112049 \nL 484.483674 300.047767 \n\" style=\"fill: none; stroke: #000000; stroke-width: 0.8; stroke-linecap: square\"/>\n    </g>\n    <g id=\"text_15\">\n     <!-- −5 -->\n     <g transform=\"translate(490.973748 303.773697)scale(0.1 -0.1)\">\n      <use xlink:href=\"#DejaVuSans-2212\"/>\n      <use xlink:href=\"#DejaVuSans-35\" x=\"83.789062\"/>\n     </g>\n    </g>\n   </g>\n   <g id=\"xtick_16\">\n    <g id=\"line2d_19\">\n     <path d=\"M 479.367716 261.618052 \nL 486.191923 263.524921 \n\" style=\"fill: none; stroke: #000000; stroke-width: 0.8; stroke-linecap: square\"/>\n    </g>\n    <g id=\"text_16\">\n     <!-- 0 -->\n     <g transform=\"translate(496.975848 267.308601)scale(0.1 -0.1)\">\n      <use xlink:href=\"#DejaVuSans-30\"/>\n     </g>\n    </g>\n   </g>\n   <g id=\"xtick_17\">\n    <g id=\"line2d_20\">\n     <path d=\"M 481.047071 224.549559 \nL 487.927097 226.426426 \n\" style=\"fill: none; stroke: #000000; stroke-width: 0.8; stroke-linecap: square\"/>\n    </g>\n    <g id=\"text_17\">\n     <!-- 5 -->\n     <g transform=\"translate(498.816598 230.270162)scale(0.1 -0.1)\">\n      <use xlink:href=\"#DejaVuSans-35\"/>\n     </g>\n    </g>\n   </g>\n   <g id=\"xtick_18\">\n    <g id=\"line2d_21\">\n     <path d=\"M 482.753072 186.892896 \nL 489.689837 188.738565 \n\" style=\"fill: none; stroke: #000000; stroke-width: 0.8; stroke-linecap: square\"/>\n    </g>\n    <g id=\"text_18\">\n     <!-- 10 -->\n     <g transform=\"translate(497.50527 192.64475)scale(0.1 -0.1)\">\n      <use xlink:href=\"#DejaVuSans-31\"/>\n      <use xlink:href=\"#DejaVuSans-30\" x=\"63.623047\"/>\n     </g>\n    </g>\n   </g>\n   <g id=\"xtick_19\">\n    <g id=\"line2d_22\">\n     <path d=\"M 484.486359 148.633953 \nL 491.480805 150.44718 \n\" style=\"fill: none; stroke: #000000; stroke-width: 0.8; stroke-linecap: square\"/>\n    </g>\n    <g id=\"text_19\">\n     <!-- 15 -->\n     <g transform=\"translate(499.405062 154.4183)scale(0.1 -0.1)\">\n      <use xlink:href=\"#DejaVuSans-31\"/>\n      <use xlink:href=\"#DejaVuSans-35\" x=\"63.623047\"/>\n     </g>\n    </g>\n   </g>\n  </g>\n  <g id=\"axes_1\">\n   <g id=\"Path3DCollection_1\">\n    <defs>\n     <path id=\"C0_0_bce41a5a3d\" d=\"M 0 2.236068 \nC 0.593012 2.236068 1.161816 2.000462 1.581139 1.581139 \nC 2.000462 1.161816 2.236068 0.593012 2.236068 -0 \nC 2.236068 -0.593012 2.000462 -1.161816 1.581139 -1.581139 \nC 1.161816 -2.000462 0.593012 -2.236068 0 -2.236068 \nC -0.593012 -2.236068 -1.161816 -2.000462 -1.581139 -1.581139 \nC -2.000462 -1.161816 -2.236068 -0.593012 -2.236068 0 \nC -2.236068 0.593012 -2.000462 1.161816 -1.581139 1.581139 \nC -1.161816 2.000462 -0.593012 2.236068 0 2.236068 \nz\n\"/>\n    </defs>\n    <g clip-path=\"url(#p2fa74d7e3c)\">\n     <use xlink:href=\"#C0_0_bce41a5a3d\" x=\"328.505507\" y=\"209.555194\" style=\"fill: #440154; fill-opacity: 0.3; stroke: #440154; stroke-opacity: 0.3\"/>\n    </g>\n    <g clip-path=\"url(#p2fa74d7e3c)\">\n     <use xlink:href=\"#C0_0_bce41a5a3d\" x=\"229.961026\" y=\"274.517795\" style=\"fill: #addc30; fill-opacity: 0.30419; stroke: #addc30; stroke-opacity: 0.30419\"/>\n    </g>\n    <g clip-path=\"url(#p2fa74d7e3c)\">\n     <use xlink:href=\"#C0_0_bce41a5a3d\" x=\"156.351302\" y=\"268.607873\" style=\"fill: #3b528b; fill-opacity: 0.32903; stroke: #3b528b; stroke-opacity: 0.32903\"/>\n    </g>\n    <g clip-path=\"url(#p2fa74d7e3c)\">\n     <use xlink:href=\"#C0_0_bce41a5a3d\" x=\"172.604812\" y=\"291.404183\" style=\"fill: #addc30; fill-opacity: 0.329348; stroke: #addc30; stroke-opacity: 0.329348\"/>\n    </g>\n    <g clip-path=\"url(#p2fa74d7e3c)\">\n     <use xlink:href=\"#C0_0_bce41a5a3d\" x=\"274.548615\" y=\"260.590249\" style=\"fill: #21918c; fill-opacity: 0.346931; stroke: #21918c; stroke-opacity: 0.346931\"/>\n    </g>\n    <g clip-path=\"url(#p2fa74d7e3c)\">\n     <use xlink:href=\"#C0_0_bce41a5a3d\" x=\"212.644634\" y=\"294.078918\" style=\"fill: #440154; fill-opacity: 0.358057; stroke: #440154; stroke-opacity: 0.358057\"/>\n    </g>\n    <g clip-path=\"url(#p2fa74d7e3c)\">\n     <use xlink:href=\"#C0_0_bce41a5a3d\" x=\"189.990644\" y=\"275.534044\" style=\"fill: #3b528b; fill-opacity: 0.359267; stroke: #3b528b; stroke-opacity: 0.359267\"/>\n    </g>\n    <g clip-path=\"url(#p2fa74d7e3c)\">\n     <use xlink:href=\"#C0_0_bce41a5a3d\" x=\"175.820957\" y=\"278.289284\" style=\"fill: #3b528b; fill-opacity: 0.36194; stroke: #3b528b; stroke-opacity: 0.36194\"/>\n    </g>\n    <g clip-path=\"url(#p2fa74d7e3c)\">\n     <use xlink:href=\"#C0_0_bce41a5a3d\" x=\"162.349902\" y=\"292.50024\" style=\"fill: #28ae80; fill-opacity: 0.365971; stroke: #28ae80; stroke-opacity: 0.365971\"/>\n    </g>\n    <g clip-path=\"url(#p2fa74d7e3c)\">\n     <use xlink:href=\"#C0_0_bce41a5a3d\" x=\"177.787569\" y=\"257.767843\" style=\"fill: #3b528b; fill-opacity: 0.370669; stroke: #3b528b; stroke-opacity: 0.370669\"/>\n    </g>\n    <g clip-path=\"url(#p2fa74d7e3c)\">\n     <use xlink:href=\"#C0_0_bce41a5a3d\" x=\"178.694095\" y=\"267.696641\" style=\"fill: #3b528b; fill-opacity: 0.375469; stroke: #3b528b; stroke-opacity: 0.375469\"/>\n    </g>\n    <g clip-path=\"url(#p2fa74d7e3c)\">\n     <use xlink:href=\"#C0_0_bce41a5a3d\" x=\"182.399759\" y=\"305.887653\" style=\"fill: #addc30; fill-opacity: 0.382428; stroke: #addc30; stroke-opacity: 0.382428\"/>\n    </g>\n    <g clip-path=\"url(#p2fa74d7e3c)\">\n     <use xlink:href=\"#C0_0_bce41a5a3d\" x=\"187.500614\" y=\"261.927746\" style=\"fill: #3b528b; fill-opacity: 0.386658; stroke: #3b528b; stroke-opacity: 0.386658\"/>\n    </g>\n    <g clip-path=\"url(#p2fa74d7e3c)\">\n     <use xlink:href=\"#C0_0_bce41a5a3d\" x=\"160.438966\" y=\"283.719027\" style=\"fill: #3b528b; fill-opacity: 0.399483; stroke: #3b528b; stroke-opacity: 0.399483\"/>\n    </g>\n    <g clip-path=\"url(#p2fa74d7e3c)\">\n     <use xlink:href=\"#C0_0_bce41a5a3d\" x=\"148.282506\" y=\"285.131614\" style=\"fill: #3b528b; fill-opacity: 0.40189; stroke: #3b528b; stroke-opacity: 0.40189\"/>\n    </g>\n    <g clip-path=\"url(#p2fa74d7e3c)\">\n     <use xlink:href=\"#C0_0_bce41a5a3d\" x=\"180.378206\" y=\"287.584085\" style=\"fill: #28ae80; fill-opacity: 0.402983; stroke: #28ae80; stroke-opacity: 0.402983\"/>\n    </g>\n    <g clip-path=\"url(#p2fa74d7e3c)\">\n     <use xlink:href=\"#C0_0_bce41a5a3d\" x=\"141.987479\" y=\"296.481503\" style=\"fill: #3b528b; fill-opacity: 0.405816; stroke: #3b528b; stroke-opacity: 0.405816\"/>\n    </g>\n    <g clip-path=\"url(#p2fa74d7e3c)\">\n     <use xlink:href=\"#C0_0_bce41a5a3d\" x=\"160.257981\" y=\"277.939538\" style=\"fill: #3b528b; fill-opacity: 0.407564; stroke: #3b528b; stroke-opacity: 0.407564\"/>\n    </g>\n    <g clip-path=\"url(#p2fa74d7e3c)\">\n     <use xlink:href=\"#C0_0_bce41a5a3d\" x=\"175.262781\" y=\"302.311736\" style=\"fill: #3b528b; fill-opacity: 0.41281; stroke: #3b528b; stroke-opacity: 0.41281\"/>\n    </g>\n    <g clip-path=\"url(#p2fa74d7e3c)\">\n     <use xlink:href=\"#C0_0_bce41a5a3d\" x=\"158.271327\" y=\"284.478701\" style=\"fill: #3b528b; fill-opacity: 0.415673; stroke: #3b528b; stroke-opacity: 0.415673\"/>\n    </g>\n    <g clip-path=\"url(#p2fa74d7e3c)\">\n     <use xlink:href=\"#C0_0_bce41a5a3d\" x=\"171.715431\" y=\"313.686167\" style=\"fill: #28ae80; fill-opacity: 0.416134; stroke: #28ae80; stroke-opacity: 0.416134\"/>\n    </g>\n    <g clip-path=\"url(#p2fa74d7e3c)\">\n     <use xlink:href=\"#C0_0_bce41a5a3d\" x=\"287.584433\" y=\"271.18458\" style=\"fill: #440154; fill-opacity: 0.42253; stroke: #440154; stroke-opacity: 0.42253\"/>\n    </g>\n    <g clip-path=\"url(#p2fa74d7e3c)\">\n     <use xlink:href=\"#C0_0_bce41a5a3d\" x=\"185.971368\" y=\"289.887034\" style=\"fill: #3b528b; fill-opacity: 0.42676; stroke: #3b528b; stroke-opacity: 0.42676\"/>\n    </g>\n    <g clip-path=\"url(#p2fa74d7e3c)\">\n     <use xlink:href=\"#C0_0_bce41a5a3d\" x=\"164.06726\" y=\"295.706773\" style=\"fill: #3b528b; fill-opacity: 0.426765; stroke: #3b528b; stroke-opacity: 0.426765\"/>\n    </g>\n    <g clip-path=\"url(#p2fa74d7e3c)\">\n     <use xlink:href=\"#C0_0_bce41a5a3d\" x=\"162.581545\" y=\"295.310182\" style=\"fill: #3b528b; fill-opacity: 0.427622; stroke: #3b528b; stroke-opacity: 0.427622\"/>\n    </g>\n    <g clip-path=\"url(#p2fa74d7e3c)\">\n     <use xlink:href=\"#C0_0_bce41a5a3d\" x=\"182.114148\" y=\"294.252554\" style=\"fill: #28ae80; fill-opacity: 0.42942; stroke: #28ae80; stroke-opacity: 0.42942\"/>\n    </g>\n    <g clip-path=\"url(#p2fa74d7e3c)\">\n     <use xlink:href=\"#C0_0_bce41a5a3d\" x=\"141.366682\" y=\"296.385734\" style=\"fill: #3b528b; fill-opacity: 0.42947; stroke: #3b528b; stroke-opacity: 0.42947\"/>\n    </g>\n    <g clip-path=\"url(#p2fa74d7e3c)\">\n     <use xlink:href=\"#C0_0_bce41a5a3d\" x=\"283.869945\" y=\"257.481069\" style=\"fill: #440154; fill-opacity: 0.431343; stroke: #440154; stroke-opacity: 0.431343\"/>\n    </g>\n    <g clip-path=\"url(#p2fa74d7e3c)\">\n     <use xlink:href=\"#C0_0_bce41a5a3d\" x=\"203.371986\" y=\"300.901806\" style=\"fill: #28ae80; fill-opacity: 0.432802; stroke: #28ae80; stroke-opacity: 0.432802\"/>\n    </g>\n    <g clip-path=\"url(#p2fa74d7e3c)\">\n     <use xlink:href=\"#C0_0_bce41a5a3d\" x=\"173.851282\" y=\"294.069472\" style=\"fill: #28ae80; fill-opacity: 0.434193; stroke: #28ae80; stroke-opacity: 0.434193\"/>\n    </g>\n    <g clip-path=\"url(#p2fa74d7e3c)\">\n     <use xlink:href=\"#C0_0_bce41a5a3d\" x=\"169.266467\" y=\"292.339079\" style=\"fill: #3b528b; fill-opacity: 0.434523; stroke: #3b528b; stroke-opacity: 0.434523\"/>\n    </g>\n    <g clip-path=\"url(#p2fa74d7e3c)\">\n     <use xlink:href=\"#C0_0_bce41a5a3d\" x=\"178.018424\" y=\"301.735267\" style=\"fill: #3b528b; fill-opacity: 0.435204; stroke: #3b528b; stroke-opacity: 0.435204\"/>\n    </g>\n    <g clip-path=\"url(#p2fa74d7e3c)\">\n     <use xlink:href=\"#C0_0_bce41a5a3d\" x=\"181.3791\" y=\"282.754063\" style=\"fill: #3b528b; fill-opacity: 0.435996; stroke: #3b528b; stroke-opacity: 0.435996\"/>\n    </g>\n    <g clip-path=\"url(#p2fa74d7e3c)\">\n     <use xlink:href=\"#C0_0_bce41a5a3d\" x=\"206.932251\" y=\"278.73484\" style=\"fill: #28ae80; fill-opacity: 0.437138; stroke: #28ae80; stroke-opacity: 0.437138\"/>\n    </g>\n    <g clip-path=\"url(#p2fa74d7e3c)\">\n     <use xlink:href=\"#C0_0_bce41a5a3d\" x=\"170.070144\" y=\"312.249328\" style=\"fill: #28ae80; fill-opacity: 0.437844; stroke: #28ae80; stroke-opacity: 0.437844\"/>\n    </g>\n    <g clip-path=\"url(#p2fa74d7e3c)\">\n     <use xlink:href=\"#C0_0_bce41a5a3d\" x=\"284.796214\" y=\"282.060426\" style=\"fill: #440154; fill-opacity: 0.440896; stroke: #440154; stroke-opacity: 0.440896\"/>\n    </g>\n    <g clip-path=\"url(#p2fa74d7e3c)\">\n     <use xlink:href=\"#C0_0_bce41a5a3d\" x=\"178.046583\" y=\"276.889585\" style=\"fill: #3b528b; fill-opacity: 0.441533; stroke: #3b528b; stroke-opacity: 0.441533\"/>\n    </g>\n    <g clip-path=\"url(#p2fa74d7e3c)\">\n     <use xlink:href=\"#C0_0_bce41a5a3d\" x=\"146.123996\" y=\"294.754347\" style=\"fill: #3b528b; fill-opacity: 0.442462; stroke: #3b528b; stroke-opacity: 0.442462\"/>\n    </g>\n    <g clip-path=\"url(#p2fa74d7e3c)\">\n     <use xlink:href=\"#C0_0_bce41a5a3d\" x=\"180.71157\" y=\"291.403936\" style=\"fill: #28ae80; fill-opacity: 0.443362; stroke: #28ae80; stroke-opacity: 0.443362\"/>\n    </g>\n    <g clip-path=\"url(#p2fa74d7e3c)\">\n     <use xlink:href=\"#C0_0_bce41a5a3d\" x=\"215.777113\" y=\"316.789652\" style=\"fill: #fde725; fill-opacity: 0.443378; stroke: #fde725; stroke-opacity: 0.443378\"/>\n    </g>\n    <g clip-path=\"url(#p2fa74d7e3c)\">\n     <use xlink:href=\"#C0_0_bce41a5a3d\" x=\"168.422653\" y=\"325.387984\" style=\"fill: #3b528b; fill-opacity: 0.445816; stroke: #3b528b; stroke-opacity: 0.445816\"/>\n    </g>\n    <g clip-path=\"url(#p2fa74d7e3c)\">\n     <use xlink:href=\"#C0_0_bce41a5a3d\" x=\"140.252229\" y=\"287.245879\" style=\"fill: #3b528b; fill-opacity: 0.447221; stroke: #3b528b; stroke-opacity: 0.447221\"/>\n    </g>\n    <g clip-path=\"url(#p2fa74d7e3c)\">\n     <use xlink:href=\"#C0_0_bce41a5a3d\" x=\"314.495323\" y=\"228.715297\" style=\"fill: #440154; fill-opacity: 0.447773; stroke: #440154; stroke-opacity: 0.447773\"/>\n    </g>\n    <g clip-path=\"url(#p2fa74d7e3c)\">\n     <use xlink:href=\"#C0_0_bce41a5a3d\" x=\"277.148355\" y=\"282.303265\" style=\"fill: #440154; fill-opacity: 0.448395; stroke: #440154; stroke-opacity: 0.448395\"/>\n    </g>\n    <g clip-path=\"url(#p2fa74d7e3c)\">\n     <use xlink:href=\"#C0_0_bce41a5a3d\" x=\"201.955258\" y=\"280.224633\" style=\"fill: #3b528b; fill-opacity: 0.450084; stroke: #3b528b; stroke-opacity: 0.450084\"/>\n    </g>\n    <g clip-path=\"url(#p2fa74d7e3c)\">\n     <use xlink:href=\"#C0_0_bce41a5a3d\" x=\"132.706984\" y=\"288.685288\" style=\"fill: #3b528b; fill-opacity: 0.45043; stroke: #3b528b; stroke-opacity: 0.45043\"/>\n    </g>\n    <g clip-path=\"url(#p2fa74d7e3c)\">\n     <use xlink:href=\"#C0_0_bce41a5a3d\" x=\"182.614505\" y=\"330.525896\" style=\"fill: #addc30; fill-opacity: 0.45258; stroke: #addc30; stroke-opacity: 0.45258\"/>\n    </g>\n    <g clip-path=\"url(#p2fa74d7e3c)\">\n     <use xlink:href=\"#C0_0_bce41a5a3d\" x=\"138.154926\" y=\"298.007999\" style=\"fill: #3b528b; fill-opacity: 0.454701; stroke: #3b528b; stroke-opacity: 0.454701\"/>\n    </g>\n    <g clip-path=\"url(#p2fa74d7e3c)\">\n     <use xlink:href=\"#C0_0_bce41a5a3d\" x=\"300.389319\" y=\"255.261147\" style=\"fill: #440154; fill-opacity: 0.455421; stroke: #440154; stroke-opacity: 0.455421\"/>\n    </g>\n    <g clip-path=\"url(#p2fa74d7e3c)\">\n     <use xlink:href=\"#C0_0_bce41a5a3d\" x=\"180.979138\" y=\"307.229748\" style=\"fill: #3b528b; fill-opacity: 0.457204; stroke: #3b528b; stroke-opacity: 0.457204\"/>\n    </g>\n    <g clip-path=\"url(#p2fa74d7e3c)\">\n     <use xlink:href=\"#C0_0_bce41a5a3d\" x=\"203.577744\" y=\"269.381261\" style=\"fill: #28ae80; fill-opacity: 0.457656; stroke: #28ae80; stroke-opacity: 0.457656\"/>\n    </g>\n    <g clip-path=\"url(#p2fa74d7e3c)\">\n     <use xlink:href=\"#C0_0_bce41a5a3d\" x=\"153.090781\" y=\"303.905193\" style=\"fill: #3b528b; fill-opacity: 0.458563; stroke: #3b528b; stroke-opacity: 0.458563\"/>\n    </g>\n    <g clip-path=\"url(#p2fa74d7e3c)\">\n     <use xlink:href=\"#C0_0_bce41a5a3d\" x=\"183.224025\" y=\"310.644565\" style=\"fill: #3b528b; fill-opacity: 0.461213; stroke: #3b528b; stroke-opacity: 0.461213\"/>\n    </g>\n    <g clip-path=\"url(#p2fa74d7e3c)\">\n     <use xlink:href=\"#C0_0_bce41a5a3d\" x=\"162.378961\" y=\"304.900273\" style=\"fill: #3b528b; fill-opacity: 0.461842; stroke: #3b528b; stroke-opacity: 0.461842\"/>\n    </g>\n    <g clip-path=\"url(#p2fa74d7e3c)\">\n     <use xlink:href=\"#C0_0_bce41a5a3d\" x=\"174.62345\" y=\"286.543125\" style=\"fill: #21918c; fill-opacity: 0.462916; stroke: #21918c; stroke-opacity: 0.462916\"/>\n    </g>\n    <g clip-path=\"url(#p2fa74d7e3c)\">\n     <use xlink:href=\"#C0_0_bce41a5a3d\" x=\"142.925344\" y=\"277.744242\" style=\"fill: #3b528b; fill-opacity: 0.464421; stroke: #3b528b; stroke-opacity: 0.464421\"/>\n    </g>\n    <g clip-path=\"url(#p2fa74d7e3c)\">\n     <use xlink:href=\"#C0_0_bce41a5a3d\" x=\"138.403821\" y=\"294.907817\" style=\"fill: #3b528b; fill-opacity: 0.46882; stroke: #3b528b; stroke-opacity: 0.46882\"/>\n    </g>\n    <g clip-path=\"url(#p2fa74d7e3c)\">\n     <use xlink:href=\"#C0_0_bce41a5a3d\" x=\"264.112078\" y=\"289.13552\" style=\"fill: #21918c; fill-opacity: 0.469385; stroke: #21918c; stroke-opacity: 0.469385\"/>\n    </g>\n    <g clip-path=\"url(#p2fa74d7e3c)\">\n     <use xlink:href=\"#C0_0_bce41a5a3d\" x=\"287.479481\" y=\"282.768248\" style=\"fill: #440154; fill-opacity: 0.470848; stroke: #440154; stroke-opacity: 0.470848\"/>\n    </g>\n    <g clip-path=\"url(#p2fa74d7e3c)\">\n     <use xlink:href=\"#C0_0_bce41a5a3d\" x=\"157.217606\" y=\"308.466155\" style=\"fill: #3b528b; fill-opacity: 0.471805; stroke: #3b528b; stroke-opacity: 0.471805\"/>\n    </g>\n    <g clip-path=\"url(#p2fa74d7e3c)\">\n     <use xlink:href=\"#C0_0_bce41a5a3d\" x=\"142.602496\" y=\"302.909452\" style=\"fill: #3b528b; fill-opacity: 0.473917; stroke: #3b528b; stroke-opacity: 0.473917\"/>\n    </g>\n    <g clip-path=\"url(#p2fa74d7e3c)\">\n     <use xlink:href=\"#C0_0_bce41a5a3d\" x=\"191.012207\" y=\"313.061655\" style=\"fill: #addc30; fill-opacity: 0.474319; stroke: #addc30; stroke-opacity: 0.474319\"/>\n    </g>\n    <g clip-path=\"url(#p2fa74d7e3c)\">\n     <use xlink:href=\"#C0_0_bce41a5a3d\" x=\"172.328426\" y=\"281.186733\" style=\"fill: #3b528b; fill-opacity: 0.474323; stroke: #3b528b; stroke-opacity: 0.474323\"/>\n    </g>\n    <g clip-path=\"url(#p2fa74d7e3c)\">\n     <use xlink:href=\"#C0_0_bce41a5a3d\" x=\"155.610915\" y=\"300.145693\" style=\"fill: #3b528b; fill-opacity: 0.474929; stroke: #3b528b; stroke-opacity: 0.474929\"/>\n    </g>\n    <g clip-path=\"url(#p2fa74d7e3c)\">\n     <use xlink:href=\"#C0_0_bce41a5a3d\" x=\"146.047694\" y=\"332.765247\" style=\"fill: #3b528b; fill-opacity: 0.475438; stroke: #3b528b; stroke-opacity: 0.475438\"/>\n    </g>\n    <g clip-path=\"url(#p2fa74d7e3c)\">\n     <use xlink:href=\"#C0_0_bce41a5a3d\" x=\"173.6845\" y=\"295.09507\" style=\"fill: #28ae80; fill-opacity: 0.476492; stroke: #28ae80; stroke-opacity: 0.476492\"/>\n    </g>\n    <g clip-path=\"url(#p2fa74d7e3c)\">\n     <use xlink:href=\"#C0_0_bce41a5a3d\" x=\"248.040501\" y=\"315.815484\" style=\"fill: #440154; fill-opacity: 0.476693; stroke: #440154; stroke-opacity: 0.476693\"/>\n    </g>\n    <g clip-path=\"url(#p2fa74d7e3c)\">\n     <use xlink:href=\"#C0_0_bce41a5a3d\" x=\"241.8272\" y=\"310.933381\" style=\"fill: #440154; fill-opacity: 0.477894; stroke: #440154; stroke-opacity: 0.477894\"/>\n    </g>\n    <g clip-path=\"url(#p2fa74d7e3c)\">\n     <use xlink:href=\"#C0_0_bce41a5a3d\" x=\"177.982151\" y=\"276.429638\" style=\"fill: #2c728e; fill-opacity: 0.478444; stroke: #2c728e; stroke-opacity: 0.478444\"/>\n    </g>\n    <g clip-path=\"url(#p2fa74d7e3c)\">\n     <use xlink:href=\"#C0_0_bce41a5a3d\" x=\"170.072414\" y=\"296.686364\" style=\"fill: #3b528b; fill-opacity: 0.479636; stroke: #3b528b; stroke-opacity: 0.479636\"/>\n    </g>\n    <g clip-path=\"url(#p2fa74d7e3c)\">\n     <use xlink:href=\"#C0_0_bce41a5a3d\" x=\"185.728496\" y=\"335.435366\" style=\"fill: #addc30; fill-opacity: 0.480277; stroke: #addc30; stroke-opacity: 0.480277\"/>\n    </g>\n    <g clip-path=\"url(#p2fa74d7e3c)\">\n     <use xlink:href=\"#C0_0_bce41a5a3d\" x=\"233.97075\" y=\"297.631197\" style=\"fill: #28ae80; fill-opacity: 0.480954; stroke: #28ae80; stroke-opacity: 0.480954\"/>\n    </g>\n    <g clip-path=\"url(#p2fa74d7e3c)\">\n     <use xlink:href=\"#C0_0_bce41a5a3d\" x=\"301.868869\" y=\"279.362225\" style=\"fill: #fde725; fill-opacity: 0.482077; stroke: #fde725; stroke-opacity: 0.482077\"/>\n    </g>\n    <g clip-path=\"url(#p2fa74d7e3c)\">\n     <use xlink:href=\"#C0_0_bce41a5a3d\" x=\"216.49682\" y=\"304.562627\" style=\"fill: #fde725; fill-opacity: 0.482414; stroke: #fde725; stroke-opacity: 0.482414\"/>\n    </g>\n    <g clip-path=\"url(#p2fa74d7e3c)\">\n     <use xlink:href=\"#C0_0_bce41a5a3d\" x=\"187.606629\" y=\"303.768546\" style=\"fill: #3b528b; fill-opacity: 0.485508; stroke: #3b528b; stroke-opacity: 0.485508\"/>\n    </g>\n    <g clip-path=\"url(#p2fa74d7e3c)\">\n     <use xlink:href=\"#C0_0_bce41a5a3d\" x=\"241.70373\" y=\"261.209362\" style=\"fill: #440154; fill-opacity: 0.485671; stroke: #440154; stroke-opacity: 0.485671\"/>\n    </g>\n    <g clip-path=\"url(#p2fa74d7e3c)\">\n     <use xlink:href=\"#C0_0_bce41a5a3d\" x=\"178.016741\" y=\"316.696699\" style=\"fill: #28ae80; fill-opacity: 0.487145; stroke: #28ae80; stroke-opacity: 0.487145\"/>\n    </g>\n    <g clip-path=\"url(#p2fa74d7e3c)\">\n     <use xlink:href=\"#C0_0_bce41a5a3d\" x=\"314.113501\" y=\"273.777648\" style=\"fill: #440154; fill-opacity: 0.48724; stroke: #440154; stroke-opacity: 0.48724\"/>\n    </g>\n    <g clip-path=\"url(#p2fa74d7e3c)\">\n     <use xlink:href=\"#C0_0_bce41a5a3d\" x=\"170.798887\" y=\"326.110615\" style=\"fill: #addc30; fill-opacity: 0.487844; stroke: #addc30; stroke-opacity: 0.487844\"/>\n    </g>\n    <g clip-path=\"url(#p2fa74d7e3c)\">\n     <use xlink:href=\"#C0_0_bce41a5a3d\" x=\"144.02178\" y=\"286.808272\" style=\"fill: #3b528b; fill-opacity: 0.489702; stroke: #3b528b; stroke-opacity: 0.489702\"/>\n    </g>\n    <g clip-path=\"url(#p2fa74d7e3c)\">\n     <use xlink:href=\"#C0_0_bce41a5a3d\" x=\"136.71946\" y=\"292.048167\" style=\"fill: #3b528b; fill-opacity: 0.490471; stroke: #3b528b; stroke-opacity: 0.490471\"/>\n    </g>\n    <g clip-path=\"url(#p2fa74d7e3c)\">\n     <use xlink:href=\"#C0_0_bce41a5a3d\" x=\"142.61814\" y=\"299.130754\" style=\"fill: #472d7b; fill-opacity: 0.491929; stroke: #472d7b; stroke-opacity: 0.491929\"/>\n    </g>\n    <g clip-path=\"url(#p2fa74d7e3c)\">\n     <use xlink:href=\"#C0_0_bce41a5a3d\" x=\"307.07193\" y=\"278.358457\" style=\"fill: #440154; fill-opacity: 0.492087; stroke: #440154; stroke-opacity: 0.492087\"/>\n    </g>\n    <g clip-path=\"url(#p2fa74d7e3c)\">\n     <use xlink:href=\"#C0_0_bce41a5a3d\" x=\"140.410235\" y=\"299.38453\" style=\"fill: #3b528b; fill-opacity: 0.494506; stroke: #3b528b; stroke-opacity: 0.494506\"/>\n    </g>\n    <g clip-path=\"url(#p2fa74d7e3c)\">\n     <use xlink:href=\"#C0_0_bce41a5a3d\" x=\"160.466643\" y=\"294.316258\" style=\"fill: #3b528b; fill-opacity: 0.494957; stroke: #3b528b; stroke-opacity: 0.494957\"/>\n    </g>\n    <g clip-path=\"url(#p2fa74d7e3c)\">\n     <use xlink:href=\"#C0_0_bce41a5a3d\" x=\"218.657111\" y=\"284.040123\" style=\"fill: #28ae80; fill-opacity: 0.495053; stroke: #28ae80; stroke-opacity: 0.495053\"/>\n    </g>\n    <g clip-path=\"url(#p2fa74d7e3c)\">\n     <use xlink:href=\"#C0_0_bce41a5a3d\" x=\"259.147862\" y=\"225.190465\" style=\"fill: #28ae80; fill-opacity: 0.495307; stroke: #28ae80; stroke-opacity: 0.495307\"/>\n    </g>\n    <g clip-path=\"url(#p2fa74d7e3c)\">\n     <use xlink:href=\"#C0_0_bce41a5a3d\" x=\"283.074208\" y=\"249.743501\" style=\"fill: #440154; fill-opacity: 0.495319; stroke: #440154; stroke-opacity: 0.495319\"/>\n    </g>\n    <g clip-path=\"url(#p2fa74d7e3c)\">\n     <use xlink:href=\"#C0_0_bce41a5a3d\" x=\"311.064239\" y=\"262.570235\" style=\"fill: #440154; fill-opacity: 0.497833; stroke: #440154; stroke-opacity: 0.497833\"/>\n    </g>\n    <g clip-path=\"url(#p2fa74d7e3c)\">\n     <use xlink:href=\"#C0_0_bce41a5a3d\" x=\"171.366721\" y=\"300.450885\" style=\"fill: #3b528b; fill-opacity: 0.498598; stroke: #3b528b; stroke-opacity: 0.498598\"/>\n    </g>\n    <g clip-path=\"url(#p2fa74d7e3c)\">\n     <use xlink:href=\"#C0_0_bce41a5a3d\" x=\"178.279517\" y=\"301.541215\" style=\"fill: #3b528b; fill-opacity: 0.498999; stroke: #3b528b; stroke-opacity: 0.498999\"/>\n    </g>\n    <g clip-path=\"url(#p2fa74d7e3c)\">\n     <use xlink:href=\"#C0_0_bce41a5a3d\" x=\"246.225125\" y=\"258.501499\" style=\"fill: #2c728e; fill-opacity: 0.50192; stroke: #2c728e; stroke-opacity: 0.50192\"/>\n    </g>\n    <g clip-path=\"url(#p2fa74d7e3c)\">\n     <use xlink:href=\"#C0_0_bce41a5a3d\" x=\"152.140604\" y=\"325.384777\" style=\"fill: #addc30; fill-opacity: 0.502053; stroke: #addc30; stroke-opacity: 0.502053\"/>\n    </g>\n    <g clip-path=\"url(#p2fa74d7e3c)\">\n     <use xlink:href=\"#C0_0_bce41a5a3d\" x=\"191.063795\" y=\"305.675981\" style=\"fill: #28ae80; fill-opacity: 0.502564; stroke: #28ae80; stroke-opacity: 0.502564\"/>\n    </g>\n    <g clip-path=\"url(#p2fa74d7e3c)\">\n     <use xlink:href=\"#C0_0_bce41a5a3d\" x=\"228.424448\" y=\"328.482222\" style=\"fill: #440154; fill-opacity: 0.503254; stroke: #440154; stroke-opacity: 0.503254\"/>\n    </g>\n    <g clip-path=\"url(#p2fa74d7e3c)\">\n     <use xlink:href=\"#C0_0_bce41a5a3d\" x=\"148.97247\" y=\"304.150375\" style=\"fill: #3b528b; fill-opacity: 0.505592; stroke: #3b528b; stroke-opacity: 0.505592\"/>\n    </g>\n    <g clip-path=\"url(#p2fa74d7e3c)\">\n     <use xlink:href=\"#C0_0_bce41a5a3d\" x=\"304.044114\" y=\"254.335675\" style=\"fill: #440154; fill-opacity: 0.506192; stroke: #440154; stroke-opacity: 0.506192\"/>\n    </g>\n    <g clip-path=\"url(#p2fa74d7e3c)\">\n     <use xlink:href=\"#C0_0_bce41a5a3d\" x=\"214.059511\" y=\"334.431145\" style=\"fill: #addc30; fill-opacity: 0.506952; stroke: #addc30; stroke-opacity: 0.506952\"/>\n    </g>\n    <g clip-path=\"url(#p2fa74d7e3c)\">\n     <use xlink:href=\"#C0_0_bce41a5a3d\" x=\"206.547408\" y=\"280.327631\" style=\"fill: #28ae80; fill-opacity: 0.507968; stroke: #28ae80; stroke-opacity: 0.507968\"/>\n    </g>\n    <g clip-path=\"url(#p2fa74d7e3c)\">\n     <use xlink:href=\"#C0_0_bce41a5a3d\" x=\"195.442115\" y=\"267.571033\" style=\"fill: #28ae80; fill-opacity: 0.510244; stroke: #28ae80; stroke-opacity: 0.510244\"/>\n    </g>\n    <g clip-path=\"url(#p2fa74d7e3c)\">\n     <use xlink:href=\"#C0_0_bce41a5a3d\" x=\"195.865597\" y=\"319.495687\" style=\"fill: #28ae80; fill-opacity: 0.510813; stroke: #28ae80; stroke-opacity: 0.510813\"/>\n    </g>\n    <g clip-path=\"url(#p2fa74d7e3c)\">\n     <use xlink:href=\"#C0_0_bce41a5a3d\" x=\"187.700996\" y=\"327.735669\" style=\"fill: #3b528b; fill-opacity: 0.510847; stroke: #3b528b; stroke-opacity: 0.510847\"/>\n    </g>\n    <g clip-path=\"url(#p2fa74d7e3c)\">\n     <use xlink:href=\"#C0_0_bce41a5a3d\" x=\"164.367152\" y=\"204.630138\" style=\"fill: #472d7b; fill-opacity: 0.511502; stroke: #472d7b; stroke-opacity: 0.511502\"/>\n    </g>\n    <g clip-path=\"url(#p2fa74d7e3c)\">\n     <use xlink:href=\"#C0_0_bce41a5a3d\" x=\"316.504167\" y=\"239.750094\" style=\"fill: #440154; fill-opacity: 0.511657; stroke: #440154; stroke-opacity: 0.511657\"/>\n    </g>\n    <g clip-path=\"url(#p2fa74d7e3c)\">\n     <use xlink:href=\"#C0_0_bce41a5a3d\" x=\"196.658766\" y=\"290.03972\" style=\"fill: #28ae80; fill-opacity: 0.512559; stroke: #28ae80; stroke-opacity: 0.512559\"/>\n    </g>\n    <g clip-path=\"url(#p2fa74d7e3c)\">\n     <use xlink:href=\"#C0_0_bce41a5a3d\" x=\"139.66027\" y=\"311.894729\" style=\"fill: #3b528b; fill-opacity: 0.514102; stroke: #3b528b; stroke-opacity: 0.514102\"/>\n    </g>\n    <g clip-path=\"url(#p2fa74d7e3c)\">\n     <use xlink:href=\"#C0_0_bce41a5a3d\" x=\"162.216998\" y=\"276.490895\" style=\"fill: #2c728e; fill-opacity: 0.515025; stroke: #2c728e; stroke-opacity: 0.515025\"/>\n    </g>\n    <g clip-path=\"url(#p2fa74d7e3c)\">\n     <use xlink:href=\"#C0_0_bce41a5a3d\" x=\"273.166353\" y=\"296.421744\" style=\"fill: #440154; fill-opacity: 0.515071; stroke: #440154; stroke-opacity: 0.515071\"/>\n    </g>\n    <g clip-path=\"url(#p2fa74d7e3c)\">\n     <use xlink:href=\"#C0_0_bce41a5a3d\" x=\"271.40563\" y=\"286.331992\" style=\"fill: #440154; fill-opacity: 0.515213; stroke: #440154; stroke-opacity: 0.515213\"/>\n    </g>\n    <g clip-path=\"url(#p2fa74d7e3c)\">\n     <use xlink:href=\"#C0_0_bce41a5a3d\" x=\"159.009162\" y=\"310.076868\" style=\"fill: #3b528b; fill-opacity: 0.515238; stroke: #3b528b; stroke-opacity: 0.515238\"/>\n    </g>\n    <g clip-path=\"url(#p2fa74d7e3c)\">\n     <use xlink:href=\"#C0_0_bce41a5a3d\" x=\"172.842425\" y=\"310.264817\" style=\"fill: #28ae80; fill-opacity: 0.5158; stroke: #28ae80; stroke-opacity: 0.5158\"/>\n    </g>\n    <g clip-path=\"url(#p2fa74d7e3c)\">\n     <use xlink:href=\"#C0_0_bce41a5a3d\" x=\"208.264319\" y=\"297.37787\" style=\"fill: #28ae80; fill-opacity: 0.516455; stroke: #28ae80; stroke-opacity: 0.516455\"/>\n    </g>\n    <g clip-path=\"url(#p2fa74d7e3c)\">\n     <use xlink:href=\"#C0_0_bce41a5a3d\" x=\"250.698677\" y=\"227.731518\" style=\"fill: #28ae80; fill-opacity: 0.517248; stroke: #28ae80; stroke-opacity: 0.517248\"/>\n    </g>\n    <g clip-path=\"url(#p2fa74d7e3c)\">\n     <use xlink:href=\"#C0_0_bce41a5a3d\" x=\"150.478152\" y=\"317.519002\" style=\"fill: #3b528b; fill-opacity: 0.518985; stroke: #3b528b; stroke-opacity: 0.518985\"/>\n    </g>\n    <g clip-path=\"url(#p2fa74d7e3c)\">\n     <use xlink:href=\"#C0_0_bce41a5a3d\" x=\"152.945997\" y=\"292.969031\" style=\"fill: #3b528b; fill-opacity: 0.519268; stroke: #3b528b; stroke-opacity: 0.519268\"/>\n    </g>\n    <g clip-path=\"url(#p2fa74d7e3c)\">\n     <use xlink:href=\"#C0_0_bce41a5a3d\" x=\"178.969082\" y=\"283.898234\" style=\"fill: #28ae80; fill-opacity: 0.520208; stroke: #28ae80; stroke-opacity: 0.520208\"/>\n    </g>\n    <g clip-path=\"url(#p2fa74d7e3c)\">\n     <use xlink:href=\"#C0_0_bce41a5a3d\" x=\"170.091172\" y=\"303.446209\" style=\"fill: #3b528b; fill-opacity: 0.520673; stroke: #3b528b; stroke-opacity: 0.520673\"/>\n    </g>\n    <g clip-path=\"url(#p2fa74d7e3c)\">\n     <use xlink:href=\"#C0_0_bce41a5a3d\" x=\"149.118535\" y=\"318.825162\" style=\"fill: #3b528b; fill-opacity: 0.520762; stroke: #3b528b; stroke-opacity: 0.520762\"/>\n    </g>\n    <g clip-path=\"url(#p2fa74d7e3c)\">\n     <use xlink:href=\"#C0_0_bce41a5a3d\" x=\"144.236273\" y=\"325.238031\" style=\"fill: #3b528b; fill-opacity: 0.520779; stroke: #3b528b; stroke-opacity: 0.520779\"/>\n    </g>\n    <g clip-path=\"url(#p2fa74d7e3c)\">\n     <use xlink:href=\"#C0_0_bce41a5a3d\" x=\"169.54615\" y=\"299.101545\" style=\"fill: #440154; fill-opacity: 0.520874; stroke: #440154; stroke-opacity: 0.520874\"/>\n    </g>\n    <g clip-path=\"url(#p2fa74d7e3c)\">\n     <use xlink:href=\"#C0_0_bce41a5a3d\" x=\"252.064193\" y=\"291.311355\" style=\"fill: #fde725; fill-opacity: 0.522555; stroke: #fde725; stroke-opacity: 0.522555\"/>\n    </g>\n    <g clip-path=\"url(#p2fa74d7e3c)\">\n     <use xlink:href=\"#C0_0_bce41a5a3d\" x=\"183.014609\" y=\"302.698111\" style=\"fill: #28ae80; fill-opacity: 0.523285; stroke: #28ae80; stroke-opacity: 0.523285\"/>\n    </g>\n    <g clip-path=\"url(#p2fa74d7e3c)\">\n     <use xlink:href=\"#C0_0_bce41a5a3d\" x=\"299.616782\" y=\"268.008577\" style=\"fill: #440154; fill-opacity: 0.525384; stroke: #440154; stroke-opacity: 0.525384\"/>\n    </g>\n    <g clip-path=\"url(#p2fa74d7e3c)\">\n     <use xlink:href=\"#C0_0_bce41a5a3d\" x=\"209.366414\" y=\"288.938401\" style=\"fill: #28ae80; fill-opacity: 0.525955; stroke: #28ae80; stroke-opacity: 0.525955\"/>\n    </g>\n    <g clip-path=\"url(#p2fa74d7e3c)\">\n     <use xlink:href=\"#C0_0_bce41a5a3d\" x=\"205.851915\" y=\"346.196213\" style=\"fill: #addc30; fill-opacity: 0.527857; stroke: #addc30; stroke-opacity: 0.527857\"/>\n    </g>\n    <g clip-path=\"url(#p2fa74d7e3c)\">\n     <use xlink:href=\"#C0_0_bce41a5a3d\" x=\"177.524456\" y=\"287.71008\" style=\"fill: #3b528b; fill-opacity: 0.529063; stroke: #3b528b; stroke-opacity: 0.529063\"/>\n    </g>\n    <g clip-path=\"url(#p2fa74d7e3c)\">\n     <use xlink:href=\"#C0_0_bce41a5a3d\" x=\"152.055796\" y=\"262.030856\" style=\"fill: #2c728e; fill-opacity: 0.531233; stroke: #2c728e; stroke-opacity: 0.531233\"/>\n    </g>\n    <g clip-path=\"url(#p2fa74d7e3c)\">\n     <use xlink:href=\"#C0_0_bce41a5a3d\" x=\"169.923654\" y=\"285.100765\" style=\"fill: #3b528b; fill-opacity: 0.531272; stroke: #3b528b; stroke-opacity: 0.531272\"/>\n    </g>\n    <g clip-path=\"url(#p2fa74d7e3c)\">\n     <use xlink:href=\"#C0_0_bce41a5a3d\" x=\"283.65988\" y=\"289.814064\" style=\"fill: #440154; fill-opacity: 0.532417; stroke: #440154; stroke-opacity: 0.532417\"/>\n    </g>\n    <g clip-path=\"url(#p2fa74d7e3c)\">\n     <use xlink:href=\"#C0_0_bce41a5a3d\" x=\"221.059865\" y=\"332.824173\" style=\"fill: #fde725; fill-opacity: 0.532502; stroke: #fde725; stroke-opacity: 0.532502\"/>\n    </g>\n    <g clip-path=\"url(#p2fa74d7e3c)\">\n     <use xlink:href=\"#C0_0_bce41a5a3d\" x=\"230.476532\" y=\"286.349784\" style=\"fill: #28ae80; fill-opacity: 0.532603; stroke: #28ae80; stroke-opacity: 0.532603\"/>\n    </g>\n    <g clip-path=\"url(#p2fa74d7e3c)\">\n     <use xlink:href=\"#C0_0_bce41a5a3d\" x=\"186.108245\" y=\"323.405177\" style=\"fill: #28ae80; fill-opacity: 0.532786; stroke: #28ae80; stroke-opacity: 0.532786\"/>\n    </g>\n    <g clip-path=\"url(#p2fa74d7e3c)\">\n     <use xlink:href=\"#C0_0_bce41a5a3d\" x=\"169.503732\" y=\"324.239304\" style=\"fill: #3b528b; fill-opacity: 0.533493; stroke: #3b528b; stroke-opacity: 0.533493\"/>\n    </g>\n    <g clip-path=\"url(#p2fa74d7e3c)\">\n     <use xlink:href=\"#C0_0_bce41a5a3d\" x=\"313.185036\" y=\"244.004819\" style=\"fill: #440154; fill-opacity: 0.533631; stroke: #440154; stroke-opacity: 0.533631\"/>\n    </g>\n    <g clip-path=\"url(#p2fa74d7e3c)\">\n     <use xlink:href=\"#C0_0_bce41a5a3d\" x=\"151.611763\" y=\"293.078058\" style=\"fill: #3b528b; fill-opacity: 0.533983; stroke: #3b528b; stroke-opacity: 0.533983\"/>\n    </g>\n    <g clip-path=\"url(#p2fa74d7e3c)\">\n     <use xlink:href=\"#C0_0_bce41a5a3d\" x=\"132.953131\" y=\"256.829063\" style=\"fill: #3b528b; fill-opacity: 0.534044; stroke: #3b528b; stroke-opacity: 0.534044\"/>\n    </g>\n    <g clip-path=\"url(#p2fa74d7e3c)\">\n     <use xlink:href=\"#C0_0_bce41a5a3d\" x=\"170.549574\" y=\"313.197189\" style=\"fill: #3b528b; fill-opacity: 0.534529; stroke: #3b528b; stroke-opacity: 0.534529\"/>\n    </g>\n    <g clip-path=\"url(#p2fa74d7e3c)\">\n     <use xlink:href=\"#C0_0_bce41a5a3d\" x=\"145.693901\" y=\"268.74185\" style=\"fill: #2c728e; fill-opacity: 0.534694; stroke: #2c728e; stroke-opacity: 0.534694\"/>\n    </g>\n    <g clip-path=\"url(#p2fa74d7e3c)\">\n     <use xlink:href=\"#C0_0_bce41a5a3d\" x=\"252.341303\" y=\"267.855182\" style=\"fill: #fde725; fill-opacity: 0.535018; stroke: #fde725; stroke-opacity: 0.535018\"/>\n    </g>\n    <g clip-path=\"url(#p2fa74d7e3c)\">\n     <use xlink:href=\"#C0_0_bce41a5a3d\" x=\"248.510746\" y=\"309.933681\" style=\"fill: #440154; fill-opacity: 0.535444; stroke: #440154; stroke-opacity: 0.535444\"/>\n    </g>\n    <g clip-path=\"url(#p2fa74d7e3c)\">\n     <use xlink:href=\"#C0_0_bce41a5a3d\" x=\"133.573182\" y=\"305.651279\" style=\"fill: #3b528b; fill-opacity: 0.538197; stroke: #3b528b; stroke-opacity: 0.538197\"/>\n    </g>\n    <g clip-path=\"url(#p2fa74d7e3c)\">\n     <use xlink:href=\"#C0_0_bce41a5a3d\" x=\"206.294709\" y=\"345.166988\" style=\"fill: #28ae80; fill-opacity: 0.540122; stroke: #28ae80; stroke-opacity: 0.540122\"/>\n    </g>\n    <g clip-path=\"url(#p2fa74d7e3c)\">\n     <use xlink:href=\"#C0_0_bce41a5a3d\" x=\"180.338724\" y=\"314.317235\" style=\"fill: #3b528b; fill-opacity: 0.54055; stroke: #3b528b; stroke-opacity: 0.54055\"/>\n    </g>\n    <g clip-path=\"url(#p2fa74d7e3c)\">\n     <use xlink:href=\"#C0_0_bce41a5a3d\" x=\"160.21002\" y=\"303.291804\" style=\"fill: #3b528b; fill-opacity: 0.541257; stroke: #3b528b; stroke-opacity: 0.541257\"/>\n    </g>\n    <g clip-path=\"url(#p2fa74d7e3c)\">\n     <use xlink:href=\"#C0_0_bce41a5a3d\" x=\"188.827879\" y=\"322.324763\" style=\"fill: #3b528b; fill-opacity: 0.543484; stroke: #3b528b; stroke-opacity: 0.543484\"/>\n    </g>\n    <g clip-path=\"url(#p2fa74d7e3c)\">\n     <use xlink:href=\"#C0_0_bce41a5a3d\" x=\"245.012939\" y=\"316.851674\" style=\"fill: #addc30; fill-opacity: 0.545276; stroke: #addc30; stroke-opacity: 0.545276\"/>\n    </g>\n    <g clip-path=\"url(#p2fa74d7e3c)\">\n     <use xlink:href=\"#C0_0_bce41a5a3d\" x=\"257.489647\" y=\"320.150206\" style=\"fill: #440154; fill-opacity: 0.545719; stroke: #440154; stroke-opacity: 0.545719\"/>\n    </g>\n    <g clip-path=\"url(#p2fa74d7e3c)\">\n     <use xlink:href=\"#C0_0_bce41a5a3d\" x=\"279.060982\" y=\"296.786399\" style=\"fill: #440154; fill-opacity: 0.546882; stroke: #440154; stroke-opacity: 0.546882\"/>\n    </g>\n    <g clip-path=\"url(#p2fa74d7e3c)\">\n     <use xlink:href=\"#C0_0_bce41a5a3d\" x=\"263.255643\" y=\"287.548701\" style=\"fill: #440154; fill-opacity: 0.549467; stroke: #440154; stroke-opacity: 0.549467\"/>\n    </g>\n    <g clip-path=\"url(#p2fa74d7e3c)\">\n     <use xlink:href=\"#C0_0_bce41a5a3d\" x=\"223.362928\" y=\"308.159125\" style=\"fill: #fde725; fill-opacity: 0.552206; stroke: #fde725; stroke-opacity: 0.552206\"/>\n    </g>\n    <g clip-path=\"url(#p2fa74d7e3c)\">\n     <use xlink:href=\"#C0_0_bce41a5a3d\" x=\"144.610777\" y=\"286.405699\" style=\"fill: #3b528b; fill-opacity: 0.552418; stroke: #3b528b; stroke-opacity: 0.552418\"/>\n    </g>\n    <g clip-path=\"url(#p2fa74d7e3c)\">\n     <use xlink:href=\"#C0_0_bce41a5a3d\" x=\"148.97339\" y=\"321.023659\" style=\"fill: #3b528b; fill-opacity: 0.55414; stroke: #3b528b; stroke-opacity: 0.55414\"/>\n    </g>\n    <g clip-path=\"url(#p2fa74d7e3c)\">\n     <use xlink:href=\"#C0_0_bce41a5a3d\" x=\"288.538745\" y=\"267.713296\" style=\"fill: #440154; fill-opacity: 0.555023; stroke: #440154; stroke-opacity: 0.555023\"/>\n    </g>\n    <g clip-path=\"url(#p2fa74d7e3c)\">\n     <use xlink:href=\"#C0_0_bce41a5a3d\" x=\"145.068761\" y=\"347.042628\" style=\"fill: #3b528b; fill-opacity: 0.556053; stroke: #3b528b; stroke-opacity: 0.556053\"/>\n    </g>\n    <g clip-path=\"url(#p2fa74d7e3c)\">\n     <use xlink:href=\"#C0_0_bce41a5a3d\" x=\"280.988819\" y=\"288.944459\" style=\"fill: #440154; fill-opacity: 0.556226; stroke: #440154; stroke-opacity: 0.556226\"/>\n    </g>\n    <g clip-path=\"url(#p2fa74d7e3c)\">\n     <use xlink:href=\"#C0_0_bce41a5a3d\" x=\"266.151028\" y=\"291.438422\" style=\"fill: #440154; fill-opacity: 0.556434; stroke: #440154; stroke-opacity: 0.556434\"/>\n    </g>\n    <g clip-path=\"url(#p2fa74d7e3c)\">\n     <use xlink:href=\"#C0_0_bce41a5a3d\" x=\"148.620541\" y=\"299.238879\" style=\"fill: #3b528b; fill-opacity: 0.556952; stroke: #3b528b; stroke-opacity: 0.556952\"/>\n    </g>\n    <g clip-path=\"url(#p2fa74d7e3c)\">\n     <use xlink:href=\"#C0_0_bce41a5a3d\" x=\"298.668107\" y=\"288.422033\" style=\"fill: #440154; fill-opacity: 0.557246; stroke: #440154; stroke-opacity: 0.557246\"/>\n    </g>\n    <g clip-path=\"url(#p2fa74d7e3c)\">\n     <use xlink:href=\"#C0_0_bce41a5a3d\" x=\"228.284922\" y=\"335.524898\" style=\"fill: #addc30; fill-opacity: 0.558382; stroke: #addc30; stroke-opacity: 0.558382\"/>\n    </g>\n    <g clip-path=\"url(#p2fa74d7e3c)\">\n     <use xlink:href=\"#C0_0_bce41a5a3d\" x=\"178.267015\" y=\"345.024574\" style=\"fill: #addc30; fill-opacity: 0.559661; stroke: #addc30; stroke-opacity: 0.559661\"/>\n    </g>\n    <g clip-path=\"url(#p2fa74d7e3c)\">\n     <use xlink:href=\"#C0_0_bce41a5a3d\" x=\"154.539353\" y=\"303.227334\" style=\"fill: #3b528b; fill-opacity: 0.559911; stroke: #3b528b; stroke-opacity: 0.559911\"/>\n    </g>\n    <g clip-path=\"url(#p2fa74d7e3c)\">\n     <use xlink:href=\"#C0_0_bce41a5a3d\" x=\"187.750924\" y=\"351.580919\" style=\"fill: #addc30; fill-opacity: 0.56246; stroke: #addc30; stroke-opacity: 0.56246\"/>\n    </g>\n    <g clip-path=\"url(#p2fa74d7e3c)\">\n     <use xlink:href=\"#C0_0_bce41a5a3d\" x=\"266.983221\" y=\"284.430879\" style=\"fill: #28ae80; fill-opacity: 0.562525; stroke: #28ae80; stroke-opacity: 0.562525\"/>\n    </g>\n    <g clip-path=\"url(#p2fa74d7e3c)\">\n     <use xlink:href=\"#C0_0_bce41a5a3d\" x=\"309.669664\" y=\"255.559211\" style=\"fill: #440154; fill-opacity: 0.563523; stroke: #440154; stroke-opacity: 0.563523\"/>\n    </g>\n    <g clip-path=\"url(#p2fa74d7e3c)\">\n     <use xlink:href=\"#C0_0_bce41a5a3d\" x=\"191.050227\" y=\"331.717571\" style=\"fill: #28ae80; fill-opacity: 0.563775; stroke: #28ae80; stroke-opacity: 0.563775\"/>\n    </g>\n    <g clip-path=\"url(#p2fa74d7e3c)\">\n     <use xlink:href=\"#C0_0_bce41a5a3d\" x=\"307.712425\" y=\"166.753061\" style=\"fill: #440154; fill-opacity: 0.565109; stroke: #440154; stroke-opacity: 0.565109\"/>\n    </g>\n    <g clip-path=\"url(#p2fa74d7e3c)\">\n     <use xlink:href=\"#C0_0_bce41a5a3d\" x=\"223.372619\" y=\"334.085854\" style=\"fill: #28ae80; fill-opacity: 0.565201; stroke: #28ae80; stroke-opacity: 0.565201\"/>\n    </g>\n    <g clip-path=\"url(#p2fa74d7e3c)\">\n     <use xlink:href=\"#C0_0_bce41a5a3d\" x=\"234.101993\" y=\"313.507342\" style=\"fill: #440154; fill-opacity: 0.565462; stroke: #440154; stroke-opacity: 0.565462\"/>\n    </g>\n    <g clip-path=\"url(#p2fa74d7e3c)\">\n     <use xlink:href=\"#C0_0_bce41a5a3d\" x=\"187.036044\" y=\"332.196189\" style=\"fill: #28ae80; fill-opacity: 0.566193; stroke: #28ae80; stroke-opacity: 0.566193\"/>\n    </g>\n    <g clip-path=\"url(#p2fa74d7e3c)\">\n     <use xlink:href=\"#C0_0_bce41a5a3d\" x=\"205.709263\" y=\"317.828172\" style=\"fill: #fde725; fill-opacity: 0.567059; stroke: #fde725; stroke-opacity: 0.567059\"/>\n    </g>\n    <g clip-path=\"url(#p2fa74d7e3c)\">\n     <use xlink:href=\"#C0_0_bce41a5a3d\" x=\"238.38371\" y=\"313.146859\" style=\"fill: #21918c; fill-opacity: 0.567671; stroke: #21918c; stroke-opacity: 0.567671\"/>\n    </g>\n    <g clip-path=\"url(#p2fa74d7e3c)\">\n     <use xlink:href=\"#C0_0_bce41a5a3d\" x=\"276.342367\" y=\"324.593369\" style=\"fill: #440154; fill-opacity: 0.570223; stroke: #440154; stroke-opacity: 0.570223\"/>\n    </g>\n    <g clip-path=\"url(#p2fa74d7e3c)\">\n     <use xlink:href=\"#C0_0_bce41a5a3d\" x=\"188.99406\" y=\"316.322385\" style=\"fill: #28ae80; fill-opacity: 0.57154; stroke: #28ae80; stroke-opacity: 0.57154\"/>\n    </g>\n    <g clip-path=\"url(#p2fa74d7e3c)\">\n     <use xlink:href=\"#C0_0_bce41a5a3d\" x=\"299.754045\" y=\"286.358413\" style=\"fill: #440154; fill-opacity: 0.572226; stroke: #440154; stroke-opacity: 0.572226\"/>\n    </g>\n    <g clip-path=\"url(#p2fa74d7e3c)\">\n     <use xlink:href=\"#C0_0_bce41a5a3d\" x=\"297.77261\" y=\"273.228858\" style=\"fill: #440154; fill-opacity: 0.572707; stroke: #440154; stroke-opacity: 0.572707\"/>\n    </g>\n    <g clip-path=\"url(#p2fa74d7e3c)\">\n     <use xlink:href=\"#C0_0_bce41a5a3d\" x=\"185.581851\" y=\"289.896123\" style=\"fill: #28ae80; fill-opacity: 0.572874; stroke: #28ae80; stroke-opacity: 0.572874\"/>\n    </g>\n    <g clip-path=\"url(#p2fa74d7e3c)\">\n     <use xlink:href=\"#C0_0_bce41a5a3d\" x=\"158.130393\" y=\"318.388808\" style=\"fill: #3b528b; fill-opacity: 0.573113; stroke: #3b528b; stroke-opacity: 0.573113\"/>\n    </g>\n    <g clip-path=\"url(#p2fa74d7e3c)\">\n     <use xlink:href=\"#C0_0_bce41a5a3d\" x=\"271.840095\" y=\"314.528564\" style=\"fill: #440154; fill-opacity: 0.573287; stroke: #440154; stroke-opacity: 0.573287\"/>\n    </g>\n    <g clip-path=\"url(#p2fa74d7e3c)\">\n     <use xlink:href=\"#C0_0_bce41a5a3d\" x=\"265.349038\" y=\"256.320944\" style=\"fill: #28ae80; fill-opacity: 0.574075; stroke: #28ae80; stroke-opacity: 0.574075\"/>\n    </g>\n    <g clip-path=\"url(#p2fa74d7e3c)\">\n     <use xlink:href=\"#C0_0_bce41a5a3d\" x=\"277.513365\" y=\"298.267011\" style=\"fill: #440154; fill-opacity: 0.57457; stroke: #440154; stroke-opacity: 0.57457\"/>\n    </g>\n    <g clip-path=\"url(#p2fa74d7e3c)\">\n     <use xlink:href=\"#C0_0_bce41a5a3d\" x=\"194.744279\" y=\"225.374981\" style=\"fill: #2c728e; fill-opacity: 0.574634; stroke: #2c728e; stroke-opacity: 0.574634\"/>\n    </g>\n    <g clip-path=\"url(#p2fa74d7e3c)\">\n     <use xlink:href=\"#C0_0_bce41a5a3d\" x=\"201.703334\" y=\"314.687341\" style=\"fill: #28ae80; fill-opacity: 0.574912; stroke: #28ae80; stroke-opacity: 0.574912\"/>\n    </g>\n    <g clip-path=\"url(#p2fa74d7e3c)\">\n     <use xlink:href=\"#C0_0_bce41a5a3d\" x=\"194.756785\" y=\"315.582342\" style=\"fill: #28ae80; fill-opacity: 0.574985; stroke: #28ae80; stroke-opacity: 0.574985\"/>\n    </g>\n    <g clip-path=\"url(#p2fa74d7e3c)\">\n     <use xlink:href=\"#C0_0_bce41a5a3d\" x=\"153.429271\" y=\"318.733496\" style=\"fill: #3b528b; fill-opacity: 0.575015; stroke: #3b528b; stroke-opacity: 0.575015\"/>\n    </g>\n    <g clip-path=\"url(#p2fa74d7e3c)\">\n     <use xlink:href=\"#C0_0_bce41a5a3d\" x=\"301.204472\" y=\"289.913978\" style=\"fill: #440154; fill-opacity: 0.575575; stroke: #440154; stroke-opacity: 0.575575\"/>\n    </g>\n    <g clip-path=\"url(#p2fa74d7e3c)\">\n     <use xlink:href=\"#C0_0_bce41a5a3d\" x=\"300.536936\" y=\"276.614763\" style=\"fill: #440154; fill-opacity: 0.576394; stroke: #440154; stroke-opacity: 0.576394\"/>\n    </g>\n    <g clip-path=\"url(#p2fa74d7e3c)\">\n     <use xlink:href=\"#C0_0_bce41a5a3d\" x=\"195.649424\" y=\"296.861682\" style=\"fill: #28ae80; fill-opacity: 0.577197; stroke: #28ae80; stroke-opacity: 0.577197\"/>\n    </g>\n    <g clip-path=\"url(#p2fa74d7e3c)\">\n     <use xlink:href=\"#C0_0_bce41a5a3d\" x=\"188.461526\" y=\"326.130214\" style=\"fill: #28ae80; fill-opacity: 0.577377; stroke: #28ae80; stroke-opacity: 0.577377\"/>\n    </g>\n    <g clip-path=\"url(#p2fa74d7e3c)\">\n     <use xlink:href=\"#C0_0_bce41a5a3d\" x=\"317.869499\" y=\"273.151448\" style=\"fill: #440154; fill-opacity: 0.577522; stroke: #440154; stroke-opacity: 0.577522\"/>\n    </g>\n    <g clip-path=\"url(#p2fa74d7e3c)\">\n     <use xlink:href=\"#C0_0_bce41a5a3d\" x=\"161.197592\" y=\"317.89003\" style=\"fill: #3b528b; fill-opacity: 0.578993; stroke: #3b528b; stroke-opacity: 0.578993\"/>\n    </g>\n    <g clip-path=\"url(#p2fa74d7e3c)\">\n     <use xlink:href=\"#C0_0_bce41a5a3d\" x=\"164.850656\" y=\"329.871161\" style=\"fill: #3b528b; fill-opacity: 0.579107; stroke: #3b528b; stroke-opacity: 0.579107\"/>\n    </g>\n    <g clip-path=\"url(#p2fa74d7e3c)\">\n     <use xlink:href=\"#C0_0_bce41a5a3d\" x=\"286.594732\" y=\"299.279167\" style=\"fill: #440154; fill-opacity: 0.579751; stroke: #440154; stroke-opacity: 0.579751\"/>\n    </g>\n    <g clip-path=\"url(#p2fa74d7e3c)\">\n     <use xlink:href=\"#C0_0_bce41a5a3d\" x=\"256.103668\" y=\"311.990915\" style=\"fill: #fde725; fill-opacity: 0.580554; stroke: #fde725; stroke-opacity: 0.580554\"/>\n    </g>\n    <g clip-path=\"url(#p2fa74d7e3c)\">\n     <use xlink:href=\"#C0_0_bce41a5a3d\" x=\"255.968089\" y=\"292.15545\" style=\"fill: #440154; fill-opacity: 0.584302; stroke: #440154; stroke-opacity: 0.584302\"/>\n    </g>\n    <g clip-path=\"url(#p2fa74d7e3c)\">\n     <use xlink:href=\"#C0_0_bce41a5a3d\" x=\"295.182097\" y=\"274.763347\" style=\"fill: #440154; fill-opacity: 0.584832; stroke: #440154; stroke-opacity: 0.584832\"/>\n    </g>\n    <g clip-path=\"url(#p2fa74d7e3c)\">\n     <use xlink:href=\"#C0_0_bce41a5a3d\" x=\"233.279624\" y=\"325.479613\" style=\"fill: #fde725; fill-opacity: 0.586009; stroke: #fde725; stroke-opacity: 0.586009\"/>\n    </g>\n    <g clip-path=\"url(#p2fa74d7e3c)\">\n     <use xlink:href=\"#C0_0_bce41a5a3d\" x=\"160.038874\" y=\"323.460168\" style=\"fill: #5ec962; fill-opacity: 0.586562; stroke: #5ec962; stroke-opacity: 0.586562\"/>\n    </g>\n    <g clip-path=\"url(#p2fa74d7e3c)\">\n     <use xlink:href=\"#C0_0_bce41a5a3d\" x=\"219.449426\" y=\"316.549074\" style=\"fill: #28ae80; fill-opacity: 0.586866; stroke: #28ae80; stroke-opacity: 0.586866\"/>\n    </g>\n    <g clip-path=\"url(#p2fa74d7e3c)\">\n     <use xlink:href=\"#C0_0_bce41a5a3d\" x=\"308.041146\" y=\"267.676008\" style=\"fill: #440154; fill-opacity: 0.58723; stroke: #440154; stroke-opacity: 0.58723\"/>\n    </g>\n    <g clip-path=\"url(#p2fa74d7e3c)\">\n     <use xlink:href=\"#C0_0_bce41a5a3d\" x=\"143.866474\" y=\"281.331902\" style=\"fill: #472d7b; fill-opacity: 0.587293; stroke: #472d7b; stroke-opacity: 0.587293\"/>\n    </g>\n    <g clip-path=\"url(#p2fa74d7e3c)\">\n     <use xlink:href=\"#C0_0_bce41a5a3d\" x=\"162.202831\" y=\"328.150163\" style=\"fill: #5ec962; fill-opacity: 0.587934; stroke: #5ec962; stroke-opacity: 0.587934\"/>\n    </g>\n    <g clip-path=\"url(#p2fa74d7e3c)\">\n     <use xlink:href=\"#C0_0_bce41a5a3d\" x=\"173.272266\" y=\"250.109493\" style=\"fill: #2c728e; fill-opacity: 0.588627; stroke: #2c728e; stroke-opacity: 0.588627\"/>\n    </g>\n    <g clip-path=\"url(#p2fa74d7e3c)\">\n     <use xlink:href=\"#C0_0_bce41a5a3d\" x=\"207.381086\" y=\"261.146148\" style=\"fill: #2c728e; fill-opacity: 0.588661; stroke: #2c728e; stroke-opacity: 0.588661\"/>\n    </g>\n    <g clip-path=\"url(#p2fa74d7e3c)\">\n     <use xlink:href=\"#C0_0_bce41a5a3d\" x=\"204.979232\" y=\"275.935723\" style=\"fill: #28ae80; fill-opacity: 0.58977; stroke: #28ae80; stroke-opacity: 0.58977\"/>\n    </g>\n    <g clip-path=\"url(#p2fa74d7e3c)\">\n     <use xlink:href=\"#C0_0_bce41a5a3d\" x=\"222.285515\" y=\"276.598534\" style=\"fill: #28ae80; fill-opacity: 0.59112; stroke: #28ae80; stroke-opacity: 0.59112\"/>\n    </g>\n    <g clip-path=\"url(#p2fa74d7e3c)\">\n     <use xlink:href=\"#C0_0_bce41a5a3d\" x=\"254.38967\" y=\"276.306247\" style=\"fill: #fde725; fill-opacity: 0.591436; stroke: #fde725; stroke-opacity: 0.591436\"/>\n    </g>\n    <g clip-path=\"url(#p2fa74d7e3c)\">\n     <use xlink:href=\"#C0_0_bce41a5a3d\" x=\"138.379731\" y=\"241.333814\" style=\"fill: #3b528b; fill-opacity: 0.591598; stroke: #3b528b; stroke-opacity: 0.591598\"/>\n    </g>\n    <g clip-path=\"url(#p2fa74d7e3c)\">\n     <use xlink:href=\"#C0_0_bce41a5a3d\" x=\"274.844764\" y=\"315.162533\" style=\"fill: #440154; fill-opacity: 0.59195; stroke: #440154; stroke-opacity: 0.59195\"/>\n    </g>\n    <g clip-path=\"url(#p2fa74d7e3c)\">\n     <use xlink:href=\"#C0_0_bce41a5a3d\" x=\"284.298529\" y=\"318.46863\" style=\"fill: #440154; fill-opacity: 0.592629; stroke: #440154; stroke-opacity: 0.592629\"/>\n    </g>\n    <g clip-path=\"url(#p2fa74d7e3c)\">\n     <use xlink:href=\"#C0_0_bce41a5a3d\" x=\"218.458509\" y=\"287.928607\" style=\"fill: #28ae80; fill-opacity: 0.593242; stroke: #28ae80; stroke-opacity: 0.593242\"/>\n    </g>\n    <g clip-path=\"url(#p2fa74d7e3c)\">\n     <use xlink:href=\"#C0_0_bce41a5a3d\" x=\"199.218549\" y=\"219.077021\" style=\"fill: #2c728e; fill-opacity: 0.593872; stroke: #2c728e; stroke-opacity: 0.593872\"/>\n    </g>\n    <g clip-path=\"url(#p2fa74d7e3c)\">\n     <use xlink:href=\"#C0_0_bce41a5a3d\" x=\"229.927087\" y=\"285.208982\" style=\"fill: #28ae80; fill-opacity: 0.594337; stroke: #28ae80; stroke-opacity: 0.594337\"/>\n    </g>\n    <g clip-path=\"url(#p2fa74d7e3c)\">\n     <use xlink:href=\"#C0_0_bce41a5a3d\" x=\"145.936728\" y=\"322.511796\" style=\"fill: #3b528b; fill-opacity: 0.594581; stroke: #3b528b; stroke-opacity: 0.594581\"/>\n    </g>\n    <g clip-path=\"url(#p2fa74d7e3c)\">\n     <use xlink:href=\"#C0_0_bce41a5a3d\" x=\"182.762108\" y=\"335.005457\" style=\"fill: #21918c; fill-opacity: 0.595936; stroke: #21918c; stroke-opacity: 0.595936\"/>\n    </g>\n    <g clip-path=\"url(#p2fa74d7e3c)\">\n     <use xlink:href=\"#C0_0_bce41a5a3d\" x=\"138.873965\" y=\"343.43562\" style=\"fill: #3b528b; fill-opacity: 0.596322; stroke: #3b528b; stroke-opacity: 0.596322\"/>\n    </g>\n    <g clip-path=\"url(#p2fa74d7e3c)\">\n     <use xlink:href=\"#C0_0_bce41a5a3d\" x=\"212.414767\" y=\"314.265875\" style=\"fill: #28ae80; fill-opacity: 0.596718; stroke: #28ae80; stroke-opacity: 0.596718\"/>\n    </g>\n    <g clip-path=\"url(#p2fa74d7e3c)\">\n     <use xlink:href=\"#C0_0_bce41a5a3d\" x=\"283.640236\" y=\"312.359028\" style=\"fill: #440154; fill-opacity: 0.596734; stroke: #440154; stroke-opacity: 0.596734\"/>\n    </g>\n    <g clip-path=\"url(#p2fa74d7e3c)\">\n     <use xlink:href=\"#C0_0_bce41a5a3d\" x=\"264.285178\" y=\"312.921524\" style=\"fill: #440154; fill-opacity: 0.596901; stroke: #440154; stroke-opacity: 0.596901\"/>\n    </g>\n    <g clip-path=\"url(#p2fa74d7e3c)\">\n     <use xlink:href=\"#C0_0_bce41a5a3d\" x=\"185.658601\" y=\"363.695876\" style=\"fill: #addc30; fill-opacity: 0.597893; stroke: #addc30; stroke-opacity: 0.597893\"/>\n    </g>\n    <g clip-path=\"url(#p2fa74d7e3c)\">\n     <use xlink:href=\"#C0_0_bce41a5a3d\" x=\"131.165331\" y=\"309.999145\" style=\"fill: #28ae80; fill-opacity: 0.599136; stroke: #28ae80; stroke-opacity: 0.599136\"/>\n    </g>\n    <g clip-path=\"url(#p2fa74d7e3c)\">\n     <use xlink:href=\"#C0_0_bce41a5a3d\" x=\"164.884773\" y=\"364.841863\" style=\"fill: #addc30; fill-opacity: 0.600197; stroke: #addc30; stroke-opacity: 0.600197\"/>\n    </g>\n    <g clip-path=\"url(#p2fa74d7e3c)\">\n     <use xlink:href=\"#C0_0_bce41a5a3d\" x=\"285.222723\" y=\"301.395166\" style=\"fill: #440154; fill-opacity: 0.600603; stroke: #440154; stroke-opacity: 0.600603\"/>\n    </g>\n    <g clip-path=\"url(#p2fa74d7e3c)\">\n     <use xlink:href=\"#C0_0_bce41a5a3d\" x=\"169.324679\" y=\"334.737894\" style=\"fill: #28ae80; fill-opacity: 0.604127; stroke: #28ae80; stroke-opacity: 0.604127\"/>\n    </g>\n    <g clip-path=\"url(#p2fa74d7e3c)\">\n     <use xlink:href=\"#C0_0_bce41a5a3d\" x=\"317.183769\" y=\"263.092262\" style=\"fill: #440154; fill-opacity: 0.604363; stroke: #440154; stroke-opacity: 0.604363\"/>\n    </g>\n    <g clip-path=\"url(#p2fa74d7e3c)\">\n     <use xlink:href=\"#C0_0_bce41a5a3d\" x=\"297.266564\" y=\"294.188856\" style=\"fill: #440154; fill-opacity: 0.604643; stroke: #440154; stroke-opacity: 0.604643\"/>\n    </g>\n    <g clip-path=\"url(#p2fa74d7e3c)\">\n     <use xlink:href=\"#C0_0_bce41a5a3d\" x=\"230.815356\" y=\"250.000901\" style=\"fill: #28ae80; fill-opacity: 0.605257; stroke: #28ae80; stroke-opacity: 0.605257\"/>\n    </g>\n    <g clip-path=\"url(#p2fa74d7e3c)\">\n     <use xlink:href=\"#C0_0_bce41a5a3d\" x=\"292.856715\" y=\"285.679038\" style=\"fill: #440154; fill-opacity: 0.6058; stroke: #440154; stroke-opacity: 0.6058\"/>\n    </g>\n    <g clip-path=\"url(#p2fa74d7e3c)\">\n     <use xlink:href=\"#C0_0_bce41a5a3d\" x=\"292.541055\" y=\"315.708886\" style=\"fill: #440154; fill-opacity: 0.607022; stroke: #440154; stroke-opacity: 0.607022\"/>\n    </g>\n    <g clip-path=\"url(#p2fa74d7e3c)\">\n     <use xlink:href=\"#C0_0_bce41a5a3d\" x=\"228.890268\" y=\"183.526064\" style=\"fill: #2c728e; fill-opacity: 0.607421; stroke: #2c728e; stroke-opacity: 0.607421\"/>\n    </g>\n    <g clip-path=\"url(#p2fa74d7e3c)\">\n     <use xlink:href=\"#C0_0_bce41a5a3d\" x=\"213.384391\" y=\"308.936675\" style=\"fill: #28ae80; fill-opacity: 0.608472; stroke: #28ae80; stroke-opacity: 0.608472\"/>\n    </g>\n    <g clip-path=\"url(#p2fa74d7e3c)\">\n     <use xlink:href=\"#C0_0_bce41a5a3d\" x=\"204.509987\" y=\"308.31978\" style=\"fill: #28ae80; fill-opacity: 0.609249; stroke: #28ae80; stroke-opacity: 0.609249\"/>\n    </g>\n    <g clip-path=\"url(#p2fa74d7e3c)\">\n     <use xlink:href=\"#C0_0_bce41a5a3d\" x=\"181.34195\" y=\"224.111973\" style=\"fill: #2c728e; fill-opacity: 0.609924; stroke: #2c728e; stroke-opacity: 0.609924\"/>\n    </g>\n    <g clip-path=\"url(#p2fa74d7e3c)\">\n     <use xlink:href=\"#C0_0_bce41a5a3d\" x=\"300.865159\" y=\"279.244783\" style=\"fill: #440154; fill-opacity: 0.609934; stroke: #440154; stroke-opacity: 0.609934\"/>\n    </g>\n    <g clip-path=\"url(#p2fa74d7e3c)\">\n     <use xlink:href=\"#C0_0_bce41a5a3d\" x=\"140.025878\" y=\"282.516295\" style=\"fill: #28ae80; fill-opacity: 0.612509; stroke: #28ae80; stroke-opacity: 0.612509\"/>\n    </g>\n    <g clip-path=\"url(#p2fa74d7e3c)\">\n     <use xlink:href=\"#C0_0_bce41a5a3d\" x=\"175.854096\" y=\"299.301443\" style=\"fill: #28ae80; fill-opacity: 0.612816; stroke: #28ae80; stroke-opacity: 0.612816\"/>\n    </g>\n    <g clip-path=\"url(#p2fa74d7e3c)\">\n     <use xlink:href=\"#C0_0_bce41a5a3d\" x=\"270.340742\" y=\"302.460586\" style=\"fill: #440154; fill-opacity: 0.614638; stroke: #440154; stroke-opacity: 0.614638\"/>\n    </g>\n    <g clip-path=\"url(#p2fa74d7e3c)\">\n     <use xlink:href=\"#C0_0_bce41a5a3d\" x=\"169.487447\" y=\"364.229723\" style=\"fill: #addc30; fill-opacity: 0.61491; stroke: #addc30; stroke-opacity: 0.61491\"/>\n    </g>\n    <g clip-path=\"url(#p2fa74d7e3c)\">\n     <use xlink:href=\"#C0_0_bce41a5a3d\" x=\"290.725011\" y=\"308.758248\" style=\"fill: #440154; fill-opacity: 0.615042; stroke: #440154; stroke-opacity: 0.615042\"/>\n    </g>\n    <g clip-path=\"url(#p2fa74d7e3c)\">\n     <use xlink:href=\"#C0_0_bce41a5a3d\" x=\"302.755834\" y=\"307.90598\" style=\"fill: #440154; fill-opacity: 0.615529; stroke: #440154; stroke-opacity: 0.615529\"/>\n    </g>\n    <g clip-path=\"url(#p2fa74d7e3c)\">\n     <use xlink:href=\"#C0_0_bce41a5a3d\" x=\"156.657979\" y=\"344.796424\" style=\"fill: #3b528b; fill-opacity: 0.616408; stroke: #3b528b; stroke-opacity: 0.616408\"/>\n    </g>\n    <g clip-path=\"url(#p2fa74d7e3c)\">\n     <use xlink:href=\"#C0_0_bce41a5a3d\" x=\"141.705498\" y=\"261.785869\" style=\"fill: #3b528b; fill-opacity: 0.616467; stroke: #3b528b; stroke-opacity: 0.616467\"/>\n    </g>\n    <g clip-path=\"url(#p2fa74d7e3c)\">\n     <use xlink:href=\"#C0_0_bce41a5a3d\" x=\"256.084383\" y=\"327.822196\" style=\"fill: #fde725; fill-opacity: 0.616606; stroke: #fde725; stroke-opacity: 0.616606\"/>\n    </g>\n    <g clip-path=\"url(#p2fa74d7e3c)\">\n     <use xlink:href=\"#C0_0_bce41a5a3d\" x=\"274.982678\" y=\"312.184059\" style=\"fill: #21918c; fill-opacity: 0.616703; stroke: #21918c; stroke-opacity: 0.616703\"/>\n    </g>\n    <g clip-path=\"url(#p2fa74d7e3c)\">\n     <use xlink:href=\"#C0_0_bce41a5a3d\" x=\"208.371799\" y=\"307.959449\" style=\"fill: #28ae80; fill-opacity: 0.61675; stroke: #28ae80; stroke-opacity: 0.61675\"/>\n    </g>\n    <g clip-path=\"url(#p2fa74d7e3c)\">\n     <use xlink:href=\"#C0_0_bce41a5a3d\" x=\"240.197455\" y=\"323.078067\" style=\"fill: #21918c; fill-opacity: 0.617049; stroke: #21918c; stroke-opacity: 0.617049\"/>\n    </g>\n    <g clip-path=\"url(#p2fa74d7e3c)\">\n     <use xlink:href=\"#C0_0_bce41a5a3d\" x=\"210.160427\" y=\"372.06562\" style=\"fill: #addc30; fill-opacity: 0.617867; stroke: #addc30; stroke-opacity: 0.617867\"/>\n    </g>\n    <g clip-path=\"url(#p2fa74d7e3c)\">\n     <use xlink:href=\"#C0_0_bce41a5a3d\" x=\"155.792276\" y=\"228.387989\" style=\"fill: #472d7b; fill-opacity: 0.618198; stroke: #472d7b; stroke-opacity: 0.618198\"/>\n    </g>\n    <g clip-path=\"url(#p2fa74d7e3c)\">\n     <use xlink:href=\"#C0_0_bce41a5a3d\" x=\"225.802322\" y=\"277.551986\" style=\"fill: #28ae80; fill-opacity: 0.618578; stroke: #28ae80; stroke-opacity: 0.618578\"/>\n    </g>\n    <g clip-path=\"url(#p2fa74d7e3c)\">\n     <use xlink:href=\"#C0_0_bce41a5a3d\" x=\"176.211606\" y=\"220.952248\" style=\"fill: #472d7b; fill-opacity: 0.622715; stroke: #472d7b; stroke-opacity: 0.622715\"/>\n    </g>\n    <g clip-path=\"url(#p2fa74d7e3c)\">\n     <use xlink:href=\"#C0_0_bce41a5a3d\" x=\"193.709411\" y=\"324.886725\" style=\"fill: #3b528b; fill-opacity: 0.622882; stroke: #3b528b; stroke-opacity: 0.622882\"/>\n    </g>\n    <g clip-path=\"url(#p2fa74d7e3c)\">\n     <use xlink:href=\"#C0_0_bce41a5a3d\" x=\"192.97017\" y=\"238.543353\" style=\"fill: #2c728e; fill-opacity: 0.622893; stroke: #2c728e; stroke-opacity: 0.622893\"/>\n    </g>\n    <g clip-path=\"url(#p2fa74d7e3c)\">\n     <use xlink:href=\"#C0_0_bce41a5a3d\" x=\"214.398157\" y=\"298.982398\" style=\"fill: #28ae80; fill-opacity: 0.623499; stroke: #28ae80; stroke-opacity: 0.623499\"/>\n    </g>\n    <g clip-path=\"url(#p2fa74d7e3c)\">\n     <use xlink:href=\"#C0_0_bce41a5a3d\" x=\"138.34836\" y=\"292.066613\" style=\"fill: #3b528b; fill-opacity: 0.624625; stroke: #3b528b; stroke-opacity: 0.624625\"/>\n    </g>\n    <g clip-path=\"url(#p2fa74d7e3c)\">\n     <use xlink:href=\"#C0_0_bce41a5a3d\" x=\"288.098431\" y=\"327.346897\" style=\"fill: #440154; fill-opacity: 0.625434; stroke: #440154; stroke-opacity: 0.625434\"/>\n    </g>\n    <g clip-path=\"url(#p2fa74d7e3c)\">\n     <use xlink:href=\"#C0_0_bce41a5a3d\" x=\"273.3426\" y=\"337.238503\" style=\"fill: #21918c; fill-opacity: 0.627064; stroke: #21918c; stroke-opacity: 0.627064\"/>\n    </g>\n    <g clip-path=\"url(#p2fa74d7e3c)\">\n     <use xlink:href=\"#C0_0_bce41a5a3d\" x=\"267.763275\" y=\"334.921066\" style=\"fill: #fde725; fill-opacity: 0.627728; stroke: #fde725; stroke-opacity: 0.627728\"/>\n    </g>\n    <g clip-path=\"url(#p2fa74d7e3c)\">\n     <use xlink:href=\"#C0_0_bce41a5a3d\" x=\"241.190257\" y=\"304.69778\" style=\"fill: #28ae80; fill-opacity: 0.630445; stroke: #28ae80; stroke-opacity: 0.630445\"/>\n    </g>\n    <g clip-path=\"url(#p2fa74d7e3c)\">\n     <use xlink:href=\"#C0_0_bce41a5a3d\" x=\"229.745582\" y=\"294.716203\" style=\"fill: #21918c; fill-opacity: 0.631567; stroke: #21918c; stroke-opacity: 0.631567\"/>\n    </g>\n    <g clip-path=\"url(#p2fa74d7e3c)\">\n     <use xlink:href=\"#C0_0_bce41a5a3d\" x=\"267.172396\" y=\"306.625584\" style=\"fill: #440154; fill-opacity: 0.631933; stroke: #440154; stroke-opacity: 0.631933\"/>\n    </g>\n    <g clip-path=\"url(#p2fa74d7e3c)\">\n     <use xlink:href=\"#C0_0_bce41a5a3d\" x=\"196.90392\" y=\"220.166641\" style=\"fill: #2c728e; fill-opacity: 0.632016; stroke: #2c728e; stroke-opacity: 0.632016\"/>\n    </g>\n    <g clip-path=\"url(#p2fa74d7e3c)\">\n     <use xlink:href=\"#C0_0_bce41a5a3d\" x=\"228.130129\" y=\"307.489387\" style=\"fill: #fde725; fill-opacity: 0.633126; stroke: #fde725; stroke-opacity: 0.633126\"/>\n    </g>\n    <g clip-path=\"url(#p2fa74d7e3c)\">\n     <use xlink:href=\"#C0_0_bce41a5a3d\" x=\"289.406195\" y=\"308.255063\" style=\"fill: #440154; fill-opacity: 0.635166; stroke: #440154; stroke-opacity: 0.635166\"/>\n    </g>\n    <g clip-path=\"url(#p2fa74d7e3c)\">\n     <use xlink:href=\"#C0_0_bce41a5a3d\" x=\"271.272448\" y=\"322.210583\" style=\"fill: #21918c; fill-opacity: 0.636842; stroke: #21918c; stroke-opacity: 0.636842\"/>\n    </g>\n    <g clip-path=\"url(#p2fa74d7e3c)\">\n     <use xlink:href=\"#C0_0_bce41a5a3d\" x=\"282.821667\" y=\"310.102003\" style=\"fill: #440154; fill-opacity: 0.637099; stroke: #440154; stroke-opacity: 0.637099\"/>\n    </g>\n    <g clip-path=\"url(#p2fa74d7e3c)\">\n     <use xlink:href=\"#C0_0_bce41a5a3d\" x=\"289.689866\" y=\"313.515473\" style=\"fill: #440154; fill-opacity: 0.637171; stroke: #440154; stroke-opacity: 0.637171\"/>\n    </g>\n    <g clip-path=\"url(#p2fa74d7e3c)\">\n     <use xlink:href=\"#C0_0_bce41a5a3d\" x=\"224.381437\" y=\"291.047371\" style=\"fill: #28ae80; fill-opacity: 0.639224; stroke: #28ae80; stroke-opacity: 0.639224\"/>\n    </g>\n    <g clip-path=\"url(#p2fa74d7e3c)\">\n     <use xlink:href=\"#C0_0_bce41a5a3d\" x=\"229.002967\" y=\"320.467582\" style=\"fill: #28ae80; fill-opacity: 0.63972; stroke: #28ae80; stroke-opacity: 0.63972\"/>\n    </g>\n    <g clip-path=\"url(#p2fa74d7e3c)\">\n     <use xlink:href=\"#C0_0_bce41a5a3d\" x=\"202.574938\" y=\"310.929021\" style=\"fill: #28ae80; fill-opacity: 0.63977; stroke: #28ae80; stroke-opacity: 0.63977\"/>\n    </g>\n    <g clip-path=\"url(#p2fa74d7e3c)\">\n     <use xlink:href=\"#C0_0_bce41a5a3d\" x=\"297.860262\" y=\"305.05023\" style=\"fill: #440154; fill-opacity: 0.640459; stroke: #440154; stroke-opacity: 0.640459\"/>\n    </g>\n    <g clip-path=\"url(#p2fa74d7e3c)\">\n     <use xlink:href=\"#C0_0_bce41a5a3d\" x=\"201.100103\" y=\"370.888809\" style=\"fill: #5ec962; fill-opacity: 0.642226; stroke: #5ec962; stroke-opacity: 0.642226\"/>\n    </g>\n    <g clip-path=\"url(#p2fa74d7e3c)\">\n     <use xlink:href=\"#C0_0_bce41a5a3d\" x=\"179.170312\" y=\"230.097799\" style=\"fill: #2c728e; fill-opacity: 0.643197; stroke: #2c728e; stroke-opacity: 0.643197\"/>\n    </g>\n    <g clip-path=\"url(#p2fa74d7e3c)\">\n     <use xlink:href=\"#C0_0_bce41a5a3d\" x=\"268.844221\" y=\"308.66763\" style=\"fill: #28ae80; fill-opacity: 0.643225; stroke: #28ae80; stroke-opacity: 0.643225\"/>\n    </g>\n    <g clip-path=\"url(#p2fa74d7e3c)\">\n     <use xlink:href=\"#C0_0_bce41a5a3d\" x=\"231.828521\" y=\"331.145186\" style=\"fill: #fde725; fill-opacity: 0.64365; stroke: #fde725; stroke-opacity: 0.64365\"/>\n    </g>\n    <g clip-path=\"url(#p2fa74d7e3c)\">\n     <use xlink:href=\"#C0_0_bce41a5a3d\" x=\"178.063336\" y=\"321.985084\" style=\"fill: #5ec962; fill-opacity: 0.643858; stroke: #5ec962; stroke-opacity: 0.643858\"/>\n    </g>\n    <g clip-path=\"url(#p2fa74d7e3c)\">\n     <use xlink:href=\"#C0_0_bce41a5a3d\" x=\"185.891143\" y=\"322.743632\" style=\"fill: #28ae80; fill-opacity: 0.644787; stroke: #28ae80; stroke-opacity: 0.644787\"/>\n    </g>\n    <g clip-path=\"url(#p2fa74d7e3c)\">\n     <use xlink:href=\"#C0_0_bce41a5a3d\" x=\"180.696414\" y=\"374.313188\" style=\"fill: #5ec962; fill-opacity: 0.646317; stroke: #5ec962; stroke-opacity: 0.646317\"/>\n    </g>\n    <g clip-path=\"url(#p2fa74d7e3c)\">\n     <use xlink:href=\"#C0_0_bce41a5a3d\" x=\"227.938077\" y=\"307.848514\" style=\"fill: #28ae80; fill-opacity: 0.646501; stroke: #28ae80; stroke-opacity: 0.646501\"/>\n    </g>\n    <g clip-path=\"url(#p2fa74d7e3c)\">\n     <use xlink:href=\"#C0_0_bce41a5a3d\" x=\"181.123327\" y=\"324.686814\" style=\"fill: #28ae80; fill-opacity: 0.646584; stroke: #28ae80; stroke-opacity: 0.646584\"/>\n    </g>\n    <g clip-path=\"url(#p2fa74d7e3c)\">\n     <use xlink:href=\"#C0_0_bce41a5a3d\" x=\"265.435371\" y=\"331.479716\" style=\"fill: #440154; fill-opacity: 0.647275; stroke: #440154; stroke-opacity: 0.647275\"/>\n    </g>\n    <g clip-path=\"url(#p2fa74d7e3c)\">\n     <use xlink:href=\"#C0_0_bce41a5a3d\" x=\"219.828536\" y=\"274.141359\" style=\"fill: #28ae80; fill-opacity: 0.647985; stroke: #28ae80; stroke-opacity: 0.647985\"/>\n    </g>\n    <g clip-path=\"url(#p2fa74d7e3c)\">\n     <use xlink:href=\"#C0_0_bce41a5a3d\" x=\"297.017053\" y=\"289.796489\" style=\"fill: #440154; fill-opacity: 0.648552; stroke: #440154; stroke-opacity: 0.648552\"/>\n    </g>\n    <g clip-path=\"url(#p2fa74d7e3c)\">\n     <use xlink:href=\"#C0_0_bce41a5a3d\" x=\"204.54525\" y=\"310.845095\" style=\"fill: #28ae80; fill-opacity: 0.649626; stroke: #28ae80; stroke-opacity: 0.649626\"/>\n    </g>\n    <g clip-path=\"url(#p2fa74d7e3c)\">\n     <use xlink:href=\"#C0_0_bce41a5a3d\" x=\"222.253375\" y=\"320.046623\" style=\"fill: #28ae80; fill-opacity: 0.65003; stroke: #28ae80; stroke-opacity: 0.65003\"/>\n    </g>\n    <g clip-path=\"url(#p2fa74d7e3c)\">\n     <use xlink:href=\"#C0_0_bce41a5a3d\" x=\"275.347206\" y=\"317.921226\" style=\"fill: #21918c; fill-opacity: 0.650453; stroke: #21918c; stroke-opacity: 0.650453\"/>\n    </g>\n    <g clip-path=\"url(#p2fa74d7e3c)\">\n     <use xlink:href=\"#C0_0_bce41a5a3d\" x=\"153.978677\" y=\"320.478019\" style=\"fill: #3b528b; fill-opacity: 0.650813; stroke: #3b528b; stroke-opacity: 0.650813\"/>\n    </g>\n    <g clip-path=\"url(#p2fa74d7e3c)\">\n     <use xlink:href=\"#C0_0_bce41a5a3d\" x=\"259.549637\" y=\"338.72689\" style=\"fill: #21918c; fill-opacity: 0.651248; stroke: #21918c; stroke-opacity: 0.651248\"/>\n    </g>\n    <g clip-path=\"url(#p2fa74d7e3c)\">\n     <use xlink:href=\"#C0_0_bce41a5a3d\" x=\"173.12414\" y=\"337.186349\" style=\"fill: #5ec962; fill-opacity: 0.652049; stroke: #5ec962; stroke-opacity: 0.652049\"/>\n    </g>\n    <g clip-path=\"url(#p2fa74d7e3c)\">\n     <use xlink:href=\"#C0_0_bce41a5a3d\" x=\"193.449147\" y=\"236.399086\" style=\"fill: #2c728e; fill-opacity: 0.652271; stroke: #2c728e; stroke-opacity: 0.652271\"/>\n    </g>\n    <g clip-path=\"url(#p2fa74d7e3c)\">\n     <use xlink:href=\"#C0_0_bce41a5a3d\" x=\"132.532224\" y=\"275.188692\" style=\"fill: #472d7b; fill-opacity: 0.652495; stroke: #472d7b; stroke-opacity: 0.652495\"/>\n    </g>\n    <g clip-path=\"url(#p2fa74d7e3c)\">\n     <use xlink:href=\"#C0_0_bce41a5a3d\" x=\"293.307071\" y=\"228.416271\" style=\"fill: #440154; fill-opacity: 0.653075; stroke: #440154; stroke-opacity: 0.653075\"/>\n    </g>\n    <g clip-path=\"url(#p2fa74d7e3c)\">\n     <use xlink:href=\"#C0_0_bce41a5a3d\" x=\"144.506269\" y=\"261.415741\" style=\"fill: #472d7b; fill-opacity: 0.653338; stroke: #472d7b; stroke-opacity: 0.653338\"/>\n    </g>\n    <g clip-path=\"url(#p2fa74d7e3c)\">\n     <use xlink:href=\"#C0_0_bce41a5a3d\" x=\"136.427237\" y=\"313.502594\" style=\"fill: #472d7b; fill-opacity: 0.653821; stroke: #472d7b; stroke-opacity: 0.653821\"/>\n    </g>\n    <g clip-path=\"url(#p2fa74d7e3c)\">\n     <use xlink:href=\"#C0_0_bce41a5a3d\" x=\"199.83959\" y=\"327.762009\" style=\"fill: #28ae80; fill-opacity: 0.653963; stroke: #28ae80; stroke-opacity: 0.653963\"/>\n    </g>\n    <g clip-path=\"url(#p2fa74d7e3c)\">\n     <use xlink:href=\"#C0_0_bce41a5a3d\" x=\"198.016068\" y=\"337.283711\" style=\"fill: #28ae80; fill-opacity: 0.654819; stroke: #28ae80; stroke-opacity: 0.654819\"/>\n    </g>\n    <g clip-path=\"url(#p2fa74d7e3c)\">\n     <use xlink:href=\"#C0_0_bce41a5a3d\" x=\"238.216052\" y=\"343.976779\" style=\"fill: #21918c; fill-opacity: 0.655011; stroke: #21918c; stroke-opacity: 0.655011\"/>\n    </g>\n    <g clip-path=\"url(#p2fa74d7e3c)\">\n     <use xlink:href=\"#C0_0_bce41a5a3d\" x=\"230.262856\" y=\"305.161035\" style=\"fill: #fde725; fill-opacity: 0.655067; stroke: #fde725; stroke-opacity: 0.655067\"/>\n    </g>\n    <g clip-path=\"url(#p2fa74d7e3c)\">\n     <use xlink:href=\"#C0_0_bce41a5a3d\" x=\"207.346272\" y=\"311.726635\" style=\"fill: #28ae80; fill-opacity: 0.655244; stroke: #28ae80; stroke-opacity: 0.655244\"/>\n    </g>\n    <g clip-path=\"url(#p2fa74d7e3c)\">\n     <use xlink:href=\"#C0_0_bce41a5a3d\" x=\"170.347954\" y=\"291.87468\" style=\"fill: #2c728e; fill-opacity: 0.655903; stroke: #2c728e; stroke-opacity: 0.655903\"/>\n    </g>\n    <g clip-path=\"url(#p2fa74d7e3c)\">\n     <use xlink:href=\"#C0_0_bce41a5a3d\" x=\"201.656429\" y=\"232.931076\" style=\"fill: #2c728e; fill-opacity: 0.656859; stroke: #2c728e; stroke-opacity: 0.656859\"/>\n    </g>\n    <g clip-path=\"url(#p2fa74d7e3c)\">\n     <use xlink:href=\"#C0_0_bce41a5a3d\" x=\"265.129101\" y=\"339.709569\" style=\"fill: #21918c; fill-opacity: 0.657179; stroke: #21918c; stroke-opacity: 0.657179\"/>\n    </g>\n    <g clip-path=\"url(#p2fa74d7e3c)\">\n     <use xlink:href=\"#C0_0_bce41a5a3d\" x=\"131.161224\" y=\"297.385619\" style=\"fill: #3b528b; fill-opacity: 0.657408; stroke: #3b528b; stroke-opacity: 0.657408\"/>\n    </g>\n    <g clip-path=\"url(#p2fa74d7e3c)\">\n     <use xlink:href=\"#C0_0_bce41a5a3d\" x=\"221.103458\" y=\"294.944121\" style=\"fill: #28ae80; fill-opacity: 0.657504; stroke: #28ae80; stroke-opacity: 0.657504\"/>\n    </g>\n    <g clip-path=\"url(#p2fa74d7e3c)\">\n     <use xlink:href=\"#C0_0_bce41a5a3d\" x=\"130.577099\" y=\"330.513141\" style=\"fill: #3b528b; fill-opacity: 0.659433; stroke: #3b528b; stroke-opacity: 0.659433\"/>\n    </g>\n    <g clip-path=\"url(#p2fa74d7e3c)\">\n     <use xlink:href=\"#C0_0_bce41a5a3d\" x=\"237.552525\" y=\"361.731136\" style=\"fill: #21918c; fill-opacity: 0.659992; stroke: #21918c; stroke-opacity: 0.659992\"/>\n    </g>\n    <g clip-path=\"url(#p2fa74d7e3c)\">\n     <use xlink:href=\"#C0_0_bce41a5a3d\" x=\"176.422649\" y=\"246.005564\" style=\"fill: #2c728e; fill-opacity: 0.660907; stroke: #2c728e; stroke-opacity: 0.660907\"/>\n    </g>\n    <g clip-path=\"url(#p2fa74d7e3c)\">\n     <use xlink:href=\"#C0_0_bce41a5a3d\" x=\"226.512151\" y=\"333.729048\" style=\"fill: #21918c; fill-opacity: 0.661668; stroke: #21918c; stroke-opacity: 0.661668\"/>\n    </g>\n    <g clip-path=\"url(#p2fa74d7e3c)\">\n     <use xlink:href=\"#C0_0_bce41a5a3d\" x=\"170.41156\" y=\"265.924718\" style=\"fill: #2c728e; fill-opacity: 0.661802; stroke: #2c728e; stroke-opacity: 0.661802\"/>\n    </g>\n    <g clip-path=\"url(#p2fa74d7e3c)\">\n     <use xlink:href=\"#C0_0_bce41a5a3d\" x=\"195.858112\" y=\"229.033798\" style=\"fill: #2c728e; fill-opacity: 0.662405; stroke: #2c728e; stroke-opacity: 0.662405\"/>\n    </g>\n    <g clip-path=\"url(#p2fa74d7e3c)\">\n     <use xlink:href=\"#C0_0_bce41a5a3d\" x=\"140.03537\" y=\"278.907886\" style=\"fill: #472d7b; fill-opacity: 0.662509; stroke: #472d7b; stroke-opacity: 0.662509\"/>\n    </g>\n    <g clip-path=\"url(#p2fa74d7e3c)\">\n     <use xlink:href=\"#C0_0_bce41a5a3d\" x=\"159.258238\" y=\"309.108244\" style=\"fill: #3b528b; fill-opacity: 0.663115; stroke: #3b528b; stroke-opacity: 0.663115\"/>\n    </g>\n    <g clip-path=\"url(#p2fa74d7e3c)\">\n     <use xlink:href=\"#C0_0_bce41a5a3d\" x=\"282.936246\" y=\"332.002796\" style=\"fill: #21918c; fill-opacity: 0.663745; stroke: #21918c; stroke-opacity: 0.663745\"/>\n    </g>\n    <g clip-path=\"url(#p2fa74d7e3c)\">\n     <use xlink:href=\"#C0_0_bce41a5a3d\" x=\"299.191424\" y=\"320.095452\" style=\"fill: #21918c; fill-opacity: 0.664599; stroke: #21918c; stroke-opacity: 0.664599\"/>\n    </g>\n    <g clip-path=\"url(#p2fa74d7e3c)\">\n     <use xlink:href=\"#C0_0_bce41a5a3d\" x=\"138.474603\" y=\"273.351806\" style=\"fill: #472d7b; fill-opacity: 0.664871; stroke: #472d7b; stroke-opacity: 0.664871\"/>\n    </g>\n    <g clip-path=\"url(#p2fa74d7e3c)\">\n     <use xlink:href=\"#C0_0_bce41a5a3d\" x=\"285.413806\" y=\"327.466553\" style=\"fill: #21918c; fill-opacity: 0.666975; stroke: #21918c; stroke-opacity: 0.666975\"/>\n    </g>\n    <g clip-path=\"url(#p2fa74d7e3c)\">\n     <use xlink:href=\"#C0_0_bce41a5a3d\" x=\"201.099133\" y=\"355.637283\" style=\"fill: #addc30; fill-opacity: 0.667719; stroke: #addc30; stroke-opacity: 0.667719\"/>\n    </g>\n    <g clip-path=\"url(#p2fa74d7e3c)\">\n     <use xlink:href=\"#C0_0_bce41a5a3d\" x=\"299.553756\" y=\"303.971044\" style=\"fill: #440154; fill-opacity: 0.668154; stroke: #440154; stroke-opacity: 0.668154\"/>\n    </g>\n    <g clip-path=\"url(#p2fa74d7e3c)\">\n     <use xlink:href=\"#C0_0_bce41a5a3d\" x=\"217.924058\" y=\"219.642732\" style=\"fill: #2c728e; fill-opacity: 0.668627; stroke: #2c728e; stroke-opacity: 0.668627\"/>\n    </g>\n    <g clip-path=\"url(#p2fa74d7e3c)\">\n     <use xlink:href=\"#C0_0_bce41a5a3d\" x=\"223.403051\" y=\"358.557262\" style=\"fill: #21918c; fill-opacity: 0.669215; stroke: #21918c; stroke-opacity: 0.669215\"/>\n    </g>\n    <g clip-path=\"url(#p2fa74d7e3c)\">\n     <use xlink:href=\"#C0_0_bce41a5a3d\" x=\"122.196311\" y=\"303.832164\" style=\"fill: #472d7b; fill-opacity: 0.669298; stroke: #472d7b; stroke-opacity: 0.669298\"/>\n    </g>\n    <g clip-path=\"url(#p2fa74d7e3c)\">\n     <use xlink:href=\"#C0_0_bce41a5a3d\" x=\"163.712744\" y=\"291.801732\" style=\"fill: #2c728e; fill-opacity: 0.670287; stroke: #2c728e; stroke-opacity: 0.670287\"/>\n    </g>\n    <g clip-path=\"url(#p2fa74d7e3c)\">\n     <use xlink:href=\"#C0_0_bce41a5a3d\" x=\"305.110993\" y=\"310.678908\" style=\"fill: #21918c; fill-opacity: 0.67127; stroke: #21918c; stroke-opacity: 0.67127\"/>\n    </g>\n    <g clip-path=\"url(#p2fa74d7e3c)\">\n     <use xlink:href=\"#C0_0_bce41a5a3d\" x=\"138.60419\" y=\"292.739099\" style=\"fill: #472d7b; fill-opacity: 0.671887; stroke: #472d7b; stroke-opacity: 0.671887\"/>\n    </g>\n    <g clip-path=\"url(#p2fa74d7e3c)\">\n     <use xlink:href=\"#C0_0_bce41a5a3d\" x=\"180.138968\" y=\"245.05058\" style=\"fill: #2c728e; fill-opacity: 0.672448; stroke: #2c728e; stroke-opacity: 0.672448\"/>\n    </g>\n    <g clip-path=\"url(#p2fa74d7e3c)\">\n     <use xlink:href=\"#C0_0_bce41a5a3d\" x=\"255.362384\" y=\"317.508562\" style=\"fill: #21918c; fill-opacity: 0.673112; stroke: #21918c; stroke-opacity: 0.673112\"/>\n    </g>\n    <g clip-path=\"url(#p2fa74d7e3c)\">\n     <use xlink:href=\"#C0_0_bce41a5a3d\" x=\"250.800324\" y=\"308.417885\" style=\"fill: #28ae80; fill-opacity: 0.673466; stroke: #28ae80; stroke-opacity: 0.673466\"/>\n    </g>\n    <g clip-path=\"url(#p2fa74d7e3c)\">\n     <use xlink:href=\"#C0_0_bce41a5a3d\" x=\"161.165863\" y=\"254.739274\" style=\"fill: #2c728e; fill-opacity: 0.673992; stroke: #2c728e; stroke-opacity: 0.673992\"/>\n    </g>\n    <g clip-path=\"url(#p2fa74d7e3c)\">\n     <use xlink:href=\"#C0_0_bce41a5a3d\" x=\"241.897942\" y=\"330.779916\" style=\"fill: #21918c; fill-opacity: 0.674203; stroke: #21918c; stroke-opacity: 0.674203\"/>\n    </g>\n    <g clip-path=\"url(#p2fa74d7e3c)\">\n     <use xlink:href=\"#C0_0_bce41a5a3d\" x=\"174.351446\" y=\"276.218304\" style=\"fill: #2c728e; fill-opacity: 0.675967; stroke: #2c728e; stroke-opacity: 0.675967\"/>\n    </g>\n    <g clip-path=\"url(#p2fa74d7e3c)\">\n     <use xlink:href=\"#C0_0_bce41a5a3d\" x=\"166.789643\" y=\"275.888931\" style=\"fill: #2c728e; fill-opacity: 0.676752; stroke: #2c728e; stroke-opacity: 0.676752\"/>\n    </g>\n    <g clip-path=\"url(#p2fa74d7e3c)\">\n     <use xlink:href=\"#C0_0_bce41a5a3d\" x=\"153.910591\" y=\"259.383442\" style=\"fill: #472d7b; fill-opacity: 0.678407; stroke: #472d7b; stroke-opacity: 0.678407\"/>\n    </g>\n    <g clip-path=\"url(#p2fa74d7e3c)\">\n     <use xlink:href=\"#C0_0_bce41a5a3d\" x=\"142.553132\" y=\"297.208222\" style=\"fill: #3b528b; fill-opacity: 0.678818; stroke: #3b528b; stroke-opacity: 0.678818\"/>\n    </g>\n    <g clip-path=\"url(#p2fa74d7e3c)\">\n     <use xlink:href=\"#C0_0_bce41a5a3d\" x=\"184.650138\" y=\"348.313187\" style=\"fill: #28ae80; fill-opacity: 0.679084; stroke: #28ae80; stroke-opacity: 0.679084\"/>\n    </g>\n    <g clip-path=\"url(#p2fa74d7e3c)\">\n     <use xlink:href=\"#C0_0_bce41a5a3d\" x=\"266.065836\" y=\"350.49702\" style=\"fill: #21918c; fill-opacity: 0.679744; stroke: #21918c; stroke-opacity: 0.679744\"/>\n    </g>\n    <g clip-path=\"url(#p2fa74d7e3c)\">\n     <use xlink:href=\"#C0_0_bce41a5a3d\" x=\"230.384848\" y=\"355.451453\" style=\"fill: #21918c; fill-opacity: 0.68001; stroke: #21918c; stroke-opacity: 0.68001\"/>\n    </g>\n    <g clip-path=\"url(#p2fa74d7e3c)\">\n     <use xlink:href=\"#C0_0_bce41a5a3d\" x=\"284.86185\" y=\"307.784956\" style=\"fill: #440154; fill-opacity: 0.681555; stroke: #440154; stroke-opacity: 0.681555\"/>\n    </g>\n    <g clip-path=\"url(#p2fa74d7e3c)\">\n     <use xlink:href=\"#C0_0_bce41a5a3d\" x=\"275.123991\" y=\"334.339288\" style=\"fill: #440154; fill-opacity: 0.681969; stroke: #440154; stroke-opacity: 0.681969\"/>\n    </g>\n    <g clip-path=\"url(#p2fa74d7e3c)\">\n     <use xlink:href=\"#C0_0_bce41a5a3d\" x=\"297.816961\" y=\"301.970174\" style=\"fill: #440154; fill-opacity: 0.682148; stroke: #440154; stroke-opacity: 0.682148\"/>\n    </g>\n    <g clip-path=\"url(#p2fa74d7e3c)\">\n     <use xlink:href=\"#C0_0_bce41a5a3d\" x=\"237.755803\" y=\"301.684035\" style=\"fill: #28ae80; fill-opacity: 0.682591; stroke: #28ae80; stroke-opacity: 0.682591\"/>\n    </g>\n    <g clip-path=\"url(#p2fa74d7e3c)\">\n     <use xlink:href=\"#C0_0_bce41a5a3d\" x=\"255.053869\" y=\"315.796569\" style=\"fill: #28ae80; fill-opacity: 0.68265; stroke: #28ae80; stroke-opacity: 0.68265\"/>\n    </g>\n    <g clip-path=\"url(#p2fa74d7e3c)\">\n     <use xlink:href=\"#C0_0_bce41a5a3d\" x=\"164.371899\" y=\"333.196406\" style=\"fill: #3b528b; fill-opacity: 0.682926; stroke: #3b528b; stroke-opacity: 0.682926\"/>\n    </g>\n    <g clip-path=\"url(#p2fa74d7e3c)\">\n     <use xlink:href=\"#C0_0_bce41a5a3d\" x=\"142.465598\" y=\"275.172963\" style=\"fill: #3b528b; fill-opacity: 0.683148; stroke: #3b528b; stroke-opacity: 0.683148\"/>\n    </g>\n    <g clip-path=\"url(#p2fa74d7e3c)\">\n     <use xlink:href=\"#C0_0_bce41a5a3d\" x=\"260.115136\" y=\"317.577431\" style=\"fill: #fde725; fill-opacity: 0.68761; stroke: #fde725; stroke-opacity: 0.68761\"/>\n    </g>\n    <g clip-path=\"url(#p2fa74d7e3c)\">\n     <use xlink:href=\"#C0_0_bce41a5a3d\" x=\"183.114352\" y=\"254.02069\" style=\"fill: #2c728e; fill-opacity: 0.687655; stroke: #2c728e; stroke-opacity: 0.687655\"/>\n    </g>\n    <g clip-path=\"url(#p2fa74d7e3c)\">\n     <use xlink:href=\"#C0_0_bce41a5a3d\" x=\"294.278858\" y=\"272.427161\" style=\"fill: #440154; fill-opacity: 0.6881; stroke: #440154; stroke-opacity: 0.6881\"/>\n    </g>\n    <g clip-path=\"url(#p2fa74d7e3c)\">\n     <use xlink:href=\"#C0_0_bce41a5a3d\" x=\"137.998354\" y=\"308.713993\" style=\"fill: #472d7b; fill-opacity: 0.689904; stroke: #472d7b; stroke-opacity: 0.689904\"/>\n    </g>\n    <g clip-path=\"url(#p2fa74d7e3c)\">\n     <use xlink:href=\"#C0_0_bce41a5a3d\" x=\"139.804723\" y=\"287.199762\" style=\"fill: #472d7b; fill-opacity: 0.690084; stroke: #472d7b; stroke-opacity: 0.690084\"/>\n    </g>\n    <g clip-path=\"url(#p2fa74d7e3c)\">\n     <use xlink:href=\"#C0_0_bce41a5a3d\" x=\"196.270947\" y=\"337.955568\" style=\"fill: #28ae80; fill-opacity: 0.690339; stroke: #28ae80; stroke-opacity: 0.690339\"/>\n    </g>\n    <g clip-path=\"url(#p2fa74d7e3c)\">\n     <use xlink:href=\"#C0_0_bce41a5a3d\" x=\"167.011064\" y=\"344.799268\" style=\"fill: #5ec962; fill-opacity: 0.690626; stroke: #5ec962; stroke-opacity: 0.690626\"/>\n    </g>\n    <g clip-path=\"url(#p2fa74d7e3c)\">\n     <use xlink:href=\"#C0_0_bce41a5a3d\" x=\"275.041738\" y=\"352.274206\" style=\"fill: #440154; fill-opacity: 0.691034; stroke: #440154; stroke-opacity: 0.691034\"/>\n    </g>\n    <g clip-path=\"url(#p2fa74d7e3c)\">\n     <use xlink:href=\"#C0_0_bce41a5a3d\" x=\"244.509504\" y=\"344.080181\" style=\"fill: #28ae80; fill-opacity: 0.691466; stroke: #28ae80; stroke-opacity: 0.691466\"/>\n    </g>\n    <g clip-path=\"url(#p2fa74d7e3c)\">\n     <use xlink:href=\"#C0_0_bce41a5a3d\" x=\"188.759234\" y=\"249.758877\" style=\"fill: #2c728e; fill-opacity: 0.691731; stroke: #2c728e; stroke-opacity: 0.691731\"/>\n    </g>\n    <g clip-path=\"url(#p2fa74d7e3c)\">\n     <use xlink:href=\"#C0_0_bce41a5a3d\" x=\"137.698241\" y=\"316.697464\" style=\"fill: #3b528b; fill-opacity: 0.692151; stroke: #3b528b; stroke-opacity: 0.692151\"/>\n    </g>\n    <g clip-path=\"url(#p2fa74d7e3c)\">\n     <use xlink:href=\"#C0_0_bce41a5a3d\" x=\"229.538996\" y=\"363.093744\" style=\"fill: #21918c; fill-opacity: 0.692838; stroke: #21918c; stroke-opacity: 0.692838\"/>\n    </g>\n    <g clip-path=\"url(#p2fa74d7e3c)\">\n     <use xlink:href=\"#C0_0_bce41a5a3d\" x=\"247.167615\" y=\"325.662913\" style=\"fill: #440154; fill-opacity: 0.693547; stroke: #440154; stroke-opacity: 0.693547\"/>\n    </g>\n    <g clip-path=\"url(#p2fa74d7e3c)\">\n     <use xlink:href=\"#C0_0_bce41a5a3d\" x=\"288.338647\" y=\"336.236777\" style=\"fill: #440154; fill-opacity: 0.69363; stroke: #440154; stroke-opacity: 0.69363\"/>\n    </g>\n    <g clip-path=\"url(#p2fa74d7e3c)\">\n     <use xlink:href=\"#C0_0_bce41a5a3d\" x=\"317.046547\" y=\"300.146904\" style=\"fill: #440154; fill-opacity: 0.694557; stroke: #440154; stroke-opacity: 0.694557\"/>\n    </g>\n    <g clip-path=\"url(#p2fa74d7e3c)\">\n     <use xlink:href=\"#C0_0_bce41a5a3d\" x=\"293.842101\" y=\"306.026184\" style=\"fill: #440154; fill-opacity: 0.695096; stroke: #440154; stroke-opacity: 0.695096\"/>\n    </g>\n    <g clip-path=\"url(#p2fa74d7e3c)\">\n     <use xlink:href=\"#C0_0_bce41a5a3d\" x=\"163.495636\" y=\"297.366982\" style=\"fill: #21918c; fill-opacity: 0.695101; stroke: #21918c; stroke-opacity: 0.695101\"/>\n    </g>\n    <g clip-path=\"url(#p2fa74d7e3c)\">\n     <use xlink:href=\"#C0_0_bce41a5a3d\" x=\"177.782169\" y=\"279.180441\" style=\"fill: #2c728e; fill-opacity: 0.695715; stroke: #2c728e; stroke-opacity: 0.695715\"/>\n    </g>\n    <g clip-path=\"url(#p2fa74d7e3c)\">\n     <use xlink:href=\"#C0_0_bce41a5a3d\" x=\"121.019357\" y=\"351.674521\" style=\"fill: #3b528b; fill-opacity: 0.696197; stroke: #3b528b; stroke-opacity: 0.696197\"/>\n    </g>\n    <g clip-path=\"url(#p2fa74d7e3c)\">\n     <use xlink:href=\"#C0_0_bce41a5a3d\" x=\"144.503966\" y=\"277.412973\" style=\"fill: #472d7b; fill-opacity: 0.69661; stroke: #472d7b; stroke-opacity: 0.69661\"/>\n    </g>\n    <g clip-path=\"url(#p2fa74d7e3c)\">\n     <use xlink:href=\"#C0_0_bce41a5a3d\" x=\"166.61541\" y=\"274.311584\" style=\"fill: #2c728e; fill-opacity: 0.697412; stroke: #2c728e; stroke-opacity: 0.697412\"/>\n    </g>\n    <g clip-path=\"url(#p2fa74d7e3c)\">\n     <use xlink:href=\"#C0_0_bce41a5a3d\" x=\"278.309378\" y=\"298.581484\" style=\"fill: #440154; fill-opacity: 0.698392; stroke: #440154; stroke-opacity: 0.698392\"/>\n    </g>\n    <g clip-path=\"url(#p2fa74d7e3c)\">\n     <use xlink:href=\"#C0_0_bce41a5a3d\" x=\"232.338063\" y=\"298.142539\" style=\"fill: #28ae80; fill-opacity: 0.699413; stroke: #28ae80; stroke-opacity: 0.699413\"/>\n    </g>\n    <g clip-path=\"url(#p2fa74d7e3c)\">\n     <use xlink:href=\"#C0_0_bce41a5a3d\" x=\"252.04018\" y=\"355.893302\" style=\"fill: #21918c; fill-opacity: 0.699888; stroke: #21918c; stroke-opacity: 0.699888\"/>\n    </g>\n    <g clip-path=\"url(#p2fa74d7e3c)\">\n     <use xlink:href=\"#C0_0_bce41a5a3d\" x=\"191.963333\" y=\"244.599459\" style=\"fill: #2c728e; fill-opacity: 0.70015; stroke: #2c728e; stroke-opacity: 0.70015\"/>\n    </g>\n    <g clip-path=\"url(#p2fa74d7e3c)\">\n     <use xlink:href=\"#C0_0_bce41a5a3d\" x=\"299.383522\" y=\"329.756987\" style=\"fill: #440154; fill-opacity: 0.701296; stroke: #440154; stroke-opacity: 0.701296\"/>\n    </g>\n    <g clip-path=\"url(#p2fa74d7e3c)\">\n     <use xlink:href=\"#C0_0_bce41a5a3d\" x=\"329.058578\" y=\"230.432772\" style=\"fill: #440154; fill-opacity: 0.702009; stroke: #440154; stroke-opacity: 0.702009\"/>\n    </g>\n    <g clip-path=\"url(#p2fa74d7e3c)\">\n     <use xlink:href=\"#C0_0_bce41a5a3d\" x=\"217.055906\" y=\"368.563569\" style=\"fill: #5ec962; fill-opacity: 0.704017; stroke: #5ec962; stroke-opacity: 0.704017\"/>\n    </g>\n    <g clip-path=\"url(#p2fa74d7e3c)\">\n     <use xlink:href=\"#C0_0_bce41a5a3d\" x=\"194.544268\" y=\"251.487065\" style=\"fill: #2c728e; fill-opacity: 0.70436; stroke: #2c728e; stroke-opacity: 0.70436\"/>\n    </g>\n    <g clip-path=\"url(#p2fa74d7e3c)\">\n     <use xlink:href=\"#C0_0_bce41a5a3d\" x=\"303.019704\" y=\"315.717115\" style=\"fill: #440154; fill-opacity: 0.704376; stroke: #440154; stroke-opacity: 0.704376\"/>\n    </g>\n    <g clip-path=\"url(#p2fa74d7e3c)\">\n     <use xlink:href=\"#C0_0_bce41a5a3d\" x=\"243.962163\" y=\"358.156883\" style=\"fill: #21918c; fill-opacity: 0.705953; stroke: #21918c; stroke-opacity: 0.705953\"/>\n    </g>\n    <g clip-path=\"url(#p2fa74d7e3c)\">\n     <use xlink:href=\"#C0_0_bce41a5a3d\" x=\"150.424118\" y=\"248.740861\" style=\"fill: #472d7b; fill-opacity: 0.708728; stroke: #472d7b; stroke-opacity: 0.708728\"/>\n    </g>\n    <g clip-path=\"url(#p2fa74d7e3c)\">\n     <use xlink:href=\"#C0_0_bce41a5a3d\" x=\"166.126845\" y=\"250.038876\" style=\"fill: #472d7b; fill-opacity: 0.708986; stroke: #472d7b; stroke-opacity: 0.708986\"/>\n    </g>\n    <g clip-path=\"url(#p2fa74d7e3c)\">\n     <use xlink:href=\"#C0_0_bce41a5a3d\" x=\"223.782487\" y=\"335.898094\" style=\"fill: #fde725; fill-opacity: 0.710194; stroke: #fde725; stroke-opacity: 0.710194\"/>\n    </g>\n    <g clip-path=\"url(#p2fa74d7e3c)\">\n     <use xlink:href=\"#C0_0_bce41a5a3d\" x=\"136.385965\" y=\"286.977041\" style=\"fill: #472d7b; fill-opacity: 0.710787; stroke: #472d7b; stroke-opacity: 0.710787\"/>\n    </g>\n    <g clip-path=\"url(#p2fa74d7e3c)\">\n     <use xlink:href=\"#C0_0_bce41a5a3d\" x=\"233.35548\" y=\"306.134729\" style=\"fill: #28ae80; fill-opacity: 0.711226; stroke: #28ae80; stroke-opacity: 0.711226\"/>\n    </g>\n    <g clip-path=\"url(#p2fa74d7e3c)\">\n     <use xlink:href=\"#C0_0_bce41a5a3d\" x=\"221.400426\" y=\"327.78885\" style=\"fill: #21918c; fill-opacity: 0.711461; stroke: #21918c; stroke-opacity: 0.711461\"/>\n    </g>\n    <g clip-path=\"url(#p2fa74d7e3c)\">\n     <use xlink:href=\"#C0_0_bce41a5a3d\" x=\"143.474063\" y=\"311.113486\" style=\"fill: #472d7b; fill-opacity: 0.714317; stroke: #472d7b; stroke-opacity: 0.714317\"/>\n    </g>\n    <g clip-path=\"url(#p2fa74d7e3c)\">\n     <use xlink:href=\"#C0_0_bce41a5a3d\" x=\"180.14147\" y=\"242.638352\" style=\"fill: #2c728e; fill-opacity: 0.718735; stroke: #2c728e; stroke-opacity: 0.718735\"/>\n    </g>\n    <g clip-path=\"url(#p2fa74d7e3c)\">\n     <use xlink:href=\"#C0_0_bce41a5a3d\" x=\"234.197265\" y=\"316.318898\" style=\"fill: #28ae80; fill-opacity: 0.719764; stroke: #28ae80; stroke-opacity: 0.719764\"/>\n    </g>\n    <g clip-path=\"url(#p2fa74d7e3c)\">\n     <use xlink:href=\"#C0_0_bce41a5a3d\" x=\"215.097181\" y=\"227.999144\" style=\"fill: #2c728e; fill-opacity: 0.720262; stroke: #2c728e; stroke-opacity: 0.720262\"/>\n    </g>\n    <g clip-path=\"url(#p2fa74d7e3c)\">\n     <use xlink:href=\"#C0_0_bce41a5a3d\" x=\"127.347978\" y=\"287.077143\" style=\"fill: #472d7b; fill-opacity: 0.720924; stroke: #472d7b; stroke-opacity: 0.720924\"/>\n    </g>\n    <g clip-path=\"url(#p2fa74d7e3c)\">\n     <use xlink:href=\"#C0_0_bce41a5a3d\" x=\"259.178915\" y=\"323.396158\" style=\"fill: #28ae80; fill-opacity: 0.721517; stroke: #28ae80; stroke-opacity: 0.721517\"/>\n    </g>\n    <g clip-path=\"url(#p2fa74d7e3c)\">\n     <use xlink:href=\"#C0_0_bce41a5a3d\" x=\"304.551393\" y=\"328.78782\" style=\"fill: #440154; fill-opacity: 0.72166; stroke: #440154; stroke-opacity: 0.72166\"/>\n    </g>\n    <g clip-path=\"url(#p2fa74d7e3c)\">\n     <use xlink:href=\"#C0_0_bce41a5a3d\" x=\"314.117032\" y=\"312.073135\" style=\"fill: #440154; fill-opacity: 0.72184; stroke: #440154; stroke-opacity: 0.72184\"/>\n    </g>\n    <g clip-path=\"url(#p2fa74d7e3c)\">\n     <use xlink:href=\"#C0_0_bce41a5a3d\" x=\"280.894466\" y=\"351.99651\" style=\"fill: #21918c; fill-opacity: 0.722827; stroke: #21918c; stroke-opacity: 0.722827\"/>\n    </g>\n    <g clip-path=\"url(#p2fa74d7e3c)\">\n     <use xlink:href=\"#C0_0_bce41a5a3d\" x=\"286.285639\" y=\"350.019468\" style=\"fill: #21918c; fill-opacity: 0.723457; stroke: #21918c; stroke-opacity: 0.723457\"/>\n    </g>\n    <g clip-path=\"url(#p2fa74d7e3c)\">\n     <use xlink:href=\"#C0_0_bce41a5a3d\" x=\"154.251622\" y=\"241.851208\" style=\"fill: #472d7b; fill-opacity: 0.724301; stroke: #472d7b; stroke-opacity: 0.724301\"/>\n    </g>\n    <g clip-path=\"url(#p2fa74d7e3c)\">\n     <use xlink:href=\"#C0_0_bce41a5a3d\" x=\"261.758232\" y=\"359.391239\" style=\"fill: #fde725; fill-opacity: 0.724571; stroke: #fde725; stroke-opacity: 0.724571\"/>\n    </g>\n    <g clip-path=\"url(#p2fa74d7e3c)\">\n     <use xlink:href=\"#C0_0_bce41a5a3d\" x=\"243.255733\" y=\"353.648138\" style=\"fill: #21918c; fill-opacity: 0.725109; stroke: #21918c; stroke-opacity: 0.725109\"/>\n    </g>\n    <g clip-path=\"url(#p2fa74d7e3c)\">\n     <use xlink:href=\"#C0_0_bce41a5a3d\" x=\"234.694664\" y=\"374.793021\" style=\"fill: #addc30; fill-opacity: 0.726029; stroke: #addc30; stroke-opacity: 0.726029\"/>\n    </g>\n    <g clip-path=\"url(#p2fa74d7e3c)\">\n     <use xlink:href=\"#C0_0_bce41a5a3d\" x=\"168.892956\" y=\"286.420143\" style=\"fill: #2c728e; fill-opacity: 0.726676; stroke: #2c728e; stroke-opacity: 0.726676\"/>\n    </g>\n    <g clip-path=\"url(#p2fa74d7e3c)\">\n     <use xlink:href=\"#C0_0_bce41a5a3d\" x=\"241.760195\" y=\"339.654238\" style=\"fill: #21918c; fill-opacity: 0.72702; stroke: #21918c; stroke-opacity: 0.72702\"/>\n    </g>\n    <g clip-path=\"url(#p2fa74d7e3c)\">\n     <use xlink:href=\"#C0_0_bce41a5a3d\" x=\"161.316087\" y=\"241.292048\" style=\"fill: #472d7b; fill-opacity: 0.728368; stroke: #472d7b; stroke-opacity: 0.728368\"/>\n    </g>\n    <g clip-path=\"url(#p2fa74d7e3c)\">\n     <use xlink:href=\"#C0_0_bce41a5a3d\" x=\"147.528335\" y=\"263.360208\" style=\"fill: #472d7b; fill-opacity: 0.729047; stroke: #472d7b; stroke-opacity: 0.729047\"/>\n    </g>\n    <g clip-path=\"url(#p2fa74d7e3c)\">\n     <use xlink:href=\"#C0_0_bce41a5a3d\" x=\"279.328249\" y=\"318.97462\" style=\"fill: #440154; fill-opacity: 0.729544; stroke: #440154; stroke-opacity: 0.729544\"/>\n    </g>\n    <g clip-path=\"url(#p2fa74d7e3c)\">\n     <use xlink:href=\"#C0_0_bce41a5a3d\" x=\"146.451959\" y=\"276.99316\" style=\"fill: #472d7b; fill-opacity: 0.729831; stroke: #472d7b; stroke-opacity: 0.729831\"/>\n    </g>\n    <g clip-path=\"url(#p2fa74d7e3c)\">\n     <use xlink:href=\"#C0_0_bce41a5a3d\" x=\"239.102344\" y=\"370.905474\" style=\"fill: #21918c; fill-opacity: 0.730612; stroke: #21918c; stroke-opacity: 0.730612\"/>\n    </g>\n    <g clip-path=\"url(#p2fa74d7e3c)\">\n     <use xlink:href=\"#C0_0_bce41a5a3d\" x=\"257.939932\" y=\"345.327\" style=\"fill: #21918c; fill-opacity: 0.733738; stroke: #21918c; stroke-opacity: 0.733738\"/>\n    </g>\n    <g clip-path=\"url(#p2fa74d7e3c)\">\n     <use xlink:href=\"#C0_0_bce41a5a3d\" x=\"312.967559\" y=\"321.383582\" style=\"fill: #440154; fill-opacity: 0.735004; stroke: #440154; stroke-opacity: 0.735004\"/>\n    </g>\n    <g clip-path=\"url(#p2fa74d7e3c)\">\n     <use xlink:href=\"#C0_0_bce41a5a3d\" x=\"253.621249\" y=\"364.653404\" style=\"fill: #21918c; fill-opacity: 0.735125; stroke: #21918c; stroke-opacity: 0.735125\"/>\n    </g>\n    <g clip-path=\"url(#p2fa74d7e3c)\">\n     <use xlink:href=\"#C0_0_bce41a5a3d\" x=\"279.408901\" y=\"360.236138\" style=\"fill: #21918c; fill-opacity: 0.735359; stroke: #21918c; stroke-opacity: 0.735359\"/>\n    </g>\n    <g clip-path=\"url(#p2fa74d7e3c)\">\n     <use xlink:href=\"#C0_0_bce41a5a3d\" x=\"233.132918\" y=\"392.953083\" style=\"fill: #21918c; fill-opacity: 0.737476; stroke: #21918c; stroke-opacity: 0.737476\"/>\n    </g>\n    <g clip-path=\"url(#p2fa74d7e3c)\">\n     <use xlink:href=\"#C0_0_bce41a5a3d\" x=\"217.942419\" y=\"332.882663\" style=\"fill: #28ae80; fill-opacity: 0.738209; stroke: #28ae80; stroke-opacity: 0.738209\"/>\n    </g>\n    <g clip-path=\"url(#p2fa74d7e3c)\">\n     <use xlink:href=\"#C0_0_bce41a5a3d\" x=\"155.165399\" y=\"288.074771\" style=\"fill: #2c728e; fill-opacity: 0.739182; stroke: #2c728e; stroke-opacity: 0.739182\"/>\n    </g>\n    <g clip-path=\"url(#p2fa74d7e3c)\">\n     <use xlink:href=\"#C0_0_bce41a5a3d\" x=\"144.684455\" y=\"269.428604\" style=\"fill: #472d7b; fill-opacity: 0.739477; stroke: #472d7b; stroke-opacity: 0.739477\"/>\n    </g>\n    <g clip-path=\"url(#p2fa74d7e3c)\">\n     <use xlink:href=\"#C0_0_bce41a5a3d\" x=\"299.84852\" y=\"326.266546\" style=\"fill: #440154; fill-opacity: 0.741136; stroke: #440154; stroke-opacity: 0.741136\"/>\n    </g>\n    <g clip-path=\"url(#p2fa74d7e3c)\">\n     <use xlink:href=\"#C0_0_bce41a5a3d\" x=\"154.626114\" y=\"260.560477\" style=\"fill: #472d7b; fill-opacity: 0.741591; stroke: #472d7b; stroke-opacity: 0.741591\"/>\n    </g>\n    <g clip-path=\"url(#p2fa74d7e3c)\">\n     <use xlink:href=\"#C0_0_bce41a5a3d\" x=\"256.103277\" y=\"349.269386\" style=\"fill: #21918c; fill-opacity: 0.742172; stroke: #21918c; stroke-opacity: 0.742172\"/>\n    </g>\n    <g clip-path=\"url(#p2fa74d7e3c)\">\n     <use xlink:href=\"#C0_0_bce41a5a3d\" x=\"298.509398\" y=\"327.19239\" style=\"fill: #440154; fill-opacity: 0.744622; stroke: #440154; stroke-opacity: 0.744622\"/>\n    </g>\n    <g clip-path=\"url(#p2fa74d7e3c)\">\n     <use xlink:href=\"#C0_0_bce41a5a3d\" x=\"254.2371\" y=\"305.363884\" style=\"fill: #21918c; fill-opacity: 0.744736; stroke: #21918c; stroke-opacity: 0.744736\"/>\n    </g>\n    <g clip-path=\"url(#p2fa74d7e3c)\">\n     <use xlink:href=\"#C0_0_bce41a5a3d\" x=\"207.98559\" y=\"247.167138\" style=\"fill: #2c728e; fill-opacity: 0.745553; stroke: #2c728e; stroke-opacity: 0.745553\"/>\n    </g>\n    <g clip-path=\"url(#p2fa74d7e3c)\">\n     <use xlink:href=\"#C0_0_bce41a5a3d\" x=\"261.471837\" y=\"367.764944\" style=\"fill: #21918c; fill-opacity: 0.745833; stroke: #21918c; stroke-opacity: 0.745833\"/>\n    </g>\n    <g clip-path=\"url(#p2fa74d7e3c)\">\n     <use xlink:href=\"#C0_0_bce41a5a3d\" x=\"186.626327\" y=\"240.134708\" style=\"fill: #2c728e; fill-opacity: 0.748226; stroke: #2c728e; stroke-opacity: 0.748226\"/>\n    </g>\n    <g clip-path=\"url(#p2fa74d7e3c)\">\n     <use xlink:href=\"#C0_0_bce41a5a3d\" x=\"202.611625\" y=\"256.060987\" style=\"fill: #2c728e; fill-opacity: 0.749058; stroke: #2c728e; stroke-opacity: 0.749058\"/>\n    </g>\n    <g clip-path=\"url(#p2fa74d7e3c)\">\n     <use xlink:href=\"#C0_0_bce41a5a3d\" x=\"275.878028\" y=\"347.709675\" style=\"fill: #21918c; fill-opacity: 0.750127; stroke: #21918c; stroke-opacity: 0.750127\"/>\n    </g>\n    <g clip-path=\"url(#p2fa74d7e3c)\">\n     <use xlink:href=\"#C0_0_bce41a5a3d\" x=\"170.941948\" y=\"262.211937\" style=\"fill: #2c728e; fill-opacity: 0.750343; stroke: #2c728e; stroke-opacity: 0.750343\"/>\n    </g>\n    <g clip-path=\"url(#p2fa74d7e3c)\">\n     <use xlink:href=\"#C0_0_bce41a5a3d\" x=\"255.9775\" y=\"366.6137\" style=\"fill: #21918c; fill-opacity: 0.750631; stroke: #21918c; stroke-opacity: 0.750631\"/>\n    </g>\n    <g clip-path=\"url(#p2fa74d7e3c)\">\n     <use xlink:href=\"#C0_0_bce41a5a3d\" x=\"280.299501\" y=\"316.968973\" style=\"fill: #440154; fill-opacity: 0.752466; stroke: #440154; stroke-opacity: 0.752466\"/>\n    </g>\n    <g clip-path=\"url(#p2fa74d7e3c)\">\n     <use xlink:href=\"#C0_0_bce41a5a3d\" x=\"283.340303\" y=\"356.549398\" style=\"fill: #28ae80; fill-opacity: 0.754524; stroke: #28ae80; stroke-opacity: 0.754524\"/>\n    </g>\n    <g clip-path=\"url(#p2fa74d7e3c)\">\n     <use xlink:href=\"#C0_0_bce41a5a3d\" x=\"187.555421\" y=\"357.632165\" style=\"fill: #5ec962; fill-opacity: 0.754954; stroke: #5ec962; stroke-opacity: 0.754954\"/>\n    </g>\n    <g clip-path=\"url(#p2fa74d7e3c)\">\n     <use xlink:href=\"#C0_0_bce41a5a3d\" x=\"225.078324\" y=\"358.485766\" style=\"fill: #21918c; fill-opacity: 0.755352; stroke: #21918c; stroke-opacity: 0.755352\"/>\n    </g>\n    <g clip-path=\"url(#p2fa74d7e3c)\">\n     <use xlink:href=\"#C0_0_bce41a5a3d\" x=\"254.369184\" y=\"344.631645\" style=\"fill: #21918c; fill-opacity: 0.757825; stroke: #21918c; stroke-opacity: 0.757825\"/>\n    </g>\n    <g clip-path=\"url(#p2fa74d7e3c)\">\n     <use xlink:href=\"#C0_0_bce41a5a3d\" x=\"292.629497\" y=\"344.77396\" style=\"fill: #21918c; fill-opacity: 0.757852; stroke: #21918c; stroke-opacity: 0.757852\"/>\n    </g>\n    <g clip-path=\"url(#p2fa74d7e3c)\">\n     <use xlink:href=\"#C0_0_bce41a5a3d\" x=\"150.844704\" y=\"260.229552\" style=\"fill: #472d7b; fill-opacity: 0.759189; stroke: #472d7b; stroke-opacity: 0.759189\"/>\n    </g>\n    <g clip-path=\"url(#p2fa74d7e3c)\">\n     <use xlink:href=\"#C0_0_bce41a5a3d\" x=\"266.196378\" y=\"377.684779\" style=\"fill: #21918c; fill-opacity: 0.761846; stroke: #21918c; stroke-opacity: 0.761846\"/>\n    </g>\n    <g clip-path=\"url(#p2fa74d7e3c)\">\n     <use xlink:href=\"#C0_0_bce41a5a3d\" x=\"276.750791\" y=\"315.077354\" style=\"fill: #21918c; fill-opacity: 0.76253; stroke: #21918c; stroke-opacity: 0.76253\"/>\n    </g>\n    <g clip-path=\"url(#p2fa74d7e3c)\">\n     <use xlink:href=\"#C0_0_bce41a5a3d\" x=\"286.902966\" y=\"347.783149\" style=\"fill: #21918c; fill-opacity: 0.762965; stroke: #21918c; stroke-opacity: 0.762965\"/>\n    </g>\n    <g clip-path=\"url(#p2fa74d7e3c)\">\n     <use xlink:href=\"#C0_0_bce41a5a3d\" x=\"277.50381\" y=\"347.469974\" style=\"fill: #21918c; fill-opacity: 0.76331; stroke: #21918c; stroke-opacity: 0.76331\"/>\n    </g>\n    <g clip-path=\"url(#p2fa74d7e3c)\">\n     <use xlink:href=\"#C0_0_bce41a5a3d\" x=\"262.222778\" y=\"335.733781\" style=\"fill: #21918c; fill-opacity: 0.763898; stroke: #21918c; stroke-opacity: 0.763898\"/>\n    </g>\n    <g clip-path=\"url(#p2fa74d7e3c)\">\n     <use xlink:href=\"#C0_0_bce41a5a3d\" x=\"270.928164\" y=\"324.083698\" style=\"fill: #21918c; fill-opacity: 0.765713; stroke: #21918c; stroke-opacity: 0.765713\"/>\n    </g>\n    <g clip-path=\"url(#p2fa74d7e3c)\">\n     <use xlink:href=\"#C0_0_bce41a5a3d\" x=\"278.517911\" y=\"330.418223\" style=\"fill: #21918c; fill-opacity: 0.768159; stroke: #21918c; stroke-opacity: 0.768159\"/>\n    </g>\n    <g clip-path=\"url(#p2fa74d7e3c)\">\n     <use xlink:href=\"#C0_0_bce41a5a3d\" x=\"255.999372\" y=\"380.899088\" style=\"fill: #21918c; fill-opacity: 0.768369; stroke: #21918c; stroke-opacity: 0.768369\"/>\n    </g>\n    <g clip-path=\"url(#p2fa74d7e3c)\">\n     <use xlink:href=\"#C0_0_bce41a5a3d\" x=\"154.733554\" y=\"252.184342\" style=\"fill: #472d7b; fill-opacity: 0.768507; stroke: #472d7b; stroke-opacity: 0.768507\"/>\n    </g>\n    <g clip-path=\"url(#p2fa74d7e3c)\">\n     <use xlink:href=\"#C0_0_bce41a5a3d\" x=\"159.151549\" y=\"254.788352\" style=\"fill: #472d7b; fill-opacity: 0.76886; stroke: #472d7b; stroke-opacity: 0.76886\"/>\n    </g>\n    <g clip-path=\"url(#p2fa74d7e3c)\">\n     <use xlink:href=\"#C0_0_bce41a5a3d\" x=\"227.959855\" y=\"313.047337\" style=\"fill: #21918c; fill-opacity: 0.770019; stroke: #21918c; stroke-opacity: 0.770019\"/>\n    </g>\n    <g clip-path=\"url(#p2fa74d7e3c)\">\n     <use xlink:href=\"#C0_0_bce41a5a3d\" x=\"159.515909\" y=\"264.88854\" style=\"fill: #472d7b; fill-opacity: 0.773253; stroke: #472d7b; stroke-opacity: 0.773253\"/>\n    </g>\n    <g clip-path=\"url(#p2fa74d7e3c)\">\n     <use xlink:href=\"#C0_0_bce41a5a3d\" x=\"178.484185\" y=\"239.351448\" style=\"fill: #472d7b; fill-opacity: 0.773558; stroke: #472d7b; stroke-opacity: 0.773558\"/>\n    </g>\n    <g clip-path=\"url(#p2fa74d7e3c)\">\n     <use xlink:href=\"#C0_0_bce41a5a3d\" x=\"278.319465\" y=\"372.407236\" style=\"fill: #21918c; fill-opacity: 0.774926; stroke: #21918c; stroke-opacity: 0.774926\"/>\n    </g>\n    <g clip-path=\"url(#p2fa74d7e3c)\">\n     <use xlink:href=\"#C0_0_bce41a5a3d\" x=\"172.438495\" y=\"363.67225\" style=\"fill: #5ec962; fill-opacity: 0.776303; stroke: #5ec962; stroke-opacity: 0.776303\"/>\n    </g>\n    <g clip-path=\"url(#p2fa74d7e3c)\">\n     <use xlink:href=\"#C0_0_bce41a5a3d\" x=\"291.671438\" y=\"350.317334\" style=\"fill: #21918c; fill-opacity: 0.780132; stroke: #21918c; stroke-opacity: 0.780132\"/>\n    </g>\n    <g clip-path=\"url(#p2fa74d7e3c)\">\n     <use xlink:href=\"#C0_0_bce41a5a3d\" x=\"294.056989\" y=\"332.013005\" style=\"fill: #21918c; fill-opacity: 0.781086; stroke: #21918c; stroke-opacity: 0.781086\"/>\n    </g>\n    <g clip-path=\"url(#p2fa74d7e3c)\">\n     <use xlink:href=\"#C0_0_bce41a5a3d\" x=\"319.637426\" y=\"313.26497\" style=\"fill: #21918c; fill-opacity: 0.781946; stroke: #21918c; stroke-opacity: 0.781946\"/>\n    </g>\n    <g clip-path=\"url(#p2fa74d7e3c)\">\n     <use xlink:href=\"#C0_0_bce41a5a3d\" x=\"165.76732\" y=\"242.929232\" style=\"fill: #472d7b; fill-opacity: 0.783402; stroke: #472d7b; stroke-opacity: 0.783402\"/>\n    </g>\n    <g clip-path=\"url(#p2fa74d7e3c)\">\n     <use xlink:href=\"#C0_0_bce41a5a3d\" x=\"220.615898\" y=\"368.461423\" style=\"fill: #5ec962; fill-opacity: 0.784585; stroke: #5ec962; stroke-opacity: 0.784585\"/>\n    </g>\n    <g clip-path=\"url(#p2fa74d7e3c)\">\n     <use xlink:href=\"#C0_0_bce41a5a3d\" x=\"304.724562\" y=\"331.97591\" style=\"fill: #21918c; fill-opacity: 0.784605; stroke: #21918c; stroke-opacity: 0.784605\"/>\n    </g>\n    <g clip-path=\"url(#p2fa74d7e3c)\">\n     <use xlink:href=\"#C0_0_bce41a5a3d\" x=\"309.669942\" y=\"321.426792\" style=\"fill: #21918c; fill-opacity: 0.785038; stroke: #21918c; stroke-opacity: 0.785038\"/>\n    </g>\n    <g clip-path=\"url(#p2fa74d7e3c)\">\n     <use xlink:href=\"#C0_0_bce41a5a3d\" x=\"280.760961\" y=\"374.411593\" style=\"fill: #21918c; fill-opacity: 0.787571; stroke: #21918c; stroke-opacity: 0.787571\"/>\n    </g>\n    <g clip-path=\"url(#p2fa74d7e3c)\">\n     <use xlink:href=\"#C0_0_bce41a5a3d\" x=\"145.083775\" y=\"305.77395\" style=\"fill: #472d7b; fill-opacity: 0.789137; stroke: #472d7b; stroke-opacity: 0.789137\"/>\n    </g>\n    <g clip-path=\"url(#p2fa74d7e3c)\">\n     <use xlink:href=\"#C0_0_bce41a5a3d\" x=\"126.187016\" y=\"313.419655\" style=\"fill: #472d7b; fill-opacity: 0.789282; stroke: #472d7b; stroke-opacity: 0.789282\"/>\n    </g>\n    <g clip-path=\"url(#p2fa74d7e3c)\">\n     <use xlink:href=\"#C0_0_bce41a5a3d\" x=\"164.205606\" y=\"249.754138\" style=\"fill: #472d7b; fill-opacity: 0.79001; stroke: #472d7b; stroke-opacity: 0.79001\"/>\n    </g>\n    <g clip-path=\"url(#p2fa74d7e3c)\">\n     <use xlink:href=\"#C0_0_bce41a5a3d\" x=\"131.149159\" y=\"294.629232\" style=\"fill: #472d7b; fill-opacity: 0.790178; stroke: #472d7b; stroke-opacity: 0.790178\"/>\n    </g>\n    <g clip-path=\"url(#p2fa74d7e3c)\">\n     <use xlink:href=\"#C0_0_bce41a5a3d\" x=\"284.553694\" y=\"372.608246\" style=\"fill: #21918c; fill-opacity: 0.790406; stroke: #21918c; stroke-opacity: 0.790406\"/>\n    </g>\n    <g clip-path=\"url(#p2fa74d7e3c)\">\n     <use xlink:href=\"#C0_0_bce41a5a3d\" x=\"222.416507\" y=\"396.127571\" style=\"fill: #addc30; fill-opacity: 0.790619; stroke: #addc30; stroke-opacity: 0.790619\"/>\n    </g>\n    <g clip-path=\"url(#p2fa74d7e3c)\">\n     <use xlink:href=\"#C0_0_bce41a5a3d\" x=\"183.167771\" y=\"292.904327\" style=\"fill: #2c728e; fill-opacity: 0.790887; stroke: #2c728e; stroke-opacity: 0.790887\"/>\n    </g>\n    <g clip-path=\"url(#p2fa74d7e3c)\">\n     <use xlink:href=\"#C0_0_bce41a5a3d\" x=\"139.204412\" y=\"324.014726\" style=\"fill: #2c728e; fill-opacity: 0.792228; stroke: #2c728e; stroke-opacity: 0.792228\"/>\n    </g>\n    <g clip-path=\"url(#p2fa74d7e3c)\">\n     <use xlink:href=\"#C0_0_bce41a5a3d\" x=\"257.441174\" y=\"365.119959\" style=\"fill: #21918c; fill-opacity: 0.792692; stroke: #21918c; stroke-opacity: 0.792692\"/>\n    </g>\n    <g clip-path=\"url(#p2fa74d7e3c)\">\n     <use xlink:href=\"#C0_0_bce41a5a3d\" x=\"307.930866\" y=\"329.836082\" style=\"fill: #21918c; fill-opacity: 0.794393; stroke: #21918c; stroke-opacity: 0.794393\"/>\n    </g>\n    <g clip-path=\"url(#p2fa74d7e3c)\">\n     <use xlink:href=\"#C0_0_bce41a5a3d\" x=\"248.204917\" y=\"392.018911\" style=\"fill: #440154; fill-opacity: 0.798415; stroke: #440154; stroke-opacity: 0.798415\"/>\n    </g>\n    <g clip-path=\"url(#p2fa74d7e3c)\">\n     <use xlink:href=\"#C0_0_bce41a5a3d\" x=\"293.525913\" y=\"352.202081\" style=\"fill: #21918c; fill-opacity: 0.79913; stroke: #21918c; stroke-opacity: 0.79913\"/>\n    </g>\n    <g clip-path=\"url(#p2fa74d7e3c)\">\n     <use xlink:href=\"#C0_0_bce41a5a3d\" x=\"268.116474\" y=\"381.618259\" style=\"fill: #21918c; fill-opacity: 0.801146; stroke: #21918c; stroke-opacity: 0.801146\"/>\n    </g>\n    <g clip-path=\"url(#p2fa74d7e3c)\">\n     <use xlink:href=\"#C0_0_bce41a5a3d\" x=\"299.841941\" y=\"361.786416\" style=\"fill: #21918c; fill-opacity: 0.801354; stroke: #21918c; stroke-opacity: 0.801354\"/>\n    </g>\n    <g clip-path=\"url(#p2fa74d7e3c)\">\n     <use xlink:href=\"#C0_0_bce41a5a3d\" x=\"265.703833\" y=\"385.997896\" style=\"fill: #21918c; fill-opacity: 0.801671; stroke: #21918c; stroke-opacity: 0.801671\"/>\n    </g>\n    <g clip-path=\"url(#p2fa74d7e3c)\">\n     <use xlink:href=\"#C0_0_bce41a5a3d\" x=\"306.806419\" y=\"343.830805\" style=\"fill: #21918c; fill-opacity: 0.802344; stroke: #21918c; stroke-opacity: 0.802344\"/>\n    </g>\n    <g clip-path=\"url(#p2fa74d7e3c)\">\n     <use xlink:href=\"#C0_0_bce41a5a3d\" x=\"167.752592\" y=\"307.875949\" style=\"fill: #2c728e; fill-opacity: 0.803422; stroke: #2c728e; stroke-opacity: 0.803422\"/>\n    </g>\n    <g clip-path=\"url(#p2fa74d7e3c)\">\n     <use xlink:href=\"#C0_0_bce41a5a3d\" x=\"261.736058\" y=\"375.239267\" style=\"fill: #21918c; fill-opacity: 0.806294; stroke: #21918c; stroke-opacity: 0.806294\"/>\n    </g>\n    <g clip-path=\"url(#p2fa74d7e3c)\">\n     <use xlink:href=\"#C0_0_bce41a5a3d\" x=\"280.343236\" y=\"297.533351\" style=\"fill: #21918c; fill-opacity: 0.808253; stroke: #21918c; stroke-opacity: 0.808253\"/>\n    </g>\n    <g clip-path=\"url(#p2fa74d7e3c)\">\n     <use xlink:href=\"#C0_0_bce41a5a3d\" x=\"186.929289\" y=\"297.216211\" style=\"fill: #21918c; fill-opacity: 0.809682; stroke: #21918c; stroke-opacity: 0.809682\"/>\n    </g>\n    <g clip-path=\"url(#p2fa74d7e3c)\">\n     <use xlink:href=\"#C0_0_bce41a5a3d\" x=\"214.310732\" y=\"231.951117\" style=\"fill: #2c728e; fill-opacity: 0.811473; stroke: #2c728e; stroke-opacity: 0.811473\"/>\n    </g>\n    <g clip-path=\"url(#p2fa74d7e3c)\">\n     <use xlink:href=\"#C0_0_bce41a5a3d\" x=\"273.217804\" y=\"380.670503\" style=\"fill: #21918c; fill-opacity: 0.813971; stroke: #21918c; stroke-opacity: 0.813971\"/>\n    </g>\n    <g clip-path=\"url(#p2fa74d7e3c)\">\n     <use xlink:href=\"#C0_0_bce41a5a3d\" x=\"268.473638\" y=\"390.041131\" style=\"fill: #21918c; fill-opacity: 0.814429; stroke: #21918c; stroke-opacity: 0.814429\"/>\n    </g>\n    <g clip-path=\"url(#p2fa74d7e3c)\">\n     <use xlink:href=\"#C0_0_bce41a5a3d\" x=\"252.562589\" y=\"373.039935\" style=\"fill: #21918c; fill-opacity: 0.817607; stroke: #21918c; stroke-opacity: 0.817607\"/>\n    </g>\n    <g clip-path=\"url(#p2fa74d7e3c)\">\n     <use xlink:href=\"#C0_0_bce41a5a3d\" x=\"273.377004\" y=\"388.017064\" style=\"fill: #21918c; fill-opacity: 0.818642; stroke: #21918c; stroke-opacity: 0.818642\"/>\n    </g>\n    <g clip-path=\"url(#p2fa74d7e3c)\">\n     <use xlink:href=\"#C0_0_bce41a5a3d\" x=\"338.089383\" y=\"313.535092\" style=\"fill: #440154; fill-opacity: 0.821752; stroke: #440154; stroke-opacity: 0.821752\"/>\n    </g>\n    <g clip-path=\"url(#p2fa74d7e3c)\">\n     <use xlink:href=\"#C0_0_bce41a5a3d\" x=\"166.68181\" y=\"255.284093\" style=\"fill: #472d7b; fill-opacity: 0.821933; stroke: #472d7b; stroke-opacity: 0.821933\"/>\n    </g>\n    <g clip-path=\"url(#p2fa74d7e3c)\">\n     <use xlink:href=\"#C0_0_bce41a5a3d\" x=\"245.910794\" y=\"376.634909\" style=\"fill: #21918c; fill-opacity: 0.823099; stroke: #21918c; stroke-opacity: 0.823099\"/>\n    </g>\n    <g clip-path=\"url(#p2fa74d7e3c)\">\n     <use xlink:href=\"#C0_0_bce41a5a3d\" x=\"171.037548\" y=\"251.372431\" style=\"fill: #472d7b; fill-opacity: 0.823756; stroke: #472d7b; stroke-opacity: 0.823756\"/>\n    </g>\n    <g clip-path=\"url(#p2fa74d7e3c)\">\n     <use xlink:href=\"#C0_0_bce41a5a3d\" x=\"300.385163\" y=\"344.712001\" style=\"fill: #21918c; fill-opacity: 0.824099; stroke: #21918c; stroke-opacity: 0.824099\"/>\n    </g>\n    <g clip-path=\"url(#p2fa74d7e3c)\">\n     <use xlink:href=\"#C0_0_bce41a5a3d\" x=\"287.056376\" y=\"368.955128\" style=\"fill: #21918c; fill-opacity: 0.824412; stroke: #21918c; stroke-opacity: 0.824412\"/>\n    </g>\n    <g clip-path=\"url(#p2fa74d7e3c)\">\n     <use xlink:href=\"#C0_0_bce41a5a3d\" x=\"200.649809\" y=\"334.450601\" style=\"fill: #5ec962; fill-opacity: 0.825116; stroke: #5ec962; stroke-opacity: 0.825116\"/>\n    </g>\n    <g clip-path=\"url(#p2fa74d7e3c)\">\n     <use xlink:href=\"#C0_0_bce41a5a3d\" x=\"251.011125\" y=\"362.510123\" style=\"fill: #21918c; fill-opacity: 0.831848; stroke: #21918c; stroke-opacity: 0.831848\"/>\n    </g>\n    <g clip-path=\"url(#p2fa74d7e3c)\">\n     <use xlink:href=\"#C0_0_bce41a5a3d\" x=\"289.816018\" y=\"354.723401\" style=\"fill: #21918c; fill-opacity: 0.83248; stroke: #21918c; stroke-opacity: 0.83248\"/>\n    </g>\n    <g clip-path=\"url(#p2fa74d7e3c)\">\n     <use xlink:href=\"#C0_0_bce41a5a3d\" x=\"289.008022\" y=\"365.073618\" style=\"fill: #21918c; fill-opacity: 0.836134; stroke: #21918c; stroke-opacity: 0.836134\"/>\n    </g>\n    <g clip-path=\"url(#p2fa74d7e3c)\">\n     <use xlink:href=\"#C0_0_bce41a5a3d\" x=\"168.574178\" y=\"270.393444\" style=\"fill: #472d7b; fill-opacity: 0.842518; stroke: #472d7b; stroke-opacity: 0.842518\"/>\n    </g>\n    <g clip-path=\"url(#p2fa74d7e3c)\">\n     <use xlink:href=\"#C0_0_bce41a5a3d\" x=\"308.308325\" y=\"328.105892\" style=\"fill: #21918c; fill-opacity: 0.846522; stroke: #21918c; stroke-opacity: 0.846522\"/>\n    </g>\n    <g clip-path=\"url(#p2fa74d7e3c)\">\n     <use xlink:href=\"#C0_0_bce41a5a3d\" x=\"277.633543\" y=\"379.811936\" style=\"fill: #fde725; fill-opacity: 0.849021; stroke: #fde725; stroke-opacity: 0.849021\"/>\n    </g>\n    <g clip-path=\"url(#p2fa74d7e3c)\">\n     <use xlink:href=\"#C0_0_bce41a5a3d\" x=\"304.837811\" y=\"351.149814\" style=\"fill: #21918c; fill-opacity: 0.85144; stroke: #21918c; stroke-opacity: 0.85144\"/>\n    </g>\n    <g clip-path=\"url(#p2fa74d7e3c)\">\n     <use xlink:href=\"#C0_0_bce41a5a3d\" x=\"320.031497\" y=\"327.018902\" style=\"fill: #21918c; fill-opacity: 0.851725; stroke: #21918c; stroke-opacity: 0.851725\"/>\n    </g>\n    <g clip-path=\"url(#p2fa74d7e3c)\">\n     <use xlink:href=\"#C0_0_bce41a5a3d\" x=\"234.760828\" y=\"358.428917\" style=\"fill: #21918c; fill-opacity: 0.855757; stroke: #21918c; stroke-opacity: 0.855757\"/>\n    </g>\n    <g clip-path=\"url(#p2fa74d7e3c)\">\n     <use xlink:href=\"#C0_0_bce41a5a3d\" x=\"255.493789\" y=\"309.164817\" style=\"fill: #21918c; fill-opacity: 0.85706; stroke: #21918c; stroke-opacity: 0.85706\"/>\n    </g>\n    <g clip-path=\"url(#p2fa74d7e3c)\">\n     <use xlink:href=\"#C0_0_bce41a5a3d\" x=\"131.127615\" y=\"296.614743\" style=\"fill: #472d7b; fill-opacity: 0.85923; stroke: #472d7b; stroke-opacity: 0.85923\"/>\n    </g>\n    <g clip-path=\"url(#p2fa74d7e3c)\">\n     <use xlink:href=\"#C0_0_bce41a5a3d\" x=\"217.983314\" y=\"348.857909\" style=\"fill: #5ec962; fill-opacity: 0.875033; stroke: #5ec962; stroke-opacity: 0.875033\"/>\n    </g>\n    <g clip-path=\"url(#p2fa74d7e3c)\">\n     <use xlink:href=\"#C0_0_bce41a5a3d\" x=\"257.960366\" y=\"318.544357\" style=\"fill: #21918c; fill-opacity: 0.880708; stroke: #21918c; stroke-opacity: 0.880708\"/>\n    </g>\n    <g clip-path=\"url(#p2fa74d7e3c)\">\n     <use xlink:href=\"#C0_0_bce41a5a3d\" x=\"202.540899\" y=\"207.743635\" style=\"fill: #472d7b; fill-opacity: 0.887169; stroke: #472d7b; stroke-opacity: 0.887169\"/>\n    </g>\n    <g clip-path=\"url(#p2fa74d7e3c)\">\n     <use xlink:href=\"#C0_0_bce41a5a3d\" x=\"199.619624\" y=\"226.687046\" style=\"fill: #472d7b; fill-opacity: 0.888965; stroke: #472d7b; stroke-opacity: 0.888965\"/>\n    </g>\n    <g clip-path=\"url(#p2fa74d7e3c)\">\n     <use xlink:href=\"#C0_0_bce41a5a3d\" x=\"317.203262\" y=\"334.88654\" style=\"fill: #21918c; fill-opacity: 0.895978; stroke: #21918c; stroke-opacity: 0.895978\"/>\n    </g>\n    <g clip-path=\"url(#p2fa74d7e3c)\">\n     <use xlink:href=\"#C0_0_bce41a5a3d\" x=\"369.445506\" y=\"319.481506\" style=\"fill: #21918c; fill-opacity: 0.89865; stroke: #21918c; stroke-opacity: 0.89865\"/>\n    </g>\n    <g clip-path=\"url(#p2fa74d7e3c)\">\n     <use xlink:href=\"#C0_0_bce41a5a3d\" x=\"327.868201\" y=\"364.500518\" style=\"fill: #21918c; fill-opacity: 0.909197; stroke: #21918c; stroke-opacity: 0.909197\"/>\n    </g>\n    <g clip-path=\"url(#p2fa74d7e3c)\">\n     <use xlink:href=\"#C0_0_bce41a5a3d\" x=\"275.716959\" y=\"354.77385\" style=\"fill: #5ec962; fill-opacity: 0.913811; stroke: #5ec962; stroke-opacity: 0.913811\"/>\n    </g>\n    <g clip-path=\"url(#p2fa74d7e3c)\">\n     <use xlink:href=\"#C0_0_bce41a5a3d\" x=\"247.281117\" y=\"325.058051\" style=\"fill: #21918c; fill-opacity: 0.916487; stroke: #21918c; stroke-opacity: 0.916487\"/>\n    </g>\n    <g clip-path=\"url(#p2fa74d7e3c)\">\n     <use xlink:href=\"#C0_0_bce41a5a3d\" x=\"327.076997\" y=\"321.463458\" style=\"fill: #21918c; fill-opacity: 0.933399; stroke: #21918c; stroke-opacity: 0.933399\"/>\n    </g>\n    <g clip-path=\"url(#p2fa74d7e3c)\">\n     <use xlink:href=\"#C0_0_bce41a5a3d\" x=\"198.049765\" y=\"249.198832\" style=\"fill: #472d7b; fill-opacity: 0.93935; stroke: #472d7b; stroke-opacity: 0.93935\"/>\n    </g>\n    <g clip-path=\"url(#p2fa74d7e3c)\">\n     <use xlink:href=\"#C0_0_bce41a5a3d\" x=\"337.804349\" y=\"342.20182\" style=\"fill: #21918c; fill-opacity: 0.953867; stroke: #21918c; stroke-opacity: 0.953867\"/>\n    </g>\n    <g clip-path=\"url(#p2fa74d7e3c)\">\n     <use xlink:href=\"#C0_0_bce41a5a3d\" x=\"225.782051\" y=\"194.888898\" style=\"fill: #2c728e; fill-opacity: 0.98529; stroke: #2c728e; stroke-opacity: 0.98529\"/>\n    </g>\n    <g clip-path=\"url(#p2fa74d7e3c)\">\n     <use xlink:href=\"#C0_0_bce41a5a3d\" x=\"326.567482\" y=\"370.949795\" style=\"fill: #21918c; fill-opacity: 0.987251; stroke: #21918c; stroke-opacity: 0.987251\"/>\n    </g>\n    <g clip-path=\"url(#p2fa74d7e3c)\">\n     <use xlink:href=\"#C0_0_bce41a5a3d\" x=\"189.393047\" y=\"269.751384\" style=\"fill: #472d7b; stroke: #472d7b\"/>\n    </g>\n   </g>\n  </g>\n </g>\n <defs>\n  <clipPath id=\"p2fa74d7e3c\">\n   <rect x=\"7.2\" y=\"7.2\" width=\"504\" height=\"504\"/>\n  </clipPath>\n </defs>\n</svg>\n",
      "text/plain": [
       "<Figure size 504x504 with 1 Axes>"
      ]
     },
     "metadata": {
      "needs_background": "light"
     },
     "output_type": "display_data"
    }
   ],
   "source": [
    "from mpl_toolkits.mplot3d import Axes3D\n",
    "plt.rcParams['figure.figsize'] = (7, 7)\n",
    "\n",
    "fig = plt.figure()\n",
    "ax = Axes3D(fig)\n",
    "ax.scatter(X_train_pca_3[:, 0], X_train_pca_3[:, 1], X_train_pca_3[:, 2], c=y_train)"
   ]
  },
  {
   "cell_type": "markdown",
   "metadata": {},
   "source": [
    "From an initial view from the PCA, data does not look particularly linearly separable. Linear SVMs might not work the best for these"
   ]
  },
  {
   "cell_type": "markdown",
   "metadata": {},
   "source": [
    "----\n",
    "## **Part 2. Random Forest Classifier - Base Model:**"
   ]
  },
  {
   "cell_type": "code",
   "execution_count": 53,
   "metadata": {},
   "outputs": [
    {
     "data": {
      "text/plain": [
       "RandomForestClassifier(random_state=42)"
      ]
     },
     "execution_count": 53,
     "metadata": {},
     "output_type": "execute_result"
    }
   ],
   "source": [
    "from sklearn.ensemble import RandomForestClassifier\n",
    "rf= RandomForestClassifier(random_state=42)\n",
    "rf.fit(X_train_scaled, y_train)"
   ]
  },
  {
   "cell_type": "code",
   "execution_count": 54,
   "metadata": {},
   "outputs": [
    {
     "name": "stdout",
     "output_type": "stream",
     "text": [
      "Predicted Classes\n",
      "[8 1 5 1 1 6 8 8 5 3 5 4 5 6 2 5 3 9 5 2 7 4 1 3 6 1 6 5 5 5 4 2 1 6 3 1 4\n",
      " 1 3 1 1 3 5 5 5 6 6 2 1 9 2 3 8 8 4 7 5 3 6 6 8 8 7 5 9 6 5 5 5 9 1 5 4 7\n",
      " 7 2 5 6 4 4 7 7 5 5 5 2 5 6 4 6 6 6 5 1 1 6 7 8 2 3 6 4 3 8 3 4 6 5 1 6 4\n",
      " 6 6 8 1 3 6 1 1 8 8 6 2 7 3 4 3 7 5 6 1 4 4 1 4 6 2 7 7 7 8 5 1 4 1 4 5 2\n",
      " 2 3 6 4 3 2 1 5 1 3 4 1 6 3 3 8 9 6 6 1]\n",
      "\n",
      "\n",
      "Class Probabilities\n",
      "[[0.18 0.   0.   ... 0.07 0.3  0.16]\n",
      " [0.77 0.   0.   ... 0.   0.07 0.  ]\n",
      " [0.11 0.   0.   ... 0.   0.   0.01]\n",
      " ...\n",
      " [0.   0.   0.06 ... 0.05 0.   0.02]\n",
      " [0.01 0.   0.11 ... 0.05 0.   0.04]\n",
      " [0.95 0.   0.   ... 0.   0.   0.04]]\n"
     ]
    }
   ],
   "source": [
    "y_pred_rf=rf.predict(X_test_scaled)\n",
    "y_pred_proba_rf=rf.predict_proba(X_test_scaled)\n",
    "\n",
    "print(\"Predicted Classes\")\n",
    "print(y_pred_rf)\n",
    "print(\"\\n\")\n",
    "print(\"Class Probabilities\")\n",
    "print(y_pred_proba_rf)"
   ]
  },
  {
   "cell_type": "code",
   "execution_count": 55,
   "metadata": {},
   "outputs": [
    {
     "data": {
      "text/plain": [
       "array([[18,  0,  0,  0,  5,  0,  0,  0,  0],\n",
       "       [ 0, 13,  0,  3,  0,  0,  0,  0,  0],\n",
       "       [ 1,  0, 15,  0,  0,  1,  0,  0,  0],\n",
       "       [ 0,  0,  0, 14,  0,  0,  0,  0,  0],\n",
       "       [ 2,  0,  0,  1, 22,  0,  0,  0,  0],\n",
       "       [ 0,  0,  4,  0,  0, 25,  0,  0,  0],\n",
       "       [ 0,  0,  0,  1,  0,  0, 13,  1,  0],\n",
       "       [ 0,  0,  0,  1,  1,  0,  0, 13,  0],\n",
       "       [ 5,  0,  0,  0,  1,  3,  0,  0,  5]])"
      ]
     },
     "execution_count": 55,
     "metadata": {},
     "output_type": "execute_result"
    }
   ],
   "source": [
    "from sklearn.metrics import confusion_matrix\n",
    "confusion_matrix(y_test, y_pred_rf)"
   ]
  },
  {
   "cell_type": "code",
   "execution_count": 56,
   "metadata": {},
   "outputs": [
    {
     "name": "stdout",
     "output_type": "stream",
     "text": [
      "              precision    recall  f1-score   support\n",
      "\n",
      "           1       0.69      0.78      0.73        23\n",
      "           2       1.00      0.81      0.90        16\n",
      "           3       0.79      0.88      0.83        17\n",
      "           4       0.70      1.00      0.82        14\n",
      "           5       0.76      0.88      0.81        25\n",
      "           6       0.86      0.86      0.86        29\n",
      "           7       1.00      0.87      0.93        15\n",
      "           8       0.93      0.87      0.90        15\n",
      "           9       1.00      0.36      0.53        14\n",
      "\n",
      "    accuracy                           0.82       168\n",
      "   macro avg       0.86      0.81      0.81       168\n",
      "weighted avg       0.85      0.82      0.82       168\n",
      "\n"
     ]
    }
   ],
   "source": [
    "from sklearn.metrics import classification_report\n",
    "print(classification_report(y_test, y_pred_rf))"
   ]
  },
  {
   "cell_type": "code",
   "execution_count": 57,
   "metadata": {},
   "outputs": [
    {
     "name": "stdout",
     "output_type": "stream",
     "text": [
      "              precision    recall  f1-score   support\n",
      "\n",
      "           1       1.00      1.00      1.00        93\n",
      "           2       1.00      1.00      1.00        45\n",
      "           3       1.00      1.00      1.00        89\n",
      "           4       1.00      1.00      1.00        45\n",
      "           5       1.00      1.00      1.00        97\n",
      "           6       1.00      1.00      1.00        83\n",
      "           7       1.00      1.00      1.00        14\n",
      "           8       1.00      1.00      1.00        21\n",
      "           9       1.00      1.00      1.00        20\n",
      "\n",
      "    accuracy                           1.00       507\n",
      "   macro avg       1.00      1.00      1.00       507\n",
      "weighted avg       1.00      1.00      1.00       507\n",
      "\n"
     ]
    }
   ],
   "source": [
    "# d)  Calculate predictions for the training data & build the classification report & confusion matrix. \n",
    "# Are there signs of overfitting? Why or why not?\n",
    "\n",
    "y_pred_train_rf=rf.predict(X_train_scaled)\n",
    "print(classification_report(y_train, y_pred_train_rf))"
   ]
  },
  {
   "cell_type": "markdown",
   "metadata": {},
   "source": [
    "We see a perfect fit for the training data, as both precision and recall values are 1 for every class. This signifies significant overfitting in the Random Forest Model"
   ]
  },
  {
   "cell_type": "code",
   "execution_count": 58,
   "metadata": {},
   "outputs": [
    {
     "data": {
      "text/plain": [
       "<AxesSubplot:title={'center':'Feature Importance - Random Forest'}>"
      ]
     },
     "execution_count": 58,
     "metadata": {},
     "output_type": "execute_result"
    },
    {
     "data": {
      "image/svg+xml": "<?xml version=\"1.0\" encoding=\"utf-8\" standalone=\"no\"?>\n<!DOCTYPE svg PUBLIC \"-//W3C//DTD SVG 1.1//EN\"\n  \"http://www.w3.org/Graphics/SVG/1.1/DTD/svg11.dtd\">\n<svg xmlns:xlink=\"http://www.w3.org/1999/xlink\" width=\"479.351563pt\" height=\"426.71625pt\" viewBox=\"0 0 479.351563 426.71625\" xmlns=\"http://www.w3.org/2000/svg\" version=\"1.1\">\n <metadata>\n  <rdf:RDF xmlns:dc=\"http://purl.org/dc/elements/1.1/\" xmlns:cc=\"http://creativecommons.org/ns#\" xmlns:rdf=\"http://www.w3.org/1999/02/22-rdf-syntax-ns#\">\n   <cc:Work>\n    <dc:type rdf:resource=\"http://purl.org/dc/dcmitype/StillImage\"/>\n    <dc:date>2023-04-26T22:48:09.761075</dc:date>\n    <dc:format>image/svg+xml</dc:format>\n    <dc:creator>\n     <cc:Agent>\n      <dc:title>Matplotlib v3.5.1, https://matplotlib.org/</dc:title>\n     </cc:Agent>\n    </dc:creator>\n   </cc:Work>\n  </rdf:RDF>\n </metadata>\n <defs>\n  <style type=\"text/css\">*{stroke-linejoin: round; stroke-linecap: butt}</style>\n </defs>\n <g id=\"figure_1\">\n  <g id=\"patch_1\">\n   <path d=\"M 0 426.71625 \nL 479.351563 426.71625 \nL 479.351563 0 \nL 0 0 \nL 0 426.71625 \nz\n\" style=\"fill: none\"/>\n  </g>\n  <g id=\"axes_1\">\n   <g id=\"patch_2\">\n    <path d=\"M 81.551563 402.838125 \nL 472.151563 402.838125 \nL 472.151563 22.318125 \nL 81.551563 22.318125 \nz\n\" style=\"fill: #ffffff\"/>\n   </g>\n   <g id=\"patch_3\">\n    <path d=\"M 81.551563 383.812125 \nL 307.656729 383.812125 \nL 307.656729 345.760125 \nL 81.551563 345.760125 \nz\n\" clip-path=\"url(#pe410f1bfb5)\" style=\"fill: #1f77b4\"/>\n   </g>\n   <g id=\"patch_4\">\n    <path d=\"M 81.551563 307.708125 \nL 323.34666 307.708125 \nL 323.34666 269.656125 \nL 81.551563 269.656125 \nz\n\" clip-path=\"url(#pe410f1bfb5)\" style=\"fill: #1f77b4\"/>\n   </g>\n   <g id=\"patch_5\">\n    <path d=\"M 81.551563 231.604125 \nL 333.639585 231.604125 \nL 333.639585 193.552125 \nL 81.551563 193.552125 \nz\n\" clip-path=\"url(#pe410f1bfb5)\" style=\"fill: #1f77b4\"/>\n   </g>\n   <g id=\"patch_6\">\n    <path d=\"M 81.551563 155.500125 \nL 337.115891 155.500125 \nL 337.115891 117.448125 \nL 81.551563 117.448125 \nz\n\" clip-path=\"url(#pe410f1bfb5)\" style=\"fill: #1f77b4\"/>\n   </g>\n   <g id=\"patch_7\">\n    <path d=\"M 81.551563 79.396125 \nL 453.551563 79.396125 \nL 453.551563 41.344125 \nL 81.551563 41.344125 \nz\n\" clip-path=\"url(#pe410f1bfb5)\" style=\"fill: #1f77b4\"/>\n   </g>\n   <g id=\"matplotlib.axis_1\">\n    <g id=\"xtick_1\">\n     <g id=\"line2d_1\">\n      <defs>\n       <path id=\"m49dc0e1df6\" d=\"M 0 0 \nL 0 3.5 \n\" style=\"stroke: #000000; stroke-width: 0.8\"/>\n      </defs>\n      <g>\n       <use xlink:href=\"#m49dc0e1df6\" x=\"81.551563\" y=\"402.838125\" style=\"stroke: #000000; stroke-width: 0.8\"/>\n      </g>\n     </g>\n     <g id=\"text_1\">\n      <!-- 0.000 -->\n      <g transform=\"translate(67.2375 417.436562)scale(0.1 -0.1)\">\n       <defs>\n        <path id=\"DejaVuSans-30\" d=\"M 2034 4250 \nQ 1547 4250 1301 3770 \nQ 1056 3291 1056 2328 \nQ 1056 1369 1301 889 \nQ 1547 409 2034 409 \nQ 2525 409 2770 889 \nQ 3016 1369 3016 2328 \nQ 3016 3291 2770 3770 \nQ 2525 4250 2034 4250 \nz\nM 2034 4750 \nQ 2819 4750 3233 4129 \nQ 3647 3509 3647 2328 \nQ 3647 1150 3233 529 \nQ 2819 -91 2034 -91 \nQ 1250 -91 836 529 \nQ 422 1150 422 2328 \nQ 422 3509 836 4129 \nQ 1250 4750 2034 4750 \nz\n\" transform=\"scale(0.015625)\"/>\n        <path id=\"DejaVuSans-2e\" d=\"M 684 794 \nL 1344 794 \nL 1344 0 \nL 684 0 \nL 684 794 \nz\n\" transform=\"scale(0.015625)\"/>\n       </defs>\n       <use xlink:href=\"#DejaVuSans-30\"/>\n       <use xlink:href=\"#DejaVuSans-2e\" x=\"63.623047\"/>\n       <use xlink:href=\"#DejaVuSans-30\" x=\"95.410156\"/>\n       <use xlink:href=\"#DejaVuSans-30\" x=\"159.033203\"/>\n       <use xlink:href=\"#DejaVuSans-30\" x=\"222.65625\"/>\n      </g>\n     </g>\n    </g>\n    <g id=\"xtick_2\">\n     <g id=\"line2d_2\">\n      <g>\n       <use xlink:href=\"#m49dc0e1df6\" x=\"125.060003\" y=\"402.838125\" style=\"stroke: #000000; stroke-width: 0.8\"/>\n      </g>\n     </g>\n     <g id=\"text_2\">\n      <!-- 0.005 -->\n      <g transform=\"translate(110.74594 417.436562)scale(0.1 -0.1)\">\n       <defs>\n        <path id=\"DejaVuSans-35\" d=\"M 691 4666 \nL 3169 4666 \nL 3169 4134 \nL 1269 4134 \nL 1269 2991 \nQ 1406 3038 1543 3061 \nQ 1681 3084 1819 3084 \nQ 2600 3084 3056 2656 \nQ 3513 2228 3513 1497 \nQ 3513 744 3044 326 \nQ 2575 -91 1722 -91 \nQ 1428 -91 1123 -41 \nQ 819 9 494 109 \nL 494 744 \nQ 775 591 1075 516 \nQ 1375 441 1709 441 \nQ 2250 441 2565 725 \nQ 2881 1009 2881 1497 \nQ 2881 1984 2565 2268 \nQ 2250 2553 1709 2553 \nQ 1456 2553 1204 2497 \nQ 953 2441 691 2322 \nL 691 4666 \nz\n\" transform=\"scale(0.015625)\"/>\n       </defs>\n       <use xlink:href=\"#DejaVuSans-30\"/>\n       <use xlink:href=\"#DejaVuSans-2e\" x=\"63.623047\"/>\n       <use xlink:href=\"#DejaVuSans-30\" x=\"95.410156\"/>\n       <use xlink:href=\"#DejaVuSans-30\" x=\"159.033203\"/>\n       <use xlink:href=\"#DejaVuSans-35\" x=\"222.65625\"/>\n      </g>\n     </g>\n    </g>\n    <g id=\"xtick_3\">\n     <g id=\"line2d_3\">\n      <g>\n       <use xlink:href=\"#m49dc0e1df6\" x=\"168.568443\" y=\"402.838125\" style=\"stroke: #000000; stroke-width: 0.8\"/>\n      </g>\n     </g>\n     <g id=\"text_3\">\n      <!-- 0.010 -->\n      <g transform=\"translate(154.254381 417.436562)scale(0.1 -0.1)\">\n       <defs>\n        <path id=\"DejaVuSans-31\" d=\"M 794 531 \nL 1825 531 \nL 1825 4091 \nL 703 3866 \nL 703 4441 \nL 1819 4666 \nL 2450 4666 \nL 2450 531 \nL 3481 531 \nL 3481 0 \nL 794 0 \nL 794 531 \nz\n\" transform=\"scale(0.015625)\"/>\n       </defs>\n       <use xlink:href=\"#DejaVuSans-30\"/>\n       <use xlink:href=\"#DejaVuSans-2e\" x=\"63.623047\"/>\n       <use xlink:href=\"#DejaVuSans-30\" x=\"95.410156\"/>\n       <use xlink:href=\"#DejaVuSans-31\" x=\"159.033203\"/>\n       <use xlink:href=\"#DejaVuSans-30\" x=\"222.65625\"/>\n      </g>\n     </g>\n    </g>\n    <g id=\"xtick_4\">\n     <g id=\"line2d_4\">\n      <g>\n       <use xlink:href=\"#m49dc0e1df6\" x=\"212.076884\" y=\"402.838125\" style=\"stroke: #000000; stroke-width: 0.8\"/>\n      </g>\n     </g>\n     <g id=\"text_4\">\n      <!-- 0.015 -->\n      <g transform=\"translate(197.762821 417.436562)scale(0.1 -0.1)\">\n       <use xlink:href=\"#DejaVuSans-30\"/>\n       <use xlink:href=\"#DejaVuSans-2e\" x=\"63.623047\"/>\n       <use xlink:href=\"#DejaVuSans-30\" x=\"95.410156\"/>\n       <use xlink:href=\"#DejaVuSans-31\" x=\"159.033203\"/>\n       <use xlink:href=\"#DejaVuSans-35\" x=\"222.65625\"/>\n      </g>\n     </g>\n    </g>\n    <g id=\"xtick_5\">\n     <g id=\"line2d_5\">\n      <g>\n       <use xlink:href=\"#m49dc0e1df6\" x=\"255.585324\" y=\"402.838125\" style=\"stroke: #000000; stroke-width: 0.8\"/>\n      </g>\n     </g>\n     <g id=\"text_5\">\n      <!-- 0.020 -->\n      <g transform=\"translate(241.271262 417.436562)scale(0.1 -0.1)\">\n       <defs>\n        <path id=\"DejaVuSans-32\" d=\"M 1228 531 \nL 3431 531 \nL 3431 0 \nL 469 0 \nL 469 531 \nQ 828 903 1448 1529 \nQ 2069 2156 2228 2338 \nQ 2531 2678 2651 2914 \nQ 2772 3150 2772 3378 \nQ 2772 3750 2511 3984 \nQ 2250 4219 1831 4219 \nQ 1534 4219 1204 4116 \nQ 875 4013 500 3803 \nL 500 4441 \nQ 881 4594 1212 4672 \nQ 1544 4750 1819 4750 \nQ 2544 4750 2975 4387 \nQ 3406 4025 3406 3419 \nQ 3406 3131 3298 2873 \nQ 3191 2616 2906 2266 \nQ 2828 2175 2409 1742 \nQ 1991 1309 1228 531 \nz\n\" transform=\"scale(0.015625)\"/>\n       </defs>\n       <use xlink:href=\"#DejaVuSans-30\"/>\n       <use xlink:href=\"#DejaVuSans-2e\" x=\"63.623047\"/>\n       <use xlink:href=\"#DejaVuSans-30\" x=\"95.410156\"/>\n       <use xlink:href=\"#DejaVuSans-32\" x=\"159.033203\"/>\n       <use xlink:href=\"#DejaVuSans-30\" x=\"222.65625\"/>\n      </g>\n     </g>\n    </g>\n    <g id=\"xtick_6\">\n     <g id=\"line2d_6\">\n      <g>\n       <use xlink:href=\"#m49dc0e1df6\" x=\"299.093765\" y=\"402.838125\" style=\"stroke: #000000; stroke-width: 0.8\"/>\n      </g>\n     </g>\n     <g id=\"text_6\">\n      <!-- 0.025 -->\n      <g transform=\"translate(284.779702 417.436562)scale(0.1 -0.1)\">\n       <use xlink:href=\"#DejaVuSans-30\"/>\n       <use xlink:href=\"#DejaVuSans-2e\" x=\"63.623047\"/>\n       <use xlink:href=\"#DejaVuSans-30\" x=\"95.410156\"/>\n       <use xlink:href=\"#DejaVuSans-32\" x=\"159.033203\"/>\n       <use xlink:href=\"#DejaVuSans-35\" x=\"222.65625\"/>\n      </g>\n     </g>\n    </g>\n    <g id=\"xtick_7\">\n     <g id=\"line2d_7\">\n      <g>\n       <use xlink:href=\"#m49dc0e1df6\" x=\"342.602205\" y=\"402.838125\" style=\"stroke: #000000; stroke-width: 0.8\"/>\n      </g>\n     </g>\n     <g id=\"text_7\">\n      <!-- 0.030 -->\n      <g transform=\"translate(328.288143 417.436562)scale(0.1 -0.1)\">\n       <defs>\n        <path id=\"DejaVuSans-33\" d=\"M 2597 2516 \nQ 3050 2419 3304 2112 \nQ 3559 1806 3559 1356 \nQ 3559 666 3084 287 \nQ 2609 -91 1734 -91 \nQ 1441 -91 1130 -33 \nQ 819 25 488 141 \nL 488 750 \nQ 750 597 1062 519 \nQ 1375 441 1716 441 \nQ 2309 441 2620 675 \nQ 2931 909 2931 1356 \nQ 2931 1769 2642 2001 \nQ 2353 2234 1838 2234 \nL 1294 2234 \nL 1294 2753 \nL 1863 2753 \nQ 2328 2753 2575 2939 \nQ 2822 3125 2822 3475 \nQ 2822 3834 2567 4026 \nQ 2313 4219 1838 4219 \nQ 1578 4219 1281 4162 \nQ 984 4106 628 3988 \nL 628 4550 \nQ 988 4650 1302 4700 \nQ 1616 4750 1894 4750 \nQ 2613 4750 3031 4423 \nQ 3450 4097 3450 3541 \nQ 3450 3153 3228 2886 \nQ 3006 2619 2597 2516 \nz\n\" transform=\"scale(0.015625)\"/>\n       </defs>\n       <use xlink:href=\"#DejaVuSans-30\"/>\n       <use xlink:href=\"#DejaVuSans-2e\" x=\"63.623047\"/>\n       <use xlink:href=\"#DejaVuSans-30\" x=\"95.410156\"/>\n       <use xlink:href=\"#DejaVuSans-33\" x=\"159.033203\"/>\n       <use xlink:href=\"#DejaVuSans-30\" x=\"222.65625\"/>\n      </g>\n     </g>\n    </g>\n    <g id=\"xtick_8\">\n     <g id=\"line2d_8\">\n      <g>\n       <use xlink:href=\"#m49dc0e1df6\" x=\"386.110646\" y=\"402.838125\" style=\"stroke: #000000; stroke-width: 0.8\"/>\n      </g>\n     </g>\n     <g id=\"text_8\">\n      <!-- 0.035 -->\n      <g transform=\"translate(371.796583 417.436562)scale(0.1 -0.1)\">\n       <use xlink:href=\"#DejaVuSans-30\"/>\n       <use xlink:href=\"#DejaVuSans-2e\" x=\"63.623047\"/>\n       <use xlink:href=\"#DejaVuSans-30\" x=\"95.410156\"/>\n       <use xlink:href=\"#DejaVuSans-33\" x=\"159.033203\"/>\n       <use xlink:href=\"#DejaVuSans-35\" x=\"222.65625\"/>\n      </g>\n     </g>\n    </g>\n    <g id=\"xtick_9\">\n     <g id=\"line2d_9\">\n      <g>\n       <use xlink:href=\"#m49dc0e1df6\" x=\"429.619086\" y=\"402.838125\" style=\"stroke: #000000; stroke-width: 0.8\"/>\n      </g>\n     </g>\n     <g id=\"text_9\">\n      <!-- 0.040 -->\n      <g transform=\"translate(415.305024 417.436562)scale(0.1 -0.1)\">\n       <defs>\n        <path id=\"DejaVuSans-34\" d=\"M 2419 4116 \nL 825 1625 \nL 2419 1625 \nL 2419 4116 \nz\nM 2253 4666 \nL 3047 4666 \nL 3047 1625 \nL 3713 1625 \nL 3713 1100 \nL 3047 1100 \nL 3047 0 \nL 2419 0 \nL 2419 1100 \nL 313 1100 \nL 313 1709 \nL 2253 4666 \nz\n\" transform=\"scale(0.015625)\"/>\n       </defs>\n       <use xlink:href=\"#DejaVuSans-30\"/>\n       <use xlink:href=\"#DejaVuSans-2e\" x=\"63.623047\"/>\n       <use xlink:href=\"#DejaVuSans-30\" x=\"95.410156\"/>\n       <use xlink:href=\"#DejaVuSans-34\" x=\"159.033203\"/>\n       <use xlink:href=\"#DejaVuSans-30\" x=\"222.65625\"/>\n      </g>\n     </g>\n    </g>\n   </g>\n   <g id=\"matplotlib.axis_2\">\n    <g id=\"ytick_1\">\n     <g id=\"line2d_10\">\n      <defs>\n       <path id=\"ma7c48ebbd8\" d=\"M 0 0 \nL -3.5 0 \n\" style=\"stroke: #000000; stroke-width: 0.8\"/>\n      </defs>\n      <g>\n       <use xlink:href=\"#ma7c48ebbd8\" x=\"81.551563\" y=\"364.786125\" style=\"stroke: #000000; stroke-width: 0.8\"/>\n      </g>\n     </g>\n     <g id=\"text_10\">\n      <!-- Mean_NIR_40 -->\n      <g transform=\"translate(7.2 368.497062)scale(0.1 -0.1)\">\n       <defs>\n        <path id=\"DejaVuSans-4d\" d=\"M 628 4666 \nL 1569 4666 \nL 2759 1491 \nL 3956 4666 \nL 4897 4666 \nL 4897 0 \nL 4281 0 \nL 4281 4097 \nL 3078 897 \nL 2444 897 \nL 1241 4097 \nL 1241 0 \nL 628 0 \nL 628 4666 \nz\n\" transform=\"scale(0.015625)\"/>\n        <path id=\"DejaVuSans-65\" d=\"M 3597 1894 \nL 3597 1613 \nL 953 1613 \nQ 991 1019 1311 708 \nQ 1631 397 2203 397 \nQ 2534 397 2845 478 \nQ 3156 559 3463 722 \nL 3463 178 \nQ 3153 47 2828 -22 \nQ 2503 -91 2169 -91 \nQ 1331 -91 842 396 \nQ 353 884 353 1716 \nQ 353 2575 817 3079 \nQ 1281 3584 2069 3584 \nQ 2775 3584 3186 3129 \nQ 3597 2675 3597 1894 \nz\nM 3022 2063 \nQ 3016 2534 2758 2815 \nQ 2500 3097 2075 3097 \nQ 1594 3097 1305 2825 \nQ 1016 2553 972 2059 \nL 3022 2063 \nz\n\" transform=\"scale(0.015625)\"/>\n        <path id=\"DejaVuSans-61\" d=\"M 2194 1759 \nQ 1497 1759 1228 1600 \nQ 959 1441 959 1056 \nQ 959 750 1161 570 \nQ 1363 391 1709 391 \nQ 2188 391 2477 730 \nQ 2766 1069 2766 1631 \nL 2766 1759 \nL 2194 1759 \nz\nM 3341 1997 \nL 3341 0 \nL 2766 0 \nL 2766 531 \nQ 2569 213 2275 61 \nQ 1981 -91 1556 -91 \nQ 1019 -91 701 211 \nQ 384 513 384 1019 \nQ 384 1609 779 1909 \nQ 1175 2209 1959 2209 \nL 2766 2209 \nL 2766 2266 \nQ 2766 2663 2505 2880 \nQ 2244 3097 1772 3097 \nQ 1472 3097 1187 3025 \nQ 903 2953 641 2809 \nL 641 3341 \nQ 956 3463 1253 3523 \nQ 1550 3584 1831 3584 \nQ 2591 3584 2966 3190 \nQ 3341 2797 3341 1997 \nz\n\" transform=\"scale(0.015625)\"/>\n        <path id=\"DejaVuSans-6e\" d=\"M 3513 2113 \nL 3513 0 \nL 2938 0 \nL 2938 2094 \nQ 2938 2591 2744 2837 \nQ 2550 3084 2163 3084 \nQ 1697 3084 1428 2787 \nQ 1159 2491 1159 1978 \nL 1159 0 \nL 581 0 \nL 581 3500 \nL 1159 3500 \nL 1159 2956 \nQ 1366 3272 1645 3428 \nQ 1925 3584 2291 3584 \nQ 2894 3584 3203 3211 \nQ 3513 2838 3513 2113 \nz\n\" transform=\"scale(0.015625)\"/>\n        <path id=\"DejaVuSans-5f\" d=\"M 3263 -1063 \nL 3263 -1509 \nL -63 -1509 \nL -63 -1063 \nL 3263 -1063 \nz\n\" transform=\"scale(0.015625)\"/>\n        <path id=\"DejaVuSans-4e\" d=\"M 628 4666 \nL 1478 4666 \nL 3547 763 \nL 3547 4666 \nL 4159 4666 \nL 4159 0 \nL 3309 0 \nL 1241 3903 \nL 1241 0 \nL 628 0 \nL 628 4666 \nz\n\" transform=\"scale(0.015625)\"/>\n        <path id=\"DejaVuSans-49\" d=\"M 628 4666 \nL 1259 4666 \nL 1259 0 \nL 628 0 \nL 628 4666 \nz\n\" transform=\"scale(0.015625)\"/>\n        <path id=\"DejaVuSans-52\" d=\"M 2841 2188 \nQ 3044 2119 3236 1894 \nQ 3428 1669 3622 1275 \nL 4263 0 \nL 3584 0 \nL 2988 1197 \nQ 2756 1666 2539 1819 \nQ 2322 1972 1947 1972 \nL 1259 1972 \nL 1259 0 \nL 628 0 \nL 628 4666 \nL 2053 4666 \nQ 2853 4666 3247 4331 \nQ 3641 3997 3641 3322 \nQ 3641 2881 3436 2590 \nQ 3231 2300 2841 2188 \nz\nM 1259 4147 \nL 1259 2491 \nL 2053 2491 \nQ 2509 2491 2742 2702 \nQ 2975 2913 2975 3322 \nQ 2975 3731 2742 3939 \nQ 2509 4147 2053 4147 \nL 1259 4147 \nz\n\" transform=\"scale(0.015625)\"/>\n       </defs>\n       <use xlink:href=\"#DejaVuSans-4d\"/>\n       <use xlink:href=\"#DejaVuSans-65\" x=\"86.279297\"/>\n       <use xlink:href=\"#DejaVuSans-61\" x=\"147.802734\"/>\n       <use xlink:href=\"#DejaVuSans-6e\" x=\"209.082031\"/>\n       <use xlink:href=\"#DejaVuSans-5f\" x=\"272.460938\"/>\n       <use xlink:href=\"#DejaVuSans-4e\" x=\"322.460938\"/>\n       <use xlink:href=\"#DejaVuSans-49\" x=\"397.265625\"/>\n       <use xlink:href=\"#DejaVuSans-52\" x=\"426.757812\"/>\n       <use xlink:href=\"#DejaVuSans-5f\" x=\"496.240234\"/>\n       <use xlink:href=\"#DejaVuSans-34\" x=\"546.240234\"/>\n       <use xlink:href=\"#DejaVuSans-30\" x=\"609.863281\"/>\n      </g>\n     </g>\n    </g>\n    <g id=\"ytick_2\">\n     <g id=\"line2d_11\">\n      <g>\n       <use xlink:href=\"#ma7c48ebbd8\" x=\"81.551563\" y=\"288.682125\" style=\"stroke: #000000; stroke-width: 0.8\"/>\n      </g>\n     </g>\n     <g id=\"text_11\">\n      <!-- NDVI_60 -->\n      <g transform=\"translate(32.029688 292.393062)scale(0.1 -0.1)\">\n       <defs>\n        <path id=\"DejaVuSans-44\" d=\"M 1259 4147 \nL 1259 519 \nL 2022 519 \nQ 2988 519 3436 956 \nQ 3884 1394 3884 2338 \nQ 3884 3275 3436 3711 \nQ 2988 4147 2022 4147 \nL 1259 4147 \nz\nM 628 4666 \nL 1925 4666 \nQ 3281 4666 3915 4102 \nQ 4550 3538 4550 2338 \nQ 4550 1131 3912 565 \nQ 3275 0 1925 0 \nL 628 0 \nL 628 4666 \nz\n\" transform=\"scale(0.015625)\"/>\n        <path id=\"DejaVuSans-56\" d=\"M 1831 0 \nL 50 4666 \nL 709 4666 \nL 2188 738 \nL 3669 4666 \nL 4325 4666 \nL 2547 0 \nL 1831 0 \nz\n\" transform=\"scale(0.015625)\"/>\n        <path id=\"DejaVuSans-36\" d=\"M 2113 2584 \nQ 1688 2584 1439 2293 \nQ 1191 2003 1191 1497 \nQ 1191 994 1439 701 \nQ 1688 409 2113 409 \nQ 2538 409 2786 701 \nQ 3034 994 3034 1497 \nQ 3034 2003 2786 2293 \nQ 2538 2584 2113 2584 \nz\nM 3366 4563 \nL 3366 3988 \nQ 3128 4100 2886 4159 \nQ 2644 4219 2406 4219 \nQ 1781 4219 1451 3797 \nQ 1122 3375 1075 2522 \nQ 1259 2794 1537 2939 \nQ 1816 3084 2150 3084 \nQ 2853 3084 3261 2657 \nQ 3669 2231 3669 1497 \nQ 3669 778 3244 343 \nQ 2819 -91 2113 -91 \nQ 1303 -91 875 529 \nQ 447 1150 447 2328 \nQ 447 3434 972 4092 \nQ 1497 4750 2381 4750 \nQ 2619 4750 2861 4703 \nQ 3103 4656 3366 4563 \nz\n\" transform=\"scale(0.015625)\"/>\n       </defs>\n       <use xlink:href=\"#DejaVuSans-4e\"/>\n       <use xlink:href=\"#DejaVuSans-44\" x=\"74.804688\"/>\n       <use xlink:href=\"#DejaVuSans-56\" x=\"150.056641\"/>\n       <use xlink:href=\"#DejaVuSans-49\" x=\"218.464844\"/>\n       <use xlink:href=\"#DejaVuSans-5f\" x=\"247.957031\"/>\n       <use xlink:href=\"#DejaVuSans-36\" x=\"297.957031\"/>\n       <use xlink:href=\"#DejaVuSans-30\" x=\"361.580078\"/>\n      </g>\n     </g>\n    </g>\n    <g id=\"ytick_3\">\n     <g id=\"line2d_12\">\n      <g>\n       <use xlink:href=\"#ma7c48ebbd8\" x=\"81.551563\" y=\"212.578125\" style=\"stroke: #000000; stroke-width: 0.8\"/>\n      </g>\n     </g>\n     <g id=\"text_12\">\n      <!-- Mean_R_40 -->\n      <g transform=\"translate(17.63125 216.289062)scale(0.1 -0.1)\">\n       <use xlink:href=\"#DejaVuSans-4d\"/>\n       <use xlink:href=\"#DejaVuSans-65\" x=\"86.279297\"/>\n       <use xlink:href=\"#DejaVuSans-61\" x=\"147.802734\"/>\n       <use xlink:href=\"#DejaVuSans-6e\" x=\"209.082031\"/>\n       <use xlink:href=\"#DejaVuSans-5f\" x=\"272.460938\"/>\n       <use xlink:href=\"#DejaVuSans-52\" x=\"322.460938\"/>\n       <use xlink:href=\"#DejaVuSans-5f\" x=\"391.943359\"/>\n       <use xlink:href=\"#DejaVuSans-34\" x=\"441.943359\"/>\n       <use xlink:href=\"#DejaVuSans-30\" x=\"505.566406\"/>\n      </g>\n     </g>\n    </g>\n    <g id=\"ytick_4\">\n     <g id=\"line2d_13\">\n      <g>\n       <use xlink:href=\"#ma7c48ebbd8\" x=\"81.551563\" y=\"136.474125\" style=\"stroke: #000000; stroke-width: 0.8\"/>\n      </g>\n     </g>\n     <g id=\"text_13\">\n      <!-- Mean_NIR -->\n      <g transform=\"translate(24.925 140.134281)scale(0.1 -0.1)\">\n       <use xlink:href=\"#DejaVuSans-4d\"/>\n       <use xlink:href=\"#DejaVuSans-65\" x=\"86.279297\"/>\n       <use xlink:href=\"#DejaVuSans-61\" x=\"147.802734\"/>\n       <use xlink:href=\"#DejaVuSans-6e\" x=\"209.082031\"/>\n       <use xlink:href=\"#DejaVuSans-5f\" x=\"272.460938\"/>\n       <use xlink:href=\"#DejaVuSans-4e\" x=\"322.460938\"/>\n       <use xlink:href=\"#DejaVuSans-49\" x=\"397.265625\"/>\n       <use xlink:href=\"#DejaVuSans-52\" x=\"426.757812\"/>\n      </g>\n     </g>\n    </g>\n    <g id=\"ytick_5\">\n     <g id=\"line2d_14\">\n      <g>\n       <use xlink:href=\"#ma7c48ebbd8\" x=\"81.551563\" y=\"60.370125\" style=\"stroke: #000000; stroke-width: 0.8\"/>\n      </g>\n     </g>\n     <g id=\"text_14\">\n      <!-- NDVI -->\n      <g transform=\"translate(49.754688 64.169344)scale(0.1 -0.1)\">\n       <use xlink:href=\"#DejaVuSans-4e\"/>\n       <use xlink:href=\"#DejaVuSans-44\" x=\"74.804688\"/>\n       <use xlink:href=\"#DejaVuSans-56\" x=\"150.056641\"/>\n       <use xlink:href=\"#DejaVuSans-49\" x=\"218.464844\"/>\n      </g>\n     </g>\n    </g>\n   </g>\n   <g id=\"patch_8\">\n    <path d=\"M 81.551563 402.838125 \nL 81.551563 22.318125 \n\" style=\"fill: none; stroke: #000000; stroke-width: 0.8; stroke-linejoin: miter; stroke-linecap: square\"/>\n   </g>\n   <g id=\"patch_9\">\n    <path d=\"M 472.151563 402.838125 \nL 472.151563 22.318125 \n\" style=\"fill: none; stroke: #000000; stroke-width: 0.8; stroke-linejoin: miter; stroke-linecap: square\"/>\n   </g>\n   <g id=\"patch_10\">\n    <path d=\"M 81.551563 402.838125 \nL 472.151563 402.838125 \n\" style=\"fill: none; stroke: #000000; stroke-width: 0.8; stroke-linejoin: miter; stroke-linecap: square\"/>\n   </g>\n   <g id=\"patch_11\">\n    <path d=\"M 81.551563 22.318125 \nL 472.151563 22.318125 \n\" style=\"fill: none; stroke: #000000; stroke-width: 0.8; stroke-linejoin: miter; stroke-linecap: square\"/>\n   </g>\n   <g id=\"text_15\">\n    <!-- Feature Importance - Random Forest -->\n    <g transform=\"translate(166.76375 16.318125)scale(0.12 -0.12)\">\n     <defs>\n      <path id=\"DejaVuSans-46\" d=\"M 628 4666 \nL 3309 4666 \nL 3309 4134 \nL 1259 4134 \nL 1259 2759 \nL 3109 2759 \nL 3109 2228 \nL 1259 2228 \nL 1259 0 \nL 628 0 \nL 628 4666 \nz\n\" transform=\"scale(0.015625)\"/>\n      <path id=\"DejaVuSans-74\" d=\"M 1172 4494 \nL 1172 3500 \nL 2356 3500 \nL 2356 3053 \nL 1172 3053 \nL 1172 1153 \nQ 1172 725 1289 603 \nQ 1406 481 1766 481 \nL 2356 481 \nL 2356 0 \nL 1766 0 \nQ 1100 0 847 248 \nQ 594 497 594 1153 \nL 594 3053 \nL 172 3053 \nL 172 3500 \nL 594 3500 \nL 594 4494 \nL 1172 4494 \nz\n\" transform=\"scale(0.015625)\"/>\n      <path id=\"DejaVuSans-75\" d=\"M 544 1381 \nL 544 3500 \nL 1119 3500 \nL 1119 1403 \nQ 1119 906 1312 657 \nQ 1506 409 1894 409 \nQ 2359 409 2629 706 \nQ 2900 1003 2900 1516 \nL 2900 3500 \nL 3475 3500 \nL 3475 0 \nL 2900 0 \nL 2900 538 \nQ 2691 219 2414 64 \nQ 2138 -91 1772 -91 \nQ 1169 -91 856 284 \nQ 544 659 544 1381 \nz\nM 1991 3584 \nL 1991 3584 \nz\n\" transform=\"scale(0.015625)\"/>\n      <path id=\"DejaVuSans-72\" d=\"M 2631 2963 \nQ 2534 3019 2420 3045 \nQ 2306 3072 2169 3072 \nQ 1681 3072 1420 2755 \nQ 1159 2438 1159 1844 \nL 1159 0 \nL 581 0 \nL 581 3500 \nL 1159 3500 \nL 1159 2956 \nQ 1341 3275 1631 3429 \nQ 1922 3584 2338 3584 \nQ 2397 3584 2469 3576 \nQ 2541 3569 2628 3553 \nL 2631 2963 \nz\n\" transform=\"scale(0.015625)\"/>\n      <path id=\"DejaVuSans-20\" transform=\"scale(0.015625)\"/>\n      <path id=\"DejaVuSans-6d\" d=\"M 3328 2828 \nQ 3544 3216 3844 3400 \nQ 4144 3584 4550 3584 \nQ 5097 3584 5394 3201 \nQ 5691 2819 5691 2113 \nL 5691 0 \nL 5113 0 \nL 5113 2094 \nQ 5113 2597 4934 2840 \nQ 4756 3084 4391 3084 \nQ 3944 3084 3684 2787 \nQ 3425 2491 3425 1978 \nL 3425 0 \nL 2847 0 \nL 2847 2094 \nQ 2847 2600 2669 2842 \nQ 2491 3084 2119 3084 \nQ 1678 3084 1418 2786 \nQ 1159 2488 1159 1978 \nL 1159 0 \nL 581 0 \nL 581 3500 \nL 1159 3500 \nL 1159 2956 \nQ 1356 3278 1631 3431 \nQ 1906 3584 2284 3584 \nQ 2666 3584 2933 3390 \nQ 3200 3197 3328 2828 \nz\n\" transform=\"scale(0.015625)\"/>\n      <path id=\"DejaVuSans-70\" d=\"M 1159 525 \nL 1159 -1331 \nL 581 -1331 \nL 581 3500 \nL 1159 3500 \nL 1159 2969 \nQ 1341 3281 1617 3432 \nQ 1894 3584 2278 3584 \nQ 2916 3584 3314 3078 \nQ 3713 2572 3713 1747 \nQ 3713 922 3314 415 \nQ 2916 -91 2278 -91 \nQ 1894 -91 1617 61 \nQ 1341 213 1159 525 \nz\nM 3116 1747 \nQ 3116 2381 2855 2742 \nQ 2594 3103 2138 3103 \nQ 1681 3103 1420 2742 \nQ 1159 2381 1159 1747 \nQ 1159 1113 1420 752 \nQ 1681 391 2138 391 \nQ 2594 391 2855 752 \nQ 3116 1113 3116 1747 \nz\n\" transform=\"scale(0.015625)\"/>\n      <path id=\"DejaVuSans-6f\" d=\"M 1959 3097 \nQ 1497 3097 1228 2736 \nQ 959 2375 959 1747 \nQ 959 1119 1226 758 \nQ 1494 397 1959 397 \nQ 2419 397 2687 759 \nQ 2956 1122 2956 1747 \nQ 2956 2369 2687 2733 \nQ 2419 3097 1959 3097 \nz\nM 1959 3584 \nQ 2709 3584 3137 3096 \nQ 3566 2609 3566 1747 \nQ 3566 888 3137 398 \nQ 2709 -91 1959 -91 \nQ 1206 -91 779 398 \nQ 353 888 353 1747 \nQ 353 2609 779 3096 \nQ 1206 3584 1959 3584 \nz\n\" transform=\"scale(0.015625)\"/>\n      <path id=\"DejaVuSans-63\" d=\"M 3122 3366 \nL 3122 2828 \nQ 2878 2963 2633 3030 \nQ 2388 3097 2138 3097 \nQ 1578 3097 1268 2742 \nQ 959 2388 959 1747 \nQ 959 1106 1268 751 \nQ 1578 397 2138 397 \nQ 2388 397 2633 464 \nQ 2878 531 3122 666 \nL 3122 134 \nQ 2881 22 2623 -34 \nQ 2366 -91 2075 -91 \nQ 1284 -91 818 406 \nQ 353 903 353 1747 \nQ 353 2603 823 3093 \nQ 1294 3584 2113 3584 \nQ 2378 3584 2631 3529 \nQ 2884 3475 3122 3366 \nz\n\" transform=\"scale(0.015625)\"/>\n      <path id=\"DejaVuSans-2d\" d=\"M 313 2009 \nL 1997 2009 \nL 1997 1497 \nL 313 1497 \nL 313 2009 \nz\n\" transform=\"scale(0.015625)\"/>\n      <path id=\"DejaVuSans-64\" d=\"M 2906 2969 \nL 2906 4863 \nL 3481 4863 \nL 3481 0 \nL 2906 0 \nL 2906 525 \nQ 2725 213 2448 61 \nQ 2172 -91 1784 -91 \nQ 1150 -91 751 415 \nQ 353 922 353 1747 \nQ 353 2572 751 3078 \nQ 1150 3584 1784 3584 \nQ 2172 3584 2448 3432 \nQ 2725 3281 2906 2969 \nz\nM 947 1747 \nQ 947 1113 1208 752 \nQ 1469 391 1925 391 \nQ 2381 391 2643 752 \nQ 2906 1113 2906 1747 \nQ 2906 2381 2643 2742 \nQ 2381 3103 1925 3103 \nQ 1469 3103 1208 2742 \nQ 947 2381 947 1747 \nz\n\" transform=\"scale(0.015625)\"/>\n      <path id=\"DejaVuSans-73\" d=\"M 2834 3397 \nL 2834 2853 \nQ 2591 2978 2328 3040 \nQ 2066 3103 1784 3103 \nQ 1356 3103 1142 2972 \nQ 928 2841 928 2578 \nQ 928 2378 1081 2264 \nQ 1234 2150 1697 2047 \nL 1894 2003 \nQ 2506 1872 2764 1633 \nQ 3022 1394 3022 966 \nQ 3022 478 2636 193 \nQ 2250 -91 1575 -91 \nQ 1294 -91 989 -36 \nQ 684 19 347 128 \nL 347 722 \nQ 666 556 975 473 \nQ 1284 391 1588 391 \nQ 1994 391 2212 530 \nQ 2431 669 2431 922 \nQ 2431 1156 2273 1281 \nQ 2116 1406 1581 1522 \nL 1381 1569 \nQ 847 1681 609 1914 \nQ 372 2147 372 2553 \nQ 372 3047 722 3315 \nQ 1072 3584 1716 3584 \nQ 2034 3584 2315 3537 \nQ 2597 3491 2834 3397 \nz\n\" transform=\"scale(0.015625)\"/>\n     </defs>\n     <use xlink:href=\"#DejaVuSans-46\"/>\n     <use xlink:href=\"#DejaVuSans-65\" x=\"52.019531\"/>\n     <use xlink:href=\"#DejaVuSans-61\" x=\"113.542969\"/>\n     <use xlink:href=\"#DejaVuSans-74\" x=\"174.822266\"/>\n     <use xlink:href=\"#DejaVuSans-75\" x=\"214.03125\"/>\n     <use xlink:href=\"#DejaVuSans-72\" x=\"277.410156\"/>\n     <use xlink:href=\"#DejaVuSans-65\" x=\"316.273438\"/>\n     <use xlink:href=\"#DejaVuSans-20\" x=\"377.796875\"/>\n     <use xlink:href=\"#DejaVuSans-49\" x=\"409.583984\"/>\n     <use xlink:href=\"#DejaVuSans-6d\" x=\"439.076172\"/>\n     <use xlink:href=\"#DejaVuSans-70\" x=\"536.488281\"/>\n     <use xlink:href=\"#DejaVuSans-6f\" x=\"599.964844\"/>\n     <use xlink:href=\"#DejaVuSans-72\" x=\"661.146484\"/>\n     <use xlink:href=\"#DejaVuSans-74\" x=\"702.259766\"/>\n     <use xlink:href=\"#DejaVuSans-61\" x=\"741.46875\"/>\n     <use xlink:href=\"#DejaVuSans-6e\" x=\"802.748047\"/>\n     <use xlink:href=\"#DejaVuSans-63\" x=\"866.126953\"/>\n     <use xlink:href=\"#DejaVuSans-65\" x=\"921.107422\"/>\n     <use xlink:href=\"#DejaVuSans-20\" x=\"982.630859\"/>\n     <use xlink:href=\"#DejaVuSans-2d\" x=\"1014.417969\"/>\n     <use xlink:href=\"#DejaVuSans-20\" x=\"1050.501953\"/>\n     <use xlink:href=\"#DejaVuSans-52\" x=\"1082.289062\"/>\n     <use xlink:href=\"#DejaVuSans-61\" x=\"1149.521484\"/>\n     <use xlink:href=\"#DejaVuSans-6e\" x=\"1210.800781\"/>\n     <use xlink:href=\"#DejaVuSans-64\" x=\"1274.179688\"/>\n     <use xlink:href=\"#DejaVuSans-6f\" x=\"1337.65625\"/>\n     <use xlink:href=\"#DejaVuSans-6d\" x=\"1398.837891\"/>\n     <use xlink:href=\"#DejaVuSans-20\" x=\"1496.25\"/>\n     <use xlink:href=\"#DejaVuSans-46\" x=\"1528.037109\"/>\n     <use xlink:href=\"#DejaVuSans-6f\" x=\"1581.931641\"/>\n     <use xlink:href=\"#DejaVuSans-72\" x=\"1643.113281\"/>\n     <use xlink:href=\"#DejaVuSans-65\" x=\"1681.976562\"/>\n     <use xlink:href=\"#DejaVuSans-73\" x=\"1743.5\"/>\n     <use xlink:href=\"#DejaVuSans-74\" x=\"1795.599609\"/>\n    </g>\n   </g>\n  </g>\n </g>\n <defs>\n  <clipPath id=\"pe410f1bfb5\">\n   <rect x=\"81.551563\" y=\"22.318125\" width=\"390.6\" height=\"380.52\"/>\n  </clipPath>\n </defs>\n</svg>\n",
      "text/plain": [
       "<Figure size 504x504 with 1 Axes>"
      ]
     },
     "metadata": {
      "needs_background": "light"
     },
     "output_type": "display_data"
    }
   ],
   "source": [
    "# e) Identify the top 5 features. Feel free to print a list OR to make a plot.\n",
    "pd.Series(rf.feature_importances_, index=X_train.columns).sort_values().tail().plot(kind='barh', title='Feature Importance - Random Forest')"
   ]
  },
  {
   "cell_type": "markdown",
   "metadata": {},
   "source": [
    "----\n",
    "## **Part 3. LinearSVM Classifier - Base Model:**\n"
   ]
  },
  {
   "cell_type": "markdown",
   "metadata": {},
   "source": []
  },
  {
   "cell_type": "code",
   "execution_count": 59,
   "metadata": {},
   "outputs": [
    {
     "data": {
      "text/plain": [
       "LinearSVC(random_state=42)"
      ]
     },
     "execution_count": 59,
     "metadata": {},
     "output_type": "execute_result"
    }
   ],
   "source": [
    "from sklearn.svm import LinearSVC\n",
    "lin_svc = LinearSVC(random_state=42)\n",
    "lin_svc.fit(X_train_scaled, y_train)"
   ]
  },
  {
   "cell_type": "code",
   "execution_count": 60,
   "metadata": {},
   "outputs": [
    {
     "name": "stdout",
     "output_type": "stream",
     "text": [
      "Number of original examples 507\n"
     ]
    }
   ],
   "source": [
    "print(\"Number of original examples\", len(X_train_scaled))"
   ]
  },
  {
   "cell_type": "code",
   "execution_count": 61,
   "metadata": {},
   "outputs": [
    {
     "name": "stdout",
     "output_type": "stream",
     "text": [
      "Predicted Classes\n",
      "[8 1 5 1 4 6 8 8 5 3 5 4 5 6 2 5 6 5 5 2 7 2 1 6 6 1 6 5 5 5 4 2 5 6 6 5 4\n",
      " 1 3 1 9 3 5 5 5 6 6 2 5 9 2 3 8 8 2 7 5 6 6 6 8 5 7 8 9 6 5 5 5 9 1 5 8 7\n",
      " 7 2 5 6 2 5 7 7 5 5 1 2 5 6 4 6 6 6 5 1 5 6 7 3 2 3 6 4 6 5 6 4 6 5 3 6 4\n",
      " 6 3 4 1 3 6 5 1 8 8 6 2 7 3 4 6 7 5 6 1 4 4 1 4 6 4 7 7 7 8 6 1 4 1 4 5 2\n",
      " 2 3 1 8 3 2 1 8 9 3 4 1 6 6 3 8 9 6 6 1]\n"
     ]
    }
   ],
   "source": [
    "y_pred_lin_svc=lin_svc.predict(X_test_scaled)\n",
    "\n",
    "print(\"Predicted Classes\")\n",
    "print(y_pred_lin_svc)"
   ]
  },
  {
   "cell_type": "code",
   "execution_count": 62,
   "metadata": {},
   "outputs": [
    {
     "data": {
      "text/plain": [
       "array([[15,  0,  1,  1,  6,  0,  0,  0,  0],\n",
       "       [ 0, 14,  0,  2,  0,  0,  0,  0,  0],\n",
       "       [ 1,  0, 10,  0,  0,  6,  0,  0,  0],\n",
       "       [ 0,  1,  0, 13,  0,  0,  0,  0,  0],\n",
       "       [ 1,  0,  0,  0, 22,  1,  0,  1,  0],\n",
       "       [ 1,  0,  2,  0,  0, 26,  0,  0,  0],\n",
       "       [ 0,  0,  0,  1,  0,  0, 13,  1,  0],\n",
       "       [ 0,  0,  1,  0,  2,  0,  0, 12,  0],\n",
       "       [ 1,  0,  0,  0,  4,  3,  0,  0,  6]])"
      ]
     },
     "execution_count": 62,
     "metadata": {},
     "output_type": "execute_result"
    }
   ],
   "source": [
    "from sklearn.metrics import confusion_matrix\n",
    "confusion_matrix(y_test, y_pred_lin_svc)"
   ]
  },
  {
   "cell_type": "code",
   "execution_count": 63,
   "metadata": {},
   "outputs": [
    {
     "name": "stdout",
     "output_type": "stream",
     "text": [
      "              precision    recall  f1-score   support\n",
      "\n",
      "           1       0.79      0.65      0.71        23\n",
      "           2       0.93      0.88      0.90        16\n",
      "           3       0.71      0.59      0.65        17\n",
      "           4       0.76      0.93      0.84        14\n",
      "           5       0.65      0.88      0.75        25\n",
      "           6       0.72      0.90      0.80        29\n",
      "           7       1.00      0.87      0.93        15\n",
      "           8       0.86      0.80      0.83        15\n",
      "           9       1.00      0.43      0.60        14\n",
      "\n",
      "    accuracy                           0.78       168\n",
      "   macro avg       0.83      0.77      0.78       168\n",
      "weighted avg       0.80      0.78      0.77       168\n",
      "\n"
     ]
    }
   ],
   "source": [
    "from sklearn.metrics import classification_report\n",
    "print(classification_report(y_test, y_pred_lin_svc))"
   ]
  },
  {
   "cell_type": "code",
   "execution_count": 64,
   "metadata": {},
   "outputs": [
    {
     "name": "stdout",
     "output_type": "stream",
     "text": [
      "              precision    recall  f1-score   support\n",
      "\n",
      "           1       1.00      1.00      1.00        93\n",
      "           2       1.00      1.00      1.00        45\n",
      "           3       0.98      1.00      0.99        89\n",
      "           4       1.00      1.00      1.00        45\n",
      "           5       0.99      1.00      0.99        97\n",
      "           6       1.00      0.96      0.98        83\n",
      "           7       1.00      1.00      1.00        14\n",
      "           8       1.00      1.00      1.00        21\n",
      "           9       1.00      1.00      1.00        20\n",
      "\n",
      "    accuracy                           0.99       507\n",
      "   macro avg       1.00      1.00      1.00       507\n",
      "weighted avg       0.99      0.99      0.99       507\n",
      "\n",
      "Train Accuracy is: 0.9940828402366864\n"
     ]
    }
   ],
   "source": [
    "# d)  Calculate predictions for the training data & build the classification report & confusion matrix. \n",
    "# Are there signs of overfitting? Why or why not?\n",
    "\n",
    "y_pred_train_lin_svc=lin_svc.predict(X_train_scaled)\n",
    "print(classification_report(y_train, y_pred_train_lin_svc))\n",
    "print(\"Train Accuracy is:\",sklearn.metrics.accuracy_score(y_train, y_pred_train_lin_svc))\n"
   ]
  },
  {
   "cell_type": "markdown",
   "metadata": {},
   "source": [
    "We see lesser overfitting in this model when compared with Random Forest, but it is still considerably high (99% train accuracy)"
   ]
  },
  {
   "cell_type": "markdown",
   "metadata": {},
   "source": [
    "----\n",
    "## **Part 4. Support Vector Machine Classifier + Linear Kernel + Grid Search:**"
   ]
  },
  {
   "cell_type": "code",
   "execution_count": 65,
   "metadata": {},
   "outputs": [],
   "source": [
    "from sklearn.model_selection import GridSearchCV"
   ]
  },
  {
   "cell_type": "code",
   "execution_count": 66,
   "metadata": {},
   "outputs": [
    {
     "name": "stdout",
     "output_type": "stream",
     "text": [
      "Best hyperparameters:  {'C': 0.01}\n",
      "Best score:  0.8069306930693069\n",
      "Best estimator:  SVC(C=0.01, kernel='linear', random_state=42)\n"
     ]
    }
   ],
   "source": [
    "from sklearn.svm import SVC\n",
    "\n",
    "svc_lin = SVC(kernel='linear', random_state=42)\n",
    "param_grid_svc_lin={\n",
    "    'C':list(np.arange(0.01,10.01,0.2))\n",
    "}\n",
    "\n",
    "grid_search_svc_lin = GridSearchCV(svc_lin, param_grid_svc_lin, cv=5, n_jobs=-1)\n",
    "grid_search_svc_lin.fit(X_train_scaled, y_train)\n",
    "\n",
    "# Print the best hyperparameters and the corresponding score\n",
    "print(\"Best hyperparameters: \", grid_search_svc_lin.best_params_)\n",
    "print(\"Best score: \", grid_search_svc_lin.best_score_)\n",
    "print(\"Best estimator: \",grid_search_svc_lin.best_estimator_)"
   ]
  },
  {
   "cell_type": "code",
   "execution_count": 67,
   "metadata": {},
   "outputs": [
    {
     "data": {
      "text/plain": [
       "array([8, 1, 5, 1, 1, 6, 8, 8, 5, 3, 5, 4, 5, 6, 2, 5, 3, 1, 5, 2, 7, 2,\n",
       "       1, 3, 6, 1, 6, 5, 5, 5, 4, 2, 1, 6, 3, 1, 4, 1, 6, 1, 1, 3, 5, 5,\n",
       "       5, 6, 6, 2, 5, 5, 2, 3, 8, 8, 2, 7, 5, 3, 6, 6, 8, 8, 7, 5, 9, 6,\n",
       "       5, 5, 5, 9, 1, 5, 2, 7, 7, 2, 5, 6, 2, 5, 7, 7, 5, 5, 5, 2, 5, 9,\n",
       "       4, 6, 6, 6, 5, 1, 1, 6, 7, 8, 2, 3, 6, 4, 3, 8, 3, 4, 6, 5, 9, 6,\n",
       "       4, 6, 6, 7, 1, 3, 6, 1, 1, 8, 8, 6, 2, 7, 3, 2, 6, 7, 5, 6, 1, 4,\n",
       "       4, 1, 4, 6, 2, 7, 7, 7, 8, 6, 1, 4, 1, 4, 5, 2, 2, 3, 1, 8, 3, 2,\n",
       "       1, 5, 1, 3, 4, 1, 6, 3, 3, 8, 9, 6, 6, 1])"
      ]
     },
     "execution_count": 67,
     "metadata": {},
     "output_type": "execute_result"
    }
   ],
   "source": [
    "svc_lin=SVC(C=0.01, kernel='linear', random_state=42)\n",
    "svc_lin.fit(X_train_scaled,y_train)\n",
    "\n",
    "y_pred_svc_lin=svc_lin.predict(X_test_scaled)\n",
    "y_pred_svc_lin"
   ]
  },
  {
   "cell_type": "code",
   "execution_count": 69,
   "metadata": {},
   "outputs": [
    {
     "name": "stdout",
     "output_type": "stream",
     "text": [
      "Number of original examples 507\n",
      "Number of support vectors 336\n"
     ]
    }
   ],
   "source": [
    "print(\"Number of original examples\", len(X_train_scaled))\n",
    "print(\"Number of support vectors\", len(svc_lin.support_))"
   ]
  },
  {
   "cell_type": "code",
   "execution_count": null,
   "metadata": {},
   "outputs": [
    {
     "name": "stdout",
     "output_type": "stream",
     "text": [
      "Confusion Matrix\n",
      "[[17  0  0  0  5  0  0  0  1]\n",
      " [ 0 16  0  0  0  0  0  0  0]\n",
      " [ 1  0 14  0  0  2  0  0  0]\n",
      " [ 0  1  0 13  0  0  0  0  0]\n",
      " [ 2  0  0  0 22  1  0  0  0]\n",
      " [ 1  0  3  0  0 25  0  0  0]\n",
      " [ 0  1  0  0  0  0 14  0  0]\n",
      " [ 0  0  0  0  1  0  0 14  0]\n",
      " [ 5  0  0  0  3  2  0  0  4]]\n",
      "\n",
      "\n",
      "Classification Report\n",
      "              precision    recall  f1-score   support\n",
      "\n",
      "           1       0.65      0.74      0.69        23\n",
      "           2       0.89      1.00      0.94        16\n",
      "           3       0.82      0.82      0.82        17\n",
      "           4       1.00      0.93      0.96        14\n",
      "           5       0.71      0.88      0.79        25\n",
      "           6       0.83      0.86      0.85        29\n",
      "           7       1.00      0.93      0.97        15\n",
      "           8       1.00      0.93      0.97        15\n",
      "           9       0.80      0.29      0.42        14\n",
      "\n",
      "    accuracy                           0.83       168\n",
      "   macro avg       0.86      0.82      0.82       168\n",
      "weighted avg       0.84      0.83      0.82       168\n",
      "\n",
      "Test Accuracy is: 0.8273809523809523\n"
     ]
    }
   ],
   "source": [
    "from sklearn.metrics import confusion_matrix\n",
    "print(\"Confusion Matrix\")\n",
    "print(confusion_matrix(y_test, y_pred_svc_lin))\n",
    "print(\"\\n\")\n",
    "print(\"Classification Report\")\n",
    "print(classification_report(y_test, y_pred_svc_lin))\n",
    "print(\"Test Accuracy is:\",sklearn.metrics.accuracy_score(y_test, y_pred_svc_lin))"
   ]
  },
  {
   "cell_type": "code",
   "execution_count": null,
   "metadata": {},
   "outputs": [
    {
     "name": "stdout",
     "output_type": "stream",
     "text": [
      "              precision    recall  f1-score   support\n",
      "\n",
      "           1       0.86      0.89      0.87        93\n",
      "           2       0.86      0.96      0.91        45\n",
      "           3       0.87      0.96      0.91        89\n",
      "           4       0.93      0.89      0.91        45\n",
      "           5       0.87      0.90      0.88        97\n",
      "           6       0.91      0.84      0.88        83\n",
      "           7       1.00      0.86      0.92        14\n",
      "           8       1.00      0.90      0.95        21\n",
      "           9       1.00      0.55      0.71        20\n",
      "\n",
      "    accuracy                           0.89       507\n",
      "   macro avg       0.92      0.86      0.88       507\n",
      "weighted avg       0.89      0.89      0.89       507\n",
      "\n",
      "Train Accuracy is: 0.8875739644970414\n"
     ]
    }
   ],
   "source": [
    "y_pred_train_svc_lin=svc_lin.predict(X_train_scaled)\n",
    "print(classification_report(y_train, y_pred_train_svc_lin))\n",
    "print(\"Train Accuracy is:\",sklearn.metrics.accuracy_score(y_train, y_pred_train_svc_lin))"
   ]
  },
  {
   "cell_type": "markdown",
   "metadata": {},
   "source": [
    "We are seeing slightly better model performance when compared to Linear SVC. While we see decent precision metrics, recall varies a lot, especiallyt for the last class. This is further exacerbated when we use the model on test data set"
   ]
  },
  {
   "cell_type": "markdown",
   "metadata": {},
   "source": [
    "----\n",
    "## **Part 5. Support Vector Machine Classifier + Polynomial Kernel + Grid Search:**\n",
    "\n"
   ]
  },
  {
   "cell_type": "code",
   "execution_count": null,
   "metadata": {},
   "outputs": [
    {
     "name": "stdout",
     "output_type": "stream",
     "text": [
      "Best hyperparameters:  {'C': 3.81, 'degree': 3}\n",
      "Best score:  0.7968549796156086\n",
      "Best estimator:  SVC(C=3.81, kernel='poly', random_state=42)\n"
     ]
    }
   ],
   "source": [
    "svc_poly = SVC(kernel='poly', random_state=42)\n",
    "param_grid_svc_poly = {\n",
    "    'C':list(np.arange(0.01,10.01,0.2)),\n",
    "    'degree':[2,3,4,5,6]\n",
    "}\n",
    "\n",
    "grid_search_svc_poly = GridSearchCV(svc_poly, param_grid_svc_poly, cv=5, n_jobs=-1)\n",
    "grid_search_svc_poly.fit(X_train_scaled, y_train)\n",
    "\n",
    "# Print the best hyperparameters and the corresponding score\n",
    "print(\"Best hyperparameters: \", grid_search_svc_poly.best_params_)\n",
    "print(\"Best score: \", grid_search_svc_poly.best_score_)\n",
    "print(\"Best estimator: \",grid_search_svc_poly.best_estimator_)"
   ]
  },
  {
   "cell_type": "code",
   "execution_count": null,
   "metadata": {},
   "outputs": [
    {
     "data": {
      "text/plain": [
       "array([9, 1, 5, 1, 1, 6, 8, 8, 5, 3, 5, 4, 5, 9, 2, 5, 3, 1, 5, 2, 7, 4,\n",
       "       1, 6, 6, 1, 6, 5, 5, 5, 4, 2, 1, 6, 3, 1, 4, 1, 6, 1, 1, 3, 5, 5,\n",
       "       5, 6, 6, 2, 5, 6, 2, 3, 8, 8, 2, 7, 5, 3, 6, 6, 8, 8, 7, 5, 6, 6,\n",
       "       5, 5, 5, 6, 1, 5, 2, 7, 7, 2, 5, 6, 2, 5, 7, 7, 5, 5, 5, 2, 5, 6,\n",
       "       4, 6, 6, 6, 5, 1, 1, 6, 7, 8, 2, 3, 6, 4, 6, 8, 3, 4, 6, 5, 1, 6,\n",
       "       4, 6, 6, 7, 1, 3, 6, 1, 1, 8, 8, 6, 2, 7, 3, 3, 6, 7, 5, 6, 1, 4,\n",
       "       4, 1, 4, 6, 2, 7, 7, 7, 5, 6, 6, 4, 1, 4, 5, 2, 2, 3, 6, 7, 3, 2,\n",
       "       1, 5, 1, 3, 4, 1, 6, 3, 3, 8, 6, 6, 6, 1])"
      ]
     },
     "execution_count": 128,
     "metadata": {},
     "output_type": "execute_result"
    }
   ],
   "source": [
    "best_estimator_svc_poly = grid_search_svc_poly.best_estimator_\n",
    "\n",
    "y_pred_svc_poly=best_estimator_svc_poly.predict(X_test_scaled)\n",
    "y_pred_svc_poly"
   ]
  },
  {
   "cell_type": "code",
   "execution_count": null,
   "metadata": {},
   "outputs": [
    {
     "name": "stdout",
     "output_type": "stream",
     "text": [
      "Confusion Matrix\n",
      "[[17  0  0  0  5  1  0  0  0]\n",
      " [ 0 14  1  1  0  0  0  0  0]\n",
      " [ 1  0 13  0  0  3  0  0  0]\n",
      " [ 0  1  0 13  0  0  0  0  0]\n",
      " [ 2  0  0  0 22  1  0  0  0]\n",
      " [ 0  0  2  0  0 26  0  0  1]\n",
      " [ 0  1  0  0  0  0 14  0  0]\n",
      " [ 0  0  0  0  2  0  1 11  1]\n",
      " [ 5  0  0  0  2  7  0  0  0]]\n",
      "\n",
      "\n",
      "Classification Report\n",
      "              precision    recall  f1-score   support\n",
      "\n",
      "           1       0.68      0.74      0.71        23\n",
      "           2       0.88      0.88      0.88        16\n",
      "           3       0.81      0.76      0.79        17\n",
      "           4       0.93      0.93      0.93        14\n",
      "           5       0.71      0.88      0.79        25\n",
      "           6       0.68      0.90      0.78        29\n",
      "           7       0.93      0.93      0.93        15\n",
      "           8       1.00      0.73      0.85        15\n",
      "           9       0.00      0.00      0.00        14\n",
      "\n",
      "    accuracy                           0.77       168\n",
      "   macro avg       0.74      0.75      0.74       168\n",
      "weighted avg       0.73      0.77      0.75       168\n",
      "\n",
      "Test Accuracy is: 0.7738095238095238\n"
     ]
    }
   ],
   "source": [
    "from sklearn.metrics import confusion_matrix\n",
    "print(\"Confusion Matrix\")\n",
    "print(confusion_matrix(y_test, y_pred_svc_poly))\n",
    "print(\"\\n\")\n",
    "print(\"Classification Report\")\n",
    "print(classification_report(y_test, y_pred_svc_poly))\n",
    "print(\"Test Accuracy is:\",sklearn.metrics.accuracy_score(y_test, y_pred_svc_poly))"
   ]
  },
  {
   "cell_type": "code",
   "execution_count": null,
   "metadata": {},
   "outputs": [
    {
     "name": "stdout",
     "output_type": "stream",
     "text": [
      "              precision    recall  f1-score   support\n",
      "\n",
      "           1       0.99      0.98      0.98        93\n",
      "           2       1.00      1.00      1.00        45\n",
      "           3       0.99      0.94      0.97        89\n",
      "           4       1.00      0.98      0.99        45\n",
      "           5       0.98      0.98      0.98        97\n",
      "           6       0.79      0.98      0.88        83\n",
      "           7       1.00      0.93      0.96        14\n",
      "           8       1.00      0.95      0.98        21\n",
      "           9       1.00      0.45      0.62        20\n",
      "\n",
      "    accuracy                           0.95       507\n",
      "   macro avg       0.97      0.91      0.93       507\n",
      "weighted avg       0.96      0.95      0.95       507\n",
      "\n",
      "Train Accuracy is: 0.9506903353057199\n"
     ]
    }
   ],
   "source": [
    "y_pred_train_svc_poly=best_estimator_svc_poly.predict(X_train_scaled)\n",
    "print(classification_report(y_train, y_pred_train_svc_poly))\n",
    "print(\"Train Accuracy is:\",sklearn.metrics.accuracy_score(y_train, y_pred_train_svc_poly))"
   ]
  },
  {
   "cell_type": "markdown",
   "metadata": {},
   "source": [
    "There's a considerable difference between train and test accuracies. We see many instances of perfect precision and recall in the training dataset as well, implying some overfitting"
   ]
  },
  {
   "cell_type": "markdown",
   "metadata": {},
   "source": [
    "---\n",
    "## **Part 6. Support Vector Machine Classifier + RBF Kernel + Grid Search:**"
   ]
  },
  {
   "cell_type": "code",
   "execution_count": null,
   "metadata": {},
   "outputs": [
    {
     "name": "stdout",
     "output_type": "stream",
     "text": [
      "Best hyperparameters:  {'C': 2.81, 'gamma': 0.01}\n",
      "Best score:  0.8284604931081343\n",
      "Best estimator:  SVC(C=2.81, gamma=0.01, random_state=42)\n"
     ]
    }
   ],
   "source": [
    "svc_rbf = SVC(kernel='rbf', random_state=42)\n",
    "param_grid_svc_rbf = {\n",
    "    'C':list(np.arange(0.01,10.01,0.2)),\n",
    "    'gamma':[0.01,0.1,10,100]\n",
    "}\n",
    "\n",
    "grid_search_svc_rbf = GridSearchCV(svc_rbf, param_grid_svc_rbf, cv=5, n_jobs=-1)\n",
    "grid_search_svc_rbf.fit(X_train_scaled, y_train)\n",
    "\n",
    "# Print the best hyperparameters and the corresponding score\n",
    "print(\"Best hyperparameters: \", grid_search_svc_rbf.best_params_)\n",
    "print(\"Best score: \", grid_search_svc_rbf.best_score_)\n",
    "print(\"Best estimator: \",grid_search_svc_rbf.best_estimator_)"
   ]
  },
  {
   "cell_type": "code",
   "execution_count": null,
   "metadata": {},
   "outputs": [
    {
     "data": {
      "text/plain": [
       "array([8, 1, 5, 1, 1, 6, 8, 8, 5, 3, 5, 4, 5, 5, 2, 5, 3, 5, 5, 2, 7, 4,\n",
       "       1, 3, 6, 1, 6, 5, 5, 5, 4, 2, 1, 6, 3, 1, 4, 1, 3, 1, 1, 3, 5, 5,\n",
       "       5, 6, 6, 2, 9, 9, 2, 3, 8, 8, 2, 7, 5, 3, 6, 6, 8, 8, 7, 8, 9, 6,\n",
       "       5, 5, 5, 9, 1, 5, 2, 7, 7, 2, 5, 6, 2, 5, 7, 7, 5, 5, 5, 2, 1, 6,\n",
       "       4, 6, 6, 6, 1, 1, 1, 6, 7, 8, 2, 3, 6, 4, 6, 8, 3, 4, 6, 5, 1, 6,\n",
       "       4, 6, 6, 7, 1, 3, 6, 1, 1, 8, 8, 6, 2, 7, 3, 2, 6, 7, 5, 6, 1, 4,\n",
       "       4, 1, 4, 6, 2, 7, 7, 7, 5, 6, 1, 4, 1, 4, 5, 2, 2, 3, 6, 8, 3, 2,\n",
       "       1, 5, 1, 3, 4, 1, 6, 3, 3, 8, 9, 6, 6, 1])"
      ]
     },
     "execution_count": 133,
     "metadata": {},
     "output_type": "execute_result"
    }
   ],
   "source": [
    "best_estimator_svc_rbf = grid_search_svc_rbf.best_estimator_\n",
    "\n",
    "y_pred_svc_rbf=best_estimator_svc_rbf.predict(X_test_scaled)\n",
    "y_pred_svc_rbf"
   ]
  },
  {
   "cell_type": "code",
   "execution_count": null,
   "metadata": {},
   "outputs": [
    {
     "name": "stdout",
     "output_type": "stream",
     "text": [
      "Confusion Matrix\n",
      "[[19  0  0  0  4  0  0  0  0]\n",
      " [ 0 15  0  1  0  0  0  0  0]\n",
      " [ 1  0 15  0  0  1  0  0  0]\n",
      " [ 0  1  0 13  0  0  0  0  0]\n",
      " [ 3  0  0  0 21  1  0  0  0]\n",
      " [ 0  0  2  0  1 26  0  0  0]\n",
      " [ 0  1  0  0  0  0 14  0  0]\n",
      " [ 0  0  0  0  1  0  0 14  0]\n",
      " [ 4  0  0  0  2  3  0  0  5]]\n",
      "\n",
      "\n",
      "Classification Report\n",
      "              precision    recall  f1-score   support\n",
      "\n",
      "           1       0.70      0.83      0.76        23\n",
      "           2       0.88      0.94      0.91        16\n",
      "           3       0.88      0.88      0.88        17\n",
      "           4       0.93      0.93      0.93        14\n",
      "           5       0.72      0.84      0.78        25\n",
      "           6       0.84      0.90      0.87        29\n",
      "           7       1.00      0.93      0.97        15\n",
      "           8       1.00      0.93      0.97        15\n",
      "           9       1.00      0.36      0.53        14\n",
      "\n",
      "    accuracy                           0.85       168\n",
      "   macro avg       0.88      0.84      0.84       168\n",
      "weighted avg       0.86      0.85      0.84       168\n",
      "\n",
      "Test Accuracy is: 0.8452380952380952\n"
     ]
    }
   ],
   "source": [
    "from sklearn.metrics import confusion_matrix\n",
    "print(\"Confusion Matrix\")\n",
    "print(confusion_matrix(y_test, y_pred_svc_rbf))\n",
    "print(\"\\n\")\n",
    "print(\"Classification Report\")\n",
    "print(classification_report(y_test, y_pred_svc_rbf))\n",
    "print(\"Test Accuracy is:\",sklearn.metrics.accuracy_score(y_test, y_pred_svc_rbf))"
   ]
  },
  {
   "cell_type": "code",
   "execution_count": null,
   "metadata": {},
   "outputs": [
    {
     "name": "stdout",
     "output_type": "stream",
     "text": [
      "              precision    recall  f1-score   support\n",
      "\n",
      "           1       0.99      0.99      0.99        93\n",
      "           2       1.00      1.00      1.00        45\n",
      "           3       0.99      0.99      0.99        89\n",
      "           4       1.00      1.00      1.00        45\n",
      "           5       0.97      0.99      0.98        97\n",
      "           6       0.99      0.98      0.98        83\n",
      "           7       1.00      1.00      1.00        14\n",
      "           8       1.00      1.00      1.00        21\n",
      "           9       1.00      0.95      0.97        20\n",
      "\n",
      "    accuracy                           0.99       507\n",
      "   macro avg       0.99      0.99      0.99       507\n",
      "weighted avg       0.99      0.99      0.99       507\n",
      "\n",
      "Train Accuracy is: 0.9881656804733728\n"
     ]
    }
   ],
   "source": [
    "y_pred_train_svc_rbf=best_estimator_svc_rbf.predict(X_train_scaled)\n",
    "print(classification_report(y_train, y_pred_train_svc_rbf))\n",
    "print(\"Train Accuracy is:\",sklearn.metrics.accuracy_score(y_train, y_pred_train_svc_rbf))"
   ]
  },
  {
   "cell_type": "markdown",
   "metadata": {},
   "source": [
    "-----\n",
    "## **Part 7. Conceptual Questions**\n",
    "\n"
   ]
  },
  {
   "cell_type": "markdown",
   "metadata": {},
   "source": [
    "**a) From the models run in steps 2-6, which performs the best based on the Classification Report? Support your reasoning with evidence around your test data.**\n",
    "\n",
    "From the models shown above, I am getting the best results with an SVM Classifier with a Linear Kernel. The train accuracy hovers around 88%, and we don't see a significant drop in test accuracy - 82%\n",
    "\n",
    "The model shows good precision and recall metrics for all classes, albeit the last one.\n",
    "\n",
    "RBF Kernel shows a better test accuracy, but it also shows a very high train accuracy - indicating model instability\n"
   ]
  },
  {
   "cell_type": "markdown",
   "metadata": {},
   "source": [
    "**b) Compare models run for steps 4-6 where different kernels were used. What is the benefit of using a polynomial or rbf kernel over a linear kernel? What could be a downside of using a polynomial or rbf kernel?**\n",
    "\n",
    "\n",
    "A linear kerne is efficient when data is linearly separable. However when the data is not linearly separable, we can use a polynomoal or RBF kernel.\n",
    "\n",
    "* It can capture non-linear relationships without needing to increase the feature space\n",
    "* We can toggle between the degree of non-linearity\n",
    "\n",
    "Downsides:\n",
    "* Computationally more expensive\n",
    "* A linear SVC will always work the fastest\n"
   ]
  },
  {
   "cell_type": "markdown",
   "metadata": {},
   "source": [
    "**c) Explain the 'C' parameter used in steps 4-6. What does a small C mean versus a large C in sklearn? Why is it important to use the 'C' parameter when fitting a model?**\n",
    "\n",
    "C is a regularization hyperparamter. In Machine Learning theory, it implies the maximum number of transgressions allowed while building a maximal marginal classifier. In ML, a high c value can imply underfitting, but better generalization. A low c value imposes more strict boundary conditions.\n",
    "\n",
    "However in sklearn, the definition of C is reversed.\n",
    "In Scikit-Learn’s SVM classes, you can control this balance using the C hyperparameter: a smaller C value leads to a wider street but more margin violations.\n",
    "\n"
   ]
  },
  {
   "cell_type": "markdown",
   "metadata": {},
   "source": [
    "**d) Scaling our input data does not matter much for Random Forest, but it is a critical step for Support Vector Machines. Explain why this is such a critical step. Also, provide an example of a feature from this data set that could cause issues with our SVMs if not scaled.**\n",
    "\n",
    "SVMs are based on the idea of finding the hyperplane that maximizes the margin between the two classes. The kernel function used in SVMs is based on the dot product of the feature vectors, which is sensitive to the scale of the input features. If the features are not scaled, features with larger magnitudes will dominate the dot product, and this can lead to a biased model\n",
    "\n",
    "In our dataset, we have features for area and border length. Inherently the scale of these two variables will be different, and it can cause an issue with the SVM"
   ]
  },
  {
   "cell_type": "markdown",
   "metadata": {},
   "source": [
    "**e) Describe conceptually what the purpose of a kernel is for Support Vector Machines.**\n",
    "\n",
    "Kernel functions help calculate the relationshops between every pair of points as if they are in the higher dimension; they don't actually do the transformation.\n",
    "This trick of calculating high dimensional relationships without actually transforming the data is called the Kernel trick.\n",
    "\n",
    "It helps by moving the data into a high-dimensional space and avoiding increasing the feature space.\n",
    "\n"
   ]
  }
 ],
 "metadata": {
  "kernelspec": {
   "display_name": "Python 3 (ipykernel)",
   "language": "python",
   "name": "python3"
  },
  "language_info": {
   "codemirror_mode": {
    "name": "ipython",
    "version": 3
   },
   "file_extension": ".py",
   "mimetype": "text/x-python",
   "name": "python",
   "nbconvert_exporter": "python",
   "pygments_lexer": "ipython3",
   "version": "3.9.12 (main, Apr  5 2022, 01:53:17) \n[Clang 12.0.0 ]"
  },
  "vscode": {
   "interpreter": {
    "hash": "b1fa752ca0887f17b8e0c109bdb7229e3d67df240d797e9f30425dc0f1ef03b0"
   }
  }
 },
 "nbformat": 4,
 "nbformat_minor": 2
}
