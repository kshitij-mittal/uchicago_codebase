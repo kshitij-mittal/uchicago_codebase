{
 "cells": [
  {
   "cell_type": "markdown",
   "metadata": {},
   "source": [
    "# **ML Assignment 7**\n",
    "Submitted by Kshitij Mittal"
   ]
  },
  {
   "cell_type": "markdown",
   "metadata": {},
   "source": [
    "## **PART A: Recurrent Neural Network & Classification:**\n",
    "\n",
    "The objective is to detect the security breach by predicting suspicious access using an RNN model and the provided Logfile data.\n",
    "\n",
    "Logfile data includes login information like LogID, Timestamp, Method, Path, Status Code, Source, Remote Address, User Agent etc. The last indicator in each row denotes breach(1) and no breach(0) which is the target variable."
   ]
  },
  {
   "cell_type": "markdown",
   "metadata": {},
   "source": [
    "---\n",
    "### Part 1. Data Processing"
   ]
  },
  {
   "cell_type": "code",
   "execution_count": 34,
   "metadata": {},
   "outputs": [],
   "source": [
    "import sys\n",
    "import os\n",
    "import json\n",
    "import pandas as pd\n",
    "import numpy\n",
    "import optparse\n",
    "\n",
    "from keras.callbacks import TensorBoard\n",
    "from keras.models import Sequential, load_model\n",
    "from keras.layers import LSTM, Dense, Dropout, Embedding\n",
    "# from keras.layers.Embedding import Embedding\n",
    "from keras.preprocessing import sequence\n",
    "from keras.preprocessing.text import Tokenizer\n",
    "from collections import OrderedDict\n",
    "\n",
    "from tqdm import tqdm\n",
    "\n",
    "# Graphics in SVG format are more sharp and legible\n",
    "%config InlineBackend.figure_format = 'svg'\n"
   ]
  },
  {
   "cell_type": "code",
   "execution_count": 5,
   "metadata": {},
   "outputs": [],
   "source": [
    "import tensorflow as tf\n",
    "from tensorflow import keras\n",
    "from keras_preprocessing.sequence import pad_sequences"
   ]
  },
  {
   "cell_type": "code",
   "execution_count": 6,
   "metadata": {},
   "outputs": [
    {
     "name": "stdout",
     "output_type": "stream",
     "text": [
      "Available CPUs: 8\n",
      "INFO: Pandarallel will run on 7 workers.\n",
      "INFO: Pandarallel will use standard multiprocessing data transfer (pipe) to transfer data between the main process and workers.\n"
     ]
    }
   ],
   "source": [
    "#pip install pandarallel\n",
    "import multiprocessing\n",
    "\n",
    "num_processors = multiprocessing.cpu_count()\n",
    "print(f'Available CPUs: {num_processors}')\n",
    "\n",
    "import pandarallel\n",
    "from pandarallel import pandarallel\n",
    "pandarallel.initialize(nb_workers=num_processors-1, use_memory_fs=False)"
   ]
  },
  {
   "cell_type": "code",
   "execution_count": 14,
   "metadata": {},
   "outputs": [],
   "source": [
    "dataframe = pd.read_csv(\"/Users/kshitijmittal/Documents/UChicago Acad/uchicago_codebase/06_MachineLearning/06_RNNs_LSTMs/00_Data/dev-access.csv\", engine='python', quotechar='|', header=None)\n",
    "dataset = dataframe.values"
   ]
  },
  {
   "cell_type": "code",
   "execution_count": 15,
   "metadata": {},
   "outputs": [
    {
     "data": {
      "text/plain": [
       "(26773, 2)"
      ]
     },
     "execution_count": 15,
     "metadata": {},
     "output_type": "execute_result"
    }
   ],
   "source": [
    "# Shape of the data set\n",
    "dataset.shape"
   ]
  },
  {
   "cell_type": "code",
   "execution_count": 16,
   "metadata": {},
   "outputs": [
    {
     "data": {
      "text/html": [
       "<div>\n",
       "<style scoped>\n",
       "    .dataframe tbody tr th:only-of-type {\n",
       "        vertical-align: middle;\n",
       "    }\n",
       "\n",
       "    .dataframe tbody tr th {\n",
       "        vertical-align: top;\n",
       "    }\n",
       "\n",
       "    .dataframe thead th {\n",
       "        text-align: right;\n",
       "    }\n",
       "</style>\n",
       "<table border=\"1\" class=\"dataframe\">\n",
       "  <thead>\n",
       "    <tr style=\"text-align: right;\">\n",
       "      <th></th>\n",
       "      <th>0</th>\n",
       "      <th>1</th>\n",
       "    </tr>\n",
       "  </thead>\n",
       "  <tbody>\n",
       "    <tr>\n",
       "      <th>0</th>\n",
       "      <td>{\"timestamp\":1502738402847,\"method\":\"post\",\"query\":{},\"path\":\"/login\",\"statusCode\":401,\"source\":{\"remoteAddress\":\"88.141.113.237\",\"referer\":\"http://localhost:8002/enter\"},\"route\":\"/login\",\"headers\":{\"host\":\"localhost:8002\",\"accept-language\":\"en-us\",\"accept-encoding\":\"gzip, deflate\",\"connection\":\"keep-alive\",\"accept\":\"*/*\",\"referer\":\"http://localhost:8002/enter\",\"cache-control\":\"no-cache\",\"x-requested-with\":\"XMLHttpRequest\",\"content-type\":\"application/json\",\"content-length\":\"36\"},\"requestPayload\":{\"username\":\"Carl2\",\"password\":\"bo\"},\"responsePayload\":{\"statusCode\":401,\"error\":\"Unauthorized\",\"message\":\"Invalid Login\"}}</td>\n",
       "      <td>0</td>\n",
       "    </tr>\n",
       "    <tr>\n",
       "      <th>1</th>\n",
       "      <td>{\"timestamp\":1502738402849,\"method\":\"post\",\"query\":{},\"path\":\"/login\",\"statusCode\":401,\"source\":{\"remoteAddress\":\"88.141.113.237\"},\"route\":\"/login\",\"headers\":{\"host\":\"localhost:8002\",\"connection\":\"keep-alive\",\"cache-control\":\"no-cache\",\"accept\":\"*/*\",\"accept-encoding\":\"gzip, deflate, br\",\"accept-language\":\"en-US,en;q=0.8,es;q=0.6\",\"content-type\":\"application/json\",\"content-length\":\"47\"},\"requestPayload\":{\"username\":\"pafzah\",\"password\":\"worldburn432\"},\"responsePayload\":{\"statusCode\":401,\"error\":\"Unauthorized\",\"message\":\"Invalid Login\"}}</td>\n",
       "      <td>0</td>\n",
       "    </tr>\n",
       "    <tr>\n",
       "      <th>2</th>\n",
       "      <td>{\"timestamp\":1502738402852,\"method\":\"post\",\"query\":{},\"path\":\"/login\",\"statusCode\":401,\"source\":{\"remoteAddress\":\"205.49.83.118\"},\"route\":\"/login\",\"headers\":{\"host\":\"localhost:8002\",\"connection\":\"keep-alive\",\"cache-control\":\"no-cache\",\"accept\":\"*/*\",\"accept-encoding\":\"gzip, deflate, br\",\"accept-language\":\"en-US,en;q=0.8,es;q=0.6\",\"content-type\":\"application/json\",\"content-length\":\"44\"},\"requestPayload\":{\"username\":\"Panos1\",\"password\":\"najrijkom\"},\"responsePayload\":{\"statusCode\":401,\"error\":\"Unauthorized\",\"message\":\"Invalid Login\"}}</td>\n",
       "      <td>0</td>\n",
       "    </tr>\n",
       "    <tr>\n",
       "      <th>3</th>\n",
       "      <td>{\"timestamp\":1502738402852,\"method\":\"post\",\"query\":{},\"path\":\"/login\",\"statusCode\":401,\"source\":{\"remoteAddress\":\"205.49.83.118\",\"referer\":\"http://localhost:8002/enter\"},\"route\":\"/login\",\"headers\":{\"host\":\"localhost:8002\",\"accept-language\":\"en-us\",\"accept-encoding\":\"gzip, deflate\",\"connection\":\"keep-alive\",\"accept\":\"*/*\",\"referer\":\"http://localhost:8002/enter\",\"cache-control\":\"no-cache\",\"x-requested-with\":\"XMLHttpRequest\",\"content-type\":\"application/json\",\"content-length\":\"47\"},\"requestPayload\":{\"username\":\"vuvpuvehu\",\"password\":\"password1\"},\"responsePayload\":{\"statusCode\":401,\"error\":\"Unauthorized\",\"message\":\"Invalid Login\"}}</td>\n",
       "      <td>0</td>\n",
       "    </tr>\n",
       "    <tr>\n",
       "      <th>4</th>\n",
       "      <td>{\"timestamp\":1502738402853,\"method\":\"post\",\"query\":{},\"path\":\"/login\",\"statusCode\":401,\"source\":{\"remoteAddress\":\"137.196.95.116\"},\"route\":\"/login\",\"headers\":{\"host\":\"localhost:8002\",\"connection\":\"keep-alive\",\"cache-control\":\"no-cache\",\"accept\":\"*/*\",\"accept-encoding\":\"gzip, deflate, br\",\"accept-language\":\"en-US,en;q=0.8,es;q=0.6\",\"content-type\":\"application/json\",\"content-length\":\"41\"},\"requestPayload\":{\"username\":\"Michele\",\"password\":\"mokgu\"},\"responsePayload\":{\"statusCode\":401,\"error\":\"Unauthorized\",\"message\":\"Invalid Login\"}}</td>\n",
       "      <td>0</td>\n",
       "    </tr>\n",
       "  </tbody>\n",
       "</table>\n",
       "</div>"
      ],
      "text/plain": [
       "                                                                                                                                                                                                                                                                                                                                                                                                                                                                                                                                                                                                                                                            0  \\\n",
       "0            {\"timestamp\":1502738402847,\"method\":\"post\",\"query\":{},\"path\":\"/login\",\"statusCode\":401,\"source\":{\"remoteAddress\":\"88.141.113.237\",\"referer\":\"http://localhost:8002/enter\"},\"route\":\"/login\",\"headers\":{\"host\":\"localhost:8002\",\"accept-language\":\"en-us\",\"accept-encoding\":\"gzip, deflate\",\"connection\":\"keep-alive\",\"accept\":\"*/*\",\"referer\":\"http://localhost:8002/enter\",\"cache-control\":\"no-cache\",\"x-requested-with\":\"XMLHttpRequest\",\"content-type\":\"application/json\",\"content-length\":\"36\"},\"requestPayload\":{\"username\":\"Carl2\",\"password\":\"bo\"},\"responsePayload\":{\"statusCode\":401,\"error\":\"Unauthorized\",\"message\":\"Invalid Login\"}}   \n",
       "1                                                                                               {\"timestamp\":1502738402849,\"method\":\"post\",\"query\":{},\"path\":\"/login\",\"statusCode\":401,\"source\":{\"remoteAddress\":\"88.141.113.237\"},\"route\":\"/login\",\"headers\":{\"host\":\"localhost:8002\",\"connection\":\"keep-alive\",\"cache-control\":\"no-cache\",\"accept\":\"*/*\",\"accept-encoding\":\"gzip, deflate, br\",\"accept-language\":\"en-US,en;q=0.8,es;q=0.6\",\"content-type\":\"application/json\",\"content-length\":\"47\"},\"requestPayload\":{\"username\":\"pafzah\",\"password\":\"worldburn432\"},\"responsePayload\":{\"statusCode\":401,\"error\":\"Unauthorized\",\"message\":\"Invalid Login\"}}   \n",
       "2                                                                                                   {\"timestamp\":1502738402852,\"method\":\"post\",\"query\":{},\"path\":\"/login\",\"statusCode\":401,\"source\":{\"remoteAddress\":\"205.49.83.118\"},\"route\":\"/login\",\"headers\":{\"host\":\"localhost:8002\",\"connection\":\"keep-alive\",\"cache-control\":\"no-cache\",\"accept\":\"*/*\",\"accept-encoding\":\"gzip, deflate, br\",\"accept-language\":\"en-US,en;q=0.8,es;q=0.6\",\"content-type\":\"application/json\",\"content-length\":\"44\"},\"requestPayload\":{\"username\":\"Panos1\",\"password\":\"najrijkom\"},\"responsePayload\":{\"statusCode\":401,\"error\":\"Unauthorized\",\"message\":\"Invalid Login\"}}   \n",
       "3  {\"timestamp\":1502738402852,\"method\":\"post\",\"query\":{},\"path\":\"/login\",\"statusCode\":401,\"source\":{\"remoteAddress\":\"205.49.83.118\",\"referer\":\"http://localhost:8002/enter\"},\"route\":\"/login\",\"headers\":{\"host\":\"localhost:8002\",\"accept-language\":\"en-us\",\"accept-encoding\":\"gzip, deflate\",\"connection\":\"keep-alive\",\"accept\":\"*/*\",\"referer\":\"http://localhost:8002/enter\",\"cache-control\":\"no-cache\",\"x-requested-with\":\"XMLHttpRequest\",\"content-type\":\"application/json\",\"content-length\":\"47\"},\"requestPayload\":{\"username\":\"vuvpuvehu\",\"password\":\"password1\"},\"responsePayload\":{\"statusCode\":401,\"error\":\"Unauthorized\",\"message\":\"Invalid Login\"}}   \n",
       "4                                                                                                     {\"timestamp\":1502738402853,\"method\":\"post\",\"query\":{},\"path\":\"/login\",\"statusCode\":401,\"source\":{\"remoteAddress\":\"137.196.95.116\"},\"route\":\"/login\",\"headers\":{\"host\":\"localhost:8002\",\"connection\":\"keep-alive\",\"cache-control\":\"no-cache\",\"accept\":\"*/*\",\"accept-encoding\":\"gzip, deflate, br\",\"accept-language\":\"en-US,en;q=0.8,es;q=0.6\",\"content-type\":\"application/json\",\"content-length\":\"41\"},\"requestPayload\":{\"username\":\"Michele\",\"password\":\"mokgu\"},\"responsePayload\":{\"statusCode\":401,\"error\":\"Unauthorized\",\"message\":\"Invalid Login\"}}   \n",
       "\n",
       "   1  \n",
       "0  0  \n",
       "1  0  \n",
       "2  0  \n",
       "3  0  \n",
       "4  0  "
      ]
     },
     "execution_count": 16,
     "metadata": {},
     "output_type": "execute_result"
    }
   ],
   "source": [
    "pd.options.display.max_colwidth=1000\n",
    "dataframe.head()"
   ]
  },
  {
   "cell_type": "code",
   "execution_count": 21,
   "metadata": {},
   "outputs": [
    {
     "data": {
      "text/plain": [
       "array([0, 0, 0, ..., 1, 1, 1], dtype=object)"
      ]
     },
     "execution_count": 21,
     "metadata": {},
     "output_type": "execute_result"
    }
   ],
   "source": [
    "X = dataset[:,0]\n",
    "Y = dataset[:,1]\n",
    "Y"
   ]
  },
  {
   "cell_type": "code",
   "execution_count": 22,
   "metadata": {},
   "outputs": [],
   "source": [
    "for index, item in enumerate(X):\n",
    "    # Quick hack to space out json elements\n",
    "    reqJson = json.loads(item, object_pairs_hook=OrderedDict)\n",
    "    del reqJson['timestamp']\n",
    "    del reqJson['headers']\n",
    "    del reqJson['source']\n",
    "    del reqJson['route']\n",
    "    del reqJson['responsePayload']\n",
    "    X[index] = json.dumps(reqJson, separators=(',', ':'))"
   ]
  },
  {
   "cell_type": "code",
   "execution_count": 25,
   "metadata": {},
   "outputs": [
    {
     "data": {
      "text/plain": [
       "array(['{\"method\":\"post\",\"query\":{},\"path\":\"/login\",\"statusCode\":401,\"requestPayload\":{\"username\":\"Carl2\",\"password\":\"bo\"}}',\n",
       "       '{\"method\":\"post\",\"query\":{},\"path\":\"/login\",\"statusCode\":401,\"requestPayload\":{\"username\":\"pafzah\",\"password\":\"worldburn432\"}}',\n",
       "       '{\"method\":\"post\",\"query\":{},\"path\":\"/login\",\"statusCode\":401,\"requestPayload\":{\"username\":\"Panos1\",\"password\":\"najrijkom\"}}',\n",
       "       ...,\n",
       "       '{\"method\":\"post\",\"query\":{},\"path\":\"/checkout\",\"statusCode\":400,\"requestPayload\":{\"creditCard\":\"<script src=\\\\\"http://attacker/malicious\\\\u2011script.js\\\\\"></script>\"}}',\n",
       "       '{\"method\":\"post\",\"query\":{},\"path\":\"/checkout\",\"statusCode\":400,\"requestPayload\":{\"creditCard\":\"<meta http-equiv=\\\\\"refresh\\\\\">\"}}',\n",
       "       '{\"method\":\"post\",\"query\":{},\"path\":\"/checkout\",\"statusCode\":400,\"requestPayload\":{\"creditCard\":\"<meta http-equiv=\\\\\"refresh\\\\\">\"}}'],\n",
       "      dtype=object)"
      ]
     },
     "execution_count": 25,
     "metadata": {},
     "output_type": "execute_result"
    }
   ],
   "source": [
    "X"
   ]
  },
  {
   "cell_type": "code",
   "execution_count": 26,
   "metadata": {},
   "outputs": [],
   "source": [
    "# We next will tokenize our data, which just means vectorizing our text. \n",
    "# Given the data we will tokenize every character (thus char_level = True)\n",
    "\n",
    "tokenizer = Tokenizer(filters='\\t\\n', char_level=True)\n",
    "tokenizer.fit_on_texts(X)\n",
    "\n",
    "# we will need this later\n",
    "num_words = len(tokenizer.word_index)+1\n",
    "X = tokenizer.texts_to_sequences(X)\n"
   ]
  },
  {
   "cell_type": "code",
   "execution_count": 43,
   "metadata": {},
   "outputs": [],
   "source": [
    "# Padding our data\n",
    "max_log_length = 1024\n",
    "X_processed = pad_sequences(X, maxlen=max_log_length)"
   ]
  },
  {
   "cell_type": "code",
   "execution_count": 49,
   "metadata": {},
   "outputs": [],
   "source": [
    "from sklearn.model_selection import train_test_split\n",
    "X_train, X_test, y_train, y_test=train_test_split(X_processed,Y,train_size=0.75, test_size=0.25,random_state=1234)"
   ]
  },
  {
   "cell_type": "code",
   "execution_count": 111,
   "metadata": {},
   "outputs": [
    {
     "data": {
      "text/plain": [
       "array([[ 0,  0,  0, ..., 12, 12, 19],\n",
       "       [ 0,  0,  0, ..., 12, 12, 19],\n",
       "       [ 0,  0,  0, ..., 12, 12, 19],\n",
       "       ...,\n",
       "       [ 0,  0,  0, ...,  1, 19, 19],\n",
       "       [ 0,  0,  0, ...,  1, 19, 19],\n",
       "       [ 0,  0,  0, ..., 12, 12, 19]], dtype=int32)"
      ]
     },
     "execution_count": 111,
     "metadata": {},
     "output_type": "execute_result"
    }
   ],
   "source": [
    "X_train"
   ]
  },
  {
   "cell_type": "markdown",
   "metadata": {},
   "source": [
    "----\n",
    "### Part 2. Model 1 - Baseline RNN"
   ]
  },
  {
   "cell_type": "code",
   "execution_count": 66,
   "metadata": {},
   "outputs": [],
   "source": [
    "from keras import layers\n",
    "base_rnn=keras.Sequential(\n",
    "    [layers.Embedding(input_dim=num_words, output_dim=32, input_length=max_log_length), ## Only the first layer needs an input dimension\n",
    "     # We have 63 total words (num_words). We are converting them into dense vectors of size 32. Input length is constant, padded at 1024\n",
    "     layers.SimpleRNN(units=32, activation='relu'),\n",
    "     # Output of SimpleRNN is batch size, number of units; so in our case 128 rows, 32 columns\n",
    "     # What does number of units mean? \n",
    "     # How many time steps will we have, how many features?\n",
    "     layers.Dense(units=1, activation='sigmoid')\n",
    "    ]\n",
    ")\n",
    "\n",
    "base_rnn.compile(\n",
    "    loss=keras.losses.BinaryCrossentropy(),\n",
    "    optimizer=keras.optimizers.Adam(),\n",
    "    metrics=[\"accuracy\"]\n",
    ")"
   ]
  },
  {
   "cell_type": "code",
   "execution_count": 67,
   "metadata": {},
   "outputs": [
    {
     "name": "stdout",
     "output_type": "stream",
     "text": [
      "Model: \"sequential_5\"\n",
      "_________________________________________________________________\n",
      " Layer (type)                Output Shape              Param #   \n",
      "=================================================================\n",
      " embedding_4 (Embedding)     (None, 1024, 32)          2016      \n",
      "                                                                 \n",
      " simple_rnn_2 (SimpleRNN)    (None, 32)                2080      \n",
      "                                                                 \n",
      " dense_2 (Dense)             (None, 1)                 33        \n",
      "                                                                 \n",
      "=================================================================\n",
      "Total params: 4,129\n",
      "Trainable params: 4,129\n",
      "Non-trainable params: 0\n",
      "_________________________________________________________________\n"
     ]
    }
   ],
   "source": [
    "base_rnn.summary()"
   ]
  },
  {
   "cell_type": "code",
   "execution_count": 87,
   "metadata": {},
   "outputs": [
    {
     "data": {
      "text/plain": [
       "TensorShape([20079, 1024])"
      ]
     },
     "execution_count": 87,
     "metadata": {},
     "output_type": "execute_result"
    }
   ],
   "source": [
    "X_train_tens=tf.convert_to_tensor(X_train, dtype=tf.int32)\n",
    "X_test_tens=tf.convert_to_tensor(X_test, dtype=tf.int32)\n",
    "X_train_tens.shape\n"
   ]
  },
  {
   "cell_type": "code",
   "execution_count": 89,
   "metadata": {},
   "outputs": [],
   "source": [
    "y_train\n",
    "y_train_tens=tf.convert_to_tensor(y_train, dtype=tf.int32)\n",
    "y_test_tens=tf.convert_to_tensor(y_test, dtype=tf.int32)\n"
   ]
  },
  {
   "cell_type": "code",
   "execution_count": 91,
   "metadata": {},
   "outputs": [
    {
     "name": "stdout",
     "output_type": "stream",
     "text": [
      "Epoch 1/3\n",
      "118/118 [==============================] - 23s 184ms/step - loss: 0.5393 - accuracy: 0.6864 - val_loss: 0.1870 - val_accuracy: 0.9311\n",
      "Epoch 2/3\n",
      "118/118 [==============================] - 22s 187ms/step - loss: 0.1522 - accuracy: 0.9444 - val_loss: 0.1285 - val_accuracy: 0.9544\n",
      "Epoch 3/3\n",
      "118/118 [==============================] - 23s 193ms/step - loss: 0.0844 - accuracy: 0.9693 - val_loss: 0.0534 - val_accuracy: 0.9823\n"
     ]
    },
    {
     "data": {
      "text/plain": [
       "<keras.callbacks.History at 0x7f9f095ae790>"
      ]
     },
     "execution_count": 91,
     "metadata": {},
     "output_type": "execute_result"
    }
   ],
   "source": [
    "# Use the .fit() method to fit the model on the train data. Use a validation split of 0.25, epochs=3 and batch size = 128.\n",
    "\n",
    "history = base_rnn.fit(x=X_train_tens, y=y_train_tens, validation_split=0.25, epochs=3, batch_size=128)"
   ]
  },
  {
   "cell_type": "code",
   "execution_count": 113,
   "metadata": {},
   "outputs": [
    {
     "name": "stdout",
     "output_type": "stream",
     "text": [
      "Epoch 1/3\n",
      "118/118 [==============================] - 21s 180ms/step - loss: 0.0694 - accuracy: 0.9774 - val_loss: 0.0393 - val_accuracy: 0.9892\n",
      "Epoch 2/3\n",
      "118/118 [==============================] - 21s 180ms/step - loss: 0.0332 - accuracy: 0.9905 - val_loss: 0.0268 - val_accuracy: 0.9926\n",
      "Epoch 3/3\n",
      "118/118 [==============================] - 21s 179ms/step - loss: 0.0294 - accuracy: 0.9927 - val_loss: 0.0794 - val_accuracy: 0.9713\n"
     ]
    }
   ],
   "source": [
    "history = base_rnn.fit(x=X_train_tens, y=y_train_tens, validation_split=0.25, epochs=3, batch_size=128)"
   ]
  },
  {
   "cell_type": "code",
   "execution_count": 93,
   "metadata": {},
   "outputs": [
    {
     "data": {
      "text/plain": [
       "15104"
      ]
     },
     "execution_count": 93,
     "metadata": {},
     "output_type": "execute_result"
    }
   ],
   "source": [
    "# Number of data points through each epoch\n",
    "118*128\n",
    "\n",
    "# Number of training - validation data points\n",
    "20079*0.75"
   ]
  },
  {
   "cell_type": "code",
   "execution_count": 96,
   "metadata": {},
   "outputs": [
    {
     "name": "stdout",
     "output_type": "stream",
     "text": [
      "53/53 [==============================] - 2s 39ms/step - loss: 0.0526 - accuracy: 0.9804\n"
     ]
    },
    {
     "data": {
      "text/plain": [
       "[0.052604302763938904, 0.9804302453994751]"
      ]
     },
     "execution_count": 96,
     "metadata": {},
     "output_type": "execute_result"
    }
   ],
   "source": [
    "# Use the .evaluate() method to get the loss value & the accuracy value on the test data. Use a batch size of 128 again.\n",
    "\n",
    "base_rnn.evaluate(\n",
    "    x = X_test_tens, y = y_test_tens, batch_size=128, use_multiprocessing = True\n",
    "    )"
   ]
  },
  {
   "cell_type": "markdown",
   "metadata": {},
   "source": [
    "----\n",
    "### Part 3: Model 2 - LSTM + Dropout Layers"
   ]
  },
  {
   "cell_type": "code",
   "execution_count": 103,
   "metadata": {},
   "outputs": [
    {
     "name": "stdout",
     "output_type": "stream",
     "text": [
      "Model: \"sequential_10\"\n",
      "_________________________________________________________________\n",
      " Layer (type)                Output Shape              Param #   \n",
      "=================================================================\n",
      " embedding_9 (Embedding)     (None, 1024, 32)          2016      \n",
      "                                                                 \n",
      " lstm_4 (LSTM)               (None, 64)                24832     \n",
      "                                                                 \n",
      " dropout_4 (Dropout)         (None, 64)                0         \n",
      "                                                                 \n",
      " dense_7 (Dense)             (None, 1)                 65        \n",
      "                                                                 \n",
      "=================================================================\n",
      "Total params: 26,913\n",
      "Trainable params: 26,913\n",
      "Non-trainable params: 0\n",
      "_________________________________________________________________\n"
     ]
    }
   ],
   "source": [
    "model2=keras.Sequential([\n",
    "    layers.Embedding(input_dim=num_words, output_dim=32, input_length=max_log_length),\n",
    "    layers.LSTM(units=64, recurrent_dropout=0.5),\n",
    "    layers.Dropout(rate=0.5),\n",
    "    layers.Dense(units=1, activation='sigmoid')\n",
    "])\n",
    "\n",
    "model2.compile(\n",
    "    loss=keras.losses.BinaryCrossentropy(),\n",
    "    optimizer=keras.optimizers.Adam(),\n",
    "    metrics=['accuracy']\n",
    ")\n",
    "\n",
    "model2.summary()"
   ]
  },
  {
   "cell_type": "code",
   "execution_count": 105,
   "metadata": {},
   "outputs": [
    {
     "name": "stdout",
     "output_type": "stream",
     "text": [
      "Epoch 1/3\n",
      "118/118 [==============================] - 108s 914ms/step - loss: 0.6438 - accuracy: 0.6287 - val_loss: 0.5966 - val_accuracy: 0.6386\n",
      "Epoch 2/3\n",
      "118/118 [==============================] - 102s 867ms/step - loss: 0.3784 - accuracy: 0.8408 - val_loss: 0.1303 - val_accuracy: 0.9699\n",
      "Epoch 3/3\n",
      "118/118 [==============================] - 104s 883ms/step - loss: 0.1172 - accuracy: 0.9698 - val_loss: 0.1087 - val_accuracy: 0.9741\n"
     ]
    },
    {
     "data": {
      "text/plain": [
       "<keras.callbacks.History at 0x7f9f09e1dac0>"
      ]
     },
     "execution_count": 105,
     "metadata": {},
     "output_type": "execute_result"
    }
   ],
   "source": [
    "# Use the .fit() method to fit the model on the train data. Use a validation split of 0.25, epochs=3 and batch size = 128.\n",
    "model2.fit(x=X_train_tens, y=y_train_tens, validation_split=0.25, epochs=3, batch_size=128, use_multiprocessing=True)"
   ]
  },
  {
   "cell_type": "code",
   "execution_count": 108,
   "metadata": {},
   "outputs": [
    {
     "name": "stdout",
     "output_type": "stream",
     "text": [
      "53/53 [==============================] - 8s 142ms/step - loss: 0.0702 - accuracy: 0.9824\n"
     ]
    },
    {
     "data": {
      "text/plain": [
       "[0.07024699449539185, 0.9823722839355469]"
      ]
     },
     "execution_count": 108,
     "metadata": {},
     "output_type": "execute_result"
    }
   ],
   "source": [
    "model2.evaluate(x = X_test_tens, y = y_test_tens, batch_size=128, use_multiprocessing = True)"
   ]
  },
  {
   "cell_type": "code",
   "execution_count": 133,
   "metadata": {},
   "outputs": [
    {
     "name": "stdout",
     "output_type": "stream",
     "text": [
      "Model: \"sequential_21\"\n",
      "_________________________________________________________________\n",
      " Layer (type)                Output Shape              Param #   \n",
      "=================================================================\n",
      " embedding_20 (Embedding)    (None, 1024, 50)          3150      \n",
      "                                                                 \n",
      " simple_rnn_18 (SimpleRNN)   (None, 1024, 20)          1420      \n",
      "                                                                 \n",
      " simple_rnn_19 (SimpleRNN)   (None, 1024, 20)          820       \n",
      "                                                                 \n",
      " lstm_13 (LSTM)              (None, 30)                6120      \n",
      "                                                                 \n",
      " dropout_15 (Dropout)        (None, 30)                0         \n",
      "                                                                 \n",
      " dense_20 (Dense)            (None, 8)                 248       \n",
      "                                                                 \n",
      " dense_21 (Dense)            (None, 1)                 9         \n",
      "                                                                 \n",
      "=================================================================\n",
      "Total params: 11,767\n",
      "Trainable params: 11,767\n",
      "Non-trainable params: 0\n",
      "_________________________________________________________________\n"
     ]
    }
   ],
   "source": [
    "model3=keras.Sequential([\n",
    "    layers.Embedding(input_dim=num_words, output_dim=50, input_length=max_log_length),\n",
    "    # Trying a higher dimension word embedding\n",
    "    layers.SimpleRNN(units=20, return_sequences=True),\n",
    "    layers.SimpleRNN(units=20, return_sequences=True),\n",
    "    layers.LSTM(30),\n",
    "    layers.Dropout(rate=0.5),\n",
    "    layers.Dense(units=8, activation='relu'),\n",
    "    layers.Dense(units=1, activation='relu')\n",
    "])\n",
    "\n",
    "model3.compile(\n",
    "    loss='mean_squared_error',\n",
    "    optimizer='rmsprop',\n",
    "    metrics=['accuracy']\n",
    ")\n",
    "\n",
    "model3.summary()"
   ]
  },
  {
   "cell_type": "code",
   "execution_count": 136,
   "metadata": {},
   "outputs": [
    {
     "name": "stderr",
     "output_type": "stream",
     "text": [
      "  0%|          | 0/3 [00:00<?, ?it/s]"
     ]
    },
    {
     "name": "stdout",
     "output_type": "stream",
     "text": [
      "118/118 [==============================] - 82s 675ms/step - loss: 0.1064 - accuracy: 0.8637 - val_loss: 0.0261 - val_accuracy: 0.9847\n"
     ]
    },
    {
     "name": "stderr",
     "output_type": "stream",
     "text": [
      " 33%|███▎      | 1/3 [01:21<02:43, 81.94s/it]"
     ]
    },
    {
     "name": "stdout",
     "output_type": "stream",
     "text": [
      "118/118 [==============================] - 80s 682ms/step - loss: 0.0331 - accuracy: 0.9726 - val_loss: 0.0182 - val_accuracy: 0.9847\n"
     ]
    },
    {
     "name": "stderr",
     "output_type": "stream",
     "text": [
      " 67%|██████▋   | 2/3 [02:42<01:21, 81.10s/it]"
     ]
    },
    {
     "name": "stdout",
     "output_type": "stream",
     "text": [
      "118/118 [==============================] - 82s 693ms/step - loss: 0.0217 - accuracy: 0.9858 - val_loss: 0.0241 - val_accuracy: 0.9934\n"
     ]
    },
    {
     "name": "stderr",
     "output_type": "stream",
     "text": [
      "100%|██████████| 3/3 [04:04<00:00, 81.42s/it]\n"
     ]
    }
   ],
   "source": [
    "epochs=3\n",
    "for epoch in tqdm(range(epochs)):\n",
    "    model3.fit(x=X_train_tens, y=y_train_tens, validation_split=0.25, epochs=1, batch_size=128, use_multiprocessing=True)"
   ]
  },
  {
   "cell_type": "code",
   "execution_count": 137,
   "metadata": {},
   "outputs": [
    {
     "name": "stdout",
     "output_type": "stream",
     "text": [
      "53/53 [==============================] - 9s 175ms/step - loss: 0.0234 - accuracy: 0.9942\n"
     ]
    },
    {
     "data": {
      "text/plain": [
       "[0.023365836590528488, 0.9941738843917847]"
      ]
     },
     "execution_count": 137,
     "metadata": {},
     "output_type": "execute_result"
    }
   ],
   "source": [
    "model3.evaluate(x = X_test_tens, y = y_test_tens, batch_size=128, use_multiprocessing = True)"
   ]
  },
  {
   "cell_type": "markdown",
   "metadata": {},
   "source": [
    "----\n",
    "### Part 4: Conceptual Questions\n",
    "\n",
    "**5) Explain the difference between the relu activation function and the sigmoid activation function.**\n",
    "\n",
    "RELU\n",
    "* The ReLU activation function is defined as f(x) = max(0, x), and returns 0 for negative inputs and the input value itself for positive inputs.\n",
    "* ReLU is computationally efficient and helps address the vanishing gradient problem by allowing faster convergence during training.\n",
    "* ReLU introduces non-linearity into the network, enabling the model to learn complex relationships and better approximate non-linear functions.\n",
    "\n",
    "Sigmoid\n",
    "* The sigmoid activation function is defined as f(x) = 1 / (1 + exp(-x)), which maps the input to a value between 0 and 1.\n",
    "* Sigmoid is commonly used in binary classification problems where the output needs to be interpreted as a probability or a decision between two classes. It is generally added to the output layer\n",
    "\n",
    "**6) Describe what one epoch actually is (epoch was a parameter used in the .fit() method).**\n",
    "\n",
    "Epoch implies the number of times we want to pass the entire data through the neural network. Number of epochs depend on the characteristics of the neural network and training data. Due to memory constraints, we  divide epoch into smaller batch sizes to be passed through the neural net.\n",
    "\n",
    "**7) Explain how dropout works (you can look at the keras code and/or documentation) for (a) training, and (b) test data sets.**\n",
    "\n",
    "Dropout regularization is a technique to prevent neural networks from overfitting. Dropout works by randomly disabling neurons and their corresponding connections. This prevents the network from relying too much on single neurons and forces all neurons to learn to generalize better.\n",
    "\n",
    "**Training** \n",
    "We set a retention probability for each layer. The retention probability specifies the probability that a unit is not dropped. For example, if we set the retention probability to 0.8, the units in that layer have an 80% chance of remaining active and a 20% chance of being dropped. dropout is applied by creating a mask for each layer and filling it with values between 0 and 1 generated by a random number generator according to the retention probability. Each neuron with a corresponding retention probability below the specified threshold is kept, while the other ones are removed.\n",
    "\n",
    "**Testing**\n",
    "Dropout is only used during training to make the network more robust to fluctuations in the training data. But that means your neurons will receive more connections and therefore more activations during inference than what they were used to during training. To correct this overactivation at test and inference time, you multiply the weights of the overexcited neurons by the retention probability (1 – dropout rate) and thus scale them down.\n",
    "\n",
    "\n",
    "**8) Explain why problems such as this homework assignment are better modeled with RNNs than CNNs. What type of problem will CNNs outperform RNNs on?**\n",
    "\n",
    "CNNs are primarily used for tasks like image classification and computer vision, RNNs are commonly used for sequential data processing tasks like natural language processing and time series analysis.\n",
    "\n",
    "RNNs are designed to handle sequential data, where the order of inputs matters. They maintain an internal state that allows them to process inputs in a temporal manner, capturing dependencies across time steps. CNNs, on the other hand, are typically used for tasks where the spatial arrangement of inputs is important, such as images. While CNNs can be applied to sequential data by considering the input as a 1D sequence, they do not inherently capture sequential dependencies as effectively as RNNs\n",
    "\n",
    "\n",
    "**9) Explain what RNN problem is solved using LSTM and briefly describe how.**\n",
    "\n",
    "LSTMs (Long Short-Term Memory) are designed to address the vanishing gradient problem and capture long-term dependencies in sequential data. LSTMs are specifically designed to overcome the limitations of traditional RNNs in handling long-term dependencies."
   ]
  },
  {
   "cell_type": "markdown",
   "metadata": {},
   "source": [
    "--------\n",
    "## **PART B: Time Series Data**"
   ]
  },
  {
   "cell_type": "code",
   "execution_count": 7,
   "metadata": {},
   "outputs": [],
   "source": [
    "import numpy as np\n",
    "from typing import Tuple\n",
    "\n",
    "import seaborn as sns\n",
    "import matplotlib.pyplot as plt"
   ]
  },
  {
   "cell_type": "code",
   "execution_count": 8,
   "metadata": {},
   "outputs": [],
   "source": [
    "# Import, clean and plot the input data\n",
    "\n",
    "data = pd.read_csv(\"/Users/kshitijmittal/Documents/UChicago Acad/uchicago_codebase/06_MachineLearning/06_RNNs_LSTMs/00_Data/DAYTON_hourly.csv\")\n",
    "data.Datetime = pd.to_datetime(data.Datetime)\n",
    "data.sort_values(by=\"Datetime\", inplace=True)"
   ]
  },
  {
   "cell_type": "code",
   "execution_count": 9,
   "metadata": {},
   "outputs": [
    {
     "name": "stdout",
     "output_type": "stream",
     "text": [
      "shape of original data (121275, 2)\n",
      "original data\n"
     ]
    },
    {
     "data": {
      "text/html": [
       "<div>\n",
       "<style scoped>\n",
       "    .dataframe tbody tr th:only-of-type {\n",
       "        vertical-align: middle;\n",
       "    }\n",
       "\n",
       "    .dataframe tbody tr th {\n",
       "        vertical-align: top;\n",
       "    }\n",
       "\n",
       "    .dataframe thead th {\n",
       "        text-align: right;\n",
       "    }\n",
       "</style>\n",
       "<table border=\"1\" class=\"dataframe\">\n",
       "  <thead>\n",
       "    <tr style=\"text-align: right;\">\n",
       "      <th></th>\n",
       "      <th>Datetime</th>\n",
       "      <th>DAYTON_MW</th>\n",
       "    </tr>\n",
       "  </thead>\n",
       "  <tbody>\n",
       "    <tr>\n",
       "      <th>2183</th>\n",
       "      <td>2004-10-01 01:00:00</td>\n",
       "      <td>1621.0</td>\n",
       "    </tr>\n",
       "    <tr>\n",
       "      <th>2184</th>\n",
       "      <td>2004-10-01 02:00:00</td>\n",
       "      <td>1536.0</td>\n",
       "    </tr>\n",
       "    <tr>\n",
       "      <th>2185</th>\n",
       "      <td>2004-10-01 03:00:00</td>\n",
       "      <td>1500.0</td>\n",
       "    </tr>\n",
       "    <tr>\n",
       "      <th>2186</th>\n",
       "      <td>2004-10-01 04:00:00</td>\n",
       "      <td>1434.0</td>\n",
       "    </tr>\n",
       "    <tr>\n",
       "      <th>2187</th>\n",
       "      <td>2004-10-01 05:00:00</td>\n",
       "      <td>1489.0</td>\n",
       "    </tr>\n",
       "  </tbody>\n",
       "</table>\n",
       "</div>"
      ],
      "text/plain": [
       "                Datetime  DAYTON_MW\n",
       "2183 2004-10-01 01:00:00     1621.0\n",
       "2184 2004-10-01 02:00:00     1536.0\n",
       "2185 2004-10-01 03:00:00     1500.0\n",
       "2186 2004-10-01 04:00:00     1434.0\n",
       "2187 2004-10-01 05:00:00     1489.0"
      ]
     },
     "execution_count": 9,
     "metadata": {},
     "output_type": "execute_result"
    }
   ],
   "source": [
    "print(\"shape of original data\",data.shape)\n",
    "print(\"original data\")\n",
    "data.head()"
   ]
  },
  {
   "cell_type": "code",
   "execution_count": 10,
   "metadata": {},
   "outputs": [
    {
     "data": {
      "image/png": "[encoded data removed]",
      "text/plain": [
       "<Figure size 1500x1000 with 1 Axes>"
      ]
     },
     "metadata": {},
     "output_type": "display_data"
    }
   ],
   "source": [
    "plt.figure(figsize=(15,10))\n",
    "sns.lineplot(x=data['Datetime'], y=data['DAYTON_MW'])\n",
    "\n",
    "plt.xlabel(\"Hour\")\n",
    "plt.ylabel(\"MW\")\n",
    "plt.title(\"Dayton - MW consumption across hours\")\n",
    "\n",
    "plt.show()"
   ]
  },
  {
   "cell_type": "code",
   "execution_count": 11,
   "metadata": {},
   "outputs": [],
   "source": [
    "# Train test split \n",
    "def create_data_for_NN(\n",
    "    data: pd.DataFrame, Y_var: str, lag: int, test_ratio: float\n",
    ") -> Tuple[np.array, np.array, np.array, np.array]:\n",
    "    \"\"\"Function to return lagged time series data after train-test split\n",
    "\n",
    "    Args:\n",
    "        data (pd.DataFrame): Raw time series data frame\n",
    "        Y_var (str): String with the name of y variable\n",
    "        lag (int): number of lagged records to consider\n",
    "        test_ratio (float): ratio of data to consider for test set\n",
    "\n",
    "    Returns:\n",
    "        Tuple[np.array, np.array, np.array, np.array]: Lagged and split numpy arrays\n",
    "    \"\"\"\n",
    "    y = data[Y_var].tolist()\n",
    "\n",
    "    X, Y = [], []\n",
    "\n",
    "    if len(y) - lag <= 0:\n",
    "        X.append(y)\n",
    "    else:\n",
    "        for i in range(len(y) - lag):\n",
    "            Y.append(y[i + lag])\n",
    "            X.append(y[i : (i + lag)])\n",
    "\n",
    "    X, Y = np.array(X), np.array(Y)\n",
    "\n",
    "    # Reshaping the X array to an LSTM input shape\n",
    "    X = np.reshape(X, (X.shape[0], X.shape[1], 1))\n",
    "\n",
    "    # Creating training and test sets\n",
    "    X_train = X\n",
    "    X_test = []\n",
    "\n",
    "    Y_train = Y\n",
    "    Y_test = []\n",
    "\n",
    "    if test_ratio > 0:\n",
    "        index = round(len(X) * test_ratio)\n",
    "        X_train = X[: (len(X) - index)]\n",
    "        X_test = X[-index:]\n",
    "\n",
    "        Y_train = Y[: (len(X) - index)]\n",
    "        Y_test = Y[-index:]\n",
    "\n",
    "    return X_train, X_test, Y_train, Y_test\n",
    "\n",
    "\n",
    "lag = 3\n",
    "test_ratio = 0.15\n",
    "\n",
    "X_train, X_test, Y_train, Y_test = create_data_for_NN(\n",
    "    data, data.columns[-1], lag, test_ratio\n",
    ")"
   ]
  },
  {
   "cell_type": "code",
   "execution_count": 12,
   "metadata": {},
   "outputs": [
    {
     "data": {
      "text/plain": [
       "array([[[1621.],\n",
       "        [1536.],\n",
       "        [1500.]],\n",
       "\n",
       "       [[1536.],\n",
       "        [1500.],\n",
       "        [1434.]],\n",
       "\n",
       "       [[1500.],\n",
       "        [1434.],\n",
       "        [1489.]],\n",
       "\n",
       "       [[1434.],\n",
       "        [1489.],\n",
       "        [1620.]]])"
      ]
     },
     "execution_count": 12,
     "metadata": {},
     "output_type": "execute_result"
    }
   ],
   "source": [
    "X_train[0:4]"
   ]
  },
  {
   "cell_type": "code",
   "execution_count": 13,
   "metadata": {},
   "outputs": [
    {
     "data": {
      "text/plain": [
       "array([1434., 1489., 1620., 1859., 2007.])"
      ]
     },
     "execution_count": 13,
     "metadata": {},
     "output_type": "execute_result"
    }
   ],
   "source": [
    "Y_train[0:5]"
   ]
  },
  {
   "cell_type": "markdown",
   "metadata": {},
   "source": [
    "----\n",
    "#### Fit a single layer LSTM with lag = 3 hours"
   ]
  },
  {
   "cell_type": "code",
   "execution_count": 14,
   "metadata": {},
   "outputs": [
    {
     "name": "stderr",
     "output_type": "stream",
     "text": [
      "2023-05-16 21:22:19.938674: I tensorflow/core/platform/cpu_feature_guard.cc:193] This TensorFlow binary is optimized with oneAPI Deep Neural Network Library (oneDNN) to use the following CPU instructions in performance-critical operations:  SSE4.1 SSE4.2\n",
      "To enable them in other operations, rebuild TensorFlow with the appropriate compiler flags.\n"
     ]
    },
    {
     "name": "stdout",
     "output_type": "stream",
     "text": [
      "Model: \"sequential\"\n",
      "_________________________________________________________________\n",
      " Layer (type)                Output Shape              Param #   \n",
      "=================================================================\n",
      " lstm (LSTM)                 (None, 64)                16896     \n",
      "                                                                 \n",
      " dense (Dense)               (None, 1)                 65        \n",
      "                                                                 \n",
      "=================================================================\n",
      "Total params: 16,961\n",
      "Trainable params: 16,961\n",
      "Non-trainable params: 0\n",
      "_________________________________________________________________\n"
     ]
    }
   ],
   "source": [
    "\n",
    "lag = 3\n",
    "test_ratio = 0.15\n",
    "X_train, X_test, Y_train, Y_test = create_data_for_NN(data, data.columns[-1], lag, test_ratio)\n",
    "\n",
    "model_lstm_3 = Sequential([\n",
    "    LSTM(units=64, input_shape=(lag, 1)),\n",
    "    Dense(units=1, activation='linear')\n",
    "])\n",
    "\n",
    "# Compile the model\n",
    "model_lstm_3.compile(loss='mse', optimizer='adam')\n",
    "model_lstm_3.summary()"
   ]
  },
  {
   "cell_type": "code",
   "execution_count": 15,
   "metadata": {},
   "outputs": [
    {
     "name": "stdout",
     "output_type": "stream",
     "text": [
      "Epoch 1/20\n",
      "52/52 [==============================] - 2s 11ms/step - loss: 4312064.0000\n",
      "Epoch 2/20\n",
      "52/52 [==============================] - 1s 11ms/step - loss: 4307664.0000\n",
      "Epoch 3/20\n",
      "52/52 [==============================] - 1s 11ms/step - loss: 4304010.5000\n",
      "Epoch 4/20\n",
      "52/52 [==============================] - 1s 11ms/step - loss: 4300376.5000\n",
      "Epoch 5/20\n",
      "52/52 [==============================] - 1s 11ms/step - loss: 4296752.5000\n",
      "Epoch 6/20\n",
      "52/52 [==============================] - 1s 11ms/step - loss: 4293135.5000\n",
      "Epoch 7/20\n",
      "52/52 [==============================] - 1s 14ms/step - loss: 4289524.5000\n",
      "Epoch 8/20\n",
      "52/52 [==============================] - 1s 12ms/step - loss: 4285917.5000\n",
      "Epoch 9/20\n",
      "52/52 [==============================] - 1s 12ms/step - loss: 4282314.0000\n",
      "Epoch 10/20\n",
      "52/52 [==============================] - 1s 14ms/step - loss: 4278713.0000\n",
      "Epoch 11/20\n",
      "52/52 [==============================] - 1s 12ms/step - loss: 4275115.5000\n",
      "Epoch 12/20\n",
      "52/52 [==============================] - 1s 11ms/step - loss: 4271522.0000\n",
      "Epoch 13/20\n",
      "52/52 [==============================] - 1s 11ms/step - loss: 4267929.0000\n",
      "Epoch 14/20\n",
      "52/52 [==============================] - 1s 11ms/step - loss: 4264340.5000\n",
      "Epoch 15/20\n",
      "52/52 [==============================] - 1s 10ms/step - loss: 4260754.0000\n",
      "Epoch 16/20\n",
      "52/52 [==============================] - 1s 10ms/step - loss: 4257170.5000\n",
      "Epoch 17/20\n",
      "52/52 [==============================] - 1s 10ms/step - loss: 4253589.5000\n",
      "Epoch 18/20\n",
      "52/52 [==============================] - 1s 10ms/step - loss: 4250011.5000\n",
      "Epoch 19/20\n",
      "52/52 [==============================] - 1s 10ms/step - loss: 4246434.5000\n",
      "Epoch 20/20\n",
      "52/52 [==============================] - 1s 11ms/step - loss: 4242859.0000\n"
     ]
    },
    {
     "data": {
      "text/plain": [
       "<keras.callbacks.History at 0x7fe28b226b20>"
      ]
     },
     "execution_count": 15,
     "metadata": {},
     "output_type": "execute_result"
    }
   ],
   "source": [
    "# Fit the model\n",
    "model_lstm_3.fit(X_train, Y_train, epochs=20, batch_size=2000)"
   ]
  },
  {
   "cell_type": "code",
   "execution_count": 25,
   "metadata": {},
   "outputs": [
    {
     "name": "stdout",
     "output_type": "stream",
     "text": [
      "569/569 [==============================] - 2s 3ms/step - loss: 4190282.7500\n"
     ]
    },
    {
     "data": {
      "text/plain": [
       "4190282.75"
      ]
     },
     "execution_count": 25,
     "metadata": {},
     "output_type": "execute_result"
    }
   ],
   "source": [
    "model_lstm_3_accuracy=model_lstm_3.evaluate(X_test, Y_test)\n",
    "model_lstm_3_accuracy"
   ]
  },
  {
   "cell_type": "markdown",
   "metadata": {},
   "source": [
    "-----\n",
    "#### Fit a single layer LSTM with lag = 24 hours\n"
   ]
  },
  {
   "cell_type": "code",
   "execution_count": 17,
   "metadata": {},
   "outputs": [
    {
     "name": "stdout",
     "output_type": "stream",
     "text": [
      "Model: \"sequential_1\"\n",
      "_________________________________________________________________\n",
      " Layer (type)                Output Shape              Param #   \n",
      "=================================================================\n",
      " lstm_1 (LSTM)               (None, 64)                16896     \n",
      "                                                                 \n",
      " dense_1 (Dense)             (None, 1)                 65        \n",
      "                                                                 \n",
      "=================================================================\n",
      "Total params: 16,961\n",
      "Trainable params: 16,961\n",
      "Non-trainable params: 0\n",
      "_________________________________________________________________\n"
     ]
    }
   ],
   "source": [
    "lag = 24\n",
    "test_ratio = 0.15\n",
    "X_train, X_test, Y_train, Y_test = create_data_for_NN(data, data.columns[-1], lag, test_ratio)\n",
    "\n",
    "model_lstm_24 = Sequential([\n",
    "    LSTM(units=64, input_shape=(lag, 1)),\n",
    "    Dense(units=1, activation='linear')\n",
    "])\n",
    "\n",
    "# Compile the model\n",
    "model_lstm_24.compile(loss='mse', optimizer='adam')\n",
    "model_lstm_24.summary()"
   ]
  },
  {
   "cell_type": "code",
   "execution_count": 18,
   "metadata": {},
   "outputs": [
    {
     "name": "stdout",
     "output_type": "stream",
     "text": [
      "Epoch 1/20\n",
      "52/52 [==============================] - 5s 69ms/step - loss: 4312829.0000\n",
      "Epoch 2/20\n",
      "52/52 [==============================] - 3s 65ms/step - loss: 4306642.5000\n",
      "Epoch 3/20\n",
      "52/52 [==============================] - 4s 69ms/step - loss: 4302432.5000\n",
      "Epoch 4/20\n",
      "52/52 [==============================] - 4s 70ms/step - loss: 4298293.0000\n",
      "Epoch 5/20\n",
      "52/52 [==============================] - 3s 67ms/step - loss: 4294071.0000\n",
      "Epoch 6/20\n",
      "52/52 [==============================] - 3s 66ms/step - loss: 4289625.5000\n",
      "Epoch 7/20\n",
      "52/52 [==============================] - 4s 68ms/step - loss: 4285453.5000\n",
      "Epoch 8/20\n",
      "52/52 [==============================] - 4s 68ms/step - loss: 4281300.5000\n",
      "Epoch 9/20\n",
      "52/52 [==============================] - 4s 68ms/step - loss: 4277161.0000\n",
      "Epoch 10/20\n",
      "52/52 [==============================] - 3s 64ms/step - loss: 4273033.5000\n",
      "Epoch 11/20\n",
      "52/52 [==============================] - 3s 64ms/step - loss: 4268914.5000\n",
      "Epoch 12/20\n",
      "52/52 [==============================] - 3s 64ms/step - loss: 4264804.5000\n",
      "Epoch 13/20\n",
      "52/52 [==============================] - 3s 63ms/step - loss: 4260700.5000\n",
      "Epoch 14/20\n",
      "52/52 [==============================] - 3s 63ms/step - loss: 4256602.5000\n",
      "Epoch 15/20\n",
      "52/52 [==============================] - 3s 64ms/step - loss: 4252510.0000\n",
      "Epoch 16/20\n",
      "52/52 [==============================] - 3s 65ms/step - loss: 4248423.5000\n",
      "Epoch 17/20\n",
      "52/52 [==============================] - 4s 69ms/step - loss: 4244341.5000\n",
      "Epoch 18/20\n",
      "52/52 [==============================] - 4s 72ms/step - loss: 4240265.0000\n",
      "Epoch 19/20\n",
      "52/52 [==============================] - 4s 73ms/step - loss: 4236191.0000\n",
      "Epoch 20/20\n",
      "52/52 [==============================] - 4s 70ms/step - loss: 4232122.0000\n"
     ]
    },
    {
     "data": {
      "text/plain": [
       "<keras.callbacks.History at 0x7fe28b1e38b0>"
      ]
     },
     "execution_count": 18,
     "metadata": {},
     "output_type": "execute_result"
    }
   ],
   "source": [
    "# Fit the model\n",
    "model_lstm_24.fit(X_train, Y_train, epochs=20, batch_size=2000)"
   ]
  },
  {
   "cell_type": "code",
   "execution_count": 24,
   "metadata": {},
   "outputs": [
    {
     "name": "stdout",
     "output_type": "stream",
     "text": [
      "569/569 [==============================] - 2s 3ms/step - loss: 4179524.0000\n"
     ]
    },
    {
     "data": {
      "text/plain": [
       "4179524.0"
      ]
     },
     "execution_count": 24,
     "metadata": {},
     "output_type": "execute_result"
    }
   ],
   "source": [
    "model_lstm_24_accuracy=model_lstm_24.evaluate(X_test, Y_test)\n",
    "model_lstm_24_accuracy"
   ]
  },
  {
   "cell_type": "markdown",
   "metadata": {},
   "source": [
    "-------\n",
    "#### Fit a bidirectional LSTM with lag = 24 hours\n"
   ]
  },
  {
   "cell_type": "code",
   "execution_count": 20,
   "metadata": {},
   "outputs": [],
   "source": [
    "from keras.layers import Bidirectional\n",
    "\n",
    "lag = 24\n",
    "test_ratio = 0.15\n",
    "X_train, X_test, Y_train, Y_test = create_data_for_NN(data, data.columns[-1], lag, test_ratio)\n",
    "\n",
    "model_lstm_24_bi = Sequential([\n",
    "    Bidirectional(LSTM(units=64, input_shape=(lag, 1))),\n",
    "    Dense(units=1, activation='linear')\n",
    "])\n",
    "\n",
    "# Compile the model\n",
    "model_lstm_24_bi.compile(loss='mse', optimizer='adam')"
   ]
  },
  {
   "cell_type": "code",
   "execution_count": 21,
   "metadata": {},
   "outputs": [
    {
     "name": "stdout",
     "output_type": "stream",
     "text": [
      "Epoch 1/20\n",
      "52/52 [==============================] - 7s 100ms/step - loss: 4305499.5000\n",
      "Epoch 2/20\n",
      "52/52 [==============================] - 5s 102ms/step - loss: 4298818.5000\n",
      "Epoch 3/20\n",
      "52/52 [==============================] - 5s 96ms/step - loss: 4292702.0000\n",
      "Epoch 4/20\n",
      "52/52 [==============================] - 5s 99ms/step - loss: 4286618.5000\n",
      "Epoch 5/20\n",
      "52/52 [==============================] - 5s 100ms/step - loss: 4280315.0000\n",
      "Epoch 6/20\n",
      "52/52 [==============================] - 5s 97ms/step - loss: 4273576.5000\n",
      "Epoch 7/20\n",
      "52/52 [==============================] - 5s 95ms/step - loss: 4267120.0000\n",
      "Epoch 8/20\n",
      "52/52 [==============================] - 5s 93ms/step - loss: 4260749.5000\n",
      "Epoch 9/20\n",
      "52/52 [==============================] - 5s 99ms/step - loss: 4254424.0000\n",
      "Epoch 10/20\n",
      "52/52 [==============================] - 5s 92ms/step - loss: 4248089.5000\n",
      "Epoch 11/20\n",
      "52/52 [==============================] - 5s 92ms/step - loss: 4240762.0000\n",
      "Epoch 12/20\n",
      "52/52 [==============================] - 5s 93ms/step - loss: 4233882.5000\n",
      "Epoch 13/20\n",
      "52/52 [==============================] - 5s 92ms/step - loss: 4227185.5000\n",
      "Epoch 14/20\n",
      "52/52 [==============================] - 5s 98ms/step - loss: 4220572.5000\n",
      "Epoch 15/20\n",
      "52/52 [==============================] - 6s 114ms/step - loss: 4214010.5000\n",
      "Epoch 16/20\n",
      "52/52 [==============================] - 5s 105ms/step - loss: 4207486.0000\n",
      "Epoch 17/20\n",
      "52/52 [==============================] - 5s 103ms/step - loss: 4200990.0000\n",
      "Epoch 18/20\n",
      "52/52 [==============================] - 6s 106ms/step - loss: 4194516.0000\n",
      "Epoch 19/20\n",
      "52/52 [==============================] - 5s 103ms/step - loss: 4188064.0000\n",
      "Epoch 20/20\n",
      "52/52 [==============================] - 5s 99ms/step - loss: 4181629.0000\n"
     ]
    },
    {
     "data": {
      "text/plain": [
       "<keras.callbacks.History at 0x7fe24d96fd00>"
      ]
     },
     "execution_count": 21,
     "metadata": {},
     "output_type": "execute_result"
    }
   ],
   "source": [
    "# Fit the model\n",
    "model_lstm_24_bi.fit(X_train, Y_train, epochs=20, batch_size=2000)"
   ]
  },
  {
   "cell_type": "code",
   "execution_count": 22,
   "metadata": {},
   "outputs": [
    {
     "name": "stdout",
     "output_type": "stream",
     "text": [
      "569/569 [==============================] - 2s 3ms/step - loss: 4128097.0000\n"
     ]
    },
    {
     "data": {
      "text/plain": [
       "4128097.0"
      ]
     },
     "execution_count": 22,
     "metadata": {},
     "output_type": "execute_result"
    }
   ],
   "source": [
    "model_lstm_24_bi_accuracy=model_lstm_24_bi.evaluate(X_test, Y_test)\n",
    "model_lstm_24_bi_accuracy"
   ]
  },
  {
   "cell_type": "markdown",
   "metadata": {},
   "source": [
    "----\n",
    "#### Plot results on test set and compare performance using RMSE\n"
   ]
  },
  {
   "cell_type": "code",
   "execution_count": 29,
   "metadata": {},
   "outputs": [
    {
     "data": {
      "text/html": [
       "<div>\n",
       "<style scoped>\n",
       "    .dataframe tbody tr th:only-of-type {\n",
       "        vertical-align: middle;\n",
       "    }\n",
       "\n",
       "    .dataframe tbody tr th {\n",
       "        vertical-align: top;\n",
       "    }\n",
       "\n",
       "    .dataframe thead th {\n",
       "        text-align: right;\n",
       "    }\n",
       "</style>\n",
       "<table border=\"1\" class=\"dataframe\">\n",
       "  <thead>\n",
       "    <tr style=\"text-align: right;\">\n",
       "      <th></th>\n",
       "      <th>RNN_Models</th>\n",
       "      <th>Test_Accuracy</th>\n",
       "    </tr>\n",
       "  </thead>\n",
       "  <tbody>\n",
       "    <tr>\n",
       "      <th>0</th>\n",
       "      <td>LSTM_LAG_3</td>\n",
       "      <td>2047.018014</td>\n",
       "    </tr>\n",
       "    <tr>\n",
       "      <th>1</th>\n",
       "      <td>LSTM_LAG_24</td>\n",
       "      <td>2044.388417</td>\n",
       "    </tr>\n",
       "    <tr>\n",
       "      <th>2</th>\n",
       "      <td>LSTM_LAG_24BI</td>\n",
       "      <td>2031.771887</td>\n",
       "    </tr>\n",
       "  </tbody>\n",
       "</table>\n",
       "</div>"
      ],
      "text/plain": [
       "      RNN_Models  Test_Accuracy\n",
       "0     LSTM_LAG_3    2047.018014\n",
       "1    LSTM_LAG_24    2044.388417\n",
       "2  LSTM_LAG_24BI    2031.771887"
      ]
     },
     "execution_count": 29,
     "metadata": {},
     "output_type": "execute_result"
    }
   ],
   "source": [
    "models=['LSTM_LAG_3','LSTM_LAG_24','LSTM_LAG_24BI']\n",
    "accuracy=[np.sqrt(model_lstm_3_accuracy), np.sqrt(model_lstm_24_accuracy), np.sqrt(model_lstm_24_bi_accuracy)]\n",
    "\n",
    "mod_test_accuracy=pd.DataFrame({'RNN_Models':models,'Test_Accuracy':accuracy})\n",
    "mod_test_accuracy"
   ]
  },
  {
   "cell_type": "code",
   "execution_count": 35,
   "metadata": {},
   "outputs": [
    {
     "data": {
      "text/plain": [
       "Text(0.5, 1.0, 'Test RMSE for different RNN Models')"
      ]
     },
     "execution_count": 35,
     "metadata": {},
     "output_type": "execute_result"
    },
    {
     "data": {
      "image/svg+xml": [
       "<?xml version=\"1.0\" encoding=\"utf-8\" standalone=\"no\"?>\n",
       "<!DOCTYPE svg PUBLIC \"-//W3C//DTD SVG 1.1//EN\"\n",
       "  \"http://www.w3.org/Graphics/SVG/1.1/DTD/svg11.dtd\">\n",
       "<svg xmlns:xlink=\"http://www.w3.org/1999/xlink\" width=\"417.648125pt\" height=\"326.087937pt\" viewBox=\"0 0 417.648125 326.087937\" xmlns=\"http://www.w3.org/2000/svg\" version=\"1.1\">\n",
       " <metadata>\n",
       "  <rdf:RDF xmlns:dc=\"http://purl.org/dc/elements/1.1/\" xmlns:cc=\"http://creativecommons.org/ns#\" xmlns:rdf=\"http://www.w3.org/1999/02/22-rdf-syntax-ns#\">\n",
       "   <cc:Work>\n",
       "    <dc:type rdf:resource=\"http://purl.org/dc/dcmitype/StillImage\"/>\n",
       "    <dc:date>2023-05-16T21:45:32.651486</dc:date>\n",
       "    <dc:format>image/svg+xml</dc:format>\n",
       "    <dc:creator>\n",
       "     <cc:Agent>\n",
       "      <dc:title>Matplotlib v3.7.1, https://matplotlib.org/</dc:title>\n",
       "     </cc:Agent>\n",
       "    </dc:creator>\n",
       "   </cc:Work>\n",
       "  </rdf:RDF>\n",
       " </metadata>\n",
       " <defs>\n",
       "  <style type=\"text/css\">*{stroke-linejoin: round; stroke-linecap: butt}</style>\n",
       " </defs>\n",
       " <g id=\"figure_1\">\n",
       "  <g id=\"patch_1\">\n",
       "   <path d=\"M 0 326.087937 \n",
       "L 417.648125 326.087937 \n",
       "L 417.648125 0 \n",
       "L 0 0 \n",
       "z\n",
       "\" style=\"fill: #ffffff\"/>\n",
       "  </g>\n",
       "  <g id=\"axes_1\">\n",
       "   <g id=\"patch_2\">\n",
       "    <path d=\"M 53.328125 288.430125 \n",
       "L 410.448125 288.430125 \n",
       "L 410.448125 22.318125 \n",
       "L 53.328125 22.318125 \n",
       "z\n",
       "\" style=\"fill: #ffffff\"/>\n",
       "   </g>\n",
       "   <g id=\"patch_3\">\n",
       "    <path d=\"M 65.232125 10932.910125 \n",
       "L 160.464125 10932.910125 \n",
       "L 160.464125 38.18897 \n",
       "L 65.232125 38.18897 \n",
       "z\n",
       "\" clip-path=\"url(#pd3ec22dff3)\" style=\"fill: #3274a1\"/>\n",
       "   </g>\n",
       "   <g id=\"patch_4\">\n",
       "    <path d=\"M 184.272125 10932.910125 \n",
       "L 279.504125 10932.910125 \n",
       "L 279.504125 52.184316 \n",
       "L 184.272125 52.184316 \n",
       "z\n",
       "\" clip-path=\"url(#pd3ec22dff3)\" style=\"fill: #e1812c\"/>\n",
       "   </g>\n",
       "   <g id=\"patch_5\">\n",
       "    <path d=\"M 303.312125 10932.910125 \n",
       "L 398.544125 10932.910125 \n",
       "L 398.544125 119.332518 \n",
       "L 303.312125 119.332518 \n",
       "z\n",
       "\" clip-path=\"url(#pd3ec22dff3)\" style=\"fill: #3a923a\"/>\n",
       "   </g>\n",
       "   <g id=\"matplotlib.axis_1\">\n",
       "    <g id=\"xtick_1\">\n",
       "     <g id=\"line2d_1\">\n",
       "      <defs>\n",
       "       <path id=\"m65295032d0\" d=\"M 0 0 \n",
       "L 0 3.5 \n",
       "\" style=\"stroke: #000000; stroke-width: 0.8\"/>\n",
       "      </defs>\n",
       "      <g>\n",
       "       <use xlink:href=\"#m65295032d0\" x=\"112.848125\" y=\"288.430125\" style=\"stroke: #000000; stroke-width: 0.8\"/>\n",
       "      </g>\n",
       "     </g>\n",
       "     <g id=\"text_1\">\n",
       "      <!-- LSTM_LAG_3 -->\n",
       "      <g transform=\"translate(81.233281 302.852) scale(0.1 -0.1)\">\n",
       "       <defs>\n",
       "        <path id=\"DejaVuSans-4c\" d=\"M 628 4666 \n",
       "L 1259 4666 \n",
       "L 1259 531 \n",
       "L 3531 531 \n",
       "L 3531 0 \n",
       "L 628 0 \n",
       "L 628 4666 \n",
       "z\n",
       "\" transform=\"scale(0.015625)\"/>\n",
       "        <path id=\"DejaVuSans-53\" d=\"M 3425 4513 \n",
       "L 3425 3897 \n",
       "Q 3066 4069 2747 4153 \n",
       "Q 2428 4238 2131 4238 \n",
       "Q 1616 4238 1336 4038 \n",
       "Q 1056 3838 1056 3469 \n",
       "Q 1056 3159 1242 3001 \n",
       "Q 1428 2844 1947 2747 \n",
       "L 2328 2669 \n",
       "Q 3034 2534 3370 2195 \n",
       "Q 3706 1856 3706 1288 \n",
       "Q 3706 609 3251 259 \n",
       "Q 2797 -91 1919 -91 \n",
       "Q 1588 -91 1214 -16 \n",
       "Q 841 59 441 206 \n",
       "L 441 856 \n",
       "Q 825 641 1194 531 \n",
       "Q 1563 422 1919 422 \n",
       "Q 2459 422 2753 634 \n",
       "Q 3047 847 3047 1241 \n",
       "Q 3047 1584 2836 1778 \n",
       "Q 2625 1972 2144 2069 \n",
       "L 1759 2144 \n",
       "Q 1053 2284 737 2584 \n",
       "Q 422 2884 422 3419 \n",
       "Q 422 4038 858 4394 \n",
       "Q 1294 4750 2059 4750 \n",
       "Q 2388 4750 2728 4690 \n",
       "Q 3069 4631 3425 4513 \n",
       "z\n",
       "\" transform=\"scale(0.015625)\"/>\n",
       "        <path id=\"DejaVuSans-54\" d=\"M -19 4666 \n",
       "L 3928 4666 \n",
       "L 3928 4134 \n",
       "L 2272 4134 \n",
       "L 2272 0 \n",
       "L 1638 0 \n",
       "L 1638 4134 \n",
       "L -19 4134 \n",
       "L -19 4666 \n",
       "z\n",
       "\" transform=\"scale(0.015625)\"/>\n",
       "        <path id=\"DejaVuSans-4d\" d=\"M 628 4666 \n",
       "L 1569 4666 \n",
       "L 2759 1491 \n",
       "L 3956 4666 \n",
       "L 4897 4666 \n",
       "L 4897 0 \n",
       "L 4281 0 \n",
       "L 4281 4097 \n",
       "L 3078 897 \n",
       "L 2444 897 \n",
       "L 1241 4097 \n",
       "L 1241 0 \n",
       "L 628 0 \n",
       "L 628 4666 \n",
       "z\n",
       "\" transform=\"scale(0.015625)\"/>\n",
       "        <path id=\"DejaVuSans-5f\" d=\"M 3263 -1063 \n",
       "L 3263 -1509 \n",
       "L -63 -1509 \n",
       "L -63 -1063 \n",
       "L 3263 -1063 \n",
       "z\n",
       "\" transform=\"scale(0.015625)\"/>\n",
       "        <path id=\"DejaVuSans-41\" d=\"M 2188 4044 \n",
       "L 1331 1722 \n",
       "L 3047 1722 \n",
       "L 2188 4044 \n",
       "z\n",
       "M 1831 4666 \n",
       "L 2547 4666 \n",
       "L 4325 0 \n",
       "L 3669 0 \n",
       "L 3244 1197 \n",
       "L 1141 1197 \n",
       "L 716 0 \n",
       "L 50 0 \n",
       "L 1831 4666 \n",
       "z\n",
       "\" transform=\"scale(0.015625)\"/>\n",
       "        <path id=\"DejaVuSans-47\" d=\"M 3809 666 \n",
       "L 3809 1919 \n",
       "L 2778 1919 \n",
       "L 2778 2438 \n",
       "L 4434 2438 \n",
       "L 4434 434 \n",
       "Q 4069 175 3628 42 \n",
       "Q 3188 -91 2688 -91 \n",
       "Q 1594 -91 976 548 \n",
       "Q 359 1188 359 2328 \n",
       "Q 359 3472 976 4111 \n",
       "Q 1594 4750 2688 4750 \n",
       "Q 3144 4750 3555 4637 \n",
       "Q 3966 4525 4313 4306 \n",
       "L 4313 3634 \n",
       "Q 3963 3931 3569 4081 \n",
       "Q 3175 4231 2741 4231 \n",
       "Q 1884 4231 1454 3753 \n",
       "Q 1025 3275 1025 2328 \n",
       "Q 1025 1384 1454 906 \n",
       "Q 1884 428 2741 428 \n",
       "Q 3075 428 3337 486 \n",
       "Q 3600 544 3809 666 \n",
       "z\n",
       "\" transform=\"scale(0.015625)\"/>\n",
       "        <path id=\"DejaVuSans-33\" d=\"M 2597 2516 \n",
       "Q 3050 2419 3304 2112 \n",
       "Q 3559 1806 3559 1356 \n",
       "Q 3559 666 3084 287 \n",
       "Q 2609 -91 1734 -91 \n",
       "Q 1441 -91 1130 -33 \n",
       "Q 819 25 488 141 \n",
       "L 488 750 \n",
       "Q 750 597 1062 519 \n",
       "Q 1375 441 1716 441 \n",
       "Q 2309 441 2620 675 \n",
       "Q 2931 909 2931 1356 \n",
       "Q 2931 1769 2642 2001 \n",
       "Q 2353 2234 1838 2234 \n",
       "L 1294 2234 \n",
       "L 1294 2753 \n",
       "L 1863 2753 \n",
       "Q 2328 2753 2575 2939 \n",
       "Q 2822 3125 2822 3475 \n",
       "Q 2822 3834 2567 4026 \n",
       "Q 2313 4219 1838 4219 \n",
       "Q 1578 4219 1281 4162 \n",
       "Q 984 4106 628 3988 \n",
       "L 628 4550 \n",
       "Q 988 4650 1302 4700 \n",
       "Q 1616 4750 1894 4750 \n",
       "Q 2613 4750 3031 4423 \n",
       "Q 3450 4097 3450 3541 \n",
       "Q 3450 3153 3228 2886 \n",
       "Q 3006 2619 2597 2516 \n",
       "z\n",
       "\" transform=\"scale(0.015625)\"/>\n",
       "       </defs>\n",
       "       <use xlink:href=\"#DejaVuSans-4c\"/>\n",
       "       <use xlink:href=\"#DejaVuSans-53\" x=\"55.712891\"/>\n",
       "       <use xlink:href=\"#DejaVuSans-54\" x=\"119.189453\"/>\n",
       "       <use xlink:href=\"#DejaVuSans-4d\" x=\"180.273438\"/>\n",
       "       <use xlink:href=\"#DejaVuSans-5f\" x=\"266.552734\"/>\n",
       "       <use xlink:href=\"#DejaVuSans-4c\" x=\"316.552734\"/>\n",
       "       <use xlink:href=\"#DejaVuSans-41\" x=\"374.515625\"/>\n",
       "       <use xlink:href=\"#DejaVuSans-47\" x=\"441.173828\"/>\n",
       "       <use xlink:href=\"#DejaVuSans-5f\" x=\"518.664062\"/>\n",
       "       <use xlink:href=\"#DejaVuSans-33\" x=\"568.664062\"/>\n",
       "      </g>\n",
       "     </g>\n",
       "    </g>\n",
       "    <g id=\"xtick_2\">\n",
       "     <g id=\"line2d_2\">\n",
       "      <g>\n",
       "       <use xlink:href=\"#m65295032d0\" x=\"231.888125\" y=\"288.430125\" style=\"stroke: #000000; stroke-width: 0.8\"/>\n",
       "      </g>\n",
       "     </g>\n",
       "     <g id=\"text_2\">\n",
       "      <!-- LSTM_LAG_24 -->\n",
       "      <g transform=\"translate(197.092031 302.852) scale(0.1 -0.1)\">\n",
       "       <defs>\n",
       "        <path id=\"DejaVuSans-32\" d=\"M 1228 531 \n",
       "L 3431 531 \n",
       "L 3431 0 \n",
       "L 469 0 \n",
       "L 469 531 \n",
       "Q 828 903 1448 1529 \n",
       "Q 2069 2156 2228 2338 \n",
       "Q 2531 2678 2651 2914 \n",
       "Q 2772 3150 2772 3378 \n",
       "Q 2772 3750 2511 3984 \n",
       "Q 2250 4219 1831 4219 \n",
       "Q 1534 4219 1204 4116 \n",
       "Q 875 4013 500 3803 \n",
       "L 500 4441 \n",
       "Q 881 4594 1212 4672 \n",
       "Q 1544 4750 1819 4750 \n",
       "Q 2544 4750 2975 4387 \n",
       "Q 3406 4025 3406 3419 \n",
       "Q 3406 3131 3298 2873 \n",
       "Q 3191 2616 2906 2266 \n",
       "Q 2828 2175 2409 1742 \n",
       "Q 1991 1309 1228 531 \n",
       "z\n",
       "\" transform=\"scale(0.015625)\"/>\n",
       "        <path id=\"DejaVuSans-34\" d=\"M 2419 4116 \n",
       "L 825 1625 \n",
       "L 2419 1625 \n",
       "L 2419 4116 \n",
       "z\n",
       "M 2253 4666 \n",
       "L 3047 4666 \n",
       "L 3047 1625 \n",
       "L 3713 1625 \n",
       "L 3713 1100 \n",
       "L 3047 1100 \n",
       "L 3047 0 \n",
       "L 2419 0 \n",
       "L 2419 1100 \n",
       "L 313 1100 \n",
       "L 313 1709 \n",
       "L 2253 4666 \n",
       "z\n",
       "\" transform=\"scale(0.015625)\"/>\n",
       "       </defs>\n",
       "       <use xlink:href=\"#DejaVuSans-4c\"/>\n",
       "       <use xlink:href=\"#DejaVuSans-53\" x=\"55.712891\"/>\n",
       "       <use xlink:href=\"#DejaVuSans-54\" x=\"119.189453\"/>\n",
       "       <use xlink:href=\"#DejaVuSans-4d\" x=\"180.273438\"/>\n",
       "       <use xlink:href=\"#DejaVuSans-5f\" x=\"266.552734\"/>\n",
       "       <use xlink:href=\"#DejaVuSans-4c\" x=\"316.552734\"/>\n",
       "       <use xlink:href=\"#DejaVuSans-41\" x=\"374.515625\"/>\n",
       "       <use xlink:href=\"#DejaVuSans-47\" x=\"441.173828\"/>\n",
       "       <use xlink:href=\"#DejaVuSans-5f\" x=\"518.664062\"/>\n",
       "       <use xlink:href=\"#DejaVuSans-32\" x=\"568.664062\"/>\n",
       "       <use xlink:href=\"#DejaVuSans-34\" x=\"632.287109\"/>\n",
       "      </g>\n",
       "     </g>\n",
       "    </g>\n",
       "    <g id=\"xtick_3\">\n",
       "     <g id=\"line2d_3\">\n",
       "      <g>\n",
       "       <use xlink:href=\"#m65295032d0\" x=\"350.928125\" y=\"288.430125\" style=\"stroke: #000000; stroke-width: 0.8\"/>\n",
       "      </g>\n",
       "     </g>\n",
       "     <g id=\"text_3\">\n",
       "      <!-- LSTM_LAG_24BI -->\n",
       "      <g transform=\"translate(311.226563 302.852) scale(0.1 -0.1)\">\n",
       "       <defs>\n",
       "        <path id=\"DejaVuSans-42\" d=\"M 1259 2228 \n",
       "L 1259 519 \n",
       "L 2272 519 \n",
       "Q 2781 519 3026 730 \n",
       "Q 3272 941 3272 1375 \n",
       "Q 3272 1813 3026 2020 \n",
       "Q 2781 2228 2272 2228 \n",
       "L 1259 2228 \n",
       "z\n",
       "M 1259 4147 \n",
       "L 1259 2741 \n",
       "L 2194 2741 \n",
       "Q 2656 2741 2882 2914 \n",
       "Q 3109 3088 3109 3444 \n",
       "Q 3109 3797 2882 3972 \n",
       "Q 2656 4147 2194 4147 \n",
       "L 1259 4147 \n",
       "z\n",
       "M 628 4666 \n",
       "L 2241 4666 \n",
       "Q 2963 4666 3353 4366 \n",
       "Q 3744 4066 3744 3513 \n",
       "Q 3744 3084 3544 2831 \n",
       "Q 3344 2578 2956 2516 \n",
       "Q 3422 2416 3680 2098 \n",
       "Q 3938 1781 3938 1306 \n",
       "Q 3938 681 3513 340 \n",
       "Q 3088 0 2303 0 \n",
       "L 628 0 \n",
       "L 628 4666 \n",
       "z\n",
       "\" transform=\"scale(0.015625)\"/>\n",
       "        <path id=\"DejaVuSans-49\" d=\"M 628 4666 \n",
       "L 1259 4666 \n",
       "L 1259 0 \n",
       "L 628 0 \n",
       "L 628 4666 \n",
       "z\n",
       "\" transform=\"scale(0.015625)\"/>\n",
       "       </defs>\n",
       "       <use xlink:href=\"#DejaVuSans-4c\"/>\n",
       "       <use xlink:href=\"#DejaVuSans-53\" x=\"55.712891\"/>\n",
       "       <use xlink:href=\"#DejaVuSans-54\" x=\"119.189453\"/>\n",
       "       <use xlink:href=\"#DejaVuSans-4d\" x=\"180.273438\"/>\n",
       "       <use xlink:href=\"#DejaVuSans-5f\" x=\"266.552734\"/>\n",
       "       <use xlink:href=\"#DejaVuSans-4c\" x=\"316.552734\"/>\n",
       "       <use xlink:href=\"#DejaVuSans-41\" x=\"374.515625\"/>\n",
       "       <use xlink:href=\"#DejaVuSans-47\" x=\"441.173828\"/>\n",
       "       <use xlink:href=\"#DejaVuSans-5f\" x=\"518.664062\"/>\n",
       "       <use xlink:href=\"#DejaVuSans-32\" x=\"568.664062\"/>\n",
       "       <use xlink:href=\"#DejaVuSans-34\" x=\"632.287109\"/>\n",
       "       <use xlink:href=\"#DejaVuSans-42\" x=\"695.910156\"/>\n",
       "       <use xlink:href=\"#DejaVuSans-49\" x=\"764.513672\"/>\n",
       "      </g>\n",
       "     </g>\n",
       "    </g>\n",
       "    <g id=\"text_4\">\n",
       "     <!-- RNN Models -->\n",
       "     <g transform=\"translate(201.725625 316.80825) scale(0.1 -0.1)\">\n",
       "      <defs>\n",
       "       <path id=\"DejaVuSans-52\" d=\"M 2841 2188 \n",
       "Q 3044 2119 3236 1894 \n",
       "Q 3428 1669 3622 1275 \n",
       "L 4263 0 \n",
       "L 3584 0 \n",
       "L 2988 1197 \n",
       "Q 2756 1666 2539 1819 \n",
       "Q 2322 1972 1947 1972 \n",
       "L 1259 1972 \n",
       "L 1259 0 \n",
       "L 628 0 \n",
       "L 628 4666 \n",
       "L 2053 4666 \n",
       "Q 2853 4666 3247 4331 \n",
       "Q 3641 3997 3641 3322 \n",
       "Q 3641 2881 3436 2590 \n",
       "Q 3231 2300 2841 2188 \n",
       "z\n",
       "M 1259 4147 \n",
       "L 1259 2491 \n",
       "L 2053 2491 \n",
       "Q 2509 2491 2742 2702 \n",
       "Q 2975 2913 2975 3322 \n",
       "Q 2975 3731 2742 3939 \n",
       "Q 2509 4147 2053 4147 \n",
       "L 1259 4147 \n",
       "z\n",
       "\" transform=\"scale(0.015625)\"/>\n",
       "       <path id=\"DejaVuSans-4e\" d=\"M 628 4666 \n",
       "L 1478 4666 \n",
       "L 3547 763 \n",
       "L 3547 4666 \n",
       "L 4159 4666 \n",
       "L 4159 0 \n",
       "L 3309 0 \n",
       "L 1241 3903 \n",
       "L 1241 0 \n",
       "L 628 0 \n",
       "L 628 4666 \n",
       "z\n",
       "\" transform=\"scale(0.015625)\"/>\n",
       "       <path id=\"DejaVuSans-20\" transform=\"scale(0.015625)\"/>\n",
       "       <path id=\"DejaVuSans-6f\" d=\"M 1959 3097 \n",
       "Q 1497 3097 1228 2736 \n",
       "Q 959 2375 959 1747 \n",
       "Q 959 1119 1226 758 \n",
       "Q 1494 397 1959 397 \n",
       "Q 2419 397 2687 759 \n",
       "Q 2956 1122 2956 1747 \n",
       "Q 2956 2369 2687 2733 \n",
       "Q 2419 3097 1959 3097 \n",
       "z\n",
       "M 1959 3584 \n",
       "Q 2709 3584 3137 3096 \n",
       "Q 3566 2609 3566 1747 \n",
       "Q 3566 888 3137 398 \n",
       "Q 2709 -91 1959 -91 \n",
       "Q 1206 -91 779 398 \n",
       "Q 353 888 353 1747 \n",
       "Q 353 2609 779 3096 \n",
       "Q 1206 3584 1959 3584 \n",
       "z\n",
       "\" transform=\"scale(0.015625)\"/>\n",
       "       <path id=\"DejaVuSans-64\" d=\"M 2906 2969 \n",
       "L 2906 4863 \n",
       "L 3481 4863 \n",
       "L 3481 0 \n",
       "L 2906 0 \n",
       "L 2906 525 \n",
       "Q 2725 213 2448 61 \n",
       "Q 2172 -91 1784 -91 \n",
       "Q 1150 -91 751 415 \n",
       "Q 353 922 353 1747 \n",
       "Q 353 2572 751 3078 \n",
       "Q 1150 3584 1784 3584 \n",
       "Q 2172 3584 2448 3432 \n",
       "Q 2725 3281 2906 2969 \n",
       "z\n",
       "M 947 1747 \n",
       "Q 947 1113 1208 752 \n",
       "Q 1469 391 1925 391 \n",
       "Q 2381 391 2643 752 \n",
       "Q 2906 1113 2906 1747 \n",
       "Q 2906 2381 2643 2742 \n",
       "Q 2381 3103 1925 3103 \n",
       "Q 1469 3103 1208 2742 \n",
       "Q 947 2381 947 1747 \n",
       "z\n",
       "\" transform=\"scale(0.015625)\"/>\n",
       "       <path id=\"DejaVuSans-65\" d=\"M 3597 1894 \n",
       "L 3597 1613 \n",
       "L 953 1613 \n",
       "Q 991 1019 1311 708 \n",
       "Q 1631 397 2203 397 \n",
       "Q 2534 397 2845 478 \n",
       "Q 3156 559 3463 722 \n",
       "L 3463 178 \n",
       "Q 3153 47 2828 -22 \n",
       "Q 2503 -91 2169 -91 \n",
       "Q 1331 -91 842 396 \n",
       "Q 353 884 353 1716 \n",
       "Q 353 2575 817 3079 \n",
       "Q 1281 3584 2069 3584 \n",
       "Q 2775 3584 3186 3129 \n",
       "Q 3597 2675 3597 1894 \n",
       "z\n",
       "M 3022 2063 \n",
       "Q 3016 2534 2758 2815 \n",
       "Q 2500 3097 2075 3097 \n",
       "Q 1594 3097 1305 2825 \n",
       "Q 1016 2553 972 2059 \n",
       "L 3022 2063 \n",
       "z\n",
       "\" transform=\"scale(0.015625)\"/>\n",
       "       <path id=\"DejaVuSans-6c\" d=\"M 603 4863 \n",
       "L 1178 4863 \n",
       "L 1178 0 \n",
       "L 603 0 \n",
       "L 603 4863 \n",
       "z\n",
       "\" transform=\"scale(0.015625)\"/>\n",
       "       <path id=\"DejaVuSans-73\" d=\"M 2834 3397 \n",
       "L 2834 2853 \n",
       "Q 2591 2978 2328 3040 \n",
       "Q 2066 3103 1784 3103 \n",
       "Q 1356 3103 1142 2972 \n",
       "Q 928 2841 928 2578 \n",
       "Q 928 2378 1081 2264 \n",
       "Q 1234 2150 1697 2047 \n",
       "L 1894 2003 \n",
       "Q 2506 1872 2764 1633 \n",
       "Q 3022 1394 3022 966 \n",
       "Q 3022 478 2636 193 \n",
       "Q 2250 -91 1575 -91 \n",
       "Q 1294 -91 989 -36 \n",
       "Q 684 19 347 128 \n",
       "L 347 722 \n",
       "Q 666 556 975 473 \n",
       "Q 1284 391 1588 391 \n",
       "Q 1994 391 2212 530 \n",
       "Q 2431 669 2431 922 \n",
       "Q 2431 1156 2273 1281 \n",
       "Q 2116 1406 1581 1522 \n",
       "L 1381 1569 \n",
       "Q 847 1681 609 1914 \n",
       "Q 372 2147 372 2553 \n",
       "Q 372 3047 722 3315 \n",
       "Q 1072 3584 1716 3584 \n",
       "Q 2034 3584 2315 3537 \n",
       "Q 2597 3491 2834 3397 \n",
       "z\n",
       "\" transform=\"scale(0.015625)\"/>\n",
       "      </defs>\n",
       "      <use xlink:href=\"#DejaVuSans-52\"/>\n",
       "      <use xlink:href=\"#DejaVuSans-4e\" x=\"69.482422\"/>\n",
       "      <use xlink:href=\"#DejaVuSans-4e\" x=\"144.287109\"/>\n",
       "      <use xlink:href=\"#DejaVuSans-20\" x=\"219.091797\"/>\n",
       "      <use xlink:href=\"#DejaVuSans-4d\" x=\"250.878906\"/>\n",
       "      <use xlink:href=\"#DejaVuSans-6f\" x=\"337.158203\"/>\n",
       "      <use xlink:href=\"#DejaVuSans-64\" x=\"398.339844\"/>\n",
       "      <use xlink:href=\"#DejaVuSans-65\" x=\"461.816406\"/>\n",
       "      <use xlink:href=\"#DejaVuSans-6c\" x=\"523.339844\"/>\n",
       "      <use xlink:href=\"#DejaVuSans-73\" x=\"551.123047\"/>\n",
       "     </g>\n",
       "    </g>\n",
       "   </g>\n",
       "   <g id=\"matplotlib.axis_2\">\n",
       "    <g id=\"ytick_1\">\n",
       "     <g id=\"line2d_4\">\n",
       "      <defs>\n",
       "       <path id=\"me877786845\" d=\"M 0 0 \n",
       "L -3.5 0 \n",
       "\" style=\"stroke: #000000; stroke-width: 0.8\"/>\n",
       "      </defs>\n",
       "      <g>\n",
       "       <use xlink:href=\"#me877786845\" x=\"53.328125\" y=\"288.430125\" style=\"stroke: #000000; stroke-width: 0.8\"/>\n",
       "      </g>\n",
       "     </g>\n",
       "     <g id=\"text_5\">\n",
       "      <!-- 2000 -->\n",
       "      <g transform=\"translate(20.878125 292.229344) scale(0.1 -0.1)\">\n",
       "       <defs>\n",
       "        <path id=\"DejaVuSans-30\" d=\"M 2034 4250 \n",
       "Q 1547 4250 1301 3770 \n",
       "Q 1056 3291 1056 2328 \n",
       "Q 1056 1369 1301 889 \n",
       "Q 1547 409 2034 409 \n",
       "Q 2525 409 2770 889 \n",
       "Q 3016 1369 3016 2328 \n",
       "Q 3016 3291 2770 3770 \n",
       "Q 2525 4250 2034 4250 \n",
       "z\n",
       "M 2034 4750 \n",
       "Q 2819 4750 3233 4129 \n",
       "Q 3647 3509 3647 2328 \n",
       "Q 3647 1150 3233 529 \n",
       "Q 2819 -91 2034 -91 \n",
       "Q 1250 -91 836 529 \n",
       "Q 422 1150 422 2328 \n",
       "Q 422 3509 836 4129 \n",
       "Q 1250 4750 2034 4750 \n",
       "z\n",
       "\" transform=\"scale(0.015625)\"/>\n",
       "       </defs>\n",
       "       <use xlink:href=\"#DejaVuSans-32\"/>\n",
       "       <use xlink:href=\"#DejaVuSans-30\" x=\"63.623047\"/>\n",
       "       <use xlink:href=\"#DejaVuSans-30\" x=\"127.246094\"/>\n",
       "       <use xlink:href=\"#DejaVuSans-30\" x=\"190.869141\"/>\n",
       "      </g>\n",
       "     </g>\n",
       "    </g>\n",
       "    <g id=\"ytick_2\">\n",
       "     <g id=\"line2d_5\">\n",
       "      <g>\n",
       "       <use xlink:href=\"#me877786845\" x=\"53.328125\" y=\"235.207725\" style=\"stroke: #000000; stroke-width: 0.8\"/>\n",
       "      </g>\n",
       "     </g>\n",
       "     <g id=\"text_6\">\n",
       "      <!-- 2010 -->\n",
       "      <g transform=\"translate(20.878125 239.006944) scale(0.1 -0.1)\">\n",
       "       <defs>\n",
       "        <path id=\"DejaVuSans-31\" d=\"M 794 531 \n",
       "L 1825 531 \n",
       "L 1825 4091 \n",
       "L 703 3866 \n",
       "L 703 4441 \n",
       "L 1819 4666 \n",
       "L 2450 4666 \n",
       "L 2450 531 \n",
       "L 3481 531 \n",
       "L 3481 0 \n",
       "L 794 0 \n",
       "L 794 531 \n",
       "z\n",
       "\" transform=\"scale(0.015625)\"/>\n",
       "       </defs>\n",
       "       <use xlink:href=\"#DejaVuSans-32\"/>\n",
       "       <use xlink:href=\"#DejaVuSans-30\" x=\"63.623047\"/>\n",
       "       <use xlink:href=\"#DejaVuSans-31\" x=\"127.246094\"/>\n",
       "       <use xlink:href=\"#DejaVuSans-30\" x=\"190.869141\"/>\n",
       "      </g>\n",
       "     </g>\n",
       "    </g>\n",
       "    <g id=\"ytick_3\">\n",
       "     <g id=\"line2d_6\">\n",
       "      <g>\n",
       "       <use xlink:href=\"#me877786845\" x=\"53.328125\" y=\"181.985325\" style=\"stroke: #000000; stroke-width: 0.8\"/>\n",
       "      </g>\n",
       "     </g>\n",
       "     <g id=\"text_7\">\n",
       "      <!-- 2020 -->\n",
       "      <g transform=\"translate(20.878125 185.784544) scale(0.1 -0.1)\">\n",
       "       <use xlink:href=\"#DejaVuSans-32\"/>\n",
       "       <use xlink:href=\"#DejaVuSans-30\" x=\"63.623047\"/>\n",
       "       <use xlink:href=\"#DejaVuSans-32\" x=\"127.246094\"/>\n",
       "       <use xlink:href=\"#DejaVuSans-30\" x=\"190.869141\"/>\n",
       "      </g>\n",
       "     </g>\n",
       "    </g>\n",
       "    <g id=\"ytick_4\">\n",
       "     <g id=\"line2d_7\">\n",
       "      <g>\n",
       "       <use xlink:href=\"#me877786845\" x=\"53.328125\" y=\"128.762925\" style=\"stroke: #000000; stroke-width: 0.8\"/>\n",
       "      </g>\n",
       "     </g>\n",
       "     <g id=\"text_8\">\n",
       "      <!-- 2030 -->\n",
       "      <g transform=\"translate(20.878125 132.562144) scale(0.1 -0.1)\">\n",
       "       <use xlink:href=\"#DejaVuSans-32\"/>\n",
       "       <use xlink:href=\"#DejaVuSans-30\" x=\"63.623047\"/>\n",
       "       <use xlink:href=\"#DejaVuSans-33\" x=\"127.246094\"/>\n",
       "       <use xlink:href=\"#DejaVuSans-30\" x=\"190.869141\"/>\n",
       "      </g>\n",
       "     </g>\n",
       "    </g>\n",
       "    <g id=\"ytick_5\">\n",
       "     <g id=\"line2d_8\">\n",
       "      <g>\n",
       "       <use xlink:href=\"#me877786845\" x=\"53.328125\" y=\"75.540525\" style=\"stroke: #000000; stroke-width: 0.8\"/>\n",
       "      </g>\n",
       "     </g>\n",
       "     <g id=\"text_9\">\n",
       "      <!-- 2040 -->\n",
       "      <g transform=\"translate(20.878125 79.339744) scale(0.1 -0.1)\">\n",
       "       <use xlink:href=\"#DejaVuSans-32\"/>\n",
       "       <use xlink:href=\"#DejaVuSans-30\" x=\"63.623047\"/>\n",
       "       <use xlink:href=\"#DejaVuSans-34\" x=\"127.246094\"/>\n",
       "       <use xlink:href=\"#DejaVuSans-30\" x=\"190.869141\"/>\n",
       "      </g>\n",
       "     </g>\n",
       "    </g>\n",
       "    <g id=\"ytick_6\">\n",
       "     <g id=\"line2d_9\">\n",
       "      <g>\n",
       "       <use xlink:href=\"#me877786845\" x=\"53.328125\" y=\"22.318125\" style=\"stroke: #000000; stroke-width: 0.8\"/>\n",
       "      </g>\n",
       "     </g>\n",
       "     <g id=\"text_10\">\n",
       "      <!-- 2050 -->\n",
       "      <g transform=\"translate(20.878125 26.117344) scale(0.1 -0.1)\">\n",
       "       <defs>\n",
       "        <path id=\"DejaVuSans-35\" d=\"M 691 4666 \n",
       "L 3169 4666 \n",
       "L 3169 4134 \n",
       "L 1269 4134 \n",
       "L 1269 2991 \n",
       "Q 1406 3038 1543 3061 \n",
       "Q 1681 3084 1819 3084 \n",
       "Q 2600 3084 3056 2656 \n",
       "Q 3513 2228 3513 1497 \n",
       "Q 3513 744 3044 326 \n",
       "Q 2575 -91 1722 -91 \n",
       "Q 1428 -91 1123 -41 \n",
       "Q 819 9 494 109 \n",
       "L 494 744 \n",
       "Q 775 591 1075 516 \n",
       "Q 1375 441 1709 441 \n",
       "Q 2250 441 2565 725 \n",
       "Q 2881 1009 2881 1497 \n",
       "Q 2881 1984 2565 2268 \n",
       "Q 2250 2553 1709 2553 \n",
       "Q 1456 2553 1204 2497 \n",
       "Q 953 2441 691 2322 \n",
       "L 691 4666 \n",
       "z\n",
       "\" transform=\"scale(0.015625)\"/>\n",
       "       </defs>\n",
       "       <use xlink:href=\"#DejaVuSans-32\"/>\n",
       "       <use xlink:href=\"#DejaVuSans-30\" x=\"63.623047\"/>\n",
       "       <use xlink:href=\"#DejaVuSans-35\" x=\"127.246094\"/>\n",
       "       <use xlink:href=\"#DejaVuSans-30\" x=\"190.869141\"/>\n",
       "      </g>\n",
       "     </g>\n",
       "    </g>\n",
       "    <g id=\"text_11\">\n",
       "     <!-- Test RMSE -->\n",
       "     <g transform=\"translate(14.798438 180.930375) rotate(-90) scale(0.1 -0.1)\">\n",
       "      <defs>\n",
       "       <path id=\"DejaVuSans-74\" d=\"M 1172 4494 \n",
       "L 1172 3500 \n",
       "L 2356 3500 \n",
       "L 2356 3053 \n",
       "L 1172 3053 \n",
       "L 1172 1153 \n",
       "Q 1172 725 1289 603 \n",
       "Q 1406 481 1766 481 \n",
       "L 2356 481 \n",
       "L 2356 0 \n",
       "L 1766 0 \n",
       "Q 1100 0 847 248 \n",
       "Q 594 497 594 1153 \n",
       "L 594 3053 \n",
       "L 172 3053 \n",
       "L 172 3500 \n",
       "L 594 3500 \n",
       "L 594 4494 \n",
       "L 1172 4494 \n",
       "z\n",
       "\" transform=\"scale(0.015625)\"/>\n",
       "       <path id=\"DejaVuSans-45\" d=\"M 628 4666 \n",
       "L 3578 4666 \n",
       "L 3578 4134 \n",
       "L 1259 4134 \n",
       "L 1259 2753 \n",
       "L 3481 2753 \n",
       "L 3481 2222 \n",
       "L 1259 2222 \n",
       "L 1259 531 \n",
       "L 3634 531 \n",
       "L 3634 0 \n",
       "L 628 0 \n",
       "L 628 4666 \n",
       "z\n",
       "\" transform=\"scale(0.015625)\"/>\n",
       "      </defs>\n",
       "      <use xlink:href=\"#DejaVuSans-54\"/>\n",
       "      <use xlink:href=\"#DejaVuSans-65\" x=\"44.083984\"/>\n",
       "      <use xlink:href=\"#DejaVuSans-73\" x=\"105.607422\"/>\n",
       "      <use xlink:href=\"#DejaVuSans-74\" x=\"157.707031\"/>\n",
       "      <use xlink:href=\"#DejaVuSans-20\" x=\"196.916016\"/>\n",
       "      <use xlink:href=\"#DejaVuSans-52\" x=\"228.703125\"/>\n",
       "      <use xlink:href=\"#DejaVuSans-4d\" x=\"298.185547\"/>\n",
       "      <use xlink:href=\"#DejaVuSans-53\" x=\"384.464844\"/>\n",
       "      <use xlink:href=\"#DejaVuSans-45\" x=\"447.941406\"/>\n",
       "     </g>\n",
       "    </g>\n",
       "   </g>\n",
       "   <g id=\"line2d_10\">\n",
       "    <path clip-path=\"url(#pd3ec22dff3)\" style=\"fill: none; stroke: #424242; stroke-width: 2.7; stroke-linecap: square\"/>\n",
       "   </g>\n",
       "   <g id=\"line2d_11\">\n",
       "    <path clip-path=\"url(#pd3ec22dff3)\" style=\"fill: none; stroke: #424242; stroke-width: 2.7; stroke-linecap: square\"/>\n",
       "   </g>\n",
       "   <g id=\"line2d_12\">\n",
       "    <path clip-path=\"url(#pd3ec22dff3)\" style=\"fill: none; stroke: #424242; stroke-width: 2.7; stroke-linecap: square\"/>\n",
       "   </g>\n",
       "   <g id=\"patch_6\">\n",
       "    <path d=\"M 53.328125 288.430125 \n",
       "L 53.328125 22.318125 \n",
       "\" style=\"fill: none; stroke: #000000; stroke-width: 0.8; stroke-linejoin: miter; stroke-linecap: square\"/>\n",
       "   </g>\n",
       "   <g id=\"patch_7\">\n",
       "    <path d=\"M 410.448125 288.430125 \n",
       "L 410.448125 22.318125 \n",
       "\" style=\"fill: none; stroke: #000000; stroke-width: 0.8; stroke-linejoin: miter; stroke-linecap: square\"/>\n",
       "   </g>\n",
       "   <g id=\"patch_8\">\n",
       "    <path d=\"M 53.328125 288.430125 \n",
       "L 410.448125 288.430125 \n",
       "\" style=\"fill: none; stroke: #000000; stroke-width: 0.8; stroke-linejoin: miter; stroke-linecap: square\"/>\n",
       "   </g>\n",
       "   <g id=\"patch_9\">\n",
       "    <path d=\"M 53.328125 22.318125 \n",
       "L 410.448125 22.318125 \n",
       "\" style=\"fill: none; stroke: #000000; stroke-width: 0.8; stroke-linejoin: miter; stroke-linecap: square\"/>\n",
       "   </g>\n",
       "   <g id=\"text_12\">\n",
       "    <!-- Test RMSE for different RNN Models -->\n",
       "    <g transform=\"translate(125.484688 16.318125) scale(0.12 -0.12)\">\n",
       "     <defs>\n",
       "      <path id=\"DejaVuSans-66\" d=\"M 2375 4863 \n",
       "L 2375 4384 \n",
       "L 1825 4384 \n",
       "Q 1516 4384 1395 4259 \n",
       "Q 1275 4134 1275 3809 \n",
       "L 1275 3500 \n",
       "L 2222 3500 \n",
       "L 2222 3053 \n",
       "L 1275 3053 \n",
       "L 1275 0 \n",
       "L 697 0 \n",
       "L 697 3053 \n",
       "L 147 3053 \n",
       "L 147 3500 \n",
       "L 697 3500 \n",
       "L 697 3744 \n",
       "Q 697 4328 969 4595 \n",
       "Q 1241 4863 1831 4863 \n",
       "L 2375 4863 \n",
       "z\n",
       "\" transform=\"scale(0.015625)\"/>\n",
       "      <path id=\"DejaVuSans-72\" d=\"M 2631 2963 \n",
       "Q 2534 3019 2420 3045 \n",
       "Q 2306 3072 2169 3072 \n",
       "Q 1681 3072 1420 2755 \n",
       "Q 1159 2438 1159 1844 \n",
       "L 1159 0 \n",
       "L 581 0 \n",
       "L 581 3500 \n",
       "L 1159 3500 \n",
       "L 1159 2956 \n",
       "Q 1341 3275 1631 3429 \n",
       "Q 1922 3584 2338 3584 \n",
       "Q 2397 3584 2469 3576 \n",
       "Q 2541 3569 2628 3553 \n",
       "L 2631 2963 \n",
       "z\n",
       "\" transform=\"scale(0.015625)\"/>\n",
       "      <path id=\"DejaVuSans-69\" d=\"M 603 3500 \n",
       "L 1178 3500 \n",
       "L 1178 0 \n",
       "L 603 0 \n",
       "L 603 3500 \n",
       "z\n",
       "M 603 4863 \n",
       "L 1178 4863 \n",
       "L 1178 4134 \n",
       "L 603 4134 \n",
       "L 603 4863 \n",
       "z\n",
       "\" transform=\"scale(0.015625)\"/>\n",
       "      <path id=\"DejaVuSans-6e\" d=\"M 3513 2113 \n",
       "L 3513 0 \n",
       "L 2938 0 \n",
       "L 2938 2094 \n",
       "Q 2938 2591 2744 2837 \n",
       "Q 2550 3084 2163 3084 \n",
       "Q 1697 3084 1428 2787 \n",
       "Q 1159 2491 1159 1978 \n",
       "L 1159 0 \n",
       "L 581 0 \n",
       "L 581 3500 \n",
       "L 1159 3500 \n",
       "L 1159 2956 \n",
       "Q 1366 3272 1645 3428 \n",
       "Q 1925 3584 2291 3584 \n",
       "Q 2894 3584 3203 3211 \n",
       "Q 3513 2838 3513 2113 \n",
       "z\n",
       "\" transform=\"scale(0.015625)\"/>\n",
       "     </defs>\n",
       "     <use xlink:href=\"#DejaVuSans-54\"/>\n",
       "     <use xlink:href=\"#DejaVuSans-65\" x=\"44.083984\"/>\n",
       "     <use xlink:href=\"#DejaVuSans-73\" x=\"105.607422\"/>\n",
       "     <use xlink:href=\"#DejaVuSans-74\" x=\"157.707031\"/>\n",
       "     <use xlink:href=\"#DejaVuSans-20\" x=\"196.916016\"/>\n",
       "     <use xlink:href=\"#DejaVuSans-52\" x=\"228.703125\"/>\n",
       "     <use xlink:href=\"#DejaVuSans-4d\" x=\"298.185547\"/>\n",
       "     <use xlink:href=\"#DejaVuSans-53\" x=\"384.464844\"/>\n",
       "     <use xlink:href=\"#DejaVuSans-45\" x=\"447.941406\"/>\n",
       "     <use xlink:href=\"#DejaVuSans-20\" x=\"511.125\"/>\n",
       "     <use xlink:href=\"#DejaVuSans-66\" x=\"542.912109\"/>\n",
       "     <use xlink:href=\"#DejaVuSans-6f\" x=\"578.117188\"/>\n",
       "     <use xlink:href=\"#DejaVuSans-72\" x=\"639.298828\"/>\n",
       "     <use xlink:href=\"#DejaVuSans-20\" x=\"680.412109\"/>\n",
       "     <use xlink:href=\"#DejaVuSans-64\" x=\"712.199219\"/>\n",
       "     <use xlink:href=\"#DejaVuSans-69\" x=\"775.675781\"/>\n",
       "     <use xlink:href=\"#DejaVuSans-66\" x=\"803.458984\"/>\n",
       "     <use xlink:href=\"#DejaVuSans-66\" x=\"838.664062\"/>\n",
       "     <use xlink:href=\"#DejaVuSans-65\" x=\"873.869141\"/>\n",
       "     <use xlink:href=\"#DejaVuSans-72\" x=\"935.392578\"/>\n",
       "     <use xlink:href=\"#DejaVuSans-65\" x=\"974.255859\"/>\n",
       "     <use xlink:href=\"#DejaVuSans-6e\" x=\"1035.779297\"/>\n",
       "     <use xlink:href=\"#DejaVuSans-74\" x=\"1099.158203\"/>\n",
       "     <use xlink:href=\"#DejaVuSans-20\" x=\"1138.367188\"/>\n",
       "     <use xlink:href=\"#DejaVuSans-52\" x=\"1170.154297\"/>\n",
       "     <use xlink:href=\"#DejaVuSans-4e\" x=\"1239.636719\"/>\n",
       "     <use xlink:href=\"#DejaVuSans-4e\" x=\"1314.441406\"/>\n",
       "     <use xlink:href=\"#DejaVuSans-20\" x=\"1389.246094\"/>\n",
       "     <use xlink:href=\"#DejaVuSans-4d\" x=\"1421.033203\"/>\n",
       "     <use xlink:href=\"#DejaVuSans-6f\" x=\"1507.3125\"/>\n",
       "     <use xlink:href=\"#DejaVuSans-64\" x=\"1568.494141\"/>\n",
       "     <use xlink:href=\"#DejaVuSans-65\" x=\"1631.970703\"/>\n",
       "     <use xlink:href=\"#DejaVuSans-6c\" x=\"1693.494141\"/>\n",
       "     <use xlink:href=\"#DejaVuSans-73\" x=\"1721.277344\"/>\n",
       "    </g>\n",
       "   </g>\n",
       "  </g>\n",
       " </g>\n",
       " <defs>\n",
       "  <clipPath id=\"pd3ec22dff3\">\n",
       "   <rect x=\"53.328125\" y=\"22.318125\" width=\"357.12\" height=\"266.112\"/>\n",
       "  </clipPath>\n",
       " </defs>\n",
       "</svg>\n"
      ],
      "text/plain": [
       "<Figure size 640x480 with 1 Axes>"
      ]
     },
     "metadata": {},
     "output_type": "display_data"
    }
   ],
   "source": [
    "sns.barplot(x=models, y=accuracy)\n",
    "\n",
    "# Set plot labels and title\n",
    "plt.xlabel('RNN Models')\n",
    "plt.ylabel('Test RMSE')\n",
    "plt.ylim(2000, 2050)\n",
    "plt.title('Test RMSE for different RNN Models')"
   ]
  },
  {
   "cell_type": "markdown",
   "metadata": {},
   "source": [
    "As we can see, all 3 models perform similarly on RMSE. Bidirectional LSTM with a lag of 24 yields the best results for this data "
   ]
  },
  {
   "cell_type": "markdown",
   "metadata": {},
   "source": [
    "-------\n",
    "End of assignment"
   ]
  }
 ],
 "metadata": {
  "kernelspec": {
   "display_name": "Python 3 (ipykernel)",
   "language": "python",
   "name": "python3"
  },
  "language_info": {
   "codemirror_mode": {
    "name": "ipython",
    "version": 3
   },
   "file_extension": ".py",
   "mimetype": "text/x-python",
   "name": "python",
   "nbconvert_exporter": "python",
   "pygments_lexer": "ipython3",
   "version": "3.9.12"
  },
  "vscode": {
   "interpreter": {
    "hash": "7b3bfb2f1c6c40e251d88f16f93dccb101a0c97fda1372b1118b2d882ff1707e"
   }
  }
 },
 "nbformat": 4,
 "nbformat_minor": 2
}
